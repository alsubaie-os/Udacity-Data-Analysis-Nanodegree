{
 "cells": [
  {
   "cell_type": "markdown",
   "metadata": {},
   "source": [
    "# Project: Investigate a Dataset - [Medical Appointment No Shows]\n",
    "\n",
    "## Table of Contents\n",
    "<ul>\n",
    "<li><a href=\"#intro\">Introduction</a></li>\n",
    "<li><a href=\"#wrangling\">Data Wrangling</a></li>\n",
    "<li><a href=\"#eda\">Exploratory Data Analysis</a></li>\n",
    "<li><a href=\"#conclusions\">Conclusions</a></li>\n",
    "</ul>"
   ]
  },
  {
   "cell_type": "markdown",
   "metadata": {},
   "source": [
    "<a id='intro'></a>\n",
    "## Introduction\n",
    "\n",
    "### Dataset Description \n",
    "> This dataset collects information from 100k medical appointments in Brazil and is focused on the questions of whether or not patients show up for their appointment. A number of characteristics about the patient are included in each row.<br>\n",
    "> ● Be careful about the encoding of the last column [No_show]: it says ‘No’ if the patient showed up to their appointment, and ‘Yes’ if they did not show up.<br>\n",
    "> Source: [Kaggle](https://www.kaggle.com/joniarroba/noshowappointments)<br>\n",
    "\n",
    "\n",
    "### Question(s) for Analysis\n",
    "> 1. Does a specific age period [age range] considered a factor for affecting the patient show up at the appointment, and which age range have the highest show up at the appointment.\n",
    "> 2. Does a specific day of the week considered a factor for affecting the patient show up at the appointment, and which day have the highest show up at the appointment.\n",
    "> 3. Does a specific month considered a factor for affecting the patient show up at the appointment, and which month have the highest show up at the appointment."
   ]
  },
  {
   "cell_type": "code",
   "execution_count": 135,
   "metadata": {
    "collapsed": true,
    "ExecuteTime": {
     "end_time": "2023-07-08T17:20:17.497949Z",
     "start_time": "2023-07-08T17:20:16.679403Z"
    }
   },
   "outputs": [],
   "source": [
    "# Use this cell to set up import statements for all packages that you plan to use.\n",
    "import pandas as pd\n",
    "import matplotlib.pyplot as plt\n",
    "%matplotlib inline"
   ]
  },
  {
   "cell_type": "markdown",
   "metadata": {},
   "source": [
    "<a id='wrangling'></a>\n",
    "## Data Wrangling\n",
    "### In this section of the report, we will load in the data, check for cleanliness, and then trim and clean the dataset for analysis. Make sure that you document your steps carefully and justify your cleaning decisions."
   ]
  },
  {
   "cell_type": "markdown",
   "metadata": {},
   "source": [
    "Load the data and print out a few lines"
   ]
  },
  {
   "cell_type": "code",
   "execution_count": 136,
   "metadata": {
    "ExecuteTime": {
     "end_time": "2023-07-08T17:20:17.535935Z",
     "start_time": "2023-07-08T17:20:16.727006Z"
    }
   },
   "outputs": [
    {
     "data": {
      "text/plain": "      PatientId  AppointmentID Gender          ScheduledDay  \\\n0  2.987250e+13        5642903      F  2016-04-29T18:38:08Z   \n1  5.589978e+14        5642503      M  2016-04-29T16:08:27Z   \n2  4.262962e+12        5642549      F  2016-04-29T16:19:04Z   \n3  8.679512e+11        5642828      F  2016-04-29T17:29:31Z   \n4  8.841186e+12        5642494      F  2016-04-29T16:07:23Z   \n\n         AppointmentDay  Age      Neighbourhood  Scholarship  Hipertension  \\\n0  2016-04-29T00:00:00Z   62    JARDIM DA PENHA            0             1   \n1  2016-04-29T00:00:00Z   56    JARDIM DA PENHA            0             0   \n2  2016-04-29T00:00:00Z   62      MATA DA PRAIA            0             0   \n3  2016-04-29T00:00:00Z    8  PONTAL DE CAMBURI            0             0   \n4  2016-04-29T00:00:00Z   56    JARDIM DA PENHA            0             1   \n\n   Diabetes  Alcoholism  Handcap  SMS_received No-show  \n0         0           0        0             0      No  \n1         0           0        0             0      No  \n2         0           0        0             0      No  \n3         0           0        0             0      No  \n4         1           0        0             0      No  ",
      "text/html": "<div>\n<style scoped>\n    .dataframe tbody tr th:only-of-type {\n        vertical-align: middle;\n    }\n\n    .dataframe tbody tr th {\n        vertical-align: top;\n    }\n\n    .dataframe thead th {\n        text-align: right;\n    }\n</style>\n<table border=\"1\" class=\"dataframe\">\n  <thead>\n    <tr style=\"text-align: right;\">\n      <th></th>\n      <th>PatientId</th>\n      <th>AppointmentID</th>\n      <th>Gender</th>\n      <th>ScheduledDay</th>\n      <th>AppointmentDay</th>\n      <th>Age</th>\n      <th>Neighbourhood</th>\n      <th>Scholarship</th>\n      <th>Hipertension</th>\n      <th>Diabetes</th>\n      <th>Alcoholism</th>\n      <th>Handcap</th>\n      <th>SMS_received</th>\n      <th>No-show</th>\n    </tr>\n  </thead>\n  <tbody>\n    <tr>\n      <th>0</th>\n      <td>2.987250e+13</td>\n      <td>5642903</td>\n      <td>F</td>\n      <td>2016-04-29T18:38:08Z</td>\n      <td>2016-04-29T00:00:00Z</td>\n      <td>62</td>\n      <td>JARDIM DA PENHA</td>\n      <td>0</td>\n      <td>1</td>\n      <td>0</td>\n      <td>0</td>\n      <td>0</td>\n      <td>0</td>\n      <td>No</td>\n    </tr>\n    <tr>\n      <th>1</th>\n      <td>5.589978e+14</td>\n      <td>5642503</td>\n      <td>M</td>\n      <td>2016-04-29T16:08:27Z</td>\n      <td>2016-04-29T00:00:00Z</td>\n      <td>56</td>\n      <td>JARDIM DA PENHA</td>\n      <td>0</td>\n      <td>0</td>\n      <td>0</td>\n      <td>0</td>\n      <td>0</td>\n      <td>0</td>\n      <td>No</td>\n    </tr>\n    <tr>\n      <th>2</th>\n      <td>4.262962e+12</td>\n      <td>5642549</td>\n      <td>F</td>\n      <td>2016-04-29T16:19:04Z</td>\n      <td>2016-04-29T00:00:00Z</td>\n      <td>62</td>\n      <td>MATA DA PRAIA</td>\n      <td>0</td>\n      <td>0</td>\n      <td>0</td>\n      <td>0</td>\n      <td>0</td>\n      <td>0</td>\n      <td>No</td>\n    </tr>\n    <tr>\n      <th>3</th>\n      <td>8.679512e+11</td>\n      <td>5642828</td>\n      <td>F</td>\n      <td>2016-04-29T17:29:31Z</td>\n      <td>2016-04-29T00:00:00Z</td>\n      <td>8</td>\n      <td>PONTAL DE CAMBURI</td>\n      <td>0</td>\n      <td>0</td>\n      <td>0</td>\n      <td>0</td>\n      <td>0</td>\n      <td>0</td>\n      <td>No</td>\n    </tr>\n    <tr>\n      <th>4</th>\n      <td>8.841186e+12</td>\n      <td>5642494</td>\n      <td>F</td>\n      <td>2016-04-29T16:07:23Z</td>\n      <td>2016-04-29T00:00:00Z</td>\n      <td>56</td>\n      <td>JARDIM DA PENHA</td>\n      <td>0</td>\n      <td>1</td>\n      <td>1</td>\n      <td>0</td>\n      <td>0</td>\n      <td>0</td>\n      <td>No</td>\n    </tr>\n  </tbody>\n</table>\n</div>"
     },
     "execution_count": 136,
     "metadata": {},
     "output_type": "execute_result"
    }
   ],
   "source": [
    "df = pd.read_csv('noshowappointments-kagglev2-may-2016.csv')\n",
    "df.head()"
   ]
  },
  {
   "cell_type": "markdown",
   "metadata": {},
   "source": [
    "Check if any null value/s exist in the data"
   ]
  },
  {
   "cell_type": "code",
   "execution_count": 137,
   "metadata": {
    "ExecuteTime": {
     "end_time": "2023-07-08T17:20:17.536138Z",
     "start_time": "2023-07-08T17:20:16.987536Z"
    }
   },
   "outputs": [
    {
     "name": "stdout",
     "output_type": "stream",
     "text": [
      "The number of row/s in the dataset = 110527\n",
      "The number of column/s in the dataset = 14\n",
      "\n"
     ]
    }
   ],
   "source": [
    "print('The number of row/s in the dataset = {}'\n",
    "      '\\nThe number of column/s in the dataset = {}\\n'\n",
    "      .format(df.shape[0], df.shape[1]))"
   ]
  },
  {
   "cell_type": "markdown",
   "metadata": {},
   "source": [
    "Check the columns of the data and observe the number of rows"
   ]
  },
  {
   "cell_type": "code",
   "execution_count": 138,
   "metadata": {
    "ExecuteTime": {
     "end_time": "2023-07-08T17:20:17.541021Z",
     "start_time": "2023-07-08T17:20:16.991765Z"
    }
   },
   "outputs": [
    {
     "data": {
      "text/plain": "PatientId         False\nAppointmentID     False\nGender            False\nScheduledDay      False\nAppointmentDay    False\nAge               False\nNeighbourhood     False\nScholarship       False\nHipertension      False\nDiabetes          False\nAlcoholism        False\nHandcap           False\nSMS_received      False\nNo-show           False\ndtype: bool"
     },
     "execution_count": 138,
     "metadata": {},
     "output_type": "execute_result"
    }
   ],
   "source": [
    "df.isnull().any()"
   ]
  },
  {
   "cell_type": "markdown",
   "metadata": {},
   "source": [
    "Another way to check for null values to use info() function and check that the number in Non-Null Count match the dataset rows count.\n",
    "> Moreover, we could check the data type of the dataset columns using info() function also."
   ]
  },
  {
   "cell_type": "code",
   "execution_count": 139,
   "metadata": {
    "ExecuteTime": {
     "end_time": "2023-07-08T17:20:17.545265Z",
     "start_time": "2023-07-08T17:20:17.053280Z"
    }
   },
   "outputs": [
    {
     "name": "stdout",
     "output_type": "stream",
     "text": [
      "<class 'pandas.core.frame.DataFrame'>\n",
      "RangeIndex: 110527 entries, 0 to 110526\n",
      "Data columns (total 14 columns):\n",
      " #   Column          Non-Null Count   Dtype  \n",
      "---  ------          --------------   -----  \n",
      " 0   PatientId       110527 non-null  float64\n",
      " 1   AppointmentID   110527 non-null  int64  \n",
      " 2   Gender          110527 non-null  object \n",
      " 3   ScheduledDay    110527 non-null  object \n",
      " 4   AppointmentDay  110527 non-null  object \n",
      " 5   Age             110527 non-null  int64  \n",
      " 6   Neighbourhood   110527 non-null  object \n",
      " 7   Scholarship     110527 non-null  int64  \n",
      " 8   Hipertension    110527 non-null  int64  \n",
      " 9   Diabetes        110527 non-null  int64  \n",
      " 10  Alcoholism      110527 non-null  int64  \n",
      " 11  Handcap         110527 non-null  int64  \n",
      " 12  SMS_received    110527 non-null  int64  \n",
      " 13  No-show         110527 non-null  object \n",
      "dtypes: float64(1), int64(8), object(5)\n",
      "memory usage: 11.8+ MB\n"
     ]
    }
   ],
   "source": [
    "df.info()\n",
    "# We can observe from the last two cells that the dataset doesn't contain null values"
   ]
  },
  {
   "cell_type": "markdown",
   "metadata": {},
   "source": [
    "\n",
    "### Data Cleaning\n",
    "#### In this section, we will clean the data in order to be ready for analysis."
   ]
  },
  {
   "cell_type": "markdown",
   "metadata": {},
   "source": [
    "We can observe from the Dtype Columns of `ScheduledDay, AppointmentDay` has a date/time information, however it's represent as string in the dataset instead of datetime object.\n",
    "Let's change the `ScheduledDay, AppointmentDay` columns to date/time object"
   ]
  },
  {
   "cell_type": "code",
   "execution_count": 140,
   "metadata": {
    "ExecuteTime": {
     "end_time": "2023-07-08T17:20:17.974480Z",
     "start_time": "2023-07-08T17:20:17.153505Z"
    }
   },
   "outputs": [
    {
     "data": {
      "text/plain": "0   2016-04-29 18:38:08\n1   2016-04-29 16:08:27\n2   2016-04-29 16:19:04\n3   2016-04-29 17:29:31\n4   2016-04-29 16:07:23\nName: ScheduledDay, dtype: datetime64[ns]"
     },
     "execution_count": 140,
     "metadata": {},
     "output_type": "execute_result"
    }
   ],
   "source": [
    "from datetime import datetime\n",
    "\n",
    "df['ScheduledDay'] = [datetime.strptime(date, '%Y-%m-%dT%H:%M:%SZ') for date in df['ScheduledDay']]\n",
    "df['ScheduledDay'].head()"
   ]
  },
  {
   "cell_type": "code",
   "execution_count": 141,
   "metadata": {
    "ExecuteTime": {
     "end_time": "2023-07-08T17:20:18.870114Z",
     "start_time": "2023-07-08T17:20:18.055284Z"
    }
   },
   "outputs": [
    {
     "data": {
      "text/plain": "0   2016-04-29\n1   2016-04-29\n2   2016-04-29\n3   2016-04-29\n4   2016-04-29\nName: AppointmentDay, dtype: datetime64[ns]"
     },
     "execution_count": 141,
     "metadata": {},
     "output_type": "execute_result"
    }
   ],
   "source": [
    "# delete the time from the AppointmentDay column and convert it to date/time object\n",
    "df['AppointmentDay'] = [datetime.strptime(date, '%Y-%m-%dT%H:%M:%SZ') for date in df['AppointmentDay']]\n",
    "df['AppointmentDay'].head()"
   ]
  },
  {
   "cell_type": "markdown",
   "metadata": {},
   "source": [
    "We notice that some column names have different name format, Ex: [SMS_received, No-show], [PatinetId,AppointmentID].\n",
    "In the next cell, we will rename the columns in order to be in the same format"
   ]
  },
  {
   "cell_type": "code",
   "execution_count": 142,
   "metadata": {
    "ExecuteTime": {
     "end_time": "2023-07-08T17:20:18.874984Z",
     "start_time": "2023-07-08T17:20:18.873569Z"
    }
   },
   "outputs": [
    {
     "data": {
      "text/plain": "Index(['Patient_id', 'Appointment_id', 'Gender', 'Scheduled_day',\n       'Appointment_day', 'Age', 'Neighbourhood', 'Scholarship',\n       'Hipertension', 'Diabetes', 'Alcoholism', 'Handcap', 'SMS_received',\n       'No_show'],\n      dtype='object')"
     },
     "execution_count": 142,
     "metadata": {},
     "output_type": "execute_result"
    }
   ],
   "source": [
    "df.rename(columns={'PatientId': 'Patient_id', 'AppointmentID': 'Appointment_id', 'ScheduledDay': 'Scheduled_day',\n",
    "                   'AppointmentDay': 'Appointment_day', 'No-show': 'No_show'}, inplace=True)\n",
    "df.columns"
   ]
  },
  {
   "cell_type": "markdown",
   "metadata": {},
   "source": [
    "Now we will change all the columns name to small caps to make it easier to deal with."
   ]
  },
  {
   "cell_type": "code",
   "execution_count": 143,
   "metadata": {
    "ExecuteTime": {
     "end_time": "2023-07-08T17:20:18.878854Z",
     "start_time": "2023-07-08T17:20:18.877235Z"
    }
   },
   "outputs": [
    {
     "data": {
      "text/plain": "Index(['patient_id', 'appointment_id', 'gender', 'scheduled_day',\n       'appointment_day', 'age', 'neighbourhood', 'scholarship',\n       'hipertension', 'diabetes', 'alcoholism', 'handcap', 'sms_received',\n       'no_show'],\n      dtype='object')"
     },
     "execution_count": 143,
     "metadata": {},
     "output_type": "execute_result"
    }
   ],
   "source": [
    "df.rename(columns=str.lower, inplace=True)\n",
    "df.columns"
   ]
  },
  {
   "cell_type": "markdown",
   "metadata": {},
   "source": [
    "#### Now our data look cleaner and ready to be analysed in the next section"
   ]
  },
  {
   "cell_type": "markdown",
   "metadata": {},
   "source": [
    "<a id='eda'></a>\n",
    "## Exploratory Data Analysis\n",
    "#### Now that we've trimmed and cleaned our data, we're ready to move on to exploration. Compute statistics and create visualizations with the goal of addressing the research questions that we posed in the Introduction section. We should make sure that we are aiming to answer the questions that we posed, and look for relationships between variables that we think could be related to the questions we are asking."
   ]
  },
  {
   "cell_type": "markdown",
   "metadata": {},
   "source": [
    "### Research Question 1\n",
    "###  Does a specific age period [age range] considered a factor for affecting the patient show up at the appointment, and which age range have the highest show up at the appointment."
   ]
  },
  {
   "cell_type": "markdown",
   "metadata": {},
   "source": [
    "#### To decide how to distribute the ages in age range group, We need to explore the age range of the dataset."
   ]
  },
  {
   "cell_type": "code",
   "execution_count": 144,
   "metadata": {
    "ExecuteTime": {
     "end_time": "2023-07-08T17:20:18.886434Z",
     "start_time": "2023-07-08T17:20:18.882886Z"
    }
   },
   "outputs": [
    {
     "data": {
      "text/plain": "(-1, 115)"
     },
     "execution_count": 144,
     "metadata": {},
     "output_type": "execute_result"
    }
   ],
   "source": [
    "# df.groupby('age')['age'].count()\n",
    "df['age'].unique().min(), df['age'].unique().max()"
   ]
  },
  {
   "cell_type": "markdown",
   "metadata": {},
   "source": [
    "We can observe that the age range contain negative value! which is not possible. As a result, we will drop that rows with a negative age value."
   ]
  },
  {
   "cell_type": "code",
   "execution_count": 145,
   "metadata": {
    "ExecuteTime": {
     "end_time": "2023-07-08T17:20:18.964550Z",
     "start_time": "2023-07-08T17:20:18.888538Z"
    }
   },
   "outputs": [
    {
     "data": {
      "text/plain": "(0, 115)"
     },
     "execution_count": 145,
     "metadata": {},
     "output_type": "execute_result"
    }
   ],
   "source": [
    "df = df.drop(df[df['age'] < 0].index)\n",
    "df['age'].min(), df['age'].max()"
   ]
  },
  {
   "cell_type": "markdown",
   "metadata": {},
   "source": [
    "#### Now after cleaning the data of the age range, we have to divide the ages `age brackets`.\n",
    "> children: [0 year - 18 years(excluded)]<br>\n",
    "> young_adults: [18 years - 30 years(excluded)]<br>\n",
    "> adults: [30 years - 60 years(excluded)]<br>\n",
    "> older_adults: [60 years - 116 years(excluded)]"
   ]
  },
  {
   "cell_type": "markdown",
   "metadata": {},
   "source": [
    "children: [0 year - 18 years(excluded)]"
   ]
  },
  {
   "cell_type": "code",
   "execution_count": 146,
   "metadata": {
    "ExecuteTime": {
     "end_time": "2023-07-08T17:20:18.965301Z",
     "start_time": "2023-07-08T17:20:18.906504Z"
    }
   },
   "outputs": [
    {
     "data": {
      "text/plain": "      patient_id  appointment_id gender       scheduled_day appointment_day  \\\n3   8.679512e+11         5642828      F 2016-04-29 17:29:31      2016-04-29   \n15  9.994839e+10         5620206      F 2016-04-26 08:47:27      2016-04-29   \n21  1.215484e+13         5628338      F 2016-04-27 10:50:45      2016-04-29   \n22  8.632298e+14         5616091      M 2016-04-25 13:29:16      2016-04-29   \n27  1.215484e+13         5628345      F 2016-04-27 10:51:45      2016-04-29   \n\n    age      neighbourhood  scholarship  hipertension  diabetes  alcoholism  \\\n3     8  PONTAL DE CAMBURI            0             0         0           0   \n15   15     NOVA PALESTINA            0             0         0           0   \n21    4          CONQUISTA            0             0         0           0   \n22   13          CONQUISTA            0             0         0           0   \n27    4          CONQUISTA            0             0         0           0   \n\n    handcap  sms_received no_show  \n3         0             0      No  \n15        0             1      No  \n21        0             0     Yes  \n22        0             1     Yes  \n27        0             0      No  ",
      "text/html": "<div>\n<style scoped>\n    .dataframe tbody tr th:only-of-type {\n        vertical-align: middle;\n    }\n\n    .dataframe tbody tr th {\n        vertical-align: top;\n    }\n\n    .dataframe thead th {\n        text-align: right;\n    }\n</style>\n<table border=\"1\" class=\"dataframe\">\n  <thead>\n    <tr style=\"text-align: right;\">\n      <th></th>\n      <th>patient_id</th>\n      <th>appointment_id</th>\n      <th>gender</th>\n      <th>scheduled_day</th>\n      <th>appointment_day</th>\n      <th>age</th>\n      <th>neighbourhood</th>\n      <th>scholarship</th>\n      <th>hipertension</th>\n      <th>diabetes</th>\n      <th>alcoholism</th>\n      <th>handcap</th>\n      <th>sms_received</th>\n      <th>no_show</th>\n    </tr>\n  </thead>\n  <tbody>\n    <tr>\n      <th>3</th>\n      <td>8.679512e+11</td>\n      <td>5642828</td>\n      <td>F</td>\n      <td>2016-04-29 17:29:31</td>\n      <td>2016-04-29</td>\n      <td>8</td>\n      <td>PONTAL DE CAMBURI</td>\n      <td>0</td>\n      <td>0</td>\n      <td>0</td>\n      <td>0</td>\n      <td>0</td>\n      <td>0</td>\n      <td>No</td>\n    </tr>\n    <tr>\n      <th>15</th>\n      <td>9.994839e+10</td>\n      <td>5620206</td>\n      <td>F</td>\n      <td>2016-04-26 08:47:27</td>\n      <td>2016-04-29</td>\n      <td>15</td>\n      <td>NOVA PALESTINA</td>\n      <td>0</td>\n      <td>0</td>\n      <td>0</td>\n      <td>0</td>\n      <td>0</td>\n      <td>1</td>\n      <td>No</td>\n    </tr>\n    <tr>\n      <th>21</th>\n      <td>1.215484e+13</td>\n      <td>5628338</td>\n      <td>F</td>\n      <td>2016-04-27 10:50:45</td>\n      <td>2016-04-29</td>\n      <td>4</td>\n      <td>CONQUISTA</td>\n      <td>0</td>\n      <td>0</td>\n      <td>0</td>\n      <td>0</td>\n      <td>0</td>\n      <td>0</td>\n      <td>Yes</td>\n    </tr>\n    <tr>\n      <th>22</th>\n      <td>8.632298e+14</td>\n      <td>5616091</td>\n      <td>M</td>\n      <td>2016-04-25 13:29:16</td>\n      <td>2016-04-29</td>\n      <td>13</td>\n      <td>CONQUISTA</td>\n      <td>0</td>\n      <td>0</td>\n      <td>0</td>\n      <td>0</td>\n      <td>0</td>\n      <td>1</td>\n      <td>Yes</td>\n    </tr>\n    <tr>\n      <th>27</th>\n      <td>1.215484e+13</td>\n      <td>5628345</td>\n      <td>F</td>\n      <td>2016-04-27 10:51:45</td>\n      <td>2016-04-29</td>\n      <td>4</td>\n      <td>CONQUISTA</td>\n      <td>0</td>\n      <td>0</td>\n      <td>0</td>\n      <td>0</td>\n      <td>0</td>\n      <td>0</td>\n      <td>No</td>\n    </tr>\n  </tbody>\n</table>\n</div>"
     },
     "execution_count": 146,
     "metadata": {},
     "output_type": "execute_result"
    }
   ],
   "source": [
    "children = df.loc[df['age'] < 18]\n",
    "children.head()"
   ]
  },
  {
   "cell_type": "markdown",
   "metadata": {},
   "source": [
    "young_adults: [18 years - 30 years(excluded)]"
   ]
  },
  {
   "cell_type": "code",
   "execution_count": 147,
   "metadata": {
    "ExecuteTime": {
     "end_time": "2023-07-08T17:20:18.965448Z",
     "start_time": "2023-07-08T17:20:18.924675Z"
    }
   },
   "outputs": [
    {
     "data": {
      "text/plain": "      patient_id  appointment_id gender       scheduled_day appointment_day  \\\n6   7.336882e+14         5630279      F 2016-04-27 15:05:12      2016-04-29   \n8   5.639473e+13         5638447      F 2016-04-29 08:02:16      2016-04-29   \n9   7.812456e+13         5629123      F 2016-04-27 12:48:25      2016-04-29   \n11  7.542951e+12         5620163      M 2016-04-26 08:44:12      2016-04-29   \n12  5.666548e+14         5634718      F 2016-04-28 11:33:51      2016-04-29   \n\n    age   neighbourhood  scholarship  hipertension  diabetes  alcoholism  \\\n6    23      GOIABEIRAS            0             0         0           0   \n8    21      ANDORINHAS            0             0         0           0   \n9    19       CONQUISTA            0             0         0           0   \n11   29  NOVA PALESTINA            0             0         0           0   \n12   22  NOVA PALESTINA            1             0         0           0   \n\n    handcap  sms_received no_show  \n6         0             0     Yes  \n8         0             0      No  \n9         0             0      No  \n11        0             1     Yes  \n12        0             0      No  ",
      "text/html": "<div>\n<style scoped>\n    .dataframe tbody tr th:only-of-type {\n        vertical-align: middle;\n    }\n\n    .dataframe tbody tr th {\n        vertical-align: top;\n    }\n\n    .dataframe thead th {\n        text-align: right;\n    }\n</style>\n<table border=\"1\" class=\"dataframe\">\n  <thead>\n    <tr style=\"text-align: right;\">\n      <th></th>\n      <th>patient_id</th>\n      <th>appointment_id</th>\n      <th>gender</th>\n      <th>scheduled_day</th>\n      <th>appointment_day</th>\n      <th>age</th>\n      <th>neighbourhood</th>\n      <th>scholarship</th>\n      <th>hipertension</th>\n      <th>diabetes</th>\n      <th>alcoholism</th>\n      <th>handcap</th>\n      <th>sms_received</th>\n      <th>no_show</th>\n    </tr>\n  </thead>\n  <tbody>\n    <tr>\n      <th>6</th>\n      <td>7.336882e+14</td>\n      <td>5630279</td>\n      <td>F</td>\n      <td>2016-04-27 15:05:12</td>\n      <td>2016-04-29</td>\n      <td>23</td>\n      <td>GOIABEIRAS</td>\n      <td>0</td>\n      <td>0</td>\n      <td>0</td>\n      <td>0</td>\n      <td>0</td>\n      <td>0</td>\n      <td>Yes</td>\n    </tr>\n    <tr>\n      <th>8</th>\n      <td>5.639473e+13</td>\n      <td>5638447</td>\n      <td>F</td>\n      <td>2016-04-29 08:02:16</td>\n      <td>2016-04-29</td>\n      <td>21</td>\n      <td>ANDORINHAS</td>\n      <td>0</td>\n      <td>0</td>\n      <td>0</td>\n      <td>0</td>\n      <td>0</td>\n      <td>0</td>\n      <td>No</td>\n    </tr>\n    <tr>\n      <th>9</th>\n      <td>7.812456e+13</td>\n      <td>5629123</td>\n      <td>F</td>\n      <td>2016-04-27 12:48:25</td>\n      <td>2016-04-29</td>\n      <td>19</td>\n      <td>CONQUISTA</td>\n      <td>0</td>\n      <td>0</td>\n      <td>0</td>\n      <td>0</td>\n      <td>0</td>\n      <td>0</td>\n      <td>No</td>\n    </tr>\n    <tr>\n      <th>11</th>\n      <td>7.542951e+12</td>\n      <td>5620163</td>\n      <td>M</td>\n      <td>2016-04-26 08:44:12</td>\n      <td>2016-04-29</td>\n      <td>29</td>\n      <td>NOVA PALESTINA</td>\n      <td>0</td>\n      <td>0</td>\n      <td>0</td>\n      <td>0</td>\n      <td>0</td>\n      <td>1</td>\n      <td>Yes</td>\n    </tr>\n    <tr>\n      <th>12</th>\n      <td>5.666548e+14</td>\n      <td>5634718</td>\n      <td>F</td>\n      <td>2016-04-28 11:33:51</td>\n      <td>2016-04-29</td>\n      <td>22</td>\n      <td>NOVA PALESTINA</td>\n      <td>1</td>\n      <td>0</td>\n      <td>0</td>\n      <td>0</td>\n      <td>0</td>\n      <td>0</td>\n      <td>No</td>\n    </tr>\n  </tbody>\n</table>\n</div>"
     },
     "execution_count": 147,
     "metadata": {},
     "output_type": "execute_result"
    }
   ],
   "source": [
    "young_adults = df.loc[(df['age'] >= 18) & (df['age'] < 30)]\n",
    "young_adults.head()"
   ]
  },
  {
   "cell_type": "markdown",
   "metadata": {},
   "source": [
    "adults: [30 years - 60 years(excluded)]"
   ]
  },
  {
   "cell_type": "code",
   "execution_count": 148,
   "metadata": {
    "ExecuteTime": {
     "end_time": "2023-07-08T17:20:18.965621Z",
     "start_time": "2023-07-08T17:20:18.936427Z"
    }
   },
   "outputs": [
    {
     "data": {
      "text/plain": "      patient_id  appointment_id gender       scheduled_day appointment_day  \\\n1   5.589978e+14         5642503      M 2016-04-29 16:08:27      2016-04-29   \n4   8.841186e+12         5642494      F 2016-04-29 16:07:23      2016-04-29   \n7   3.449833e+12         5630575      F 2016-04-27 15:39:58      2016-04-29   \n10  7.345362e+14         5630213      F 2016-04-27 14:58:11      2016-04-29   \n14  9.988472e+13         5633951      F 2016-04-28 10:06:24      2016-04-29   \n\n    age    neighbourhood  scholarship  hipertension  diabetes  alcoholism  \\\n1    56  JARDIM DA PENHA            0             0         0           0   \n4    56  JARDIM DA PENHA            0             1         1           0   \n7    39       GOIABEIRAS            0             0         0           0   \n10   30   NOVA PALESTINA            0             0         0           0   \n14   54   NOVA PALESTINA            0             0         0           0   \n\n    handcap  sms_received no_show  \n1         0             0      No  \n4         0             0      No  \n7         0             0     Yes  \n10        0             0      No  \n14        0             0      No  ",
      "text/html": "<div>\n<style scoped>\n    .dataframe tbody tr th:only-of-type {\n        vertical-align: middle;\n    }\n\n    .dataframe tbody tr th {\n        vertical-align: top;\n    }\n\n    .dataframe thead th {\n        text-align: right;\n    }\n</style>\n<table border=\"1\" class=\"dataframe\">\n  <thead>\n    <tr style=\"text-align: right;\">\n      <th></th>\n      <th>patient_id</th>\n      <th>appointment_id</th>\n      <th>gender</th>\n      <th>scheduled_day</th>\n      <th>appointment_day</th>\n      <th>age</th>\n      <th>neighbourhood</th>\n      <th>scholarship</th>\n      <th>hipertension</th>\n      <th>diabetes</th>\n      <th>alcoholism</th>\n      <th>handcap</th>\n      <th>sms_received</th>\n      <th>no_show</th>\n    </tr>\n  </thead>\n  <tbody>\n    <tr>\n      <th>1</th>\n      <td>5.589978e+14</td>\n      <td>5642503</td>\n      <td>M</td>\n      <td>2016-04-29 16:08:27</td>\n      <td>2016-04-29</td>\n      <td>56</td>\n      <td>JARDIM DA PENHA</td>\n      <td>0</td>\n      <td>0</td>\n      <td>0</td>\n      <td>0</td>\n      <td>0</td>\n      <td>0</td>\n      <td>No</td>\n    </tr>\n    <tr>\n      <th>4</th>\n      <td>8.841186e+12</td>\n      <td>5642494</td>\n      <td>F</td>\n      <td>2016-04-29 16:07:23</td>\n      <td>2016-04-29</td>\n      <td>56</td>\n      <td>JARDIM DA PENHA</td>\n      <td>0</td>\n      <td>1</td>\n      <td>1</td>\n      <td>0</td>\n      <td>0</td>\n      <td>0</td>\n      <td>No</td>\n    </tr>\n    <tr>\n      <th>7</th>\n      <td>3.449833e+12</td>\n      <td>5630575</td>\n      <td>F</td>\n      <td>2016-04-27 15:39:58</td>\n      <td>2016-04-29</td>\n      <td>39</td>\n      <td>GOIABEIRAS</td>\n      <td>0</td>\n      <td>0</td>\n      <td>0</td>\n      <td>0</td>\n      <td>0</td>\n      <td>0</td>\n      <td>Yes</td>\n    </tr>\n    <tr>\n      <th>10</th>\n      <td>7.345362e+14</td>\n      <td>5630213</td>\n      <td>F</td>\n      <td>2016-04-27 14:58:11</td>\n      <td>2016-04-29</td>\n      <td>30</td>\n      <td>NOVA PALESTINA</td>\n      <td>0</td>\n      <td>0</td>\n      <td>0</td>\n      <td>0</td>\n      <td>0</td>\n      <td>0</td>\n      <td>No</td>\n    </tr>\n    <tr>\n      <th>14</th>\n      <td>9.988472e+13</td>\n      <td>5633951</td>\n      <td>F</td>\n      <td>2016-04-28 10:06:24</td>\n      <td>2016-04-29</td>\n      <td>54</td>\n      <td>NOVA PALESTINA</td>\n      <td>0</td>\n      <td>0</td>\n      <td>0</td>\n      <td>0</td>\n      <td>0</td>\n      <td>0</td>\n      <td>No</td>\n    </tr>\n  </tbody>\n</table>\n</div>"
     },
     "execution_count": 148,
     "metadata": {},
     "output_type": "execute_result"
    }
   ],
   "source": [
    "adults = df.loc[(df['age'] >= 30) & (df['age'] < 60)]\n",
    "adults.head()"
   ]
  },
  {
   "cell_type": "markdown",
   "metadata": {},
   "source": [
    "older_adults: [60 years - 116 years(excluded)]"
   ]
  },
  {
   "cell_type": "code",
   "execution_count": 149,
   "metadata": {
    "ExecuteTime": {
     "end_time": "2023-07-08T17:20:18.965735Z",
     "start_time": "2023-07-08T17:20:18.957698Z"
    }
   },
   "outputs": [
    {
     "data": {
      "text/plain": "      patient_id  appointment_id gender       scheduled_day appointment_day  \\\n0   2.987250e+13         5642903      F 2016-04-29 18:38:08      2016-04-29   \n2   4.262962e+12         5642549      F 2016-04-29 16:19:04      2016-04-29   \n5   9.598513e+13         5626772      F 2016-04-27 08:36:51      2016-04-29   \n24  8.734858e+12         5641780      F 2016-04-29 14:19:19      2016-04-29   \n32  5.288356e+13         5637908      M 2016-04-29 07:30:27      2016-04-29   \n\n    age    neighbourhood  scholarship  hipertension  diabetes  alcoholism  \\\n0    62  JARDIM DA PENHA            0             1         0           0   \n2    62    MATA DA PRAIA            0             0         0           0   \n5    76        REPÚBLICA            0             1         0           0   \n24   65       TABUAZEIRO            0             0         0           0   \n32   61    SÃO CRISTÓVÃO            0             1         0           0   \n\n    handcap  sms_received no_show  \n0         0             0      No  \n2         0             0      No  \n5         0             0      No  \n24        0             0      No  \n32        0             0      No  ",
      "text/html": "<div>\n<style scoped>\n    .dataframe tbody tr th:only-of-type {\n        vertical-align: middle;\n    }\n\n    .dataframe tbody tr th {\n        vertical-align: top;\n    }\n\n    .dataframe thead th {\n        text-align: right;\n    }\n</style>\n<table border=\"1\" class=\"dataframe\">\n  <thead>\n    <tr style=\"text-align: right;\">\n      <th></th>\n      <th>patient_id</th>\n      <th>appointment_id</th>\n      <th>gender</th>\n      <th>scheduled_day</th>\n      <th>appointment_day</th>\n      <th>age</th>\n      <th>neighbourhood</th>\n      <th>scholarship</th>\n      <th>hipertension</th>\n      <th>diabetes</th>\n      <th>alcoholism</th>\n      <th>handcap</th>\n      <th>sms_received</th>\n      <th>no_show</th>\n    </tr>\n  </thead>\n  <tbody>\n    <tr>\n      <th>0</th>\n      <td>2.987250e+13</td>\n      <td>5642903</td>\n      <td>F</td>\n      <td>2016-04-29 18:38:08</td>\n      <td>2016-04-29</td>\n      <td>62</td>\n      <td>JARDIM DA PENHA</td>\n      <td>0</td>\n      <td>1</td>\n      <td>0</td>\n      <td>0</td>\n      <td>0</td>\n      <td>0</td>\n      <td>No</td>\n    </tr>\n    <tr>\n      <th>2</th>\n      <td>4.262962e+12</td>\n      <td>5642549</td>\n      <td>F</td>\n      <td>2016-04-29 16:19:04</td>\n      <td>2016-04-29</td>\n      <td>62</td>\n      <td>MATA DA PRAIA</td>\n      <td>0</td>\n      <td>0</td>\n      <td>0</td>\n      <td>0</td>\n      <td>0</td>\n      <td>0</td>\n      <td>No</td>\n    </tr>\n    <tr>\n      <th>5</th>\n      <td>9.598513e+13</td>\n      <td>5626772</td>\n      <td>F</td>\n      <td>2016-04-27 08:36:51</td>\n      <td>2016-04-29</td>\n      <td>76</td>\n      <td>REPÚBLICA</td>\n      <td>0</td>\n      <td>1</td>\n      <td>0</td>\n      <td>0</td>\n      <td>0</td>\n      <td>0</td>\n      <td>No</td>\n    </tr>\n    <tr>\n      <th>24</th>\n      <td>8.734858e+12</td>\n      <td>5641780</td>\n      <td>F</td>\n      <td>2016-04-29 14:19:19</td>\n      <td>2016-04-29</td>\n      <td>65</td>\n      <td>TABUAZEIRO</td>\n      <td>0</td>\n      <td>0</td>\n      <td>0</td>\n      <td>0</td>\n      <td>0</td>\n      <td>0</td>\n      <td>No</td>\n    </tr>\n    <tr>\n      <th>32</th>\n      <td>5.288356e+13</td>\n      <td>5637908</td>\n      <td>M</td>\n      <td>2016-04-29 07:30:27</td>\n      <td>2016-04-29</td>\n      <td>61</td>\n      <td>SÃO CRISTÓVÃO</td>\n      <td>0</td>\n      <td>1</td>\n      <td>0</td>\n      <td>0</td>\n      <td>0</td>\n      <td>0</td>\n      <td>No</td>\n    </tr>\n  </tbody>\n</table>\n</div>"
     },
     "execution_count": 149,
     "metadata": {},
     "output_type": "execute_result"
    }
   ],
   "source": [
    "old_adults = df.loc[(df['age'] >= 60) & (df['age'] < df['age'].max() + 1)]\n",
    "old_adults.head()"
   ]
  },
  {
   "cell_type": "markdown",
   "metadata": {},
   "source": [
    "#### First, we will determine the proportion of each age group in relation to the entire dataset. By doing this, we can analyze the representation of each age group in the dataset and gain insights into the distribution of ages among the appointments."
   ]
  },
  {
   "cell_type": "code",
   "execution_count": 150,
   "metadata": {
    "ExecuteTime": {
     "end_time": "2023-07-08T17:20:18.965844Z",
     "start_time": "2023-07-08T17:20:18.962653Z"
    }
   },
   "outputs": [
    {
     "name": "stdout",
     "output_type": "stream",
     "text": [
      "The proportion of children in the dataset is 24.77%\n",
      "The proportion of young adults in the dataset is 15.14%\n",
      "The proportion of adults in the dataset is 40.93%\n",
      "The proportion of old adults in the dataset is 19.16%\n"
     ]
    }
   ],
   "source": [
    "# Next, we will determine the proportion of each age group in relation to the entire dataset. By doing this, we can analyze the representation of each age group in the dataset and gain insights into the distribution of ages among the appointments.\n",
    "children_proportion = len(children) / len(df)\n",
    "young_adults_proportion = len(young_adults) / len(df)\n",
    "adults_proportion = len(adults) / len(df)\n",
    "old_adults_proportion = len(old_adults) / len(df)\n",
    "\n",
    "print('The proportion of children in the dataset is {:.2f}%'.format(children_proportion * 100))\n",
    "print('The proportion of young adults in the dataset is {:.2f}%'.format(young_adults_proportion * 100))\n",
    "print('The proportion of adults in the dataset is {:.2f}%'.format(adults_proportion * 100))\n",
    "print('The proportion of old adults in the dataset is {:.2f}%'.format(old_adults_proportion * 100))"
   ]
  },
  {
   "cell_type": "code",
   "execution_count": 151,
   "metadata": {
    "ExecuteTime": {
     "end_time": "2023-07-08T17:20:19.162703Z",
     "start_time": "2023-07-08T17:20:18.974917Z"
    }
   },
   "outputs": [
    {
     "data": {
      "text/plain": "<Figure size 432x288 with 1 Axes>",
      "image/png": "[encoded data removed]"
     },
     "metadata": {},
     "output_type": "display_data"
    }
   ],
   "source": [
    "# Plotting the percentages\n",
    "labels = ['Children', 'Young Adults', 'Adults', 'Old Adults']\n",
    "sizes = [children_proportion, young_adults_proportion, adults_proportion, old_adults_proportion]\n",
    "colors = ['blue', 'red', 'orange', 'yellow']\n",
    "\n",
    "plt.pie(sizes, labels=labels, colors=colors, autopct='%.2f%%', startangle=90)\n",
    "\n",
    "# Set the title for the graph\n",
    "plt.title('Age Group Proportion')\n",
    "\n",
    "# Display the graph\n",
    "plt.show()"
   ]
  },
  {
   "cell_type": "markdown",
   "metadata": {},
   "source": [
    "#### Next, we will calculate the percentage of showing up in the appointment for each age group. This will give us an understanding of the attendance rate within each age group."
   ]
  },
  {
   "cell_type": "markdown",
   "metadata": {},
   "source": [
    "`children` percentage of showing up in the appointment"
   ]
  },
  {
   "cell_type": "code",
   "execution_count": 152,
   "metadata": {
    "ExecuteTime": {
     "end_time": "2023-07-08T17:20:19.162935Z",
     "start_time": "2023-07-08T17:20:19.069640Z"
    }
   },
   "outputs": [
    {
     "name": "stdout",
     "output_type": "stream",
     "text": [
      "The percentage of children showing up in the appointment is 78.10%\n"
     ]
    }
   ],
   "source": [
    "# number of children showing up in the appointment\n",
    "children_show_up_count = children.loc[children['no_show'] == 'No']['no_show'].count()\n",
    "\n",
    "# proportion of children showing up in the appointment\n",
    "percentage_show_up = (children_show_up_count / len(children)) * 100\n",
    "print('The percentage of children showing up in the appointment is {:.2f}%'.format(percentage_show_up))"
   ]
  },
  {
   "cell_type": "code",
   "execution_count": 153,
   "metadata": {
    "ExecuteTime": {
     "end_time": "2023-07-08T17:20:19.223467Z",
     "start_time": "2023-07-08T17:20:19.081758Z"
    }
   },
   "outputs": [
    {
     "data": {
      "text/plain": "<Figure size 432x288 with 1 Axes>",
      "image/png": "[encoded data removed]"
     },
     "metadata": {},
     "output_type": "display_data"
    }
   ],
   "source": [
    "# Plotting the percentages\n",
    "labels = ['Showing Up', 'Not Showing Up']\n",
    "sizes = [percentage_show_up, 100 - percentage_show_up]\n",
    "colors = ['blue', 'red']\n",
    "\n",
    "plt.pie(sizes, labels=labels, colors=colors, autopct='%.2f%%', startangle=90)\n",
    "\n",
    "# Set the title for the graph\n",
    "plt.title('Appointment Attendance for Children')\n",
    "\n",
    "# Display the graph\n",
    "plt.show()"
   ]
  },
  {
   "cell_type": "markdown",
   "source": [
    "The above visualization will be used many times in the next sections, so we will create a function to plot the percentages of showing up in the appointment for each age group."
   ],
   "metadata": {
    "collapsed": false
   }
  },
  {
   "cell_type": "code",
   "execution_count": 154,
   "outputs": [],
   "source": [
    "def appointment_attendance_plot(percentage_show_up):\n",
    "    \"\"\"\n",
    "    Plot the percentages of showing up in the appointment for each age group.\n",
    "    \"\"\"\n",
    "    # Plotting the percentages\n",
    "    labels = ['Showing Up', 'Not Showing Up']\n",
    "    sizes = [percentage_show_up, 100 - percentage_show_up]\n",
    "    colors = ['blue', 'red']\n",
    "\n",
    "    plt.pie(sizes, labels=labels, colors=colors, autopct='%.2f%%', startangle=90)\n",
    "\n",
    "    # Set the title for the graph\n",
    "    plt.title('Appointment Attendance')\n",
    "\n",
    "    # Display the graph\n",
    "    plt.show()"
   ],
   "metadata": {
    "collapsed": false,
    "ExecuteTime": {
     "end_time": "2023-07-08T17:20:19.223644Z",
     "start_time": "2023-07-08T17:20:19.127077Z"
    }
   }
  },
  {
   "cell_type": "markdown",
   "metadata": {},
   "source": [
    "`young_adults` percentage of showing up in the appointment"
   ]
  },
  {
   "cell_type": "code",
   "execution_count": 155,
   "metadata": {
    "ExecuteTime": {
     "end_time": "2023-07-08T17:20:19.223773Z",
     "start_time": "2023-07-08T17:20:19.139465Z"
    }
   },
   "outputs": [
    {
     "name": "stdout",
     "output_type": "stream",
     "text": [
      "The percentage of young adults showing up in the appointment is 75.35%\n"
     ]
    }
   ],
   "source": [
    "# number of Young Adults showing up in the appointment\n",
    "young_adults_show_up_count = young_adults.loc[young_adults['no_show'] == 'No']['no_show'].count()\n",
    "\n",
    "# proportion of Young Adults showing up in the appointment\n",
    "percentage_show_up = (young_adults_show_up_count / len(young_adults)) * 100\n",
    "print('The percentage of young adults showing up in the appointment is {:.2f}%'.format(percentage_show_up))"
   ]
  },
  {
   "cell_type": "code",
   "execution_count": 156,
   "metadata": {
    "ExecuteTime": {
     "end_time": "2023-07-08T17:20:19.224085Z",
     "start_time": "2023-07-08T17:20:19.143968Z"
    }
   },
   "outputs": [
    {
     "data": {
      "text/plain": "<Figure size 432x288 with 1 Axes>",
      "image/png": "[encoded data removed]"
     },
     "metadata": {},
     "output_type": "display_data"
    }
   ],
   "source": [
    "appointment_attendance_plot(percentage_show_up)"
   ]
  },
  {
   "cell_type": "markdown",
   "metadata": {},
   "source": [
    "`adults` percentage of showing up in the appointment"
   ]
  },
  {
   "cell_type": "code",
   "execution_count": 157,
   "metadata": {
    "ExecuteTime": {
     "end_time": "2023-07-08T17:20:19.290478Z",
     "start_time": "2023-07-08T17:20:19.179709Z"
    }
   },
   "outputs": [
    {
     "name": "stdout",
     "output_type": "stream",
     "text": [
      "The percentage of adults showing up in the appointment is 80.20%\n"
     ]
    }
   ],
   "source": [
    "# number of Adults showing up in the appointment\n",
    "adults_show_up_count = adults.loc[adults['no_show'] == 'No']['no_show'].count()\n",
    "\n",
    "# proportion of Adults showing up in the appointment\n",
    "percentage_show_up = (adults_show_up_count / len(adults)) * 100\n",
    "print('The percentage of adults showing up in the appointment is {:.2f}%'.format(percentage_show_up))"
   ]
  },
  {
   "cell_type": "code",
   "execution_count": 158,
   "metadata": {
    "ExecuteTime": {
     "end_time": "2023-07-08T17:20:19.293534Z",
     "start_time": "2023-07-08T17:20:19.194255Z"
    }
   },
   "outputs": [
    {
     "data": {
      "text/plain": "<Figure size 432x288 with 1 Axes>",
      "image/png": "[encoded data removed]"
     },
     "metadata": {},
     "output_type": "display_data"
    }
   ],
   "source": [
    "appointment_attendance_plot(percentage_show_up)"
   ]
  },
  {
   "cell_type": "markdown",
   "metadata": {},
   "source": [
    "`old_adults` percentage of showing up in the appointment"
   ]
  },
  {
   "cell_type": "code",
   "execution_count": 159,
   "metadata": {
    "ExecuteTime": {
     "end_time": "2023-07-08T17:20:19.294034Z",
     "start_time": "2023-07-08T17:20:19.240573Z"
    }
   },
   "outputs": [
    {
     "name": "stdout",
     "output_type": "stream",
     "text": [
      "The percentage of old adults showing up in the appointment is 84.69%\n"
     ]
    }
   ],
   "source": [
    "# number of Adults showing up in the appointment\n",
    "old_adults_show_up_count = old_adults.loc[old_adults['no_show'] == 'No']['no_show'].count()\n",
    "\n",
    "# proportion of Adults showing up in the appointment\n",
    "percentage_show_up = (old_adults_show_up_count / len(old_adults)) * 100\n",
    "print('The percentage of old adults showing up in the appointment is {:.2f}%'.format(percentage_show_up))"
   ]
  },
  {
   "cell_type": "code",
   "execution_count": 160,
   "metadata": {
    "ExecuteTime": {
     "end_time": "2023-07-08T17:20:19.294204Z",
     "start_time": "2023-07-08T17:20:19.247016Z"
    }
   },
   "outputs": [
    {
     "data": {
      "text/plain": "<Figure size 432x288 with 1 Axes>",
      "image/png": "[encoded data removed]"
     },
     "metadata": {},
     "output_type": "display_data"
    }
   ],
   "source": [
    "appointment_attendance_plot(percentage_show_up)"
   ]
  },
  {
   "cell_type": "markdown",
   "metadata": {},
   "source": [
    "### From the above diagrams, We can observe the following:\n",
    "> `old adults` have the best percentage of showing up at the appointment `84.69% of showing up at the appointment`\n",
    "> `young adults` have the highest percentage of not showing up at the appointment `24.65% of not showing up at the appointment`"
   ]
  },
  {
   "cell_type": "markdown",
   "metadata": {},
   "source": [
    "### Research Question 2\n",
    "### What is the day of the week when the highest number of patients show up for appointments, and which day of the week has the lowest number of patients showing up for appointments?"
   ]
  },
  {
   "cell_type": "code",
   "execution_count": 161,
   "metadata": {
    "collapsed": true,
    "ExecuteTime": {
     "end_time": "2023-07-08T17:20:19.294353Z",
     "start_time": "2023-07-08T17:20:19.288541Z"
    }
   },
   "outputs": [
    {
     "data": {
      "text/plain": "     patient_id  appointment_id gender       scheduled_day appointment_day  \\\n0  2.987250e+13         5642903      F 2016-04-29 18:38:08      2016-04-29   \n1  5.589978e+14         5642503      M 2016-04-29 16:08:27      2016-04-29   \n2  4.262962e+12         5642549      F 2016-04-29 16:19:04      2016-04-29   \n3  8.679512e+11         5642828      F 2016-04-29 17:29:31      2016-04-29   \n4  8.841186e+12         5642494      F 2016-04-29 16:07:23      2016-04-29   \n\n   age      neighbourhood  scholarship  hipertension  diabetes  alcoholism  \\\n0   62    JARDIM DA PENHA            0             1         0           0   \n1   56    JARDIM DA PENHA            0             0         0           0   \n2   62      MATA DA PRAIA            0             0         0           0   \n3    8  PONTAL DE CAMBURI            0             0         0           0   \n4   56    JARDIM DA PENHA            0             1         1           0   \n\n   handcap  sms_received no_show  \n0        0             0      No  \n1        0             0      No  \n2        0             0      No  \n3        0             0      No  \n4        0             0      No  ",
      "text/html": "<div>\n<style scoped>\n    .dataframe tbody tr th:only-of-type {\n        vertical-align: middle;\n    }\n\n    .dataframe tbody tr th {\n        vertical-align: top;\n    }\n\n    .dataframe thead th {\n        text-align: right;\n    }\n</style>\n<table border=\"1\" class=\"dataframe\">\n  <thead>\n    <tr style=\"text-align: right;\">\n      <th></th>\n      <th>patient_id</th>\n      <th>appointment_id</th>\n      <th>gender</th>\n      <th>scheduled_day</th>\n      <th>appointment_day</th>\n      <th>age</th>\n      <th>neighbourhood</th>\n      <th>scholarship</th>\n      <th>hipertension</th>\n      <th>diabetes</th>\n      <th>alcoholism</th>\n      <th>handcap</th>\n      <th>sms_received</th>\n      <th>no_show</th>\n    </tr>\n  </thead>\n  <tbody>\n    <tr>\n      <th>0</th>\n      <td>2.987250e+13</td>\n      <td>5642903</td>\n      <td>F</td>\n      <td>2016-04-29 18:38:08</td>\n      <td>2016-04-29</td>\n      <td>62</td>\n      <td>JARDIM DA PENHA</td>\n      <td>0</td>\n      <td>1</td>\n      <td>0</td>\n      <td>0</td>\n      <td>0</td>\n      <td>0</td>\n      <td>No</td>\n    </tr>\n    <tr>\n      <th>1</th>\n      <td>5.589978e+14</td>\n      <td>5642503</td>\n      <td>M</td>\n      <td>2016-04-29 16:08:27</td>\n      <td>2016-04-29</td>\n      <td>56</td>\n      <td>JARDIM DA PENHA</td>\n      <td>0</td>\n      <td>0</td>\n      <td>0</td>\n      <td>0</td>\n      <td>0</td>\n      <td>0</td>\n      <td>No</td>\n    </tr>\n    <tr>\n      <th>2</th>\n      <td>4.262962e+12</td>\n      <td>5642549</td>\n      <td>F</td>\n      <td>2016-04-29 16:19:04</td>\n      <td>2016-04-29</td>\n      <td>62</td>\n      <td>MATA DA PRAIA</td>\n      <td>0</td>\n      <td>0</td>\n      <td>0</td>\n      <td>0</td>\n      <td>0</td>\n      <td>0</td>\n      <td>No</td>\n    </tr>\n    <tr>\n      <th>3</th>\n      <td>8.679512e+11</td>\n      <td>5642828</td>\n      <td>F</td>\n      <td>2016-04-29 17:29:31</td>\n      <td>2016-04-29</td>\n      <td>8</td>\n      <td>PONTAL DE CAMBURI</td>\n      <td>0</td>\n      <td>0</td>\n      <td>0</td>\n      <td>0</td>\n      <td>0</td>\n      <td>0</td>\n      <td>No</td>\n    </tr>\n    <tr>\n      <th>4</th>\n      <td>8.841186e+12</td>\n      <td>5642494</td>\n      <td>F</td>\n      <td>2016-04-29 16:07:23</td>\n      <td>2016-04-29</td>\n      <td>56</td>\n      <td>JARDIM DA PENHA</td>\n      <td>0</td>\n      <td>1</td>\n      <td>1</td>\n      <td>0</td>\n      <td>0</td>\n      <td>0</td>\n      <td>No</td>\n    </tr>\n  </tbody>\n</table>\n</div>"
     },
     "execution_count": 161,
     "metadata": {},
     "output_type": "execute_result"
    }
   ],
   "source": [
    "# review the dataset\n",
    "df.head()"
   ]
  },
  {
   "cell_type": "markdown",
   "metadata": {},
   "source": [
    "To make it easy to answer the above question, we will create a new column `appointment_day_of_week` that will contain the day of the week for each appointment."
   ]
  },
  {
   "cell_type": "code",
   "execution_count": 162,
   "metadata": {
    "ExecuteTime": {
     "end_time": "2023-07-08T17:20:19.393469Z",
     "start_time": "2023-07-08T17:20:19.298266Z"
    }
   },
   "outputs": [
    {
     "data": {
      "text/plain": "     patient_id  appointment_id gender       scheduled_day appointment_day  \\\n0  2.987250e+13         5642903      F 2016-04-29 18:38:08      2016-04-29   \n1  5.589978e+14         5642503      M 2016-04-29 16:08:27      2016-04-29   \n2  4.262962e+12         5642549      F 2016-04-29 16:19:04      2016-04-29   \n3  8.679512e+11         5642828      F 2016-04-29 17:29:31      2016-04-29   \n4  8.841186e+12         5642494      F 2016-04-29 16:07:23      2016-04-29   \n\n   age      neighbourhood  scholarship  hipertension  diabetes  alcoholism  \\\n0   62    JARDIM DA PENHA            0             1         0           0   \n1   56    JARDIM DA PENHA            0             0         0           0   \n2   62      MATA DA PRAIA            0             0         0           0   \n3    8  PONTAL DE CAMBURI            0             0         0           0   \n4   56    JARDIM DA PENHA            0             1         1           0   \n\n   handcap  sms_received no_show appointment_day_of_week  \n0        0             0      No                  Friday  \n1        0             0      No                  Friday  \n2        0             0      No                  Friday  \n3        0             0      No                  Friday  \n4        0             0      No                  Friday  ",
      "text/html": "<div>\n<style scoped>\n    .dataframe tbody tr th:only-of-type {\n        vertical-align: middle;\n    }\n\n    .dataframe tbody tr th {\n        vertical-align: top;\n    }\n\n    .dataframe thead th {\n        text-align: right;\n    }\n</style>\n<table border=\"1\" class=\"dataframe\">\n  <thead>\n    <tr style=\"text-align: right;\">\n      <th></th>\n      <th>patient_id</th>\n      <th>appointment_id</th>\n      <th>gender</th>\n      <th>scheduled_day</th>\n      <th>appointment_day</th>\n      <th>age</th>\n      <th>neighbourhood</th>\n      <th>scholarship</th>\n      <th>hipertension</th>\n      <th>diabetes</th>\n      <th>alcoholism</th>\n      <th>handcap</th>\n      <th>sms_received</th>\n      <th>no_show</th>\n      <th>appointment_day_of_week</th>\n    </tr>\n  </thead>\n  <tbody>\n    <tr>\n      <th>0</th>\n      <td>2.987250e+13</td>\n      <td>5642903</td>\n      <td>F</td>\n      <td>2016-04-29 18:38:08</td>\n      <td>2016-04-29</td>\n      <td>62</td>\n      <td>JARDIM DA PENHA</td>\n      <td>0</td>\n      <td>1</td>\n      <td>0</td>\n      <td>0</td>\n      <td>0</td>\n      <td>0</td>\n      <td>No</td>\n      <td>Friday</td>\n    </tr>\n    <tr>\n      <th>1</th>\n      <td>5.589978e+14</td>\n      <td>5642503</td>\n      <td>M</td>\n      <td>2016-04-29 16:08:27</td>\n      <td>2016-04-29</td>\n      <td>56</td>\n      <td>JARDIM DA PENHA</td>\n      <td>0</td>\n      <td>0</td>\n      <td>0</td>\n      <td>0</td>\n      <td>0</td>\n      <td>0</td>\n      <td>No</td>\n      <td>Friday</td>\n    </tr>\n    <tr>\n      <th>2</th>\n      <td>4.262962e+12</td>\n      <td>5642549</td>\n      <td>F</td>\n      <td>2016-04-29 16:19:04</td>\n      <td>2016-04-29</td>\n      <td>62</td>\n      <td>MATA DA PRAIA</td>\n      <td>0</td>\n      <td>0</td>\n      <td>0</td>\n      <td>0</td>\n      <td>0</td>\n      <td>0</td>\n      <td>No</td>\n      <td>Friday</td>\n    </tr>\n    <tr>\n      <th>3</th>\n      <td>8.679512e+11</td>\n      <td>5642828</td>\n      <td>F</td>\n      <td>2016-04-29 17:29:31</td>\n      <td>2016-04-29</td>\n      <td>8</td>\n      <td>PONTAL DE CAMBURI</td>\n      <td>0</td>\n      <td>0</td>\n      <td>0</td>\n      <td>0</td>\n      <td>0</td>\n      <td>0</td>\n      <td>No</td>\n      <td>Friday</td>\n    </tr>\n    <tr>\n      <th>4</th>\n      <td>8.841186e+12</td>\n      <td>5642494</td>\n      <td>F</td>\n      <td>2016-04-29 16:07:23</td>\n      <td>2016-04-29</td>\n      <td>56</td>\n      <td>JARDIM DA PENHA</td>\n      <td>0</td>\n      <td>1</td>\n      <td>1</td>\n      <td>0</td>\n      <td>0</td>\n      <td>0</td>\n      <td>No</td>\n      <td>Friday</td>\n    </tr>\n  </tbody>\n</table>\n</div>"
     },
     "execution_count": 162,
     "metadata": {},
     "output_type": "execute_result"
    }
   ],
   "source": [
    "df['appointment_day_of_week'] = df['appointment_day'].dt.day_name()\n",
    "\n",
    "# review the dataset\n",
    "df.head()"
   ]
  },
  {
   "cell_type": "code",
   "execution_count": 163,
   "metadata": {
    "ExecuteTime": {
     "end_time": "2023-07-08T17:20:19.394031Z",
     "start_time": "2023-07-08T17:20:19.327479Z"
    }
   },
   "outputs": [
    {
     "data": {
      "text/plain": "     patient_id  appointment_id gender       scheduled_day appointment_day  \\\n0  2.987250e+13         5642903      F 2016-04-29 18:38:08      2016-04-29   \n1  5.589978e+14         5642503      M 2016-04-29 16:08:27      2016-04-29   \n2  4.262962e+12         5642549      F 2016-04-29 16:19:04      2016-04-29   \n3  8.679512e+11         5642828      F 2016-04-29 17:29:31      2016-04-29   \n4  8.841186e+12         5642494      F 2016-04-29 16:07:23      2016-04-29   \n\n  appointment_day_of_week  age      neighbourhood  scholarship  hipertension  \\\n0                  Friday   62    JARDIM DA PENHA            0             1   \n1                  Friday   56    JARDIM DA PENHA            0             0   \n2                  Friday   62      MATA DA PRAIA            0             0   \n3                  Friday    8  PONTAL DE CAMBURI            0             0   \n4                  Friday   56    JARDIM DA PENHA            0             1   \n\n   diabetes  alcoholism  handcap  sms_received no_show  \n0         0           0        0             0      No  \n1         0           0        0             0      No  \n2         0           0        0             0      No  \n3         0           0        0             0      No  \n4         1           0        0             0      No  ",
      "text/html": "<div>\n<style scoped>\n    .dataframe tbody tr th:only-of-type {\n        vertical-align: middle;\n    }\n\n    .dataframe tbody tr th {\n        vertical-align: top;\n    }\n\n    .dataframe thead th {\n        text-align: right;\n    }\n</style>\n<table border=\"1\" class=\"dataframe\">\n  <thead>\n    <tr style=\"text-align: right;\">\n      <th></th>\n      <th>patient_id</th>\n      <th>appointment_id</th>\n      <th>gender</th>\n      <th>scheduled_day</th>\n      <th>appointment_day</th>\n      <th>appointment_day_of_week</th>\n      <th>age</th>\n      <th>neighbourhood</th>\n      <th>scholarship</th>\n      <th>hipertension</th>\n      <th>diabetes</th>\n      <th>alcoholism</th>\n      <th>handcap</th>\n      <th>sms_received</th>\n      <th>no_show</th>\n    </tr>\n  </thead>\n  <tbody>\n    <tr>\n      <th>0</th>\n      <td>2.987250e+13</td>\n      <td>5642903</td>\n      <td>F</td>\n      <td>2016-04-29 18:38:08</td>\n      <td>2016-04-29</td>\n      <td>Friday</td>\n      <td>62</td>\n      <td>JARDIM DA PENHA</td>\n      <td>0</td>\n      <td>1</td>\n      <td>0</td>\n      <td>0</td>\n      <td>0</td>\n      <td>0</td>\n      <td>No</td>\n    </tr>\n    <tr>\n      <th>1</th>\n      <td>5.589978e+14</td>\n      <td>5642503</td>\n      <td>M</td>\n      <td>2016-04-29 16:08:27</td>\n      <td>2016-04-29</td>\n      <td>Friday</td>\n      <td>56</td>\n      <td>JARDIM DA PENHA</td>\n      <td>0</td>\n      <td>0</td>\n      <td>0</td>\n      <td>0</td>\n      <td>0</td>\n      <td>0</td>\n      <td>No</td>\n    </tr>\n    <tr>\n      <th>2</th>\n      <td>4.262962e+12</td>\n      <td>5642549</td>\n      <td>F</td>\n      <td>2016-04-29 16:19:04</td>\n      <td>2016-04-29</td>\n      <td>Friday</td>\n      <td>62</td>\n      <td>MATA DA PRAIA</td>\n      <td>0</td>\n      <td>0</td>\n      <td>0</td>\n      <td>0</td>\n      <td>0</td>\n      <td>0</td>\n      <td>No</td>\n    </tr>\n    <tr>\n      <th>3</th>\n      <td>8.679512e+11</td>\n      <td>5642828</td>\n      <td>F</td>\n      <td>2016-04-29 17:29:31</td>\n      <td>2016-04-29</td>\n      <td>Friday</td>\n      <td>8</td>\n      <td>PONTAL DE CAMBURI</td>\n      <td>0</td>\n      <td>0</td>\n      <td>0</td>\n      <td>0</td>\n      <td>0</td>\n      <td>0</td>\n      <td>No</td>\n    </tr>\n    <tr>\n      <th>4</th>\n      <td>8.841186e+12</td>\n      <td>5642494</td>\n      <td>F</td>\n      <td>2016-04-29 16:07:23</td>\n      <td>2016-04-29</td>\n      <td>Friday</td>\n      <td>56</td>\n      <td>JARDIM DA PENHA</td>\n      <td>0</td>\n      <td>1</td>\n      <td>1</td>\n      <td>0</td>\n      <td>0</td>\n      <td>0</td>\n      <td>No</td>\n    </tr>\n  </tbody>\n</table>\n</div>"
     },
     "execution_count": 163,
     "metadata": {},
     "output_type": "execute_result"
    }
   ],
   "source": [
    "# change the location of the day_of_week column to be after the appointment_day column\n",
    "column_names = df.columns.tolist()\n",
    "column_names.insert(5, column_names.pop(column_names.index('appointment_day_of_week')))\n",
    "df = df.reindex(columns=column_names)\n",
    "\n",
    "# review the dataset\n",
    "df.head()"
   ]
  },
  {
   "cell_type": "markdown",
   "metadata": {},
   "source": [
    "Now after cleaning our data, we will calculate the number of patients showing up for appointments for each day of the week."
   ]
  },
  {
   "cell_type": "code",
   "execution_count": 164,
   "metadata": {
    "ExecuteTime": {
     "end_time": "2023-07-08T17:20:19.411251Z",
     "start_time": "2023-07-08T17:20:19.362265Z"
    }
   },
   "outputs": [
    {
     "data": {
      "text/plain": "no_show                     No   Yes\nappointment_day_of_week             \nFriday                   14982  4037\nMonday                   18024  4690\nSaturday                    30     9\nThursday                 13909  3338\nTuesday                  20488  5152\nWednesday                20774  5093",
      "text/html": "<div>\n<style scoped>\n    .dataframe tbody tr th:only-of-type {\n        vertical-align: middle;\n    }\n\n    .dataframe tbody tr th {\n        vertical-align: top;\n    }\n\n    .dataframe thead th {\n        text-align: right;\n    }\n</style>\n<table border=\"1\" class=\"dataframe\">\n  <thead>\n    <tr style=\"text-align: right;\">\n      <th>no_show</th>\n      <th>No</th>\n      <th>Yes</th>\n    </tr>\n    <tr>\n      <th>appointment_day_of_week</th>\n      <th></th>\n      <th></th>\n    </tr>\n  </thead>\n  <tbody>\n    <tr>\n      <th>Friday</th>\n      <td>14982</td>\n      <td>4037</td>\n    </tr>\n    <tr>\n      <th>Monday</th>\n      <td>18024</td>\n      <td>4690</td>\n    </tr>\n    <tr>\n      <th>Saturday</th>\n      <td>30</td>\n      <td>9</td>\n    </tr>\n    <tr>\n      <th>Thursday</th>\n      <td>13909</td>\n      <td>3338</td>\n    </tr>\n    <tr>\n      <th>Tuesday</th>\n      <td>20488</td>\n      <td>5152</td>\n    </tr>\n    <tr>\n      <th>Wednesday</th>\n      <td>20774</td>\n      <td>5093</td>\n    </tr>\n  </tbody>\n</table>\n</div>"
     },
     "execution_count": 164,
     "metadata": {},
     "output_type": "execute_result"
    }
   ],
   "source": [
    "day_show = df.groupby(['appointment_day_of_week', 'no_show'])['no_show'].count().unstack()\n",
    "day_show"
   ]
  },
  {
   "cell_type": "markdown",
   "metadata": {},
   "source": [
    "Now we need to find the proportion of patients showing up for appointments for each day of the week."
   ]
  },
  {
   "cell_type": "code",
   "execution_count": 165,
   "metadata": {
    "ExecuteTime": {
     "end_time": "2023-07-08T17:20:19.411475Z",
     "start_time": "2023-07-08T17:20:19.384869Z"
    }
   },
   "outputs": [
    {
     "data": {
      "text/plain": "no_show                     No   Yes  showing_up_proportion %  \\\nappointment_day_of_week                                         \nFriday                   14982  4037                    78.77   \nMonday                   18024  4690                    79.35   \nSaturday                    30     9                    76.92   \nThursday                 13909  3338                    80.65   \nTuesday                  20488  5152                    79.91   \nWednesday                20774  5093                    80.31   \n\nno_show                  not_showing_up_proportion %  \nappointment_day_of_week                               \nFriday                                         21.23  \nMonday                                         20.65  \nSaturday                                       23.08  \nThursday                                       19.35  \nTuesday                                        20.09  \nWednesday                                      19.69  ",
      "text/html": "<div>\n<style scoped>\n    .dataframe tbody tr th:only-of-type {\n        vertical-align: middle;\n    }\n\n    .dataframe tbody tr th {\n        vertical-align: top;\n    }\n\n    .dataframe thead th {\n        text-align: right;\n    }\n</style>\n<table border=\"1\" class=\"dataframe\">\n  <thead>\n    <tr style=\"text-align: right;\">\n      <th>no_show</th>\n      <th>No</th>\n      <th>Yes</th>\n      <th>showing_up_proportion %</th>\n      <th>not_showing_up_proportion %</th>\n    </tr>\n    <tr>\n      <th>appointment_day_of_week</th>\n      <th></th>\n      <th></th>\n      <th></th>\n      <th></th>\n    </tr>\n  </thead>\n  <tbody>\n    <tr>\n      <th>Friday</th>\n      <td>14982</td>\n      <td>4037</td>\n      <td>78.77</td>\n      <td>21.23</td>\n    </tr>\n    <tr>\n      <th>Monday</th>\n      <td>18024</td>\n      <td>4690</td>\n      <td>79.35</td>\n      <td>20.65</td>\n    </tr>\n    <tr>\n      <th>Saturday</th>\n      <td>30</td>\n      <td>9</td>\n      <td>76.92</td>\n      <td>23.08</td>\n    </tr>\n    <tr>\n      <th>Thursday</th>\n      <td>13909</td>\n      <td>3338</td>\n      <td>80.65</td>\n      <td>19.35</td>\n    </tr>\n    <tr>\n      <th>Tuesday</th>\n      <td>20488</td>\n      <td>5152</td>\n      <td>79.91</td>\n      <td>20.09</td>\n    </tr>\n    <tr>\n      <th>Wednesday</th>\n      <td>20774</td>\n      <td>5093</td>\n      <td>80.31</td>\n      <td>19.69</td>\n    </tr>\n  </tbody>\n</table>\n</div>"
     },
     "execution_count": 165,
     "metadata": {},
     "output_type": "execute_result"
    }
   ],
   "source": [
    "# proportion of patients showing up for appointments for each day of the week\n",
    "day_show['showing_up_proportion %'] = round((day_show['No'] / (day_show['No'] + day_show['Yes']) * 100), 2)\n",
    "day_show['not_showing_up_proportion %'] = round((day_show['Yes'] / (day_show['No'] + day_show['Yes']) * 100), 2)\n",
    "\n",
    "day_show"
   ]
  },
  {
   "cell_type": "markdown",
   "metadata": {},
   "source": [
    "Now we will sort the value of showing up to find the day with the highest number of patients showing up for appointments"
   ]
  },
  {
   "cell_type": "code",
   "execution_count": 166,
   "metadata": {
    "ExecuteTime": {
     "end_time": "2023-07-08T17:20:19.411831Z",
     "start_time": "2023-07-08T17:20:19.388482Z"
    }
   },
   "outputs": [
    {
     "data": {
      "text/plain": "no_show                     No   Yes  showing_up_proportion %  \\\nappointment_day_of_week                                         \nThursday                 13909  3338                    80.65   \nWednesday                20774  5093                    80.31   \nTuesday                  20488  5152                    79.91   \nMonday                   18024  4690                    79.35   \nFriday                   14982  4037                    78.77   \nSaturday                    30     9                    76.92   \n\nno_show                  not_showing_up_proportion %  \nappointment_day_of_week                               \nThursday                                       19.35  \nWednesday                                      19.69  \nTuesday                                        20.09  \nMonday                                         20.65  \nFriday                                         21.23  \nSaturday                                       23.08  ",
      "text/html": "<div>\n<style scoped>\n    .dataframe tbody tr th:only-of-type {\n        vertical-align: middle;\n    }\n\n    .dataframe tbody tr th {\n        vertical-align: top;\n    }\n\n    .dataframe thead th {\n        text-align: right;\n    }\n</style>\n<table border=\"1\" class=\"dataframe\">\n  <thead>\n    <tr style=\"text-align: right;\">\n      <th>no_show</th>\n      <th>No</th>\n      <th>Yes</th>\n      <th>showing_up_proportion %</th>\n      <th>not_showing_up_proportion %</th>\n    </tr>\n    <tr>\n      <th>appointment_day_of_week</th>\n      <th></th>\n      <th></th>\n      <th></th>\n      <th></th>\n    </tr>\n  </thead>\n  <tbody>\n    <tr>\n      <th>Thursday</th>\n      <td>13909</td>\n      <td>3338</td>\n      <td>80.65</td>\n      <td>19.35</td>\n    </tr>\n    <tr>\n      <th>Wednesday</th>\n      <td>20774</td>\n      <td>5093</td>\n      <td>80.31</td>\n      <td>19.69</td>\n    </tr>\n    <tr>\n      <th>Tuesday</th>\n      <td>20488</td>\n      <td>5152</td>\n      <td>79.91</td>\n      <td>20.09</td>\n    </tr>\n    <tr>\n      <th>Monday</th>\n      <td>18024</td>\n      <td>4690</td>\n      <td>79.35</td>\n      <td>20.65</td>\n    </tr>\n    <tr>\n      <th>Friday</th>\n      <td>14982</td>\n      <td>4037</td>\n      <td>78.77</td>\n      <td>21.23</td>\n    </tr>\n    <tr>\n      <th>Saturday</th>\n      <td>30</td>\n      <td>9</td>\n      <td>76.92</td>\n      <td>23.08</td>\n    </tr>\n  </tbody>\n</table>\n</div>"
     },
     "execution_count": 166,
     "metadata": {},
     "output_type": "execute_result"
    }
   ],
   "source": [
    "day_show.sort_values(by=['showing_up_proportion %'], ascending=False)"
   ]
  },
  {
   "cell_type": "code",
   "execution_count": 167,
   "metadata": {
    "ExecuteTime": {
     "end_time": "2023-07-08T17:20:19.596966Z",
     "start_time": "2023-07-08T17:20:19.404511Z"
    }
   },
   "outputs": [
    {
     "data": {
      "text/plain": "<Figure size 576x432 with 1 Axes>",
      "image/png": "[encoded data removed]"
     },
     "metadata": {
      "needs_background": "light"
     },
     "output_type": "display_data"
    }
   ],
   "source": [
    "# Plotting the number of showing_up_proportion % for each day of the week\n",
    "day_show_plot = day_show['showing_up_proportion %'].plot(kind='bar', figsize=(8, 6), color='blue')\n",
    "\n",
    "# Adding value labels to each bar\n",
    "for p in day_show_plot.patches:\n",
    "    day_show_plot.annotate(str(p.get_height()) + '%', (p.get_x() + p.get_width() / 2, p.get_height()), ha='center',\n",
    "                           va='bottom')\n",
    "\n",
    "# Set the title for the graph\n",
    "plt.title('Number of Patients Showing Up for Appointments for Each Day of the Week')\n",
    "\n",
    "# Set the x-label for the graph\n",
    "plt.xlabel('Day of the Week')\n",
    "\n",
    "# Set the y-label for the graph\n",
    "plt.ylabel('Number of Patients')\n",
    "\n",
    "# Display the graph\n",
    "plt.show()"
   ]
  },
  {
   "cell_type": "markdown",
   "metadata": {},
   "source": [
    "From the above diagram, We can observe that `Thursday` has the `highest percentage of patients showing up for appointments 80.65%`"
   ]
  },
  {
   "cell_type": "markdown",
   "source": [
    "We can rewrite the above code in a function to make it easy to use it again."
   ],
   "metadata": {
    "collapsed": false
   }
  },
  {
   "cell_type": "code",
   "execution_count": 168,
   "outputs": [],
   "source": [
    "def plot_bar_chart(df, column, plot_type, x, y, title, xlabel, ylabel, color):\n",
    "    plot = df[column].plot(kind=plot_type, figsize=(8, 6), color=color)\n",
    "\n",
    "    for p in plot.patches:\n",
    "        plot.annotate(str(p.get_height()), (p.get_x() + p.get_width() / 2, p.get_height()), ha='center', va='bottom')\n",
    "\n",
    "    plt.title(title)\n",
    "    plt.xlabel(xlabel)\n",
    "    plt.ylabel(ylabel)\n",
    "    plt.show()"
   ],
   "metadata": {
    "collapsed": false,
    "ExecuteTime": {
     "end_time": "2023-07-08T17:20:19.597155Z",
     "start_time": "2023-07-08T17:20:19.498423Z"
    }
   }
  },
  {
   "cell_type": "markdown",
   "metadata": {},
   "source": [
    "Now we will sort the value of not showing up to find the day with the lowest number of patients showing up for appointments"
   ]
  },
  {
   "cell_type": "code",
   "execution_count": 169,
   "metadata": {
    "ExecuteTime": {
     "end_time": "2023-07-08T17:20:19.597297Z",
     "start_time": "2023-07-08T17:20:19.501442Z"
    }
   },
   "outputs": [
    {
     "data": {
      "text/plain": "no_show                     No   Yes  showing_up_proportion %  \\\nappointment_day_of_week                                         \nSaturday                    30     9                    76.92   \nFriday                   14982  4037                    78.77   \nMonday                   18024  4690                    79.35   \nTuesday                  20488  5152                    79.91   \nWednesday                20774  5093                    80.31   \nThursday                 13909  3338                    80.65   \n\nno_show                  not_showing_up_proportion %  \nappointment_day_of_week                               \nSaturday                                       23.08  \nFriday                                         21.23  \nMonday                                         20.65  \nTuesday                                        20.09  \nWednesday                                      19.69  \nThursday                                       19.35  ",
      "text/html": "<div>\n<style scoped>\n    .dataframe tbody tr th:only-of-type {\n        vertical-align: middle;\n    }\n\n    .dataframe tbody tr th {\n        vertical-align: top;\n    }\n\n    .dataframe thead th {\n        text-align: right;\n    }\n</style>\n<table border=\"1\" class=\"dataframe\">\n  <thead>\n    <tr style=\"text-align: right;\">\n      <th>no_show</th>\n      <th>No</th>\n      <th>Yes</th>\n      <th>showing_up_proportion %</th>\n      <th>not_showing_up_proportion %</th>\n    </tr>\n    <tr>\n      <th>appointment_day_of_week</th>\n      <th></th>\n      <th></th>\n      <th></th>\n      <th></th>\n    </tr>\n  </thead>\n  <tbody>\n    <tr>\n      <th>Saturday</th>\n      <td>30</td>\n      <td>9</td>\n      <td>76.92</td>\n      <td>23.08</td>\n    </tr>\n    <tr>\n      <th>Friday</th>\n      <td>14982</td>\n      <td>4037</td>\n      <td>78.77</td>\n      <td>21.23</td>\n    </tr>\n    <tr>\n      <th>Monday</th>\n      <td>18024</td>\n      <td>4690</td>\n      <td>79.35</td>\n      <td>20.65</td>\n    </tr>\n    <tr>\n      <th>Tuesday</th>\n      <td>20488</td>\n      <td>5152</td>\n      <td>79.91</td>\n      <td>20.09</td>\n    </tr>\n    <tr>\n      <th>Wednesday</th>\n      <td>20774</td>\n      <td>5093</td>\n      <td>80.31</td>\n      <td>19.69</td>\n    </tr>\n    <tr>\n      <th>Thursday</th>\n      <td>13909</td>\n      <td>3338</td>\n      <td>80.65</td>\n      <td>19.35</td>\n    </tr>\n  </tbody>\n</table>\n</div>"
     },
     "execution_count": 169,
     "metadata": {},
     "output_type": "execute_result"
    }
   ],
   "source": [
    "day_show.sort_values(by=['not_showing_up_proportion %'], ascending=False)"
   ]
  },
  {
   "cell_type": "code",
   "execution_count": 170,
   "metadata": {
    "ExecuteTime": {
     "end_time": "2023-07-08T17:20:19.695516Z",
     "start_time": "2023-07-08T17:20:19.520094Z"
    }
   },
   "outputs": [
    {
     "data": {
      "text/plain": "<Figure size 576x432 with 1 Axes>",
      "image/png": "[encoded data removed]"
     },
     "metadata": {
      "needs_background": "light"
     },
     "output_type": "display_data"
    }
   ],
   "source": [
    "plot_bar_chart(day_show, 'not_showing_up_proportion %', 'bar', 'Day of the Week',\n",
    "               'Number of Patients', 'Number of Patients Not Showing Up for Appointments for Each Day of the Week',\n",
    "               'Day of the Week', 'Number of Patients', 'red')"
   ]
  },
  {
   "cell_type": "markdown",
   "metadata": {},
   "source": [
    "From the above diagram, We can observe that `Saturday` has the `highest percentage of patients not showing up for appointments 23.08%`"
   ]
  },
  {
   "cell_type": "markdown",
   "metadata": {},
   "source": [
    "### Research Question 3\n",
    "### What is the month when the highest number of patients show up for appointments, and which month has the lowest number of patients showing up for appointments?"
   ]
  },
  {
   "cell_type": "code",
   "execution_count": 171,
   "metadata": {
    "ExecuteTime": {
     "end_time": "2023-07-08T17:20:19.695783Z",
     "start_time": "2023-07-08T17:20:19.613407Z"
    }
   },
   "outputs": [
    {
     "data": {
      "text/plain": "     patient_id  appointment_id gender       scheduled_day appointment_day  \\\n0  2.987250e+13         5642903      F 2016-04-29 18:38:08      2016-04-29   \n1  5.589978e+14         5642503      M 2016-04-29 16:08:27      2016-04-29   \n2  4.262962e+12         5642549      F 2016-04-29 16:19:04      2016-04-29   \n3  8.679512e+11         5642828      F 2016-04-29 17:29:31      2016-04-29   \n4  8.841186e+12         5642494      F 2016-04-29 16:07:23      2016-04-29   \n\n  appointment_day_of_week  age      neighbourhood  scholarship  hipertension  \\\n0                  Friday   62    JARDIM DA PENHA            0             1   \n1                  Friday   56    JARDIM DA PENHA            0             0   \n2                  Friday   62      MATA DA PRAIA            0             0   \n3                  Friday    8  PONTAL DE CAMBURI            0             0   \n4                  Friday   56    JARDIM DA PENHA            0             1   \n\n   diabetes  alcoholism  handcap  sms_received no_show  \n0         0           0        0             0      No  \n1         0           0        0             0      No  \n2         0           0        0             0      No  \n3         0           0        0             0      No  \n4         1           0        0             0      No  ",
      "text/html": "<div>\n<style scoped>\n    .dataframe tbody tr th:only-of-type {\n        vertical-align: middle;\n    }\n\n    .dataframe tbody tr th {\n        vertical-align: top;\n    }\n\n    .dataframe thead th {\n        text-align: right;\n    }\n</style>\n<table border=\"1\" class=\"dataframe\">\n  <thead>\n    <tr style=\"text-align: right;\">\n      <th></th>\n      <th>patient_id</th>\n      <th>appointment_id</th>\n      <th>gender</th>\n      <th>scheduled_day</th>\n      <th>appointment_day</th>\n      <th>appointment_day_of_week</th>\n      <th>age</th>\n      <th>neighbourhood</th>\n      <th>scholarship</th>\n      <th>hipertension</th>\n      <th>diabetes</th>\n      <th>alcoholism</th>\n      <th>handcap</th>\n      <th>sms_received</th>\n      <th>no_show</th>\n    </tr>\n  </thead>\n  <tbody>\n    <tr>\n      <th>0</th>\n      <td>2.987250e+13</td>\n      <td>5642903</td>\n      <td>F</td>\n      <td>2016-04-29 18:38:08</td>\n      <td>2016-04-29</td>\n      <td>Friday</td>\n      <td>62</td>\n      <td>JARDIM DA PENHA</td>\n      <td>0</td>\n      <td>1</td>\n      <td>0</td>\n      <td>0</td>\n      <td>0</td>\n      <td>0</td>\n      <td>No</td>\n    </tr>\n    <tr>\n      <th>1</th>\n      <td>5.589978e+14</td>\n      <td>5642503</td>\n      <td>M</td>\n      <td>2016-04-29 16:08:27</td>\n      <td>2016-04-29</td>\n      <td>Friday</td>\n      <td>56</td>\n      <td>JARDIM DA PENHA</td>\n      <td>0</td>\n      <td>0</td>\n      <td>0</td>\n      <td>0</td>\n      <td>0</td>\n      <td>0</td>\n      <td>No</td>\n    </tr>\n    <tr>\n      <th>2</th>\n      <td>4.262962e+12</td>\n      <td>5642549</td>\n      <td>F</td>\n      <td>2016-04-29 16:19:04</td>\n      <td>2016-04-29</td>\n      <td>Friday</td>\n      <td>62</td>\n      <td>MATA DA PRAIA</td>\n      <td>0</td>\n      <td>0</td>\n      <td>0</td>\n      <td>0</td>\n      <td>0</td>\n      <td>0</td>\n      <td>No</td>\n    </tr>\n    <tr>\n      <th>3</th>\n      <td>8.679512e+11</td>\n      <td>5642828</td>\n      <td>F</td>\n      <td>2016-04-29 17:29:31</td>\n      <td>2016-04-29</td>\n      <td>Friday</td>\n      <td>8</td>\n      <td>PONTAL DE CAMBURI</td>\n      <td>0</td>\n      <td>0</td>\n      <td>0</td>\n      <td>0</td>\n      <td>0</td>\n      <td>0</td>\n      <td>No</td>\n    </tr>\n    <tr>\n      <th>4</th>\n      <td>8.841186e+12</td>\n      <td>5642494</td>\n      <td>F</td>\n      <td>2016-04-29 16:07:23</td>\n      <td>2016-04-29</td>\n      <td>Friday</td>\n      <td>56</td>\n      <td>JARDIM DA PENHA</td>\n      <td>0</td>\n      <td>1</td>\n      <td>1</td>\n      <td>0</td>\n      <td>0</td>\n      <td>0</td>\n      <td>No</td>\n    </tr>\n  </tbody>\n</table>\n</div>"
     },
     "execution_count": 171,
     "metadata": {},
     "output_type": "execute_result"
    }
   ],
   "source": [
    "# review the dataset\n",
    "df.head()"
   ]
  },
  {
   "cell_type": "code",
   "execution_count": 172,
   "metadata": {
    "ExecuteTime": {
     "end_time": "2023-07-08T17:20:19.808357Z",
     "start_time": "2023-07-08T17:20:19.613806Z"
    }
   },
   "outputs": [
    {
     "data": {
      "text/plain": "no_show             No    Yes\nappointment_day              \n4                 2602    633\n5                64037  16804\n6                21568   4882",
      "text/html": "<div>\n<style scoped>\n    .dataframe tbody tr th:only-of-type {\n        vertical-align: middle;\n    }\n\n    .dataframe tbody tr th {\n        vertical-align: top;\n    }\n\n    .dataframe thead th {\n        text-align: right;\n    }\n</style>\n<table border=\"1\" class=\"dataframe\">\n  <thead>\n    <tr style=\"text-align: right;\">\n      <th>no_show</th>\n      <th>No</th>\n      <th>Yes</th>\n    </tr>\n    <tr>\n      <th>appointment_day</th>\n      <th></th>\n      <th></th>\n    </tr>\n  </thead>\n  <tbody>\n    <tr>\n      <th>4</th>\n      <td>2602</td>\n      <td>633</td>\n    </tr>\n    <tr>\n      <th>5</th>\n      <td>64037</td>\n      <td>16804</td>\n    </tr>\n    <tr>\n      <th>6</th>\n      <td>21568</td>\n      <td>4882</td>\n    </tr>\n  </tbody>\n</table>\n</div>"
     },
     "execution_count": 172,
     "metadata": {},
     "output_type": "execute_result"
    }
   ],
   "source": [
    "# extract the month from the appointment_day column and group the data by the month\n",
    "month_show = df.groupby([df['appointment_day'].dt.month, 'no_show'])['no_show'].count().unstack()\n",
    "month_show"
   ]
  },
  {
   "cell_type": "code",
   "execution_count": 173,
   "metadata": {
    "ExecuteTime": {
     "end_time": "2023-07-08T17:20:19.808509Z",
     "start_time": "2023-07-08T17:20:19.631183Z"
    }
   },
   "outputs": [
    {
     "data": {
      "text/plain": "no_show     No    Yes\nApril     2602    633\nMay      64037  16804\nJune     21568   4882",
      "text/html": "<div>\n<style scoped>\n    .dataframe tbody tr th:only-of-type {\n        vertical-align: middle;\n    }\n\n    .dataframe tbody tr th {\n        vertical-align: top;\n    }\n\n    .dataframe thead th {\n        text-align: right;\n    }\n</style>\n<table border=\"1\" class=\"dataframe\">\n  <thead>\n    <tr style=\"text-align: right;\">\n      <th>no_show</th>\n      <th>No</th>\n      <th>Yes</th>\n    </tr>\n  </thead>\n  <tbody>\n    <tr>\n      <th>April</th>\n      <td>2602</td>\n      <td>633</td>\n    </tr>\n    <tr>\n      <th>May</th>\n      <td>64037</td>\n      <td>16804</td>\n    </tr>\n    <tr>\n      <th>June</th>\n      <td>21568</td>\n      <td>4882</td>\n    </tr>\n  </tbody>\n</table>\n</div>"
     },
     "execution_count": 173,
     "metadata": {},
     "output_type": "execute_result"
    }
   ],
   "source": [
    "# change the index of the month_show dataframe to be the month name\n",
    "month_show.index = ['April', 'May', 'June']\n",
    "month_show"
   ]
  },
  {
   "cell_type": "markdown",
   "metadata": {},
   "source": [
    "Now we need to find the proportion of patients showing up for appointments for each month."
   ]
  },
  {
   "cell_type": "code",
   "execution_count": 174,
   "metadata": {
    "ExecuteTime": {
     "end_time": "2023-07-08T17:20:19.808601Z",
     "start_time": "2023-07-08T17:20:19.639252Z"
    }
   },
   "outputs": [
    {
     "data": {
      "text/plain": "no_show     No    Yes  showing_up_proportion %  not_showing_up_proportion %\nApril     2602    633                    80.43                        19.57\nMay      64037  16804                    79.21                        20.79\nJune     21568   4882                    81.54                        18.46",
      "text/html": "<div>\n<style scoped>\n    .dataframe tbody tr th:only-of-type {\n        vertical-align: middle;\n    }\n\n    .dataframe tbody tr th {\n        vertical-align: top;\n    }\n\n    .dataframe thead th {\n        text-align: right;\n    }\n</style>\n<table border=\"1\" class=\"dataframe\">\n  <thead>\n    <tr style=\"text-align: right;\">\n      <th>no_show</th>\n      <th>No</th>\n      <th>Yes</th>\n      <th>showing_up_proportion %</th>\n      <th>not_showing_up_proportion %</th>\n    </tr>\n  </thead>\n  <tbody>\n    <tr>\n      <th>April</th>\n      <td>2602</td>\n      <td>633</td>\n      <td>80.43</td>\n      <td>19.57</td>\n    </tr>\n    <tr>\n      <th>May</th>\n      <td>64037</td>\n      <td>16804</td>\n      <td>79.21</td>\n      <td>20.79</td>\n    </tr>\n    <tr>\n      <th>June</th>\n      <td>21568</td>\n      <td>4882</td>\n      <td>81.54</td>\n      <td>18.46</td>\n    </tr>\n  </tbody>\n</table>\n</div>"
     },
     "execution_count": 174,
     "metadata": {},
     "output_type": "execute_result"
    }
   ],
   "source": [
    "# proportion of patients showing up for appointments for each month\n",
    "month_show['showing_up_proportion %'] = round((month_show['No'] / (month_show['No'] + month_show['Yes']) * 100), 2)\n",
    "month_show['not_showing_up_proportion %'] = round((month_show['Yes'] / (month_show['No'] + month_show['Yes']) * 100), 2)\n",
    "\n",
    "month_show"
   ]
  },
  {
   "cell_type": "markdown",
   "metadata": {},
   "source": [
    "Now we will sort the value of showing up to find the month with the `highest number of patients showing up for appointments`"
   ]
  },
  {
   "cell_type": "code",
   "execution_count": 175,
   "metadata": {
    "ExecuteTime": {
     "end_time": "2023-07-08T17:20:19.808673Z",
     "start_time": "2023-07-08T17:20:19.642969Z"
    }
   },
   "outputs": [
    {
     "data": {
      "text/plain": "no_show     No    Yes  showing_up_proportion %  not_showing_up_proportion %\nJune     21568   4882                    81.54                        18.46\nApril     2602    633                    80.43                        19.57\nMay      64037  16804                    79.21                        20.79",
      "text/html": "<div>\n<style scoped>\n    .dataframe tbody tr th:only-of-type {\n        vertical-align: middle;\n    }\n\n    .dataframe tbody tr th {\n        vertical-align: top;\n    }\n\n    .dataframe thead th {\n        text-align: right;\n    }\n</style>\n<table border=\"1\" class=\"dataframe\">\n  <thead>\n    <tr style=\"text-align: right;\">\n      <th>no_show</th>\n      <th>No</th>\n      <th>Yes</th>\n      <th>showing_up_proportion %</th>\n      <th>not_showing_up_proportion %</th>\n    </tr>\n  </thead>\n  <tbody>\n    <tr>\n      <th>June</th>\n      <td>21568</td>\n      <td>4882</td>\n      <td>81.54</td>\n      <td>18.46</td>\n    </tr>\n    <tr>\n      <th>April</th>\n      <td>2602</td>\n      <td>633</td>\n      <td>80.43</td>\n      <td>19.57</td>\n    </tr>\n    <tr>\n      <th>May</th>\n      <td>64037</td>\n      <td>16804</td>\n      <td>79.21</td>\n      <td>20.79</td>\n    </tr>\n  </tbody>\n</table>\n</div>"
     },
     "execution_count": 175,
     "metadata": {},
     "output_type": "execute_result"
    }
   ],
   "source": [
    "month_show.sort_values(by=['showing_up_proportion %'], ascending=False)"
   ]
  },
  {
   "cell_type": "code",
   "execution_count": 176,
   "metadata": {
    "ExecuteTime": {
     "end_time": "2023-07-08T17:20:19.812542Z",
     "start_time": "2023-07-08T17:20:19.652706Z"
    }
   },
   "outputs": [
    {
     "data": {
      "text/plain": "<Figure size 576x432 with 1 Axes>",
      "image/png": "[encoded data removed]"
     },
     "metadata": {
      "needs_background": "light"
     },
     "output_type": "display_data"
    }
   ],
   "source": [
    "plot_bar_chart(month_show, 'showing_up_proportion %', 'bar', 'Month',\n",
    "               'Number of Patients', 'Number of Patients Showing Up for Appointments for Each Month',\n",
    "               'Month', 'Number of Patients', 'blue')"
   ]
  },
  {
   "cell_type": "markdown",
   "metadata": {},
   "source": [
    "From the above diagram, We can observe that `June` has the `highest percentage of patients showing up for appointments 81.54%`"
   ]
  },
  {
   "cell_type": "markdown",
   "metadata": {},
   "source": [
    "Now we will sort the value of not showing up to find the month with the `lowest number of patients showing up for appointments`"
   ]
  },
  {
   "cell_type": "code",
   "execution_count": 177,
   "metadata": {
    "ExecuteTime": {
     "end_time": "2023-07-08T17:20:19.812678Z",
     "start_time": "2023-07-08T17:20:19.721205Z"
    }
   },
   "outputs": [
    {
     "data": {
      "text/plain": "no_show     No    Yes  showing_up_proportion %  not_showing_up_proportion %\nMay      64037  16804                    79.21                        20.79\nApril     2602    633                    80.43                        19.57\nJune     21568   4882                    81.54                        18.46",
      "text/html": "<div>\n<style scoped>\n    .dataframe tbody tr th:only-of-type {\n        vertical-align: middle;\n    }\n\n    .dataframe tbody tr th {\n        vertical-align: top;\n    }\n\n    .dataframe thead th {\n        text-align: right;\n    }\n</style>\n<table border=\"1\" class=\"dataframe\">\n  <thead>\n    <tr style=\"text-align: right;\">\n      <th>no_show</th>\n      <th>No</th>\n      <th>Yes</th>\n      <th>showing_up_proportion %</th>\n      <th>not_showing_up_proportion %</th>\n    </tr>\n  </thead>\n  <tbody>\n    <tr>\n      <th>May</th>\n      <td>64037</td>\n      <td>16804</td>\n      <td>79.21</td>\n      <td>20.79</td>\n    </tr>\n    <tr>\n      <th>April</th>\n      <td>2602</td>\n      <td>633</td>\n      <td>80.43</td>\n      <td>19.57</td>\n    </tr>\n    <tr>\n      <th>June</th>\n      <td>21568</td>\n      <td>4882</td>\n      <td>81.54</td>\n      <td>18.46</td>\n    </tr>\n  </tbody>\n</table>\n</div>"
     },
     "execution_count": 177,
     "metadata": {},
     "output_type": "execute_result"
    }
   ],
   "source": [
    "month_show.sort_values(by=['not_showing_up_proportion %'], ascending=False)"
   ]
  },
  {
   "cell_type": "code",
   "execution_count": 178,
   "metadata": {
    "ExecuteTime": {
     "end_time": "2023-07-08T17:20:19.835602Z",
     "start_time": "2023-07-08T17:20:19.728704Z"
    }
   },
   "outputs": [
    {
     "data": {
      "text/plain": "<Figure size 576x432 with 1 Axes>",
      "image/png": "[encoded data removed]"
     },
     "metadata": {
      "needs_background": "light"
     },
     "output_type": "display_data"
    }
   ],
   "source": [
    "plot_bar_chart(month_show, 'not_showing_up_proportion %', 'bar', 'Month',\n",
    "               'Number of Patients', 'Number of Patients Not Showing Up for Appointments for Each Month',\n",
    "               'Month', 'Number of Patients', 'red')"
   ]
  },
  {
   "cell_type": "markdown",
   "metadata": {},
   "source": [
    "From the above diagram, We can observe that `May` has the `highest percentage of patients not showing up for appointments 20.79%`"
   ]
  },
  {
   "cell_type": "markdown",
   "metadata": {},
   "source": [
    "<a id='conclusions'></a>\n",
    "# Conclusion"
   ]
  },
  {
   "cell_type": "markdown",
   "source": [
    "### Findings:\n",
    "> 1. `old adults` have the `highest percentage` of `showing up` at the appointment `84.69% of showing up at the appointment`\n",
    "> 2. `young adults` have the `highest percentage` of `not showing up` at the appointment `24.65% of showing up at the appointment`\n",
    "> 3. `Thursday` has the `highest percentage` of patients `showing up` for appointments `80.65%`\n",
    "  > 4. `Saturday` has the `highest percentage` of patients `not showing up` for appointments `23.08%`\n",
    "   > 5. `June` has the `highest percentage` of patients `showing up` for appointments `81.54%`\n",
    "   > 6. `May` has the `highest percentage` of patients `not showing up` for appointments `20.79%`"
   ],
   "metadata": {
    "collapsed": false
   }
  },
  {
   "cell_type": "markdown",
   "source": [
    "### Limitations:\n",
    "   1. The dataset doesn't have a lot of information about the appointment, as a result we can't make a lot of analysis, and we can't find the reason why the patients are not showing up for appointments.\n",
    "        > Example of missing information such as:\n",
    "      > 1. Which clinic is the appointment in.\n",
    "      > 2. Which hospital is the appointment in.\n",
    "\n",
    "    2. Regarding SMS messages, the time of sending the SMS message is not mentioned in the dataset, so we can't judge that SMS messages is consider as reason for not showing up for appointments.\n"
   ],
   "metadata": {
    "collapsed": false
   }
  }
 ],
 "metadata": {
  "kernelspec": {
   "display_name": "Python 3 (ipykernel)",
   "language": "python",
   "name": "python3"
  },
  "language_info": {
   "codemirror_mode": {
    "name": "ipython",
    "version": 3
   },
   "file_extension": ".py",
   "mimetype": "text/x-python",
   "name": "python",
   "nbconvert_exporter": "python",
   "pygments_lexer": "ipython3",
   "version": "3.9.12"
  }
 },
 "nbformat": 4,
 "nbformat_minor": 2
}
