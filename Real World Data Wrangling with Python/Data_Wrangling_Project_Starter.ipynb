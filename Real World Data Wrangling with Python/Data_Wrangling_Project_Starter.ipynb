{
 "cells": [
  {
   "cell_type": "markdown",
   "metadata": {
    "id": "GNIwe5N7s0e_"
   },
   "source": [
    "# Real-world Data Wrangling"
   ]
  },
  {
   "cell_type": "markdown",
   "metadata": {
    "id": "_BG63Tpg8ep_"
   },
   "source": [
    "In this project, you will apply the skills you acquired in the course to gather and wrangle real-world data with two datasets of your choice.\n",
    "\n",
    "You will retrieve and extract the data, assess the data programmatically and visually, accross elements of data quality and structure, and implement a cleaning strategy for the data. You will then store the updated data into your selected database/data store, combine the data, and answer a research question with the datasets.\n",
    "\n",
    "Throughout the process, you are expected to:\n",
    "\n",
    "1. Explain your decisions towards methods used for gathering, assessing, cleaning, storing, and answering the research question\n",
    "2. Write code comments so your code is more readable"
   ]
  },
  {
   "cell_type": "markdown",
   "metadata": {
    "id": "lDYDkH-Zs7Nn"
   },
   "source": [
    "## 1. Gather data\n",
    "\n",
    "In this section, you will extract data using two different data gathering methods and combine the data. Use at least two different types of data-gathering methods."
   ]
  },
  {
   "cell_type": "markdown",
   "metadata": {
    "id": "LbN7z7rcuqpO"
   },
   "source": [
    "### **1.1.** Problem Statement\n",
    "In 2-4 sentences, explain the kind of problem you want to look at and the datasets you will be wrangling for this project."
   ]
  },
  {
   "cell_type": "markdown",
   "metadata": {
    "id": "gi6swhjSYqu2"
   },
   "source": [
    "*Answer:*\n",
    "I will be investigating patterns and trends in real estate sales in Connecticut with a focus on understanding the relationship between property types, sales prices, and property assessments. The dataset I will be working with consists of records of real estate sales with a sales price of $2,000 or greater, occurring annually between October 1 and September 30. Each record includes information such as town, property address, sale date, property type (residential, apartment, commercial, industrial, vacant land), sales price, and property assessment. This analysis aims to uncover insights into property market dynamics and assess the accuracy of property assessments relative to sales prices within the given time frame, using data collected in accordance with Connecticut General Statutes.\n",
    "\n",
    "#### Research Question: What is the property type that has the highest sale ratio (highest profitable property type)?"
   ]
  },
  {
   "cell_type": "markdown",
   "metadata": {
    "id": "8AQfBAdUypMm"
   },
   "source": [
    "### **1.2.** Gather at least two datasets using two different data gathering methods\n",
    "\n",
    "List of data gathering methods:\n",
    "\n",
    "- Download data manually\n",
    "- Programmatically downloading files\n",
    "- Gather data by accessing APIs\n",
    "- Gather and extract data from HTML files using BeautifulSoup\n",
    "- Extract data from a SQL database\n",
    "\n",
    "Each dataset must have at least two variables, and have greater than 500 data samples within each dataset.\n",
    "\n",
    "For each dataset, briefly describe why you picked the dataset and the gathering method (2-3 full sentences), including the names and significance of the variables in the dataset. Show your work (e.g., if using an API to download the data, please include a snippet of your code). \n",
    "\n",
    "Load the dataset programmatically into this notebook."
   ]
  },
  {
   "cell_type": "markdown",
   "metadata": {
    "id": "7e6gS0wL1KTu"
   },
   "source": [
    "#### **Dataset 1**\n",
    "\n",
    "Type: *CSV File*\n",
    "\n",
    "Method: *The data was gathered using the \"Downloading files\" method from [U.S. General Services Administration source](https://catalog.data.gov/dataset/real-estate-sales-2001-2018).*\n",
    "\n",
    "Dataset variables:\n",
    "\n",
    "*   *Serial Number:* A unique number assigned to each property sold in a calendar year for uniformity purposes\n",
    "*   *List Year:* Year the property was listed for sale\n",
    "*   *Date Recorded:* Date the sale was recorded locally\n",
    "*   *Town:* Town name\n",
    "*   *Address:* Address of the property\n",
    "*   *Assessed Value:* Value of the property used for local tax assessment\n",
    "*   *Sale Amount:* Amount the property was sold for\n",
    "*   *Sales Ratio:* Ratio of the sale price to the assessed value (Sale Amount divided by Assessed Value)\n",
    "*   *Property Type:* Type of property including Residential, Commercial, Industrial, Apartments, Vacant, etc\n",
    "*   *Residential Type:* Indicates whether property is single or multifamily residential\n",
    "*   *NonUse Code:* Non-usable sale code typically means the sale price is not reliable for use in the determination of a property value. [See this pdf file for more information](https://data.ct.gov/api/views/5mzw-sjtu/files/21e4d34e-1117-43dd-a16e-06d9677ecb3f?download=true&filename=Non%20Usable%20Codes.pdf)\n",
    "*   *Assessor Remarks:* Remarks from the assessor\n",
    "*   *OPM remarks:* Remarks from the Office of Policy and Management\n",
    "*   *Location:* Latitude and longitude coordinates of the property"
   ]
  },
  {
   "cell_type": "code",
   "execution_count": 1,
   "metadata": {
    "id": "Su8E0uLuYkHU",
    "ExecuteTime": {
     "end_time": "2023-08-17T21:16:20.243286Z",
     "start_time": "2023-08-17T21:16:18.394680Z"
    }
   },
   "outputs": [
    {
     "name": "stderr",
     "output_type": "stream",
     "text": [
      "/var/folders/p4/zzt9glrd7n702xpzdmwyb59r0000gn/T/ipykernel_1379/1044061593.py:8: DtypeWarning: Columns (8,9,10,11,12) have mixed types. Specify dtype option on import or set low_memory=False.\n",
      "  df_csv = pd.read_csv('Data/Real_Estate_Sales_2001-2020_GL.csv')\n"
     ]
    },
    {
     "data": {
      "text/plain": "   Serial Number  List Year Date Recorded     Town          Address  \\\n0        2020177       2020    04/14/2021  Ansonia    323 BEAVER ST   \n1        2020225       2020    05/26/2021  Ansonia   152 JACKSON ST   \n2        2020348       2020    09/13/2021  Ansonia  230 WAKELEE AVE   \n3        2020090       2020    12/14/2020  Ansonia      57 PLATT ST   \n4         200500       2020    09/07/2021     Avon     245 NEW ROAD   \n\n   Assessed Value  Sale Amount  Sales Ratio Property Type Residential Type  \\\n0        133000.0     248400.0       0.5354   Residential    Single Family   \n1        110500.0     239900.0       0.4606   Residential     Three Family   \n2        150500.0     325000.0       0.4630    Commercial              NaN   \n3        127400.0     202500.0       0.6291   Residential       Two Family   \n4        217640.0     400000.0       0.5441   Residential    Single Family   \n\n  Non Use Code Assessor Remarks OPM remarks                    Location  \n0          NaN              NaN         NaN  POINT (-73.06822 41.35014)  \n1          NaN              NaN         NaN                         NaN  \n2          NaN              NaN         NaN                         NaN  \n3          NaN              NaN         NaN                         NaN  \n4          NaN              NaN         NaN                         NaN  ",
      "text/html": "<div>\n<style scoped>\n    .dataframe tbody tr th:only-of-type {\n        vertical-align: middle;\n    }\n\n    .dataframe tbody tr th {\n        vertical-align: top;\n    }\n\n    .dataframe thead th {\n        text-align: right;\n    }\n</style>\n<table border=\"1\" class=\"dataframe\">\n  <thead>\n    <tr style=\"text-align: right;\">\n      <th></th>\n      <th>Serial Number</th>\n      <th>List Year</th>\n      <th>Date Recorded</th>\n      <th>Town</th>\n      <th>Address</th>\n      <th>Assessed Value</th>\n      <th>Sale Amount</th>\n      <th>Sales Ratio</th>\n      <th>Property Type</th>\n      <th>Residential Type</th>\n      <th>Non Use Code</th>\n      <th>Assessor Remarks</th>\n      <th>OPM remarks</th>\n      <th>Location</th>\n    </tr>\n  </thead>\n  <tbody>\n    <tr>\n      <th>0</th>\n      <td>2020177</td>\n      <td>2020</td>\n      <td>04/14/2021</td>\n      <td>Ansonia</td>\n      <td>323 BEAVER ST</td>\n      <td>133000.0</td>\n      <td>248400.0</td>\n      <td>0.5354</td>\n      <td>Residential</td>\n      <td>Single Family</td>\n      <td>NaN</td>\n      <td>NaN</td>\n      <td>NaN</td>\n      <td>POINT (-73.06822 41.35014)</td>\n    </tr>\n    <tr>\n      <th>1</th>\n      <td>2020225</td>\n      <td>2020</td>\n      <td>05/26/2021</td>\n      <td>Ansonia</td>\n      <td>152 JACKSON ST</td>\n      <td>110500.0</td>\n      <td>239900.0</td>\n      <td>0.4606</td>\n      <td>Residential</td>\n      <td>Three Family</td>\n      <td>NaN</td>\n      <td>NaN</td>\n      <td>NaN</td>\n      <td>NaN</td>\n    </tr>\n    <tr>\n      <th>2</th>\n      <td>2020348</td>\n      <td>2020</td>\n      <td>09/13/2021</td>\n      <td>Ansonia</td>\n      <td>230 WAKELEE AVE</td>\n      <td>150500.0</td>\n      <td>325000.0</td>\n      <td>0.4630</td>\n      <td>Commercial</td>\n      <td>NaN</td>\n      <td>NaN</td>\n      <td>NaN</td>\n      <td>NaN</td>\n      <td>NaN</td>\n    </tr>\n    <tr>\n      <th>3</th>\n      <td>2020090</td>\n      <td>2020</td>\n      <td>12/14/2020</td>\n      <td>Ansonia</td>\n      <td>57 PLATT ST</td>\n      <td>127400.0</td>\n      <td>202500.0</td>\n      <td>0.6291</td>\n      <td>Residential</td>\n      <td>Two Family</td>\n      <td>NaN</td>\n      <td>NaN</td>\n      <td>NaN</td>\n      <td>NaN</td>\n    </tr>\n    <tr>\n      <th>4</th>\n      <td>200500</td>\n      <td>2020</td>\n      <td>09/07/2021</td>\n      <td>Avon</td>\n      <td>245 NEW ROAD</td>\n      <td>217640.0</td>\n      <td>400000.0</td>\n      <td>0.5441</td>\n      <td>Residential</td>\n      <td>Single Family</td>\n      <td>NaN</td>\n      <td>NaN</td>\n      <td>NaN</td>\n      <td>NaN</td>\n    </tr>\n  </tbody>\n</table>\n</div>"
     },
     "execution_count": 1,
     "metadata": {},
     "output_type": "execute_result"
    }
   ],
   "source": [
    "#FILL IN 1st data gathering and loading method\n",
    "import pandas as pd\n",
    "import numpy as np\n",
    "import matplotlib.pyplot as plt\n",
    "%matplotlib inline\n",
    "import seaborn as sns\n",
    "\n",
    "df_csv = pd.read_csv('Data/Real_Estate_Sales_2001-2020_GL.csv')\n",
    "\n",
    "# Make a copy of the original dataframe to work with\n",
    "df_csv_copy = df_csv.copy()\n",
    "\n",
    "# Take a look at the first few rows of the dataset\n",
    "df_csv_copy.head()"
   ]
  },
  {
   "cell_type": "markdown",
   "metadata": {
    "id": "hoUjq1tPzz7P"
   },
   "source": [
    "#### Dataset 2\n",
    "\n",
    "Type: *API*\n",
    "\n",
    "Method: *The data was gathered using the \"API\" method from [this API URl](https://data.ct.gov/Housing-and-Development/Real-Estate-Sales-2001-2020-GL/5mzw-sjtu) source.*\n",
    "\n",
    "Dataset variables:\n",
    "\n",
    "\n",
    "*   *serialnumber:* A unique number assigned to each property sold in a calendar year for uniformity purposes\n",
    "*   *listyear:* Year the property was listed for sale\n",
    "*   *daterecorded:* Date the sale was recorded locally\n",
    "*   *town:* Town name\n",
    "*   *address:* Address of the property\n",
    "*   *assessedvalue:* Value of the property used for local tax assessment\n",
    "*   *saleamount:* Amount the property was sold for\n",
    "*   *salesratio:* Ratio of the sale price to the assessed value (Sale Amount divided by Assessed Value)\n",
    "*   *propertytype:* Type of property including Residential, Commercial, Industrial, Apartments, Vacant, etc\n",
    "*   *residentialtype:* Indicates whether property is single or multifamily residential\n",
    "*   *nonusecode:* Non-usable sale code typically means the sale price is not reliable for use in the determination of a property value. [See this pdf file for more information](https://data.ct.gov/api/views/5mzw-sjtu/files/21e4d34e-1117-43dd-a16e-06d9677ecb3f?download=true&filename=Non%20Usable%20Codes.pdf)\n",
    "*   *remarks:* Remarks from the assessor\n",
    "*   *opm_remarks:* Remarks from the Office of Policy and Management\n",
    "*   *geo_coordinates:* Latitude and longitude coordinates of the property"
   ]
  },
  {
   "cell_type": "code",
   "execution_count": 2,
   "metadata": {
    "id": "6zT0QxRyYmm7",
    "ExecuteTime": {
     "end_time": "2023-08-17T21:16:22.721637Z",
     "start_time": "2023-08-17T21:16:20.229645Z"
    }
   },
   "outputs": [
    {
     "data": {
      "text/plain": "  serialnumber listyear             daterecorded     town  \\\n0        20001     2020  2020-10-05T00:00:00.000  Andover   \n1        20002     2020  2020-10-15T00:00:00.000  Andover   \n2        20003     2020  2020-10-22T00:00:00.000  Andover   \n3        20004     2020  2020-11-02T00:00:00.000  Andover   \n\n               address assessedvalue saleamount   salesratio propertytype  \\\n0          303 LAKE RD        121300     210000       0.5776  Residential   \n1       78 WINDRUSH LN        181800     275000  0.661090909  Residential   \n2   203 BOSTON HILL RD        190200     279900       0.6795  Residential   \n3  23 PARKER BRIDGE RD        172900     272000       0.6356  Residential   \n\n  residentialtype                                    geo_coordinates  \\\n0   Single Family  {'type': 'Point', 'coordinates': [-72.35327, 4...   \n1   Single Family                                                NaN   \n2   Single Family  {'type': 'Point', 'coordinates': [-72.39695, 4...   \n3   Single Family  {'type': 'Point', 'coordinates': [-72.33558, 4...   \n\n  :@computed_region_dam5_q64j :@computed_region_nhmp_cq6b  \\\n0                          38                         246   \n1                         NaN                         NaN   \n2                          38                         246   \n3                          38                         246   \n\n  :@computed_region_m4y2_whse :@computed_region_snd5_k6zv nonusecode remarks  \\\n0                           1                           1        NaN     NaN   \n1                         NaN                         NaN        NaN     NaN   \n2                           1                           1        NaN     NaN   \n3                           1                           1        NaN     NaN   \n\n  opm_remarks  \n0         NaN  \n1         NaN  \n2         NaN  \n3         NaN  ",
      "text/html": "<div>\n<style scoped>\n    .dataframe tbody tr th:only-of-type {\n        vertical-align: middle;\n    }\n\n    .dataframe tbody tr th {\n        vertical-align: top;\n    }\n\n    .dataframe thead th {\n        text-align: right;\n    }\n</style>\n<table border=\"1\" class=\"dataframe\">\n  <thead>\n    <tr style=\"text-align: right;\">\n      <th></th>\n      <th>serialnumber</th>\n      <th>listyear</th>\n      <th>daterecorded</th>\n      <th>town</th>\n      <th>address</th>\n      <th>assessedvalue</th>\n      <th>saleamount</th>\n      <th>salesratio</th>\n      <th>propertytype</th>\n      <th>residentialtype</th>\n      <th>geo_coordinates</th>\n      <th>:@computed_region_dam5_q64j</th>\n      <th>:@computed_region_nhmp_cq6b</th>\n      <th>:@computed_region_m4y2_whse</th>\n      <th>:@computed_region_snd5_k6zv</th>\n      <th>nonusecode</th>\n      <th>remarks</th>\n      <th>opm_remarks</th>\n    </tr>\n  </thead>\n  <tbody>\n    <tr>\n      <th>0</th>\n      <td>20001</td>\n      <td>2020</td>\n      <td>2020-10-05T00:00:00.000</td>\n      <td>Andover</td>\n      <td>303 LAKE RD</td>\n      <td>121300</td>\n      <td>210000</td>\n      <td>0.5776</td>\n      <td>Residential</td>\n      <td>Single Family</td>\n      <td>{'type': 'Point', 'coordinates': [-72.35327, 4...</td>\n      <td>38</td>\n      <td>246</td>\n      <td>1</td>\n      <td>1</td>\n      <td>NaN</td>\n      <td>NaN</td>\n      <td>NaN</td>\n    </tr>\n    <tr>\n      <th>1</th>\n      <td>20002</td>\n      <td>2020</td>\n      <td>2020-10-15T00:00:00.000</td>\n      <td>Andover</td>\n      <td>78 WINDRUSH LN</td>\n      <td>181800</td>\n      <td>275000</td>\n      <td>0.661090909</td>\n      <td>Residential</td>\n      <td>Single Family</td>\n      <td>NaN</td>\n      <td>NaN</td>\n      <td>NaN</td>\n      <td>NaN</td>\n      <td>NaN</td>\n      <td>NaN</td>\n      <td>NaN</td>\n      <td>NaN</td>\n    </tr>\n    <tr>\n      <th>2</th>\n      <td>20003</td>\n      <td>2020</td>\n      <td>2020-10-22T00:00:00.000</td>\n      <td>Andover</td>\n      <td>203 BOSTON HILL RD</td>\n      <td>190200</td>\n      <td>279900</td>\n      <td>0.6795</td>\n      <td>Residential</td>\n      <td>Single Family</td>\n      <td>{'type': 'Point', 'coordinates': [-72.39695, 4...</td>\n      <td>38</td>\n      <td>246</td>\n      <td>1</td>\n      <td>1</td>\n      <td>NaN</td>\n      <td>NaN</td>\n      <td>NaN</td>\n    </tr>\n    <tr>\n      <th>3</th>\n      <td>20004</td>\n      <td>2020</td>\n      <td>2020-11-02T00:00:00.000</td>\n      <td>Andover</td>\n      <td>23 PARKER BRIDGE RD</td>\n      <td>172900</td>\n      <td>272000</td>\n      <td>0.6356</td>\n      <td>Residential</td>\n      <td>Single Family</td>\n      <td>{'type': 'Point', 'coordinates': [-72.33558, 4...</td>\n      <td>38</td>\n      <td>246</td>\n      <td>1</td>\n      <td>1</td>\n      <td>NaN</td>\n      <td>NaN</td>\n      <td>NaN</td>\n    </tr>\n  </tbody>\n</table>\n</div>"
     },
     "execution_count": 2,
     "metadata": {},
     "output_type": "execute_result"
    }
   ],
   "source": [
    "#FILL IN 2nd data gathering and loading method\n",
    "import requests as rq\n",
    "import json\n",
    "\n",
    "df_api = rq.get('https://data.ct.gov/resource/5mzw-sjtu.json').json()\n",
    "\n",
    "# Make a copy of the original dataframe to work with\n",
    "df_api_copy = df_api.copy()\n",
    "\n",
    "# Convert the processed data into a DataFrame\n",
    "df_api_copy = pd.DataFrame.from_records(df_api)\n",
    "\n",
    "# Take a look at the first few rows of the dataset\n",
    "df_api_copy[0:4]"
   ]
  },
  {
   "cell_type": "markdown",
   "metadata": {},
   "source": [
    "Optional data storing step: You may save your raw dataset files to the local data store before moving to the next step."
   ]
  },
  {
   "cell_type": "code",
   "execution_count": 3,
   "metadata": {
    "ExecuteTime": {
     "end_time": "2023-08-17T21:16:22.724424Z",
     "start_time": "2023-08-17T21:16:22.722682Z"
    }
   },
   "outputs": [],
   "source": [
    "#Optional: store the raw data in your local data store"
   ]
  },
  {
   "cell_type": "markdown",
   "metadata": {
    "id": "QwSWIVmotLgV"
   },
   "source": [
    "## 2. Assess data\n",
    "\n",
    "Assess the data according to data quality and tidiness metrics using the report below.\n",
    "\n",
    "List **two** data quality issues and **two** tidiness issues. Assess each data issue visually **and** programmatically, then briefly describe the issue you find.  **Make sure you include justifications for the methods you use for the assessment.**\n",
    "\n",
    "## 3. Clean data\n",
    "Clean the data to solve the 4 issues corresponding to data quality and tidiness found in the assessing step. **Make sure you include justifications for your cleaning decisions.**\n",
    "\n",
    "After the cleaning for each issue, please use **either** the visually or programmatically method to validate the cleaning was successful.\n",
    "\n",
    "At this stage, you are also expected to remove variables that are unnecessary for your analysis and combine your datasets. Depending on your datasets, you may choose to perform variable combination and elimination before or after the cleaning stage. Your dataset must have **at least** 4 variables after combining the data.\n",
    "\n",
    "\n",
    "# In the following cells, I combine the assessing and cleaning phases for each issue.\n",
    " The following order has been followed for each issue:\n",
    " - identify the issue\n",
    "   - assess the issue visually and programmatically\n",
    "     - clean the issue\n",
    "       - validate and update the cleaning\n"
   ]
  },
  {
   "cell_type": "markdown",
   "metadata": {},
   "source": [
    "# Assess and Clean dataset from the CSV file"
   ]
  },
  {
   "cell_type": "markdown",
   "metadata": {},
   "source": [
    "### Assess the data visually"
   ]
  },
  {
   "cell_type": "code",
   "execution_count": 4,
   "metadata": {
    "ExecuteTime": {
     "end_time": "2023-08-17T21:16:22.735005Z",
     "start_time": "2023-08-17T21:16:22.731388Z"
    }
   },
   "outputs": [
    {
     "data": {
      "text/plain": "   Serial Number  List Year Date Recorded          Town           Address  \\\n0        2020177       2020    04/14/2021       Ansonia     323 BEAVER ST   \n1        2020225       2020    05/26/2021       Ansonia    152 JACKSON ST   \n2        2020348       2020    09/13/2021       Ansonia   230 WAKELEE AVE   \n3        2020090       2020    12/14/2020       Ansonia       57 PLATT ST   \n4         200500       2020    09/07/2021          Avon      245 NEW ROAD   \n5         200121       2020    12/15/2020          Avon      63 NORTHGATE   \n6          20058       2020    06/01/2021   Barkhamsted  46 RATLUM MTN RD   \n7         200046       2020    01/25/2021  Beacon Falls     34 LASKY ROAD   \n8         200016       2020    11/13/2020  Beacon Falls      9 AVON COURT   \n9        2020360       2020    08/10/2021        Berlin   94 PERCIVAL AVE   \n\n   Assessed Value  Sale Amount  Sales Ratio Property Type Residential Type  \\\n0        133000.0     248400.0     0.535400   Residential    Single Family   \n1        110500.0     239900.0     0.460600   Residential     Three Family   \n2        150500.0     325000.0     0.463000    Commercial              NaN   \n3        127400.0     202500.0     0.629100   Residential       Two Family   \n4        217640.0     400000.0     0.544100   Residential    Single Family   \n5        528490.0     775000.0     0.681900   Residential    Single Family   \n6        203530.0     415000.0     0.490434   Residential    Single Family   \n7        158030.0     243000.0     0.650300   Residential    Single Family   \n8         65590.0     100000.0     0.655900   Residential            Condo   \n9        140600.0     190790.0     0.736900   Residential    Single Family   \n\n  Non Use Code                   Assessor Remarks OPM remarks  \\\n0          NaN                                NaN         NaN   \n1          NaN                                NaN         NaN   \n2          NaN                                NaN         NaN   \n3          NaN                                NaN         NaN   \n4          NaN                                NaN         NaN   \n5          NaN                                NaN         NaN   \n6          NaN  2003 COLONIAL, 2140 SFLA, 2.99 AC         NaN   \n7          NaN                                NaN         NaN   \n8          NaN                                NaN         NaN   \n9          NaN                                NaN         NaN   \n\n                     Location  \n0  POINT (-73.06822 41.35014)  \n1                         NaN  \n2                         NaN  \n3                         NaN  \n4                         NaN  \n5  POINT (-72.89675 41.79445)  \n6                         NaN  \n7                         NaN  \n8                         NaN  \n9                         NaN  ",
      "text/html": "<div>\n<style scoped>\n    .dataframe tbody tr th:only-of-type {\n        vertical-align: middle;\n    }\n\n    .dataframe tbody tr th {\n        vertical-align: top;\n    }\n\n    .dataframe thead th {\n        text-align: right;\n    }\n</style>\n<table border=\"1\" class=\"dataframe\">\n  <thead>\n    <tr style=\"text-align: right;\">\n      <th></th>\n      <th>Serial Number</th>\n      <th>List Year</th>\n      <th>Date Recorded</th>\n      <th>Town</th>\n      <th>Address</th>\n      <th>Assessed Value</th>\n      <th>Sale Amount</th>\n      <th>Sales Ratio</th>\n      <th>Property Type</th>\n      <th>Residential Type</th>\n      <th>Non Use Code</th>\n      <th>Assessor Remarks</th>\n      <th>OPM remarks</th>\n      <th>Location</th>\n    </tr>\n  </thead>\n  <tbody>\n    <tr>\n      <th>0</th>\n      <td>2020177</td>\n      <td>2020</td>\n      <td>04/14/2021</td>\n      <td>Ansonia</td>\n      <td>323 BEAVER ST</td>\n      <td>133000.0</td>\n      <td>248400.0</td>\n      <td>0.535400</td>\n      <td>Residential</td>\n      <td>Single Family</td>\n      <td>NaN</td>\n      <td>NaN</td>\n      <td>NaN</td>\n      <td>POINT (-73.06822 41.35014)</td>\n    </tr>\n    <tr>\n      <th>1</th>\n      <td>2020225</td>\n      <td>2020</td>\n      <td>05/26/2021</td>\n      <td>Ansonia</td>\n      <td>152 JACKSON ST</td>\n      <td>110500.0</td>\n      <td>239900.0</td>\n      <td>0.460600</td>\n      <td>Residential</td>\n      <td>Three Family</td>\n      <td>NaN</td>\n      <td>NaN</td>\n      <td>NaN</td>\n      <td>NaN</td>\n    </tr>\n    <tr>\n      <th>2</th>\n      <td>2020348</td>\n      <td>2020</td>\n      <td>09/13/2021</td>\n      <td>Ansonia</td>\n      <td>230 WAKELEE AVE</td>\n      <td>150500.0</td>\n      <td>325000.0</td>\n      <td>0.463000</td>\n      <td>Commercial</td>\n      <td>NaN</td>\n      <td>NaN</td>\n      <td>NaN</td>\n      <td>NaN</td>\n      <td>NaN</td>\n    </tr>\n    <tr>\n      <th>3</th>\n      <td>2020090</td>\n      <td>2020</td>\n      <td>12/14/2020</td>\n      <td>Ansonia</td>\n      <td>57 PLATT ST</td>\n      <td>127400.0</td>\n      <td>202500.0</td>\n      <td>0.629100</td>\n      <td>Residential</td>\n      <td>Two Family</td>\n      <td>NaN</td>\n      <td>NaN</td>\n      <td>NaN</td>\n      <td>NaN</td>\n    </tr>\n    <tr>\n      <th>4</th>\n      <td>200500</td>\n      <td>2020</td>\n      <td>09/07/2021</td>\n      <td>Avon</td>\n      <td>245 NEW ROAD</td>\n      <td>217640.0</td>\n      <td>400000.0</td>\n      <td>0.544100</td>\n      <td>Residential</td>\n      <td>Single Family</td>\n      <td>NaN</td>\n      <td>NaN</td>\n      <td>NaN</td>\n      <td>NaN</td>\n    </tr>\n    <tr>\n      <th>5</th>\n      <td>200121</td>\n      <td>2020</td>\n      <td>12/15/2020</td>\n      <td>Avon</td>\n      <td>63 NORTHGATE</td>\n      <td>528490.0</td>\n      <td>775000.0</td>\n      <td>0.681900</td>\n      <td>Residential</td>\n      <td>Single Family</td>\n      <td>NaN</td>\n      <td>NaN</td>\n      <td>NaN</td>\n      <td>POINT (-72.89675 41.79445)</td>\n    </tr>\n    <tr>\n      <th>6</th>\n      <td>20058</td>\n      <td>2020</td>\n      <td>06/01/2021</td>\n      <td>Barkhamsted</td>\n      <td>46 RATLUM MTN RD</td>\n      <td>203530.0</td>\n      <td>415000.0</td>\n      <td>0.490434</td>\n      <td>Residential</td>\n      <td>Single Family</td>\n      <td>NaN</td>\n      <td>2003 COLONIAL, 2140 SFLA, 2.99 AC</td>\n      <td>NaN</td>\n      <td>NaN</td>\n    </tr>\n    <tr>\n      <th>7</th>\n      <td>200046</td>\n      <td>2020</td>\n      <td>01/25/2021</td>\n      <td>Beacon Falls</td>\n      <td>34 LASKY ROAD</td>\n      <td>158030.0</td>\n      <td>243000.0</td>\n      <td>0.650300</td>\n      <td>Residential</td>\n      <td>Single Family</td>\n      <td>NaN</td>\n      <td>NaN</td>\n      <td>NaN</td>\n      <td>NaN</td>\n    </tr>\n    <tr>\n      <th>8</th>\n      <td>200016</td>\n      <td>2020</td>\n      <td>11/13/2020</td>\n      <td>Beacon Falls</td>\n      <td>9 AVON COURT</td>\n      <td>65590.0</td>\n      <td>100000.0</td>\n      <td>0.655900</td>\n      <td>Residential</td>\n      <td>Condo</td>\n      <td>NaN</td>\n      <td>NaN</td>\n      <td>NaN</td>\n      <td>NaN</td>\n    </tr>\n    <tr>\n      <th>9</th>\n      <td>2020360</td>\n      <td>2020</td>\n      <td>08/10/2021</td>\n      <td>Berlin</td>\n      <td>94 PERCIVAL AVE</td>\n      <td>140600.0</td>\n      <td>190790.0</td>\n      <td>0.736900</td>\n      <td>Residential</td>\n      <td>Single Family</td>\n      <td>NaN</td>\n      <td>NaN</td>\n      <td>NaN</td>\n      <td>NaN</td>\n    </tr>\n  </tbody>\n</table>\n</div>"
     },
     "execution_count": 4,
     "metadata": {},
     "output_type": "execute_result"
    }
   ],
   "source": [
    "# First we will take a lock to the first few rows of the dataset to get a feel for the data\n",
    "df_csv_copy.head(10)"
   ]
  },
  {
   "cell_type": "markdown",
   "metadata": {},
   "source": [
    "### Assess the data programmatically"
   ]
  },
  {
   "cell_type": "code",
   "execution_count": 5,
   "metadata": {
    "ExecuteTime": {
     "end_time": "2023-08-17T21:16:23.718582Z",
     "start_time": "2023-08-17T21:16:22.736540Z"
    }
   },
   "outputs": [
    {
     "name": "stdout",
     "output_type": "stream",
     "text": [
      "<class 'pandas.core.frame.DataFrame'>\n",
      "RangeIndex: 997213 entries, 0 to 997212\n",
      "Data columns (total 14 columns):\n",
      " #   Column            Non-Null Count   Dtype  \n",
      "---  ------            --------------   -----  \n",
      " 0   Serial Number     997213 non-null  int64  \n",
      " 1   List Year         997213 non-null  int64  \n",
      " 2   Date Recorded     997211 non-null  object \n",
      " 3   Town              997213 non-null  object \n",
      " 4   Address           997162 non-null  object \n",
      " 5   Assessed Value    997213 non-null  float64\n",
      " 6   Sale Amount       997213 non-null  float64\n",
      " 7   Sales Ratio       997213 non-null  float64\n",
      " 8   Property Type     614767 non-null  object \n",
      " 9   Residential Type  608904 non-null  object \n",
      " 10  Non Use Code      289681 non-null  object \n",
      " 11  Assessor Remarks  149864 non-null  object \n",
      " 12  OPM remarks       9934 non-null    object \n",
      " 13  Location          197697 non-null  object \n",
      "dtypes: float64(3), int64(2), object(9)\n",
      "memory usage: 106.5+ MB\n"
     ]
    }
   ],
   "source": [
    "# After looking at the first few rows, we will use .info() function to get a better understanding of the data types and null values\n",
    "df_csv_copy.info()"
   ]
  },
  {
   "cell_type": "markdown",
   "metadata": {},
   "source": [
    "We can see from the result of `.info()` function that we have 997213 rows and 15 columns. We can see that there are some null values in some of the columns, the number of null values vary from column to column. For example, the `Date Record` column has only 2 missing values, while the `OPM Remarks` columns have 997213 missing values. <br />\n",
    "Now, we know that we have missing values in our dataset, so we will examine every column to deeper investigate our data."
   ]
  },
  {
   "cell_type": "code",
   "execution_count": 6,
   "metadata": {
    "ExecuteTime": {
     "end_time": "2023-08-17T21:16:23.871268Z",
     "start_time": "2023-08-17T21:16:23.719959Z"
    }
   },
   "outputs": [
    {
     "data": {
      "text/plain": "       Serial Number      List Year  Assessed Value   Sale Amount  \\\ncount   9.972130e+05  997213.000000    9.972130e+05  9.972130e+05   \nmean    4.311864e+05    2010.189829    2.791437e+05  3.911512e+05   \nstd     6.549219e+06       6.237877    1.670610e+06  5.347270e+06   \nmin     0.000000e+00    2001.000000    0.000000e+00  0.000000e+00   \n25%     3.044400e+04    2004.000000    8.760000e+04  1.400000e+05   \n50%     7.030300e+04    2010.000000    1.383900e+05  2.250000e+05   \n75%     1.518780e+05    2016.000000    2.255600e+05  3.650000e+05   \nmax     2.000500e+09    2020.000000    8.815100e+08  5.000000e+09   \n\n        Sales Ratio  \ncount  9.972130e+05  \nmean   1.044637e+01  \nstd    1.890192e+03  \nmin    0.000000e+00  \n25%    4.867000e-01  \n50%    6.246000e-01  \n75%    7.852761e-01  \nmax    1.226420e+06  ",
      "text/html": "<div>\n<style scoped>\n    .dataframe tbody tr th:only-of-type {\n        vertical-align: middle;\n    }\n\n    .dataframe tbody tr th {\n        vertical-align: top;\n    }\n\n    .dataframe thead th {\n        text-align: right;\n    }\n</style>\n<table border=\"1\" class=\"dataframe\">\n  <thead>\n    <tr style=\"text-align: right;\">\n      <th></th>\n      <th>Serial Number</th>\n      <th>List Year</th>\n      <th>Assessed Value</th>\n      <th>Sale Amount</th>\n      <th>Sales Ratio</th>\n    </tr>\n  </thead>\n  <tbody>\n    <tr>\n      <th>count</th>\n      <td>9.972130e+05</td>\n      <td>997213.000000</td>\n      <td>9.972130e+05</td>\n      <td>9.972130e+05</td>\n      <td>9.972130e+05</td>\n    </tr>\n    <tr>\n      <th>mean</th>\n      <td>4.311864e+05</td>\n      <td>2010.189829</td>\n      <td>2.791437e+05</td>\n      <td>3.911512e+05</td>\n      <td>1.044637e+01</td>\n    </tr>\n    <tr>\n      <th>std</th>\n      <td>6.549219e+06</td>\n      <td>6.237877</td>\n      <td>1.670610e+06</td>\n      <td>5.347270e+06</td>\n      <td>1.890192e+03</td>\n    </tr>\n    <tr>\n      <th>min</th>\n      <td>0.000000e+00</td>\n      <td>2001.000000</td>\n      <td>0.000000e+00</td>\n      <td>0.000000e+00</td>\n      <td>0.000000e+00</td>\n    </tr>\n    <tr>\n      <th>25%</th>\n      <td>3.044400e+04</td>\n      <td>2004.000000</td>\n      <td>8.760000e+04</td>\n      <td>1.400000e+05</td>\n      <td>4.867000e-01</td>\n    </tr>\n    <tr>\n      <th>50%</th>\n      <td>7.030300e+04</td>\n      <td>2010.000000</td>\n      <td>1.383900e+05</td>\n      <td>2.250000e+05</td>\n      <td>6.246000e-01</td>\n    </tr>\n    <tr>\n      <th>75%</th>\n      <td>1.518780e+05</td>\n      <td>2016.000000</td>\n      <td>2.255600e+05</td>\n      <td>3.650000e+05</td>\n      <td>7.852761e-01</td>\n    </tr>\n    <tr>\n      <th>max</th>\n      <td>2.000500e+09</td>\n      <td>2020.000000</td>\n      <td>8.815100e+08</td>\n      <td>5.000000e+09</td>\n      <td>1.226420e+06</td>\n    </tr>\n  </tbody>\n</table>\n</div>"
     },
     "execution_count": 6,
     "metadata": {},
     "output_type": "execute_result"
    }
   ],
   "source": [
    "# Now we will use .describe() function to get a better understanding of the data.\n",
    "df_csv_copy.describe()"
   ]
  },
  {
   "cell_type": "markdown",
   "metadata": {},
   "source": [
    "We can see from the result of `.describe()` function that we have some outliers in the `Assessed Value` column. We can see that the minimum value is 0, which is not possible. <br />\n",
    "We will investigate this further in the next step."
   ]
  },
  {
   "cell_type": "code",
   "execution_count": 7,
   "metadata": {
    "ExecuteTime": {
     "end_time": "2023-08-17T21:16:23.881153Z",
     "start_time": "2023-08-17T21:16:23.876661Z"
    }
   },
   "outputs": [
    {
     "data": {
      "text/plain": "   Serial Number  List Year Date Recorded          Town           Address  \\\n0        2020177       2020    04/14/2021       Ansonia     323 BEAVER ST   \n1        2020225       2020    05/26/2021       Ansonia    152 JACKSON ST   \n2        2020348       2020    09/13/2021       Ansonia   230 WAKELEE AVE   \n3        2020090       2020    12/14/2020       Ansonia       57 PLATT ST   \n4         200500       2020    09/07/2021          Avon      245 NEW ROAD   \n5         200121       2020    12/15/2020          Avon      63 NORTHGATE   \n6          20058       2020    06/01/2021   Barkhamsted  46 RATLUM MTN RD   \n7         200046       2020    01/25/2021  Beacon Falls     34 LASKY ROAD   \n8         200016       2020    11/13/2020  Beacon Falls      9 AVON COURT   \n9        2020360       2020    08/10/2021        Berlin   94 PERCIVAL AVE   \n\n   Assessed Value  Sale Amount  Sales Ratio Property Type Residential Type  \\\n0        133000.0     248400.0     0.535400   Residential    Single Family   \n1        110500.0     239900.0     0.460600   Residential     Three Family   \n2        150500.0     325000.0     0.463000    Commercial              NaN   \n3        127400.0     202500.0     0.629100   Residential       Two Family   \n4        217640.0     400000.0     0.544100   Residential    Single Family   \n5        528490.0     775000.0     0.681900   Residential    Single Family   \n6        203530.0     415000.0     0.490434   Residential    Single Family   \n7        158030.0     243000.0     0.650300   Residential    Single Family   \n8         65590.0     100000.0     0.655900   Residential            Condo   \n9        140600.0     190790.0     0.736900   Residential    Single Family   \n\n  Non Use Code                   Assessor Remarks OPM remarks  \\\n0          NaN                                NaN         NaN   \n1          NaN                                NaN         NaN   \n2          NaN                                NaN         NaN   \n3          NaN                                NaN         NaN   \n4          NaN                                NaN         NaN   \n5          NaN                                NaN         NaN   \n6          NaN  2003 COLONIAL, 2140 SFLA, 2.99 AC         NaN   \n7          NaN                                NaN         NaN   \n8          NaN                                NaN         NaN   \n9          NaN                                NaN         NaN   \n\n                     Location  \n0  POINT (-73.06822 41.35014)  \n1                         NaN  \n2                         NaN  \n3                         NaN  \n4                         NaN  \n5  POINT (-72.89675 41.79445)  \n6                         NaN  \n7                         NaN  \n8                         NaN  \n9                         NaN  ",
      "text/html": "<div>\n<style scoped>\n    .dataframe tbody tr th:only-of-type {\n        vertical-align: middle;\n    }\n\n    .dataframe tbody tr th {\n        vertical-align: top;\n    }\n\n    .dataframe thead th {\n        text-align: right;\n    }\n</style>\n<table border=\"1\" class=\"dataframe\">\n  <thead>\n    <tr style=\"text-align: right;\">\n      <th></th>\n      <th>Serial Number</th>\n      <th>List Year</th>\n      <th>Date Recorded</th>\n      <th>Town</th>\n      <th>Address</th>\n      <th>Assessed Value</th>\n      <th>Sale Amount</th>\n      <th>Sales Ratio</th>\n      <th>Property Type</th>\n      <th>Residential Type</th>\n      <th>Non Use Code</th>\n      <th>Assessor Remarks</th>\n      <th>OPM remarks</th>\n      <th>Location</th>\n    </tr>\n  </thead>\n  <tbody>\n    <tr>\n      <th>0</th>\n      <td>2020177</td>\n      <td>2020</td>\n      <td>04/14/2021</td>\n      <td>Ansonia</td>\n      <td>323 BEAVER ST</td>\n      <td>133000.0</td>\n      <td>248400.0</td>\n      <td>0.535400</td>\n      <td>Residential</td>\n      <td>Single Family</td>\n      <td>NaN</td>\n      <td>NaN</td>\n      <td>NaN</td>\n      <td>POINT (-73.06822 41.35014)</td>\n    </tr>\n    <tr>\n      <th>1</th>\n      <td>2020225</td>\n      <td>2020</td>\n      <td>05/26/2021</td>\n      <td>Ansonia</td>\n      <td>152 JACKSON ST</td>\n      <td>110500.0</td>\n      <td>239900.0</td>\n      <td>0.460600</td>\n      <td>Residential</td>\n      <td>Three Family</td>\n      <td>NaN</td>\n      <td>NaN</td>\n      <td>NaN</td>\n      <td>NaN</td>\n    </tr>\n    <tr>\n      <th>2</th>\n      <td>2020348</td>\n      <td>2020</td>\n      <td>09/13/2021</td>\n      <td>Ansonia</td>\n      <td>230 WAKELEE AVE</td>\n      <td>150500.0</td>\n      <td>325000.0</td>\n      <td>0.463000</td>\n      <td>Commercial</td>\n      <td>NaN</td>\n      <td>NaN</td>\n      <td>NaN</td>\n      <td>NaN</td>\n      <td>NaN</td>\n    </tr>\n    <tr>\n      <th>3</th>\n      <td>2020090</td>\n      <td>2020</td>\n      <td>12/14/2020</td>\n      <td>Ansonia</td>\n      <td>57 PLATT ST</td>\n      <td>127400.0</td>\n      <td>202500.0</td>\n      <td>0.629100</td>\n      <td>Residential</td>\n      <td>Two Family</td>\n      <td>NaN</td>\n      <td>NaN</td>\n      <td>NaN</td>\n      <td>NaN</td>\n    </tr>\n    <tr>\n      <th>4</th>\n      <td>200500</td>\n      <td>2020</td>\n      <td>09/07/2021</td>\n      <td>Avon</td>\n      <td>245 NEW ROAD</td>\n      <td>217640.0</td>\n      <td>400000.0</td>\n      <td>0.544100</td>\n      <td>Residential</td>\n      <td>Single Family</td>\n      <td>NaN</td>\n      <td>NaN</td>\n      <td>NaN</td>\n      <td>NaN</td>\n    </tr>\n    <tr>\n      <th>5</th>\n      <td>200121</td>\n      <td>2020</td>\n      <td>12/15/2020</td>\n      <td>Avon</td>\n      <td>63 NORTHGATE</td>\n      <td>528490.0</td>\n      <td>775000.0</td>\n      <td>0.681900</td>\n      <td>Residential</td>\n      <td>Single Family</td>\n      <td>NaN</td>\n      <td>NaN</td>\n      <td>NaN</td>\n      <td>POINT (-72.89675 41.79445)</td>\n    </tr>\n    <tr>\n      <th>6</th>\n      <td>20058</td>\n      <td>2020</td>\n      <td>06/01/2021</td>\n      <td>Barkhamsted</td>\n      <td>46 RATLUM MTN RD</td>\n      <td>203530.0</td>\n      <td>415000.0</td>\n      <td>0.490434</td>\n      <td>Residential</td>\n      <td>Single Family</td>\n      <td>NaN</td>\n      <td>2003 COLONIAL, 2140 SFLA, 2.99 AC</td>\n      <td>NaN</td>\n      <td>NaN</td>\n    </tr>\n    <tr>\n      <th>7</th>\n      <td>200046</td>\n      <td>2020</td>\n      <td>01/25/2021</td>\n      <td>Beacon Falls</td>\n      <td>34 LASKY ROAD</td>\n      <td>158030.0</td>\n      <td>243000.0</td>\n      <td>0.650300</td>\n      <td>Residential</td>\n      <td>Single Family</td>\n      <td>NaN</td>\n      <td>NaN</td>\n      <td>NaN</td>\n      <td>NaN</td>\n    </tr>\n    <tr>\n      <th>8</th>\n      <td>200016</td>\n      <td>2020</td>\n      <td>11/13/2020</td>\n      <td>Beacon Falls</td>\n      <td>9 AVON COURT</td>\n      <td>65590.0</td>\n      <td>100000.0</td>\n      <td>0.655900</td>\n      <td>Residential</td>\n      <td>Condo</td>\n      <td>NaN</td>\n      <td>NaN</td>\n      <td>NaN</td>\n      <td>NaN</td>\n    </tr>\n    <tr>\n      <th>9</th>\n      <td>2020360</td>\n      <td>2020</td>\n      <td>08/10/2021</td>\n      <td>Berlin</td>\n      <td>94 PERCIVAL AVE</td>\n      <td>140600.0</td>\n      <td>190790.0</td>\n      <td>0.736900</td>\n      <td>Residential</td>\n      <td>Single Family</td>\n      <td>NaN</td>\n      <td>NaN</td>\n      <td>NaN</td>\n      <td>NaN</td>\n    </tr>\n  </tbody>\n</table>\n</div>"
     },
     "execution_count": 7,
     "metadata": {},
     "output_type": "execute_result"
    }
   ],
   "source": [
    "# review the data\n",
    "df_csv_copy.head(10)"
   ]
  },
  {
   "cell_type": "markdown",
   "metadata": {},
   "source": [
    "#### For Quality issues, we notice the following issues:\n",
    "##### Data types issues:\n",
    "- `List Year` column is of type `int64`, but it should be of type `datetime64[ns]`\n",
    "- `Date Recorded` column is of type `object`, but it should be of type `datetime64[ns]`\n",
    "\n",
    "##### Missing values issues:\n",
    "- Locking at the first column `Serial Number`, it supposes to be unique. However, we can see that there are some duplicates because the of issue in the consistently of the data entry.\n",
    "- Locking at the first column `Property Type` and `Residential Type`, it seems that they are the same column.\n",
    "\n",
    "##### Outliers issues:\n",
    "- `Assessed Value` column has outliers"
   ]
  },
  {
   "cell_type": "markdown",
   "metadata": {},
   "source": [
    "### Quality Issue #1\n",
    "Looking at the Dtypes of the columns, we can see that the `daterecorded` column is an object, which is not correct.\n",
    "\n",
    "#### We will convert the `daterecorded` column to datetime."
   ]
  },
  {
   "cell_type": "code",
   "execution_count": 8,
   "metadata": {
    "ExecuteTime": {
     "end_time": "2023-08-17T21:16:25.101514Z",
     "start_time": "2023-08-17T21:16:23.949741Z"
    }
   },
   "outputs": [
    {
     "name": "stdout",
     "output_type": "stream",
     "text": [
      "<class 'pandas.core.frame.DataFrame'>\n",
      "RangeIndex: 997213 entries, 0 to 997212\n",
      "Data columns (total 14 columns):\n",
      " #   Column            Non-Null Count   Dtype         \n",
      "---  ------            --------------   -----         \n",
      " 0   Serial Number     997213 non-null  int64         \n",
      " 1   List Year         997213 non-null  int64         \n",
      " 2   Date Recorded     997211 non-null  datetime64[ns]\n",
      " 3   Town              997213 non-null  object        \n",
      " 4   Address           997162 non-null  object        \n",
      " 5   Assessed Value    997213 non-null  float64       \n",
      " 6   Sale Amount       997213 non-null  float64       \n",
      " 7   Sales Ratio       997213 non-null  float64       \n",
      " 8   Property Type     614767 non-null  object        \n",
      " 9   Residential Type  608904 non-null  object        \n",
      " 10  Non Use Code      289681 non-null  object        \n",
      " 11  Assessor Remarks  149864 non-null  object        \n",
      " 12  OPM remarks       9934 non-null    object        \n",
      " 13  Location          197697 non-null  object        \n",
      "dtypes: datetime64[ns](1), float64(3), int64(2), object(8)\n",
      "memory usage: 106.5+ MB\n"
     ]
    }
   ],
   "source": [
    "# Change the data type of the Date Recorded column to be a datetime object\n",
    "df_csv_copy['Date Recorded'] = pd.to_datetime(df_csv_copy['Date Recorded'])\n",
    "\n",
    "# check the data type of the Date Recorded column\n",
    "df_csv_copy.info()"
   ]
  },
  {
   "cell_type": "markdown",
   "metadata": {},
   "source": [
    "### Quality Issue #2\n",
    "Locking at the first column `Serial Number`, it supposes to be unique. However, we can see that there are some duplicates because the of issue in the consistently of the data entry. <br />\n",
    "The serial number should be 9 digits, but we can see that there are some serial numbers that are less than 9 digits. <br />\n",
    "The first 4 numbers in the serial number should be the year, but we can see that there are some serial numbers that have the year 0, which is not possible. <br />\n",
    "The last 5 numbers in the serial number should be unique, but we can see that there are some duplicates."
   ]
  },
  {
   "cell_type": "markdown",
   "metadata": {},
   "source": [
    "let's find the length of the values in the Serial Number column visually"
   ]
  },
  {
   "cell_type": "code",
   "execution_count": 9,
   "metadata": {
    "ExecuteTime": {
     "end_time": "2023-08-17T21:16:25.885122Z",
     "start_time": "2023-08-17T21:16:25.100551Z"
    }
   },
   "outputs": [
    {
     "data": {
      "text/plain": "<Figure size 720x432 with 1 Axes>",
      "image/png": "[encoded data removed]"
     },
     "metadata": {
      "needs_background": "light"
     },
     "output_type": "display_data"
    }
   ],
   "source": [
    "# Get the length of the values in the Serial Number column\n",
    "length_of_serial_number = df_csv_copy['Serial Number'].astype(str).apply(len)\n",
    "\n",
    "# Get the number of values for each length of serial number\n",
    "number_of_values_per_length = length_of_serial_number.value_counts()\n",
    "plt.figure(figsize=(10, 6))\n",
    "\n",
    "# Create a bar chart of the number of values for each length of serial number\n",
    "plt.bar(number_of_values_per_length.index, number_of_values_per_length.values)\n",
    "\n",
    "# Add a title\n",
    "plt.title('Number of Values per Length of Serial Number')\n",
    "\n",
    "# Label the axes\n",
    "plt.xlabel('Length of Serial Number')\n",
    "plt.ylabel('Number of Values')\n",
    "\n",
    "# Show the plot\n",
    "plt.tight_layout()\n",
    "plt.show()"
   ]
  },
  {
   "cell_type": "markdown",
   "metadata": {},
   "source": [
    "#### From the above plot, we can see that the length of the serial number is 9 digits, but there are many serial numbers that are less than 9 digits which is not inconsistent."
   ]
  },
  {
   "cell_type": "markdown",
   "metadata": {},
   "source": [
    "let's find the length of the values in the Serial Number column programmatically"
   ]
  },
  {
   "cell_type": "code",
   "execution_count": 10,
   "metadata": {
    "ExecuteTime": {
     "end_time": "2023-08-17T21:16:26.342044Z",
     "start_time": "2023-08-17T21:16:25.885988Z"
    }
   },
   "outputs": [
    {
     "data": {
      "text/plain": "56        200192\n73        200081\n74        200114\n127       200030\n128       200095\n           ...  \n997208    190272\n997209    190284\n997210    190129\n997211    190504\n997212    190344\nName: Serial Number, Length: 913676, dtype: int64"
     },
     "execution_count": 10,
     "metadata": {},
     "output_type": "execute_result"
    }
   ],
   "source": [
    "# let's find the unique values in the Serial Number column\n",
    "df_csv_copy.loc[df_csv_copy['Serial Number'].duplicated()]['Serial Number']"
   ]
  },
  {
   "cell_type": "markdown",
   "metadata": {},
   "source": [
    "we can see that the serial number has many duplicates values, and the duplicated values are 913676 values which is more than 90% of the dataset.\n",
    "#### we will recreate the serial number column to fix the issue, but first we will solve the issue of the missing values in the `Date Recorded` column."
   ]
  },
  {
   "cell_type": "code",
   "execution_count": 11,
   "metadata": {
    "ExecuteTime": {
     "end_time": "2023-08-17T21:16:26.622901Z",
     "start_time": "2023-08-17T21:16:26.339147Z"
    }
   },
   "outputs": [
    {
     "data": {
      "text/plain": "        Serial Number  List Year Date Recorded    Town Address  \\\n177987          20280       2002           NaT  Orange     NaN   \n179479              0       2002           NaT  Orange     NaN   \n\n        Assessed Value  Sale Amount  Sales Ratio Property Type  \\\n177987             0.0          0.0          0.0           NaN   \n179479             0.0          0.0          0.0           NaN   \n\n       Residential Type Non Use Code Assessor Remarks OPM remarks Location  \n177987              NaN          NaN              NaN         NaN      NaN  \n179479              NaN          NaN              NaN         NaN      NaN  ",
      "text/html": "<div>\n<style scoped>\n    .dataframe tbody tr th:only-of-type {\n        vertical-align: middle;\n    }\n\n    .dataframe tbody tr th {\n        vertical-align: top;\n    }\n\n    .dataframe thead th {\n        text-align: right;\n    }\n</style>\n<table border=\"1\" class=\"dataframe\">\n  <thead>\n    <tr style=\"text-align: right;\">\n      <th></th>\n      <th>Serial Number</th>\n      <th>List Year</th>\n      <th>Date Recorded</th>\n      <th>Town</th>\n      <th>Address</th>\n      <th>Assessed Value</th>\n      <th>Sale Amount</th>\n      <th>Sales Ratio</th>\n      <th>Property Type</th>\n      <th>Residential Type</th>\n      <th>Non Use Code</th>\n      <th>Assessor Remarks</th>\n      <th>OPM remarks</th>\n      <th>Location</th>\n    </tr>\n  </thead>\n  <tbody>\n    <tr>\n      <th>177987</th>\n      <td>20280</td>\n      <td>2002</td>\n      <td>NaT</td>\n      <td>Orange</td>\n      <td>NaN</td>\n      <td>0.0</td>\n      <td>0.0</td>\n      <td>0.0</td>\n      <td>NaN</td>\n      <td>NaN</td>\n      <td>NaN</td>\n      <td>NaN</td>\n      <td>NaN</td>\n      <td>NaN</td>\n    </tr>\n    <tr>\n      <th>179479</th>\n      <td>0</td>\n      <td>2002</td>\n      <td>NaT</td>\n      <td>Orange</td>\n      <td>NaN</td>\n      <td>0.0</td>\n      <td>0.0</td>\n      <td>0.0</td>\n      <td>NaN</td>\n      <td>NaN</td>\n      <td>NaN</td>\n      <td>NaN</td>\n      <td>NaN</td>\n      <td>NaN</td>\n    </tr>\n  </tbody>\n</table>\n</div>"
     },
     "execution_count": 11,
     "metadata": {},
     "output_type": "execute_result"
    }
   ],
   "source": [
    "# sort the dataframe by the date recorded column\n",
    "df_csv_copy.sort_values(by=['Date Recorded'], inplace=True)\n",
    "\n",
    "# We have two missing values in the Date Recorded column, so we will check these two rows to handle them\n",
    "df_csv_copy.loc[df_csv_copy['Date Recorded'].isnull()]"
   ]
  },
  {
   "cell_type": "code",
   "execution_count": 12,
   "metadata": {
    "ExecuteTime": {
     "end_time": "2023-08-17T21:16:36.783478Z",
     "start_time": "2023-08-17T21:16:26.627370Z"
    }
   },
   "outputs": [
    {
     "data": {
      "text/plain": "<AxesSubplot:>"
     },
     "execution_count": 12,
     "metadata": {},
     "output_type": "execute_result"
    },
    {
     "data": {
      "text/plain": "<Figure size 432x288 with 1 Axes>",
      "image/png": "[encoded data removed]"
     },
     "metadata": {
      "needs_background": "light"
     },
     "output_type": "display_data"
    }
   ],
   "source": [
    "# We can see that these two rows have many missing values, so we will drop them\n",
    "df_csv_copy.dropna(subset=['Date Recorded'], inplace=True)\n",
    "\n",
    "# check using seaborn to see if there are null values in the Date Recorded column\n",
    "sns.heatmap(df_csv_copy.isnull(), yticklabels=False, cbar=False, cmap='viridis')"
   ]
  },
  {
   "cell_type": "markdown",
   "metadata": {},
   "source": [
    "We can see from the plot that there are no null values in the Date Recorded column. <br />\n",
    "\n",
    "#### Now, we will recreate the serial number column to fix the issue."
   ]
  },
  {
   "cell_type": "code",
   "execution_count": 13,
   "metadata": {
    "ExecuteTime": {
     "end_time": "2023-08-17T21:16:37.707529Z",
     "start_time": "2023-08-17T21:16:36.787629Z"
    }
   },
   "outputs": [
    {
     "data": {
      "text/plain": "        Serial Number  List Year Date Recorded          Town  \\\n857905         170177       2017    1999-04-05    New London   \n878455         173165       2017    2001-08-01       Shelton   \n882230         173202       2017    2001-08-23       Shelton   \n389697          60626       2006    2001-09-04     Newington   \n430234          60631       2006    2001-09-05     Newington   \n410469          60643       2006    2001-09-25     Naugatuck   \n93008           10001       2001    2001-10-01       Danbury   \n69357           10015       2001    2001-10-01       Bristol   \n93029           10002       2001    2001-10-01    Farmington   \n116641          10048       2001    2001-10-01  Wethersfield   \n\n                   Address  Assessed Value  Sale Amount  Sales Ratio  \\\n857905  184 PEQUOT AVE 309         46690.0      95000.0     0.491400   \n878455    19 BLACKBERRY LA        390810.0     635000.0     0.615449   \n882230   12 BOYSENBERRY LA        427910.0     558000.0     0.766864   \n389697       110 MOYLAN CT         64750.0      88000.0     0.735795   \n430234     48 EVERGREEN RD        166110.0     256000.0     0.648867   \n410469       217 OSBORN RD        183850.0     293711.0     0.625955   \n93008         6 DANIELS DR        187600.0     348500.0     0.538307   \n69357         5 VILLAGE ST         98900.0     205000.0     0.482439   \n93029         35 LOCUST LN         75600.0     156000.0     0.484615   \n116641      8 STOCKADE CIR        143500.0     208000.0     0.689904   \n\n        Property Type Residential Type Non Use Code Assessor Remarks  \\\n857905          Condo            Condo          NaN              NaN   \n878455  Single Family    Single Family          NaN              NaN   \n882230  Single Family    Single Family          NaN              NaN   \n389697          Condo            Condo          NaN              NaN   \n430234  Single Family    Single Family          NaN              NaN   \n410469  Single Family    Single Family          NaN              NaN   \n93008             NaN              NaN          NaN              NaN   \n69357             NaN              NaN          NaN              NaN   \n93029             NaN              NaN          NaN              NaN   \n116641            NaN              NaN          NaN              NaN   \n\n       OPM remarks                    Location New Serial Number  \n857905         NaN                         NaN         199900001  \n878455         NaN                         NaN         200100001  \n882230         NaN                         NaN         200100002  \n389697         NaN   POINT (-72.72554 41.7149)         200100003  \n430234         NaN                         NaN         200100004  \n410469         NaN  POINT (-73.03061 41.47741)         200100005  \n93008          NaN                         NaN         200100006  \n69357          NaN                         NaN         200100007  \n93029          NaN                         NaN         200100008  \n116641         NaN                         NaN         200100009  ",
      "text/html": "<div>\n<style scoped>\n    .dataframe tbody tr th:only-of-type {\n        vertical-align: middle;\n    }\n\n    .dataframe tbody tr th {\n        vertical-align: top;\n    }\n\n    .dataframe thead th {\n        text-align: right;\n    }\n</style>\n<table border=\"1\" class=\"dataframe\">\n  <thead>\n    <tr style=\"text-align: right;\">\n      <th></th>\n      <th>Serial Number</th>\n      <th>List Year</th>\n      <th>Date Recorded</th>\n      <th>Town</th>\n      <th>Address</th>\n      <th>Assessed Value</th>\n      <th>Sale Amount</th>\n      <th>Sales Ratio</th>\n      <th>Property Type</th>\n      <th>Residential Type</th>\n      <th>Non Use Code</th>\n      <th>Assessor Remarks</th>\n      <th>OPM remarks</th>\n      <th>Location</th>\n      <th>New Serial Number</th>\n    </tr>\n  </thead>\n  <tbody>\n    <tr>\n      <th>857905</th>\n      <td>170177</td>\n      <td>2017</td>\n      <td>1999-04-05</td>\n      <td>New London</td>\n      <td>184 PEQUOT AVE 309</td>\n      <td>46690.0</td>\n      <td>95000.0</td>\n      <td>0.491400</td>\n      <td>Condo</td>\n      <td>Condo</td>\n      <td>NaN</td>\n      <td>NaN</td>\n      <td>NaN</td>\n      <td>NaN</td>\n      <td>199900001</td>\n    </tr>\n    <tr>\n      <th>878455</th>\n      <td>173165</td>\n      <td>2017</td>\n      <td>2001-08-01</td>\n      <td>Shelton</td>\n      <td>19 BLACKBERRY LA</td>\n      <td>390810.0</td>\n      <td>635000.0</td>\n      <td>0.615449</td>\n      <td>Single Family</td>\n      <td>Single Family</td>\n      <td>NaN</td>\n      <td>NaN</td>\n      <td>NaN</td>\n      <td>NaN</td>\n      <td>200100001</td>\n    </tr>\n    <tr>\n      <th>882230</th>\n      <td>173202</td>\n      <td>2017</td>\n      <td>2001-08-23</td>\n      <td>Shelton</td>\n      <td>12 BOYSENBERRY LA</td>\n      <td>427910.0</td>\n      <td>558000.0</td>\n      <td>0.766864</td>\n      <td>Single Family</td>\n      <td>Single Family</td>\n      <td>NaN</td>\n      <td>NaN</td>\n      <td>NaN</td>\n      <td>NaN</td>\n      <td>200100002</td>\n    </tr>\n    <tr>\n      <th>389697</th>\n      <td>60626</td>\n      <td>2006</td>\n      <td>2001-09-04</td>\n      <td>Newington</td>\n      <td>110 MOYLAN CT</td>\n      <td>64750.0</td>\n      <td>88000.0</td>\n      <td>0.735795</td>\n      <td>Condo</td>\n      <td>Condo</td>\n      <td>NaN</td>\n      <td>NaN</td>\n      <td>NaN</td>\n      <td>POINT (-72.72554 41.7149)</td>\n      <td>200100003</td>\n    </tr>\n    <tr>\n      <th>430234</th>\n      <td>60631</td>\n      <td>2006</td>\n      <td>2001-09-05</td>\n      <td>Newington</td>\n      <td>48 EVERGREEN RD</td>\n      <td>166110.0</td>\n      <td>256000.0</td>\n      <td>0.648867</td>\n      <td>Single Family</td>\n      <td>Single Family</td>\n      <td>NaN</td>\n      <td>NaN</td>\n      <td>NaN</td>\n      <td>NaN</td>\n      <td>200100004</td>\n    </tr>\n    <tr>\n      <th>410469</th>\n      <td>60643</td>\n      <td>2006</td>\n      <td>2001-09-25</td>\n      <td>Naugatuck</td>\n      <td>217 OSBORN RD</td>\n      <td>183850.0</td>\n      <td>293711.0</td>\n      <td>0.625955</td>\n      <td>Single Family</td>\n      <td>Single Family</td>\n      <td>NaN</td>\n      <td>NaN</td>\n      <td>NaN</td>\n      <td>POINT (-73.03061 41.47741)</td>\n      <td>200100005</td>\n    </tr>\n    <tr>\n      <th>93008</th>\n      <td>10001</td>\n      <td>2001</td>\n      <td>2001-10-01</td>\n      <td>Danbury</td>\n      <td>6 DANIELS DR</td>\n      <td>187600.0</td>\n      <td>348500.0</td>\n      <td>0.538307</td>\n      <td>NaN</td>\n      <td>NaN</td>\n      <td>NaN</td>\n      <td>NaN</td>\n      <td>NaN</td>\n      <td>NaN</td>\n      <td>200100006</td>\n    </tr>\n    <tr>\n      <th>69357</th>\n      <td>10015</td>\n      <td>2001</td>\n      <td>2001-10-01</td>\n      <td>Bristol</td>\n      <td>5 VILLAGE ST</td>\n      <td>98900.0</td>\n      <td>205000.0</td>\n      <td>0.482439</td>\n      <td>NaN</td>\n      <td>NaN</td>\n      <td>NaN</td>\n      <td>NaN</td>\n      <td>NaN</td>\n      <td>NaN</td>\n      <td>200100007</td>\n    </tr>\n    <tr>\n      <th>93029</th>\n      <td>10002</td>\n      <td>2001</td>\n      <td>2001-10-01</td>\n      <td>Farmington</td>\n      <td>35 LOCUST LN</td>\n      <td>75600.0</td>\n      <td>156000.0</td>\n      <td>0.484615</td>\n      <td>NaN</td>\n      <td>NaN</td>\n      <td>NaN</td>\n      <td>NaN</td>\n      <td>NaN</td>\n      <td>NaN</td>\n      <td>200100008</td>\n    </tr>\n    <tr>\n      <th>116641</th>\n      <td>10048</td>\n      <td>2001</td>\n      <td>2001-10-01</td>\n      <td>Wethersfield</td>\n      <td>8 STOCKADE CIR</td>\n      <td>143500.0</td>\n      <td>208000.0</td>\n      <td>0.689904</td>\n      <td>NaN</td>\n      <td>NaN</td>\n      <td>NaN</td>\n      <td>NaN</td>\n      <td>NaN</td>\n      <td>NaN</td>\n      <td>200100009</td>\n    </tr>\n  </tbody>\n</table>\n</div>"
     },
     "execution_count": 13,
     "metadata": {},
     "output_type": "execute_result"
    }
   ],
   "source": [
    "# let us change the serial number column to be as the following: 1st 4 digits are the year, and the last 5 digits are unique numbers starting from 00001\n",
    "\n",
    "# create a new column for the serial number\n",
    "df_csv_copy['New Serial Number'] = df_csv_copy['Date Recorded'].dt.year.astype(str) + \\\n",
    "                                   df_csv_copy.groupby(df_csv_copy['Date Recorded'].dt.year.astype(int)) \\\n",
    "                                       .cumcount().add(1).astype(str).str.zfill(5)\n",
    "\n",
    "# let us check the new serial number column\n",
    "df_csv_copy.head(10)"
   ]
  },
  {
   "cell_type": "code",
   "execution_count": 14,
   "metadata": {
    "ExecuteTime": {
     "end_time": "2023-08-17T21:16:38.105699Z",
     "start_time": "2023-08-17T21:16:37.707824Z"
    }
   },
   "outputs": [
    {
     "data": {
      "text/plain": "Empty DataFrame\nColumns: [Serial Number, List Year, Date Recorded, Town, Address, Assessed Value, Sale Amount, Sales Ratio, Property Type, Residential Type, Non Use Code, Assessor Remarks, OPM remarks, Location, New Serial Number]\nIndex: []",
      "text/html": "<div>\n<style scoped>\n    .dataframe tbody tr th:only-of-type {\n        vertical-align: middle;\n    }\n\n    .dataframe tbody tr th {\n        vertical-align: top;\n    }\n\n    .dataframe thead th {\n        text-align: right;\n    }\n</style>\n<table border=\"1\" class=\"dataframe\">\n  <thead>\n    <tr style=\"text-align: right;\">\n      <th></th>\n      <th>Serial Number</th>\n      <th>List Year</th>\n      <th>Date Recorded</th>\n      <th>Town</th>\n      <th>Address</th>\n      <th>Assessed Value</th>\n      <th>Sale Amount</th>\n      <th>Sales Ratio</th>\n      <th>Property Type</th>\n      <th>Residential Type</th>\n      <th>Non Use Code</th>\n      <th>Assessor Remarks</th>\n      <th>OPM remarks</th>\n      <th>Location</th>\n      <th>New Serial Number</th>\n    </tr>\n  </thead>\n  <tbody>\n  </tbody>\n</table>\n</div>"
     },
     "execution_count": 14,
     "metadata": {},
     "output_type": "execute_result"
    }
   ],
   "source": [
    "# let us check the new serial number column to see if there are any duplicates\n",
    "df_csv_copy.loc[df_csv_copy['New Serial Number'].duplicated()]"
   ]
  },
  {
   "cell_type": "code",
   "execution_count": 15,
   "metadata": {
    "ExecuteTime": {
     "end_time": "2023-08-17T21:16:38.598823Z",
     "start_time": "2023-08-17T21:16:38.107417Z"
    }
   },
   "outputs": [
    {
     "data": {
      "text/plain": "        Serial Number  List Year Date Recorded          Town  \\\n857905      199900001       2017    1999-04-05    New London   \n878455      200100001       2017    2001-08-01       Shelton   \n882230      200100002       2017    2001-08-23       Shelton   \n389697      200100003       2006    2001-09-04     Newington   \n430234      200100004       2006    2001-09-05     Newington   \n410469      200100005       2006    2001-09-25     Naugatuck   \n93008       200100006       2001    2001-10-01       Danbury   \n69357       200100007       2001    2001-10-01       Bristol   \n93029       200100008       2001    2001-10-01    Farmington   \n116641      200100009       2001    2001-10-01  Wethersfield   \n\n                   Address  Assessed Value  Sale Amount  Sales Ratio  \\\n857905  184 PEQUOT AVE 309         46690.0      95000.0     0.491400   \n878455    19 BLACKBERRY LA        390810.0     635000.0     0.615449   \n882230   12 BOYSENBERRY LA        427910.0     558000.0     0.766864   \n389697       110 MOYLAN CT         64750.0      88000.0     0.735795   \n430234     48 EVERGREEN RD        166110.0     256000.0     0.648867   \n410469       217 OSBORN RD        183850.0     293711.0     0.625955   \n93008         6 DANIELS DR        187600.0     348500.0     0.538307   \n69357         5 VILLAGE ST         98900.0     205000.0     0.482439   \n93029         35 LOCUST LN         75600.0     156000.0     0.484615   \n116641      8 STOCKADE CIR        143500.0     208000.0     0.689904   \n\n        Property Type Residential Type Non Use Code Assessor Remarks  \\\n857905          Condo            Condo          NaN              NaN   \n878455  Single Family    Single Family          NaN              NaN   \n882230  Single Family    Single Family          NaN              NaN   \n389697          Condo            Condo          NaN              NaN   \n430234  Single Family    Single Family          NaN              NaN   \n410469  Single Family    Single Family          NaN              NaN   \n93008             NaN              NaN          NaN              NaN   \n69357             NaN              NaN          NaN              NaN   \n93029             NaN              NaN          NaN              NaN   \n116641            NaN              NaN          NaN              NaN   \n\n       OPM remarks                    Location  \n857905         NaN                         NaN  \n878455         NaN                         NaN  \n882230         NaN                         NaN  \n389697         NaN   POINT (-72.72554 41.7149)  \n430234         NaN                         NaN  \n410469         NaN  POINT (-73.03061 41.47741)  \n93008          NaN                         NaN  \n69357          NaN                         NaN  \n93029          NaN                         NaN  \n116641         NaN                         NaN  ",
      "text/html": "<div>\n<style scoped>\n    .dataframe tbody tr th:only-of-type {\n        vertical-align: middle;\n    }\n\n    .dataframe tbody tr th {\n        vertical-align: top;\n    }\n\n    .dataframe thead th {\n        text-align: right;\n    }\n</style>\n<table border=\"1\" class=\"dataframe\">\n  <thead>\n    <tr style=\"text-align: right;\">\n      <th></th>\n      <th>Serial Number</th>\n      <th>List Year</th>\n      <th>Date Recorded</th>\n      <th>Town</th>\n      <th>Address</th>\n      <th>Assessed Value</th>\n      <th>Sale Amount</th>\n      <th>Sales Ratio</th>\n      <th>Property Type</th>\n      <th>Residential Type</th>\n      <th>Non Use Code</th>\n      <th>Assessor Remarks</th>\n      <th>OPM remarks</th>\n      <th>Location</th>\n    </tr>\n  </thead>\n  <tbody>\n    <tr>\n      <th>857905</th>\n      <td>199900001</td>\n      <td>2017</td>\n      <td>1999-04-05</td>\n      <td>New London</td>\n      <td>184 PEQUOT AVE 309</td>\n      <td>46690.0</td>\n      <td>95000.0</td>\n      <td>0.491400</td>\n      <td>Condo</td>\n      <td>Condo</td>\n      <td>NaN</td>\n      <td>NaN</td>\n      <td>NaN</td>\n      <td>NaN</td>\n    </tr>\n    <tr>\n      <th>878455</th>\n      <td>200100001</td>\n      <td>2017</td>\n      <td>2001-08-01</td>\n      <td>Shelton</td>\n      <td>19 BLACKBERRY LA</td>\n      <td>390810.0</td>\n      <td>635000.0</td>\n      <td>0.615449</td>\n      <td>Single Family</td>\n      <td>Single Family</td>\n      <td>NaN</td>\n      <td>NaN</td>\n      <td>NaN</td>\n      <td>NaN</td>\n    </tr>\n    <tr>\n      <th>882230</th>\n      <td>200100002</td>\n      <td>2017</td>\n      <td>2001-08-23</td>\n      <td>Shelton</td>\n      <td>12 BOYSENBERRY LA</td>\n      <td>427910.0</td>\n      <td>558000.0</td>\n      <td>0.766864</td>\n      <td>Single Family</td>\n      <td>Single Family</td>\n      <td>NaN</td>\n      <td>NaN</td>\n      <td>NaN</td>\n      <td>NaN</td>\n    </tr>\n    <tr>\n      <th>389697</th>\n      <td>200100003</td>\n      <td>2006</td>\n      <td>2001-09-04</td>\n      <td>Newington</td>\n      <td>110 MOYLAN CT</td>\n      <td>64750.0</td>\n      <td>88000.0</td>\n      <td>0.735795</td>\n      <td>Condo</td>\n      <td>Condo</td>\n      <td>NaN</td>\n      <td>NaN</td>\n      <td>NaN</td>\n      <td>POINT (-72.72554 41.7149)</td>\n    </tr>\n    <tr>\n      <th>430234</th>\n      <td>200100004</td>\n      <td>2006</td>\n      <td>2001-09-05</td>\n      <td>Newington</td>\n      <td>48 EVERGREEN RD</td>\n      <td>166110.0</td>\n      <td>256000.0</td>\n      <td>0.648867</td>\n      <td>Single Family</td>\n      <td>Single Family</td>\n      <td>NaN</td>\n      <td>NaN</td>\n      <td>NaN</td>\n      <td>NaN</td>\n    </tr>\n    <tr>\n      <th>410469</th>\n      <td>200100005</td>\n      <td>2006</td>\n      <td>2001-09-25</td>\n      <td>Naugatuck</td>\n      <td>217 OSBORN RD</td>\n      <td>183850.0</td>\n      <td>293711.0</td>\n      <td>0.625955</td>\n      <td>Single Family</td>\n      <td>Single Family</td>\n      <td>NaN</td>\n      <td>NaN</td>\n      <td>NaN</td>\n      <td>POINT (-73.03061 41.47741)</td>\n    </tr>\n    <tr>\n      <th>93008</th>\n      <td>200100006</td>\n      <td>2001</td>\n      <td>2001-10-01</td>\n      <td>Danbury</td>\n      <td>6 DANIELS DR</td>\n      <td>187600.0</td>\n      <td>348500.0</td>\n      <td>0.538307</td>\n      <td>NaN</td>\n      <td>NaN</td>\n      <td>NaN</td>\n      <td>NaN</td>\n      <td>NaN</td>\n      <td>NaN</td>\n    </tr>\n    <tr>\n      <th>69357</th>\n      <td>200100007</td>\n      <td>2001</td>\n      <td>2001-10-01</td>\n      <td>Bristol</td>\n      <td>5 VILLAGE ST</td>\n      <td>98900.0</td>\n      <td>205000.0</td>\n      <td>0.482439</td>\n      <td>NaN</td>\n      <td>NaN</td>\n      <td>NaN</td>\n      <td>NaN</td>\n      <td>NaN</td>\n      <td>NaN</td>\n    </tr>\n    <tr>\n      <th>93029</th>\n      <td>200100008</td>\n      <td>2001</td>\n      <td>2001-10-01</td>\n      <td>Farmington</td>\n      <td>35 LOCUST LN</td>\n      <td>75600.0</td>\n      <td>156000.0</td>\n      <td>0.484615</td>\n      <td>NaN</td>\n      <td>NaN</td>\n      <td>NaN</td>\n      <td>NaN</td>\n      <td>NaN</td>\n      <td>NaN</td>\n    </tr>\n    <tr>\n      <th>116641</th>\n      <td>200100009</td>\n      <td>2001</td>\n      <td>2001-10-01</td>\n      <td>Wethersfield</td>\n      <td>8 STOCKADE CIR</td>\n      <td>143500.0</td>\n      <td>208000.0</td>\n      <td>0.689904</td>\n      <td>NaN</td>\n      <td>NaN</td>\n      <td>NaN</td>\n      <td>NaN</td>\n      <td>NaN</td>\n      <td>NaN</td>\n    </tr>\n  </tbody>\n</table>\n</div>"
     },
     "execution_count": 15,
     "metadata": {},
     "output_type": "execute_result"
    }
   ],
   "source": [
    "# No duplicates, so we will make the new serial number column as the serial number column and drop the new serial number column\n",
    "df_csv_copy['Serial Number'] = df_csv_copy['New Serial Number']\n",
    "df_csv_copy.drop(columns=['New Serial Number'], inplace=True)\n",
    "\n",
    "# change the data type of the serial number column to be int64\n",
    "df_csv_copy['Serial Number'] = df_csv_copy['Serial Number'].astype(int)\n",
    "\n",
    "# let us check the new serial number column\n",
    "df_csv_copy.head(10)"
   ]
  },
  {
   "cell_type": "markdown",
   "metadata": {},
   "source": [
    "### Quality Issue #3\n",
    "Looking at the `Assessed Value` column, we can see that there are some outliers. <br />\n",
    "\n",
    "#### We will investigate this further in the next step and decide weather to drop them or not."
   ]
  },
  {
   "cell_type": "code",
   "execution_count": 16,
   "metadata": {
    "ExecuteTime": {
     "end_time": "2023-08-17T21:16:38.791158Z",
     "start_time": "2023-08-17T21:16:38.598145Z"
    }
   },
   "outputs": [
    {
     "data": {
      "text/plain": "<AxesSubplot:xlabel='Assessed Value'>"
     },
     "execution_count": 16,
     "metadata": {},
     "output_type": "execute_result"
    },
    {
     "data": {
      "text/plain": "<Figure size 432x288 with 1 Axes>",
      "image/png": "[encoded data removed]"
     },
     "metadata": {
      "needs_background": "light"
     },
     "output_type": "display_data"
    }
   ],
   "source": [
    "# check the outliers in the Assessed Value column\n",
    "sns.boxplot(x=df_csv_copy['Assessed Value'])"
   ]
  },
  {
   "cell_type": "code",
   "execution_count": 17,
   "metadata": {
    "ExecuteTime": {
     "end_time": "2023-08-17T21:16:38.836152Z",
     "start_time": "2023-08-17T21:16:38.791984Z"
    }
   },
   "outputs": [
    {
     "data": {
      "text/plain": "        Serial Number  List Year Date Recorded         Town  \\\n390451      200701328       2006    2007-01-12    Greenwich   \n430053      200701341       2006    2007-01-12    Greenwich   \n547343      201110076       2010    2011-05-11       Hamden   \n780904      201539563       2015    2015-10-19     Suffield   \n759303      201539602       2015    2015-10-19     Suffield   \n797866      201539712       2015    2015-10-19     Suffield   \n813482      201640294       2016    2016-11-07    Greenwich   \n811137      201646310       2016    2016-12-21  New Britain   \n846904      201828408       2017    2018-08-15       Hamden   \n921572      201918759       2018    2019-06-04     Stamford   \n993750      201944995       2019    2019-11-13    Waterbury   \n31469       202059886       2020    2020-12-16     Stamford   \n\n                    Address  Assessed Value  Sale Amount  Sales Ratio  \\\n390451      EAST PUTNAM AVE     122935400.0  181700000.0     0.676584   \n430053      EAST PUTNAM AVE     122935400.0   48300000.0     2.545246   \n547343       642 NEWHALL ST     110670208.0     208900.0   529.776008   \n780904           TAINTOR ST     138958820.0      90096.0  1542.341724   \n759303           TAINTOR ST     138958820.0      40356.0  3443.324908   \n797866           TAINTOR ST     138958820.0      45319.0  3066.237560   \n813482         51 WEAVER ST     103207510.0  130000000.0     0.793904   \n811137         100 GRAND ST     131072830.0     120000.0  1092.273583   \n846904         42 WARNER ST     881510000.0    4680000.0   188.356800   \n921572  600 WASHINGTON BLVD     105438300.0  163000000.0     0.646800   \n993750        64 ROBBINS ST     142858700.0  230043624.0     0.621000   \n31469   400 ATLANTIC STREET     114924210.0  100000000.0     1.149200   \n\n        Property Type Residential Type              Non Use Code  \\\n390451            NaN              NaN    03 - Inter Corporation   \n430053            NaN              NaN        08 - Part Interest   \n547343  Single Family    Single Family                       NaN   \n780904            NaN              NaN             19 - Easement   \n759303            NaN              NaN             19 - Easement   \n797866            NaN              NaN             19 - Easement   \n813482            NaN              NaN                       NaN   \n811137            NaN              NaN  06 - Portion of Property   \n846904          Condo            Condo                25 - Other   \n921572            NaN              NaN                       NaN   \n993750            NaN              NaN                25 - Other   \n31469      Commercial              NaN            05 - Deed Date   \n\n                             Assessor Remarks OPM remarks  \\\n390451                               PART INT         NaN   \n430053                                    NaN         NaN   \n547343                                    NaN         NaN   \n780904                 TENNESSEE GAS PIPELINE         NaN   \n759303                 TENNESSEE GAS PIPELINE         NaN   \n797866                 TENNESSEE GAS PIPELINE         NaN   \n813482                                    NaN         NaN   \n811137                                    NaN         NaN   \n846904  655 FITCH ST; SALE INCLUDES 25 CONDOS         NaN   \n921572                                    NaN         NaN   \n993750                INCLS 170 GRANDVIEW AVE         NaN   \n31469              SALE OLDER THAN SIX MONTHS         NaN   \n\n                          Location  \n390451                         NaN  \n430053                         NaN  \n547343                         NaN  \n780904                         NaN  \n759303                         NaN  \n797866                         NaN  \n813482  POINT (-73.64985 41.01941)  \n811137  POINT (-72.78663 41.66208)  \n846904                         NaN  \n921572                         NaN  \n993750                         NaN  \n31469                          NaN  ",
      "text/html": "<div>\n<style scoped>\n    .dataframe tbody tr th:only-of-type {\n        vertical-align: middle;\n    }\n\n    .dataframe tbody tr th {\n        vertical-align: top;\n    }\n\n    .dataframe thead th {\n        text-align: right;\n    }\n</style>\n<table border=\"1\" class=\"dataframe\">\n  <thead>\n    <tr style=\"text-align: right;\">\n      <th></th>\n      <th>Serial Number</th>\n      <th>List Year</th>\n      <th>Date Recorded</th>\n      <th>Town</th>\n      <th>Address</th>\n      <th>Assessed Value</th>\n      <th>Sale Amount</th>\n      <th>Sales Ratio</th>\n      <th>Property Type</th>\n      <th>Residential Type</th>\n      <th>Non Use Code</th>\n      <th>Assessor Remarks</th>\n      <th>OPM remarks</th>\n      <th>Location</th>\n    </tr>\n  </thead>\n  <tbody>\n    <tr>\n      <th>390451</th>\n      <td>200701328</td>\n      <td>2006</td>\n      <td>2007-01-12</td>\n      <td>Greenwich</td>\n      <td>EAST PUTNAM AVE</td>\n      <td>122935400.0</td>\n      <td>181700000.0</td>\n      <td>0.676584</td>\n      <td>NaN</td>\n      <td>NaN</td>\n      <td>03 - Inter Corporation</td>\n      <td>PART INT</td>\n      <td>NaN</td>\n      <td>NaN</td>\n    </tr>\n    <tr>\n      <th>430053</th>\n      <td>200701341</td>\n      <td>2006</td>\n      <td>2007-01-12</td>\n      <td>Greenwich</td>\n      <td>EAST PUTNAM AVE</td>\n      <td>122935400.0</td>\n      <td>48300000.0</td>\n      <td>2.545246</td>\n      <td>NaN</td>\n      <td>NaN</td>\n      <td>08 - Part Interest</td>\n      <td>NaN</td>\n      <td>NaN</td>\n      <td>NaN</td>\n    </tr>\n    <tr>\n      <th>547343</th>\n      <td>201110076</td>\n      <td>2010</td>\n      <td>2011-05-11</td>\n      <td>Hamden</td>\n      <td>642 NEWHALL ST</td>\n      <td>110670208.0</td>\n      <td>208900.0</td>\n      <td>529.776008</td>\n      <td>Single Family</td>\n      <td>Single Family</td>\n      <td>NaN</td>\n      <td>NaN</td>\n      <td>NaN</td>\n      <td>NaN</td>\n    </tr>\n    <tr>\n      <th>780904</th>\n      <td>201539563</td>\n      <td>2015</td>\n      <td>2015-10-19</td>\n      <td>Suffield</td>\n      <td>TAINTOR ST</td>\n      <td>138958820.0</td>\n      <td>90096.0</td>\n      <td>1542.341724</td>\n      <td>NaN</td>\n      <td>NaN</td>\n      <td>19 - Easement</td>\n      <td>TENNESSEE GAS PIPELINE</td>\n      <td>NaN</td>\n      <td>NaN</td>\n    </tr>\n    <tr>\n      <th>759303</th>\n      <td>201539602</td>\n      <td>2015</td>\n      <td>2015-10-19</td>\n      <td>Suffield</td>\n      <td>TAINTOR ST</td>\n      <td>138958820.0</td>\n      <td>40356.0</td>\n      <td>3443.324908</td>\n      <td>NaN</td>\n      <td>NaN</td>\n      <td>19 - Easement</td>\n      <td>TENNESSEE GAS PIPELINE</td>\n      <td>NaN</td>\n      <td>NaN</td>\n    </tr>\n    <tr>\n      <th>797866</th>\n      <td>201539712</td>\n      <td>2015</td>\n      <td>2015-10-19</td>\n      <td>Suffield</td>\n      <td>TAINTOR ST</td>\n      <td>138958820.0</td>\n      <td>45319.0</td>\n      <td>3066.237560</td>\n      <td>NaN</td>\n      <td>NaN</td>\n      <td>19 - Easement</td>\n      <td>TENNESSEE GAS PIPELINE</td>\n      <td>NaN</td>\n      <td>NaN</td>\n    </tr>\n    <tr>\n      <th>813482</th>\n      <td>201640294</td>\n      <td>2016</td>\n      <td>2016-11-07</td>\n      <td>Greenwich</td>\n      <td>51 WEAVER ST</td>\n      <td>103207510.0</td>\n      <td>130000000.0</td>\n      <td>0.793904</td>\n      <td>NaN</td>\n      <td>NaN</td>\n      <td>NaN</td>\n      <td>NaN</td>\n      <td>NaN</td>\n      <td>POINT (-73.64985 41.01941)</td>\n    </tr>\n    <tr>\n      <th>811137</th>\n      <td>201646310</td>\n      <td>2016</td>\n      <td>2016-12-21</td>\n      <td>New Britain</td>\n      <td>100 GRAND ST</td>\n      <td>131072830.0</td>\n      <td>120000.0</td>\n      <td>1092.273583</td>\n      <td>NaN</td>\n      <td>NaN</td>\n      <td>06 - Portion of Property</td>\n      <td>NaN</td>\n      <td>NaN</td>\n      <td>POINT (-72.78663 41.66208)</td>\n    </tr>\n    <tr>\n      <th>846904</th>\n      <td>201828408</td>\n      <td>2017</td>\n      <td>2018-08-15</td>\n      <td>Hamden</td>\n      <td>42 WARNER ST</td>\n      <td>881510000.0</td>\n      <td>4680000.0</td>\n      <td>188.356800</td>\n      <td>Condo</td>\n      <td>Condo</td>\n      <td>25 - Other</td>\n      <td>655 FITCH ST; SALE INCLUDES 25 CONDOS</td>\n      <td>NaN</td>\n      <td>NaN</td>\n    </tr>\n    <tr>\n      <th>921572</th>\n      <td>201918759</td>\n      <td>2018</td>\n      <td>2019-06-04</td>\n      <td>Stamford</td>\n      <td>600 WASHINGTON BLVD</td>\n      <td>105438300.0</td>\n      <td>163000000.0</td>\n      <td>0.646800</td>\n      <td>NaN</td>\n      <td>NaN</td>\n      <td>NaN</td>\n      <td>NaN</td>\n      <td>NaN</td>\n      <td>NaN</td>\n    </tr>\n    <tr>\n      <th>993750</th>\n      <td>201944995</td>\n      <td>2019</td>\n      <td>2019-11-13</td>\n      <td>Waterbury</td>\n      <td>64 ROBBINS ST</td>\n      <td>142858700.0</td>\n      <td>230043624.0</td>\n      <td>0.621000</td>\n      <td>NaN</td>\n      <td>NaN</td>\n      <td>25 - Other</td>\n      <td>INCLS 170 GRANDVIEW AVE</td>\n      <td>NaN</td>\n      <td>NaN</td>\n    </tr>\n    <tr>\n      <th>31469</th>\n      <td>202059886</td>\n      <td>2020</td>\n      <td>2020-12-16</td>\n      <td>Stamford</td>\n      <td>400 ATLANTIC STREET</td>\n      <td>114924210.0</td>\n      <td>100000000.0</td>\n      <td>1.149200</td>\n      <td>Commercial</td>\n      <td>NaN</td>\n      <td>05 - Deed Date</td>\n      <td>SALE OLDER THAN SIX MONTHS</td>\n      <td>NaN</td>\n      <td>NaN</td>\n    </tr>\n  </tbody>\n</table>\n</div>"
     },
     "execution_count": 17,
     "metadata": {},
     "output_type": "execute_result"
    }
   ],
   "source": [
    "# We can see that there are some outliers, so we will check the rows with Assessed Value >= 100000000\n",
    "df_csv_copy.loc[df_csv_copy['Assessed Value'] >= 100000000]"
   ]
  },
  {
   "cell_type": "code",
   "execution_count": 18,
   "metadata": {
    "ExecuteTime": {
     "end_time": "2023-08-17T21:16:38.851287Z",
     "start_time": "2023-08-17T21:16:38.815270Z"
    }
   },
   "outputs": [
    {
     "data": {
      "text/plain": "        Serial Number  List Year Date Recorded          Town  \\\n72984       200100530       2001    2001-10-01    Bloomfield   \n71601       200100582       2001    2001-10-01    East Haven   \n106357      200100650       2001    2001-10-02     Stratford   \n104282      200100787       2001    2001-10-02     Stratford   \n95666       200100849       2001    2001-10-02     Stratford   \n...               ...        ...           ...           ...   \n3312        202146863       2020    2021-09-22  Beacon Falls   \n14008       202146879       2020    2021-09-22        Groton   \n9882        202147134       2020    2021-09-23        Groton   \n22721       202147191       2020    2021-09-24        Groton   \n35618       202148327       2020    2021-09-30    Stonington   \n\n                    Address  Assessed Value  Sale Amount  Sales Ratio  \\\n72984      208 DUNCASTER RD             0.0     375000.0          0.0   \n71601           130 COE AVE             0.0      17000.0          0.0   \n106357          SUCCESS VLG             0.0      18000.0          0.0   \n104282     1155 SUCCESS AVE             0.0      33000.0          0.0   \n95666   60 HORTENSE ST LT 2             0.0          0.0          0.0   \n...                     ...             ...          ...          ...   \n3312       2 BAYBERRY COURT             0.0     519900.0          0.0   \n14008   3 WATER ST UNIT 204             0.0     590000.0          0.0   \n9882    3 WATER ST UNIT 303             0.0     850000.0          0.0   \n22721   3 WATER ST UNIT 404             0.0    1400001.0          0.0   \n35618         1 PARK AVE #1             0.0     369464.0          0.0   \n\n       Property Type Residential Type             Non Use Code  \\\n72984            NaN              NaN                        8   \n71601            NaN              NaN                       25   \n106357           NaN              NaN                       24   \n104282           NaN              NaN                       25   \n95666            NaN              NaN                        4   \n...              ...              ...                      ...   \n3312     Residential            Condo  07 - Change in Property   \n14008    Residential            Condo  07 - Change in Property   \n9882     Residential            Condo  07 - Change in Property   \n22721    Residential            Condo  07 - Change in Property   \n35618    Residential            Condo  07 - Change in Property   \n\n               Assessor Remarks OPM remarks                    Location  \n72984                       NaN         NaN                         NaN  \n71601                       NaN         NaN                         NaN  \n106357                      NaN         NaN                         NaN  \n104282                      NaN         NaN                         NaN  \n95666                       NaN         NaN                         NaN  \n...                         ...         ...                         ...  \n3312           New Construction         NaN                         NaN  \n14008          NEW CONSTRUCTION         NaN                         NaN  \n9882           NEW CONSTRUCTION         NaN  POINT (-71.97138 41.35421)  \n22721          new construction         NaN  POINT (-71.97138 41.35421)  \n35618   Newly constructed condo         NaN  POINT (-73.56628 41.03182)  \n\n[6931 rows x 14 columns]",
      "text/html": "<div>\n<style scoped>\n    .dataframe tbody tr th:only-of-type {\n        vertical-align: middle;\n    }\n\n    .dataframe tbody tr th {\n        vertical-align: top;\n    }\n\n    .dataframe thead th {\n        text-align: right;\n    }\n</style>\n<table border=\"1\" class=\"dataframe\">\n  <thead>\n    <tr style=\"text-align: right;\">\n      <th></th>\n      <th>Serial Number</th>\n      <th>List Year</th>\n      <th>Date Recorded</th>\n      <th>Town</th>\n      <th>Address</th>\n      <th>Assessed Value</th>\n      <th>Sale Amount</th>\n      <th>Sales Ratio</th>\n      <th>Property Type</th>\n      <th>Residential Type</th>\n      <th>Non Use Code</th>\n      <th>Assessor Remarks</th>\n      <th>OPM remarks</th>\n      <th>Location</th>\n    </tr>\n  </thead>\n  <tbody>\n    <tr>\n      <th>72984</th>\n      <td>200100530</td>\n      <td>2001</td>\n      <td>2001-10-01</td>\n      <td>Bloomfield</td>\n      <td>208 DUNCASTER RD</td>\n      <td>0.0</td>\n      <td>375000.0</td>\n      <td>0.0</td>\n      <td>NaN</td>\n      <td>NaN</td>\n      <td>8</td>\n      <td>NaN</td>\n      <td>NaN</td>\n      <td>NaN</td>\n    </tr>\n    <tr>\n      <th>71601</th>\n      <td>200100582</td>\n      <td>2001</td>\n      <td>2001-10-01</td>\n      <td>East Haven</td>\n      <td>130 COE AVE</td>\n      <td>0.0</td>\n      <td>17000.0</td>\n      <td>0.0</td>\n      <td>NaN</td>\n      <td>NaN</td>\n      <td>25</td>\n      <td>NaN</td>\n      <td>NaN</td>\n      <td>NaN</td>\n    </tr>\n    <tr>\n      <th>106357</th>\n      <td>200100650</td>\n      <td>2001</td>\n      <td>2001-10-02</td>\n      <td>Stratford</td>\n      <td>SUCCESS VLG</td>\n      <td>0.0</td>\n      <td>18000.0</td>\n      <td>0.0</td>\n      <td>NaN</td>\n      <td>NaN</td>\n      <td>24</td>\n      <td>NaN</td>\n      <td>NaN</td>\n      <td>NaN</td>\n    </tr>\n    <tr>\n      <th>104282</th>\n      <td>200100787</td>\n      <td>2001</td>\n      <td>2001-10-02</td>\n      <td>Stratford</td>\n      <td>1155 SUCCESS AVE</td>\n      <td>0.0</td>\n      <td>33000.0</td>\n      <td>0.0</td>\n      <td>NaN</td>\n      <td>NaN</td>\n      <td>25</td>\n      <td>NaN</td>\n      <td>NaN</td>\n      <td>NaN</td>\n    </tr>\n    <tr>\n      <th>95666</th>\n      <td>200100849</td>\n      <td>2001</td>\n      <td>2001-10-02</td>\n      <td>Stratford</td>\n      <td>60 HORTENSE ST LT 2</td>\n      <td>0.0</td>\n      <td>0.0</td>\n      <td>0.0</td>\n      <td>NaN</td>\n      <td>NaN</td>\n      <td>4</td>\n      <td>NaN</td>\n      <td>NaN</td>\n      <td>NaN</td>\n    </tr>\n    <tr>\n      <th>...</th>\n      <td>...</td>\n      <td>...</td>\n      <td>...</td>\n      <td>...</td>\n      <td>...</td>\n      <td>...</td>\n      <td>...</td>\n      <td>...</td>\n      <td>...</td>\n      <td>...</td>\n      <td>...</td>\n      <td>...</td>\n      <td>...</td>\n      <td>...</td>\n    </tr>\n    <tr>\n      <th>3312</th>\n      <td>202146863</td>\n      <td>2020</td>\n      <td>2021-09-22</td>\n      <td>Beacon Falls</td>\n      <td>2 BAYBERRY COURT</td>\n      <td>0.0</td>\n      <td>519900.0</td>\n      <td>0.0</td>\n      <td>Residential</td>\n      <td>Condo</td>\n      <td>07 - Change in Property</td>\n      <td>New Construction</td>\n      <td>NaN</td>\n      <td>NaN</td>\n    </tr>\n    <tr>\n      <th>14008</th>\n      <td>202146879</td>\n      <td>2020</td>\n      <td>2021-09-22</td>\n      <td>Groton</td>\n      <td>3 WATER ST UNIT 204</td>\n      <td>0.0</td>\n      <td>590000.0</td>\n      <td>0.0</td>\n      <td>Residential</td>\n      <td>Condo</td>\n      <td>07 - Change in Property</td>\n      <td>NEW CONSTRUCTION</td>\n      <td>NaN</td>\n      <td>NaN</td>\n    </tr>\n    <tr>\n      <th>9882</th>\n      <td>202147134</td>\n      <td>2020</td>\n      <td>2021-09-23</td>\n      <td>Groton</td>\n      <td>3 WATER ST UNIT 303</td>\n      <td>0.0</td>\n      <td>850000.0</td>\n      <td>0.0</td>\n      <td>Residential</td>\n      <td>Condo</td>\n      <td>07 - Change in Property</td>\n      <td>NEW CONSTRUCTION</td>\n      <td>NaN</td>\n      <td>POINT (-71.97138 41.35421)</td>\n    </tr>\n    <tr>\n      <th>22721</th>\n      <td>202147191</td>\n      <td>2020</td>\n      <td>2021-09-24</td>\n      <td>Groton</td>\n      <td>3 WATER ST UNIT 404</td>\n      <td>0.0</td>\n      <td>1400001.0</td>\n      <td>0.0</td>\n      <td>Residential</td>\n      <td>Condo</td>\n      <td>07 - Change in Property</td>\n      <td>new construction</td>\n      <td>NaN</td>\n      <td>POINT (-71.97138 41.35421)</td>\n    </tr>\n    <tr>\n      <th>35618</th>\n      <td>202148327</td>\n      <td>2020</td>\n      <td>2021-09-30</td>\n      <td>Stonington</td>\n      <td>1 PARK AVE #1</td>\n      <td>0.0</td>\n      <td>369464.0</td>\n      <td>0.0</td>\n      <td>Residential</td>\n      <td>Condo</td>\n      <td>07 - Change in Property</td>\n      <td>Newly constructed condo</td>\n      <td>NaN</td>\n      <td>POINT (-73.56628 41.03182)</td>\n    </tr>\n  </tbody>\n</table>\n<p>6931 rows × 14 columns</p>\n</div>"
     },
     "execution_count": 18,
     "metadata": {},
     "output_type": "execute_result"
    }
   ],
   "source": [
    "# We can see that there are some outliers, so we will check the rows with Assessed Value = 0\n",
    "df_csv_copy.loc[df_csv_copy['Assessed Value'] == 0]"
   ]
  },
  {
   "cell_type": "markdown",
   "metadata": {},
   "source": [
    "#### We can see that there are many rows with `Sale Amount` = 0, so we need to investigate this further\n",
    "#### let us check the rows with `Sale Amount` = 0 and `Non Use Code` is not null to see if there is a relation between them"
   ]
  },
  {
   "cell_type": "code",
   "execution_count": 19,
   "metadata": {
    "ExecuteTime": {
     "end_time": "2023-08-17T21:16:38.954422Z",
     "start_time": "2023-08-17T21:16:38.848734Z"
    }
   },
   "outputs": [
    {
     "data": {
      "text/plain": "        Serial Number  List Year Date Recorded       Town  \\\n94398       200100376       2001    2001-10-01   Hartford   \n118116      200100703       2001    2001-10-02  Stratford   \n102141      200100720       2001    2001-10-02  Stratford   \n111943      200100782       2001    2001-10-02  Stratford   \n114746      200100825       2001    2001-10-02  Stratford   \n...               ...        ...           ...        ...   \n893710      201840457       2018    2018-11-09     Berlin   \n896598      201841109       2018    2018-11-15     Berlin   \n894866      201841431       2018    2018-11-19     Berlin   \n890944      201841662       2018    2018-11-19     Berlin   \n897007      201842328       2018    2018-11-26     Berlin   \n\n                       Address  Assessed Value  Sale Amount  Sales Ratio  \\\n94398            190 TOWER AVE         66780.0          0.0          0.0   \n118116       161 ALLENCREST DR        126200.0          0.0          0.0   \n102141         372 WAKELEE AVE        124840.0          0.0          0.0   \n111943     66 HORTENSE ST LT 1         85000.0          0.0          0.0   \n114746       105-107 CLOVER ST        144640.0          0.0          0.0   \n...                        ...             ...          ...          ...   \n893710  1275 WORTHINGTON RIDGE        112000.0          0.0          0.0   \n896598   127 WETHERSFIELD ROAD        157100.0          0.0          0.0   \n894866  218 BROOKE MEADOW ROAD        231000.0          0.0          0.0   \n890944  218 BROOKE MEADOW ROAD        231000.0          0.0          0.0   \n897007    416 SAVAGE HILL ROAD        158300.0          0.0          0.0   \n\n        Property Type Residential Type           Non Use Code  \\\n94398             NaN              NaN                     25   \n118116            NaN              NaN                      1   \n102141            NaN              NaN                      1   \n111943            NaN              NaN                      4   \n114746            NaN              NaN                      8   \n...               ...              ...                    ...   \n893710  Single Family    Single Family  29 - No Consideration   \n896598  Single Family    Single Family  29 - No Consideration   \n894866  Single Family    Single Family  29 - No Consideration   \n890944  Single Family    Single Family  29 - No Consideration   \n897007  Single Family    Single Family  29 - No Consideration   \n\n          Assessor Remarks OPM remarks                    Location  \n94398                  NaN         NaN                         NaN  \n118116                 NaN         NaN                         NaN  \n102141                 NaN         NaN  POINT (-73.12165 41.21034)  \n111943                 NaN         NaN                         NaN  \n114746                 NaN         NaN  POINT (-73.15251 41.19432)  \n...                    ...         ...                         ...  \n893710  non-qualified sale         NaN                         NaN  \n896598  non-qualified sale         NaN                         NaN  \n894866  non-qualified sale         NaN   POINT (-72.8027 41.61026)  \n890944  non-qualified sale         NaN   POINT (-72.8027 41.61026)  \n897007  non-qualified sale         NaN                         NaN  \n\n[1807 rows x 14 columns]",
      "text/html": "<div>\n<style scoped>\n    .dataframe tbody tr th:only-of-type {\n        vertical-align: middle;\n    }\n\n    .dataframe tbody tr th {\n        vertical-align: top;\n    }\n\n    .dataframe thead th {\n        text-align: right;\n    }\n</style>\n<table border=\"1\" class=\"dataframe\">\n  <thead>\n    <tr style=\"text-align: right;\">\n      <th></th>\n      <th>Serial Number</th>\n      <th>List Year</th>\n      <th>Date Recorded</th>\n      <th>Town</th>\n      <th>Address</th>\n      <th>Assessed Value</th>\n      <th>Sale Amount</th>\n      <th>Sales Ratio</th>\n      <th>Property Type</th>\n      <th>Residential Type</th>\n      <th>Non Use Code</th>\n      <th>Assessor Remarks</th>\n      <th>OPM remarks</th>\n      <th>Location</th>\n    </tr>\n  </thead>\n  <tbody>\n    <tr>\n      <th>94398</th>\n      <td>200100376</td>\n      <td>2001</td>\n      <td>2001-10-01</td>\n      <td>Hartford</td>\n      <td>190 TOWER AVE</td>\n      <td>66780.0</td>\n      <td>0.0</td>\n      <td>0.0</td>\n      <td>NaN</td>\n      <td>NaN</td>\n      <td>25</td>\n      <td>NaN</td>\n      <td>NaN</td>\n      <td>NaN</td>\n    </tr>\n    <tr>\n      <th>118116</th>\n      <td>200100703</td>\n      <td>2001</td>\n      <td>2001-10-02</td>\n      <td>Stratford</td>\n      <td>161 ALLENCREST DR</td>\n      <td>126200.0</td>\n      <td>0.0</td>\n      <td>0.0</td>\n      <td>NaN</td>\n      <td>NaN</td>\n      <td>1</td>\n      <td>NaN</td>\n      <td>NaN</td>\n      <td>NaN</td>\n    </tr>\n    <tr>\n      <th>102141</th>\n      <td>200100720</td>\n      <td>2001</td>\n      <td>2001-10-02</td>\n      <td>Stratford</td>\n      <td>372 WAKELEE AVE</td>\n      <td>124840.0</td>\n      <td>0.0</td>\n      <td>0.0</td>\n      <td>NaN</td>\n      <td>NaN</td>\n      <td>1</td>\n      <td>NaN</td>\n      <td>NaN</td>\n      <td>POINT (-73.12165 41.21034)</td>\n    </tr>\n    <tr>\n      <th>111943</th>\n      <td>200100782</td>\n      <td>2001</td>\n      <td>2001-10-02</td>\n      <td>Stratford</td>\n      <td>66 HORTENSE ST LT 1</td>\n      <td>85000.0</td>\n      <td>0.0</td>\n      <td>0.0</td>\n      <td>NaN</td>\n      <td>NaN</td>\n      <td>4</td>\n      <td>NaN</td>\n      <td>NaN</td>\n      <td>NaN</td>\n    </tr>\n    <tr>\n      <th>114746</th>\n      <td>200100825</td>\n      <td>2001</td>\n      <td>2001-10-02</td>\n      <td>Stratford</td>\n      <td>105-107 CLOVER ST</td>\n      <td>144640.0</td>\n      <td>0.0</td>\n      <td>0.0</td>\n      <td>NaN</td>\n      <td>NaN</td>\n      <td>8</td>\n      <td>NaN</td>\n      <td>NaN</td>\n      <td>POINT (-73.15251 41.19432)</td>\n    </tr>\n    <tr>\n      <th>...</th>\n      <td>...</td>\n      <td>...</td>\n      <td>...</td>\n      <td>...</td>\n      <td>...</td>\n      <td>...</td>\n      <td>...</td>\n      <td>...</td>\n      <td>...</td>\n      <td>...</td>\n      <td>...</td>\n      <td>...</td>\n      <td>...</td>\n      <td>...</td>\n    </tr>\n    <tr>\n      <th>893710</th>\n      <td>201840457</td>\n      <td>2018</td>\n      <td>2018-11-09</td>\n      <td>Berlin</td>\n      <td>1275 WORTHINGTON RIDGE</td>\n      <td>112000.0</td>\n      <td>0.0</td>\n      <td>0.0</td>\n      <td>Single Family</td>\n      <td>Single Family</td>\n      <td>29 - No Consideration</td>\n      <td>non-qualified sale</td>\n      <td>NaN</td>\n      <td>NaN</td>\n    </tr>\n    <tr>\n      <th>896598</th>\n      <td>201841109</td>\n      <td>2018</td>\n      <td>2018-11-15</td>\n      <td>Berlin</td>\n      <td>127 WETHERSFIELD ROAD</td>\n      <td>157100.0</td>\n      <td>0.0</td>\n      <td>0.0</td>\n      <td>Single Family</td>\n      <td>Single Family</td>\n      <td>29 - No Consideration</td>\n      <td>non-qualified sale</td>\n      <td>NaN</td>\n      <td>NaN</td>\n    </tr>\n    <tr>\n      <th>894866</th>\n      <td>201841431</td>\n      <td>2018</td>\n      <td>2018-11-19</td>\n      <td>Berlin</td>\n      <td>218 BROOKE MEADOW ROAD</td>\n      <td>231000.0</td>\n      <td>0.0</td>\n      <td>0.0</td>\n      <td>Single Family</td>\n      <td>Single Family</td>\n      <td>29 - No Consideration</td>\n      <td>non-qualified sale</td>\n      <td>NaN</td>\n      <td>POINT (-72.8027 41.61026)</td>\n    </tr>\n    <tr>\n      <th>890944</th>\n      <td>201841662</td>\n      <td>2018</td>\n      <td>2018-11-19</td>\n      <td>Berlin</td>\n      <td>218 BROOKE MEADOW ROAD</td>\n      <td>231000.0</td>\n      <td>0.0</td>\n      <td>0.0</td>\n      <td>Single Family</td>\n      <td>Single Family</td>\n      <td>29 - No Consideration</td>\n      <td>non-qualified sale</td>\n      <td>NaN</td>\n      <td>POINT (-72.8027 41.61026)</td>\n    </tr>\n    <tr>\n      <th>897007</th>\n      <td>201842328</td>\n      <td>2018</td>\n      <td>2018-11-26</td>\n      <td>Berlin</td>\n      <td>416 SAVAGE HILL ROAD</td>\n      <td>158300.0</td>\n      <td>0.0</td>\n      <td>0.0</td>\n      <td>Single Family</td>\n      <td>Single Family</td>\n      <td>29 - No Consideration</td>\n      <td>non-qualified sale</td>\n      <td>NaN</td>\n      <td>NaN</td>\n    </tr>\n  </tbody>\n</table>\n<p>1807 rows × 14 columns</p>\n</div>"
     },
     "execution_count": 19,
     "metadata": {},
     "output_type": "execute_result"
    }
   ],
   "source": [
    "# check the rows with Sale Amount = 0 and Non Use Code is not null\n",
    "df_csv_copy.loc[(df_csv_copy['Sale Amount'] == 0) & (~df_csv_copy['Non Use Code'].isnull())]"
   ]
  },
  {
   "cell_type": "code",
   "execution_count": 20,
   "metadata": {
    "ExecuteTime": {
     "end_time": "2023-08-17T21:16:39.011082Z",
     "start_time": "2023-08-17T21:16:38.922933Z"
    }
   },
   "outputs": [
    {
     "data": {
      "text/plain": "        Serial Number  List Year Date Recorded        Town       Address  \\\n927201      201834752       2018    2018-10-01  Burlington  219 COVEY RD   \n\n        Assessed Value  Sale Amount  Sales Ratio  Property Type  \\\n927201        164010.0          0.0          0.0  Single Family   \n\n       Residential Type Non Use Code            Assessor Remarks OPM remarks  \\\n927201    Single Family          NaN  SENDING SALES VERIFICATION         NaN   \n\n       Location  \n927201      NaN  ",
      "text/html": "<div>\n<style scoped>\n    .dataframe tbody tr th:only-of-type {\n        vertical-align: middle;\n    }\n\n    .dataframe tbody tr th {\n        vertical-align: top;\n    }\n\n    .dataframe thead th {\n        text-align: right;\n    }\n</style>\n<table border=\"1\" class=\"dataframe\">\n  <thead>\n    <tr style=\"text-align: right;\">\n      <th></th>\n      <th>Serial Number</th>\n      <th>List Year</th>\n      <th>Date Recorded</th>\n      <th>Town</th>\n      <th>Address</th>\n      <th>Assessed Value</th>\n      <th>Sale Amount</th>\n      <th>Sales Ratio</th>\n      <th>Property Type</th>\n      <th>Residential Type</th>\n      <th>Non Use Code</th>\n      <th>Assessor Remarks</th>\n      <th>OPM remarks</th>\n      <th>Location</th>\n    </tr>\n  </thead>\n  <tbody>\n    <tr>\n      <th>927201</th>\n      <td>201834752</td>\n      <td>2018</td>\n      <td>2018-10-01</td>\n      <td>Burlington</td>\n      <td>219 COVEY RD</td>\n      <td>164010.0</td>\n      <td>0.0</td>\n      <td>0.0</td>\n      <td>Single Family</td>\n      <td>Single Family</td>\n      <td>NaN</td>\n      <td>SENDING SALES VERIFICATION</td>\n      <td>NaN</td>\n      <td>NaN</td>\n    </tr>\n  </tbody>\n</table>\n</div>"
     },
     "execution_count": 20,
     "metadata": {},
     "output_type": "execute_result"
    }
   ],
   "source": [
    "# check the rows with Sale Amount = 0 and Non Use Code is null\n",
    "df_csv_copy.loc[(df_csv_copy['Sale Amount'] == 0) & (df_csv_copy['Non Use Code'].isnull())]"
   ]
  },
  {
   "cell_type": "markdown",
   "metadata": {},
   "source": [
    "We can see that there are many rows with `Sale Amount` = 0 and `Non Use Code` is not null, and this is because they have a reason which is in the `Non Use Code`, so they will not be dropped.<br />\n",
    "\n",
    "\n",
    "one row with `Sale Amount` = 0 and `Non Use Code` is null. however, we will not drop it because it has a reason which is in the `Assessor Remarks` column which tell us that the sales verification is pending. As a result, we will take the average `Sales Ratio` of this row Town, and we will apply it to the `Assessed Value` in order to get the approximate `Sales Amount`  <br />"
   ]
  },
  {
   "cell_type": "code",
   "execution_count": 21,
   "metadata": {
    "ExecuteTime": {
     "end_time": "2023-08-17T21:16:39.095460Z",
     "start_time": "2023-08-17T21:16:38.962629Z"
    }
   },
   "outputs": [
    {
     "data": {
      "text/plain": "        Serial Number  List Year Date Recorded        Town       Address  \\\n927201      201834752       2018    2018-10-01  Burlington  219 COVEY RD   \n\n        Assessed Value    Sale Amount  Sales Ratio  Property Type  \\\n927201        164010.0  145539.745028     1.126909  Single Family   \n\n       Residential Type Non Use Code            Assessor Remarks OPM remarks  \\\n927201    Single Family          NaN  SENDING SALES VERIFICATION         NaN   \n\n       Location  \n927201      NaN  ",
      "text/html": "<div>\n<style scoped>\n    .dataframe tbody tr th:only-of-type {\n        vertical-align: middle;\n    }\n\n    .dataframe tbody tr th {\n        vertical-align: top;\n    }\n\n    .dataframe thead th {\n        text-align: right;\n    }\n</style>\n<table border=\"1\" class=\"dataframe\">\n  <thead>\n    <tr style=\"text-align: right;\">\n      <th></th>\n      <th>Serial Number</th>\n      <th>List Year</th>\n      <th>Date Recorded</th>\n      <th>Town</th>\n      <th>Address</th>\n      <th>Assessed Value</th>\n      <th>Sale Amount</th>\n      <th>Sales Ratio</th>\n      <th>Property Type</th>\n      <th>Residential Type</th>\n      <th>Non Use Code</th>\n      <th>Assessor Remarks</th>\n      <th>OPM remarks</th>\n      <th>Location</th>\n    </tr>\n  </thead>\n  <tbody>\n    <tr>\n      <th>927201</th>\n      <td>201834752</td>\n      <td>2018</td>\n      <td>2018-10-01</td>\n      <td>Burlington</td>\n      <td>219 COVEY RD</td>\n      <td>164010.0</td>\n      <td>145539.745028</td>\n      <td>1.126909</td>\n      <td>Single Family</td>\n      <td>Single Family</td>\n      <td>NaN</td>\n      <td>SENDING SALES VERIFICATION</td>\n      <td>NaN</td>\n      <td>NaN</td>\n    </tr>\n  </tbody>\n</table>\n</div>"
     },
     "execution_count": 21,
     "metadata": {},
     "output_type": "execute_result"
    }
   ],
   "source": [
    "# find the row with Sale Amount = 0 and Non Use Code is null\n",
    "tmp_row = df_csv_copy.loc[(df_csv_copy['Sale Amount'] == 0) & (df_csv_copy['Non Use Code'].isnull())]\n",
    "\n",
    "# find the average Sales Ratio of this row Town\n",
    "avg_sales_ratio = df_csv_copy.loc[\n",
    "    (df_csv_copy['Town'] == tmp_row['Town'].values[0]) & (df_csv_copy['Sale Amount'] != 0), 'Sales Ratio'].mean()\n",
    "\n",
    "# apply the average Sales Ratio to the Assessed Value to get the approximate Sales Amount\n",
    "df_csv_copy.loc[(df_csv_copy['Serial Number'] == tmp_row['Serial Number'].values[0]), 'Sale Amount'] = \\\n",
    "    df_csv_copy.loc[\n",
    "        (df_csv_copy['Serial Number'] == tmp_row['Serial Number'].values[0]), 'Assessed Value'] * avg_sales_ratio\n",
    "\n",
    "# update the Sale Ratio\n",
    "df_csv_copy.loc[(df_csv_copy['Serial Number'] == tmp_row['Serial Number'].values[0]), 'Sales Ratio'] = df_csv_copy.loc[(\n",
    "        df_csv_copy['Serial Number'] == tmp_row['Serial Number'].values[0]), 'Assessed Value'] / df_csv_copy.loc[(\n",
    "        df_csv_copy['Serial Number'] == tmp_row['Serial Number'].values[0]), 'Sale Amount']\n",
    "\n",
    "# check the row with Sale Amount = 0 and Non Use Code is null\n",
    "df_csv_copy.loc[(df_csv_copy['Serial Number'] == tmp_row['Serial Number'].values[0])]"
   ]
  },
  {
   "cell_type": "markdown",
   "metadata": {},
   "source": [
    "### Quality Issue #4\n",
    "Locking at the first column `Property Type` and `Residential Type`, it seems that they are the same column. <br />\n",
    "#### We will investigate this further in the next step and decide weather to merge them or not."
   ]
  },
  {
   "cell_type": "code",
   "execution_count": 22,
   "metadata": {
    "ExecuteTime": {
     "end_time": "2023-08-17T21:16:39.200725Z",
     "start_time": "2023-08-17T21:16:39.117379Z"
    }
   },
   "outputs": [
    {
     "data": {
      "text/plain": "       Serial Number  List Year Date Recorded           Town  \\\n25089      202044384       2020    2020-10-01     Colchester   \n33507      202044385       2020    2020-10-01        Shelton   \n19844      202044386       2020    2020-10-01     Brookfield   \n63351      202044387       2020    2020-10-01     Washington   \n8521       202044388       2020    2020-10-01        Ansonia   \n...              ...        ...           ...            ...   \n24429      202148436       2020    2021-09-30         Bethel   \n24433      202148437       2020    2021-09-30    East Granby   \n38638      202148439       2020    2021-09-30        Norwich   \n36216      202148440       2020    2021-09-30  New Fairfield   \n16188      202148441       2020    2021-09-30         Groton   \n\n                  Address  Assessed Value  Sale Amount  Sales Ratio  \\\n25089   72 CATO CORNER RD        178300.0     300000.0     0.594300   \n33507     77 LAKEVIEW AVE        110810.0     205000.0     0.540500   \n19844      3 FLEETWOOD LN        240920.0     287500.0     0.837900   \n63351  167 CHURCH HILL RD       1006380.0    1010000.0     0.996400   \n8521         75 JEWETT ST        115700.0     165000.0     0.701212   \n...                   ...             ...          ...          ...   \n24429   1 EAGLE ROCK ROAD        118440.0     275000.0     0.430600   \n24433         1 KIRKSTONE         72800.0     475000.0     0.153200   \n38638   180 PALMER ST EXT         78300.0     149000.0     0.525500   \n36216   9 MUSKET RIDGE RD        276700.0     600000.0     0.461100   \n16188  122A CANDLEWOOD RD         26460.0      30000.0     0.882000   \n\n      Property Type Residential Type             Non Use Code  \\\n25089   Residential    Single Family                      NaN   \n33507   Residential    Single Family                      NaN   \n19844   Residential    Single Family               25 - Other   \n63351   Residential    Single Family                      NaN   \n8521    Residential       Two Family                      NaN   \n...             ...              ...                      ...   \n24429   Residential            Condo                      NaN   \n24433   Residential    Single Family  07 - Change in Property   \n38638   Residential       Two Family                      NaN   \n36216   Residential    Single Family                      NaN   \n16188   Residential    Single Family                      NaN   \n\n                                        Assessor Remarks OPM remarks  \\\n25089                                                NaN         NaN   \n33507                                                NaN         NaN   \n19844  MOVED TO SOUTHBURY TOOK FIRST OFFER NO REALTOR...         NaN   \n63351                                                NaN         NaN   \n8521                                                 NaN         NaN   \n...                                                  ...         ...   \n24429                                                NaN         NaN   \n24433                         NEW SINGLE FAMILY DWELLING         NaN   \n38638                                                NaN         NaN   \n36216                                                NaN         NaN   \n16188                                        MOBILE HOME         NaN   \n\n                         Location  \n25089                         NaN  \n33507    POINT (-73.1038 41.3221)  \n19844  POINT (-73.33855 41.47137)  \n63351                         NaN  \n8521                          NaN  \n...                           ...  \n24429                         NaN  \n24433  POINT (-72.75001 41.94244)  \n38638  POINT (-72.05776 41.51904)  \n36216                         NaN  \n16188                         NaN  \n\n[60728 rows x 14 columns]",
      "text/html": "<div>\n<style scoped>\n    .dataframe tbody tr th:only-of-type {\n        vertical-align: middle;\n    }\n\n    .dataframe tbody tr th {\n        vertical-align: top;\n    }\n\n    .dataframe thead th {\n        text-align: right;\n    }\n</style>\n<table border=\"1\" class=\"dataframe\">\n  <thead>\n    <tr style=\"text-align: right;\">\n      <th></th>\n      <th>Serial Number</th>\n      <th>List Year</th>\n      <th>Date Recorded</th>\n      <th>Town</th>\n      <th>Address</th>\n      <th>Assessed Value</th>\n      <th>Sale Amount</th>\n      <th>Sales Ratio</th>\n      <th>Property Type</th>\n      <th>Residential Type</th>\n      <th>Non Use Code</th>\n      <th>Assessor Remarks</th>\n      <th>OPM remarks</th>\n      <th>Location</th>\n    </tr>\n  </thead>\n  <tbody>\n    <tr>\n      <th>25089</th>\n      <td>202044384</td>\n      <td>2020</td>\n      <td>2020-10-01</td>\n      <td>Colchester</td>\n      <td>72 CATO CORNER RD</td>\n      <td>178300.0</td>\n      <td>300000.0</td>\n      <td>0.594300</td>\n      <td>Residential</td>\n      <td>Single Family</td>\n      <td>NaN</td>\n      <td>NaN</td>\n      <td>NaN</td>\n      <td>NaN</td>\n    </tr>\n    <tr>\n      <th>33507</th>\n      <td>202044385</td>\n      <td>2020</td>\n      <td>2020-10-01</td>\n      <td>Shelton</td>\n      <td>77 LAKEVIEW AVE</td>\n      <td>110810.0</td>\n      <td>205000.0</td>\n      <td>0.540500</td>\n      <td>Residential</td>\n      <td>Single Family</td>\n      <td>NaN</td>\n      <td>NaN</td>\n      <td>NaN</td>\n      <td>POINT (-73.1038 41.3221)</td>\n    </tr>\n    <tr>\n      <th>19844</th>\n      <td>202044386</td>\n      <td>2020</td>\n      <td>2020-10-01</td>\n      <td>Brookfield</td>\n      <td>3 FLEETWOOD LN</td>\n      <td>240920.0</td>\n      <td>287500.0</td>\n      <td>0.837900</td>\n      <td>Residential</td>\n      <td>Single Family</td>\n      <td>25 - Other</td>\n      <td>MOVED TO SOUTHBURY TOOK FIRST OFFER NO REALTOR...</td>\n      <td>NaN</td>\n      <td>POINT (-73.33855 41.47137)</td>\n    </tr>\n    <tr>\n      <th>63351</th>\n      <td>202044387</td>\n      <td>2020</td>\n      <td>2020-10-01</td>\n      <td>Washington</td>\n      <td>167 CHURCH HILL RD</td>\n      <td>1006380.0</td>\n      <td>1010000.0</td>\n      <td>0.996400</td>\n      <td>Residential</td>\n      <td>Single Family</td>\n      <td>NaN</td>\n      <td>NaN</td>\n      <td>NaN</td>\n      <td>NaN</td>\n    </tr>\n    <tr>\n      <th>8521</th>\n      <td>202044388</td>\n      <td>2020</td>\n      <td>2020-10-01</td>\n      <td>Ansonia</td>\n      <td>75 JEWETT ST</td>\n      <td>115700.0</td>\n      <td>165000.0</td>\n      <td>0.701212</td>\n      <td>Residential</td>\n      <td>Two Family</td>\n      <td>NaN</td>\n      <td>NaN</td>\n      <td>NaN</td>\n      <td>NaN</td>\n    </tr>\n    <tr>\n      <th>...</th>\n      <td>...</td>\n      <td>...</td>\n      <td>...</td>\n      <td>...</td>\n      <td>...</td>\n      <td>...</td>\n      <td>...</td>\n      <td>...</td>\n      <td>...</td>\n      <td>...</td>\n      <td>...</td>\n      <td>...</td>\n      <td>...</td>\n      <td>...</td>\n    </tr>\n    <tr>\n      <th>24429</th>\n      <td>202148436</td>\n      <td>2020</td>\n      <td>2021-09-30</td>\n      <td>Bethel</td>\n      <td>1 EAGLE ROCK ROAD</td>\n      <td>118440.0</td>\n      <td>275000.0</td>\n      <td>0.430600</td>\n      <td>Residential</td>\n      <td>Condo</td>\n      <td>NaN</td>\n      <td>NaN</td>\n      <td>NaN</td>\n      <td>NaN</td>\n    </tr>\n    <tr>\n      <th>24433</th>\n      <td>202148437</td>\n      <td>2020</td>\n      <td>2021-09-30</td>\n      <td>East Granby</td>\n      <td>1 KIRKSTONE</td>\n      <td>72800.0</td>\n      <td>475000.0</td>\n      <td>0.153200</td>\n      <td>Residential</td>\n      <td>Single Family</td>\n      <td>07 - Change in Property</td>\n      <td>NEW SINGLE FAMILY DWELLING</td>\n      <td>NaN</td>\n      <td>POINT (-72.75001 41.94244)</td>\n    </tr>\n    <tr>\n      <th>38638</th>\n      <td>202148439</td>\n      <td>2020</td>\n      <td>2021-09-30</td>\n      <td>Norwich</td>\n      <td>180 PALMER ST EXT</td>\n      <td>78300.0</td>\n      <td>149000.0</td>\n      <td>0.525500</td>\n      <td>Residential</td>\n      <td>Two Family</td>\n      <td>NaN</td>\n      <td>NaN</td>\n      <td>NaN</td>\n      <td>POINT (-72.05776 41.51904)</td>\n    </tr>\n    <tr>\n      <th>36216</th>\n      <td>202148440</td>\n      <td>2020</td>\n      <td>2021-09-30</td>\n      <td>New Fairfield</td>\n      <td>9 MUSKET RIDGE RD</td>\n      <td>276700.0</td>\n      <td>600000.0</td>\n      <td>0.461100</td>\n      <td>Residential</td>\n      <td>Single Family</td>\n      <td>NaN</td>\n      <td>NaN</td>\n      <td>NaN</td>\n      <td>NaN</td>\n    </tr>\n    <tr>\n      <th>16188</th>\n      <td>202148441</td>\n      <td>2020</td>\n      <td>2021-09-30</td>\n      <td>Groton</td>\n      <td>122A CANDLEWOOD RD</td>\n      <td>26460.0</td>\n      <td>30000.0</td>\n      <td>0.882000</td>\n      <td>Residential</td>\n      <td>Single Family</td>\n      <td>NaN</td>\n      <td>MOBILE HOME</td>\n      <td>NaN</td>\n      <td>NaN</td>\n    </tr>\n  </tbody>\n</table>\n<p>60728 rows × 14 columns</p>\n</div>"
     },
     "execution_count": 22,
     "metadata": {},
     "output_type": "execute_result"
    }
   ],
   "source": [
    "# check the rows with Property Type =! Residential\n",
    "df_csv_copy.loc[(df_csv_copy['Property Type'] != df_csv_copy['Residential Type']) &\n",
    "                (~df_csv_copy['Residential Type'].isnull()) &\n",
    "                (~df_csv_copy['Property Type'].isnull())]"
   ]
  },
  {
   "cell_type": "markdown",
   "metadata": {},
   "source": [
    "From the result, we can see that there are many rows that have different values in the `Property Type` and `Residential Type` columns. So we will not merge them.<br />\n",
    "#### However, this will be considered as a Tidiness Issue now."
   ]
  },
  {
   "cell_type": "markdown",
   "metadata": {},
   "source": [
    "### Tidiness Issue #1\n",
    "#### From the result, we can see that there are many rows that have different values in the `Property Type` and `Residential Type` columns. So we will not merge them.<br />\n",
    "#### However, we will drop the rows with missing values `Residential Type` and `Property Type` columns because they have more than 30% missing values."
   ]
  },
  {
   "cell_type": "code",
   "execution_count": 23,
   "metadata": {
    "ExecuteTime": {
     "end_time": "2023-08-17T21:16:39.977345Z",
     "start_time": "2023-08-17T21:16:39.388237Z"
    }
   },
   "outputs": [
    {
     "name": "stdout",
     "output_type": "stream",
     "text": [
      "<class 'pandas.core.frame.DataFrame'>\n",
      "Int64Index: 608904 entries, 857905 to 16188\n",
      "Data columns (total 14 columns):\n",
      " #   Column            Non-Null Count   Dtype         \n",
      "---  ------            --------------   -----         \n",
      " 0   Serial Number     608904 non-null  int64         \n",
      " 1   List Year         608904 non-null  int64         \n",
      " 2   Date Recorded     608904 non-null  datetime64[ns]\n",
      " 3   Town              608904 non-null  object        \n",
      " 4   Address           608900 non-null  object        \n",
      " 5   Assessed Value    608904 non-null  float64       \n",
      " 6   Sale Amount       608904 non-null  float64       \n",
      " 7   Sales Ratio       608904 non-null  float64       \n",
      " 8   Property Type     608904 non-null  object        \n",
      " 9   Residential Type  608904 non-null  object        \n",
      " 10  Non Use Code      182400 non-null  object        \n",
      " 11  Assessor Remarks  125627 non-null  object        \n",
      " 12  OPM remarks       9022 non-null    object        \n",
      " 13  Location          123755 non-null  object        \n",
      "dtypes: datetime64[ns](1), float64(3), int64(2), object(8)\n",
      "memory usage: 69.7+ MB\n"
     ]
    }
   ],
   "source": [
    "# Drop the rows with missing values in the Residential Type and Property Type columns\n",
    "df_csv_copy.dropna(subset=['Residential Type', 'Property Type'], inplace=True)\n",
    "\n",
    "# check the dataframe\n",
    "df_csv_copy.info()"
   ]
  },
  {
   "cell_type": "markdown",
   "metadata": {},
   "source": [
    "### Tidiness Issue #2\n",
    "The columns name are not following the rules of the tidy data. <br />\n",
    "#### We will rename the columns to follow the rules of the tidy data."
   ]
  },
  {
   "cell_type": "code",
   "execution_count": 24,
   "metadata": {
    "ExecuteTime": {
     "end_time": "2023-08-17T21:16:39.981984Z",
     "start_time": "2023-08-17T21:16:39.978844Z"
    }
   },
   "outputs": [
    {
     "data": {
      "text/plain": "Index(['serial_number', 'list_year', 'date_recorded', 'town', 'address',\n       'assessed_value', 'sale_amount', 'sales_ratio', 'property_type',\n       'residential_type', 'non_use_code', 'assessor_remarks', 'opm_remarks',\n       'location'],\n      dtype='object')"
     },
     "execution_count": 24,
     "metadata": {},
     "output_type": "execute_result"
    }
   ],
   "source": [
    "# Change the columns names to lower case and replace the spaces with underscore\n",
    "df_csv_copy.rename(columns=lambda x: x.strip().lower().replace(\" \", \"_\"), inplace=True)\n",
    "\n",
    "# check the columns names\n",
    "df_csv_copy.columns"
   ]
  },
  {
   "cell_type": "code",
   "execution_count": 25,
   "outputs": [
    {
     "data": {
      "text/plain": "   serial_number  list_year date_recorded        town             address  \\\n0      199900001       2017    1999-04-05  New London  184 PEQUOT AVE 309   \n1      200100001       2017    2001-08-01     Shelton    19 BLACKBERRY LA   \n2      200100002       2017    2001-08-23     Shelton   12 BOYSENBERRY LA   \n3      200100003       2006    2001-09-04   Newington       110 MOYLAN CT   \n4      200100004       2006    2001-09-05   Newington     48 EVERGREEN RD   \n\n   assessed_value  sale_amount  sales_ratio  property_type residential_type  \\\n0         46690.0      95000.0     0.491400          Condo            Condo   \n1        390810.0     635000.0     0.615449  Single Family    Single Family   \n2        427910.0     558000.0     0.766864  Single Family    Single Family   \n3         64750.0      88000.0     0.735795          Condo            Condo   \n4        166110.0     256000.0     0.648867  Single Family    Single Family   \n\n  non_use_code assessor_remarks opm_remarks                   location  \n0          NaN              NaN         NaN                        NaN  \n1          NaN              NaN         NaN                        NaN  \n2          NaN              NaN         NaN                        NaN  \n3          NaN              NaN         NaN  POINT (-72.72554 41.7149)  \n4          NaN              NaN         NaN                        NaN  ",
      "text/html": "<div>\n<style scoped>\n    .dataframe tbody tr th:only-of-type {\n        vertical-align: middle;\n    }\n\n    .dataframe tbody tr th {\n        vertical-align: top;\n    }\n\n    .dataframe thead th {\n        text-align: right;\n    }\n</style>\n<table border=\"1\" class=\"dataframe\">\n  <thead>\n    <tr style=\"text-align: right;\">\n      <th></th>\n      <th>serial_number</th>\n      <th>list_year</th>\n      <th>date_recorded</th>\n      <th>town</th>\n      <th>address</th>\n      <th>assessed_value</th>\n      <th>sale_amount</th>\n      <th>sales_ratio</th>\n      <th>property_type</th>\n      <th>residential_type</th>\n      <th>non_use_code</th>\n      <th>assessor_remarks</th>\n      <th>opm_remarks</th>\n      <th>location</th>\n    </tr>\n  </thead>\n  <tbody>\n    <tr>\n      <th>0</th>\n      <td>199900001</td>\n      <td>2017</td>\n      <td>1999-04-05</td>\n      <td>New London</td>\n      <td>184 PEQUOT AVE 309</td>\n      <td>46690.0</td>\n      <td>95000.0</td>\n      <td>0.491400</td>\n      <td>Condo</td>\n      <td>Condo</td>\n      <td>NaN</td>\n      <td>NaN</td>\n      <td>NaN</td>\n      <td>NaN</td>\n    </tr>\n    <tr>\n      <th>1</th>\n      <td>200100001</td>\n      <td>2017</td>\n      <td>2001-08-01</td>\n      <td>Shelton</td>\n      <td>19 BLACKBERRY LA</td>\n      <td>390810.0</td>\n      <td>635000.0</td>\n      <td>0.615449</td>\n      <td>Single Family</td>\n      <td>Single Family</td>\n      <td>NaN</td>\n      <td>NaN</td>\n      <td>NaN</td>\n      <td>NaN</td>\n    </tr>\n    <tr>\n      <th>2</th>\n      <td>200100002</td>\n      <td>2017</td>\n      <td>2001-08-23</td>\n      <td>Shelton</td>\n      <td>12 BOYSENBERRY LA</td>\n      <td>427910.0</td>\n      <td>558000.0</td>\n      <td>0.766864</td>\n      <td>Single Family</td>\n      <td>Single Family</td>\n      <td>NaN</td>\n      <td>NaN</td>\n      <td>NaN</td>\n      <td>NaN</td>\n    </tr>\n    <tr>\n      <th>3</th>\n      <td>200100003</td>\n      <td>2006</td>\n      <td>2001-09-04</td>\n      <td>Newington</td>\n      <td>110 MOYLAN CT</td>\n      <td>64750.0</td>\n      <td>88000.0</td>\n      <td>0.735795</td>\n      <td>Condo</td>\n      <td>Condo</td>\n      <td>NaN</td>\n      <td>NaN</td>\n      <td>NaN</td>\n      <td>POINT (-72.72554 41.7149)</td>\n    </tr>\n    <tr>\n      <th>4</th>\n      <td>200100004</td>\n      <td>2006</td>\n      <td>2001-09-05</td>\n      <td>Newington</td>\n      <td>48 EVERGREEN RD</td>\n      <td>166110.0</td>\n      <td>256000.0</td>\n      <td>0.648867</td>\n      <td>Single Family</td>\n      <td>Single Family</td>\n      <td>NaN</td>\n      <td>NaN</td>\n      <td>NaN</td>\n      <td>NaN</td>\n    </tr>\n  </tbody>\n</table>\n</div>"
     },
     "execution_count": 25,
     "metadata": {},
     "output_type": "execute_result"
    }
   ],
   "source": [
    "# let us reset the index of the dataframe\n",
    "df_csv_copy.reset_index(drop=True, inplace=True)\n",
    "\n",
    "# check the dataframe\n",
    "df_csv_copy.head()"
   ],
   "metadata": {
    "collapsed": false,
    "ExecuteTime": {
     "end_time": "2023-08-17T21:16:39.991052Z",
     "start_time": "2023-08-17T21:16:39.988260Z"
    }
   }
  },
  {
   "cell_type": "markdown",
   "source": [
    "#### After we have cleaned the data, we will check if there are any duplicated rows"
   ],
   "metadata": {
    "collapsed": false
   }
  },
  {
   "cell_type": "code",
   "execution_count": 26,
   "outputs": [
    {
     "data": {
      "text/plain": "<Figure size 432x288 with 1 Axes>",
      "image/png": "[encoded data removed]"
     },
     "metadata": {
      "needs_background": "light"
     },
     "output_type": "display_data"
    },
    {
     "name": "stdout",
     "output_type": "stream",
     "text": [
      "Number of exact duplicated rows: False    606782\n",
      "True       2122\n",
      "dtype: int64\n"
     ]
    }
   ],
   "source": [
    "# let us check if there are any exact-duplicated rows, we will ignore the serial number column because it is unique\n",
    "df_csv_copy.duplicated(subset=df_csv_copy.columns.difference(['serial_number'])).sum()\n",
    "\n",
    "# Plot the number of duplicated rows\n",
    "duplicated_counts = df_csv_copy.duplicated(subset=df_csv_copy.columns.difference(['serial_number'])).value_counts()\n",
    "duplicated_counts.plot(kind='bar', color=['green', 'red'])\n",
    "\n",
    "plt.ylabel('Count')\n",
    "plt.title('Count of Duplicated Rows')\n",
    "plt.xticks([0, 1], ['Not Duplicated', 'Duplicated'], rotation=0)\n",
    "plt.show()\n",
    "\n",
    "print(f\"Number of exact duplicated rows: {duplicated_counts}\")"
   ],
   "metadata": {
    "collapsed": false,
    "ExecuteTime": {
     "end_time": "2023-08-17T21:16:41.235164Z",
     "start_time": "2023-08-17T21:16:39.994153Z"
    }
   }
  },
  {
   "cell_type": "code",
   "execution_count": 27,
   "outputs": [
    {
     "data": {
      "text/plain": "<Figure size 432x288 with 1 Axes>",
      "image/png": "[encoded data removed]"
     },
     "metadata": {
      "needs_background": "light"
     },
     "output_type": "display_data"
    },
    {
     "name": "stdout",
     "output_type": "stream",
     "text": [
      "Number of exact duplicated rows: False    606782\n",
      "dtype: int64\n"
     ]
    }
   ],
   "source": [
    "# delete the duplicated rows\n",
    "df_csv_copy.drop_duplicates(subset=df_csv_copy.columns.difference(['serial_number']), inplace=True)\n",
    "\n",
    "# validate that there are no duplicated rows using visual assessment\n",
    "duplicated_counts = df_csv_copy.duplicated(subset=df_csv_copy.columns.difference(['serial_number'])).value_counts()\n",
    "duplicated_counts.plot(kind='bar', color=['green', 'red'])\n",
    "\n",
    "plt.ylabel('Count')\n",
    "plt.title('Count of Duplicated Rows')\n",
    "plt.xticks([0, 1], ['Not Duplicated', 'Duplicated'], rotation=0)\n",
    "plt.show()\n",
    "\n",
    "print(f\"Number of exact duplicated rows: {duplicated_counts}\")"
   ],
   "metadata": {
    "collapsed": false,
    "ExecuteTime": {
     "end_time": "2023-08-17T21:16:42.501621Z",
     "start_time": "2023-08-17T21:16:41.236217Z"
    }
   }
  },
  {
   "cell_type": "markdown",
   "metadata": {},
   "source": [
    "# Assess and Clean dataset from the API\n",
    "## Now we will assess and clean the dataset from the API"
   ]
  },
  {
   "cell_type": "markdown",
   "metadata": {},
   "source": [
    "### Assess the data visually"
   ]
  },
  {
   "cell_type": "code",
   "execution_count": 28,
   "metadata": {
    "ExecuteTime": {
     "end_time": "2023-08-17T21:16:42.522555Z",
     "start_time": "2023-08-17T21:16:42.516688Z"
    }
   },
   "outputs": [
    {
     "data": {
      "text/plain": "  serialnumber listyear             daterecorded     town  \\\n0        20001     2020  2020-10-05T00:00:00.000  Andover   \n1        20002     2020  2020-10-15T00:00:00.000  Andover   \n2        20003     2020  2020-10-22T00:00:00.000  Andover   \n3        20004     2020  2020-11-02T00:00:00.000  Andover   \n4        20005     2020  2020-11-09T00:00:00.000  Andover   \n5        20006     2020  2020-11-23T00:00:00.000  Andover   \n6        20007     2020  2020-11-23T00:00:00.000  Andover   \n7        20008     2020  2020-12-01T00:00:00.000  Andover   \n8        20009     2020  2020-12-01T00:00:00.000  Andover   \n9        20010     2020  2020-12-02T00:00:00.000  Andover   \n\n                address assessedvalue saleamount   salesratio propertytype  \\\n0           303 LAKE RD        121300     210000       0.5776  Residential   \n1        78 WINDRUSH LN        181800     275000  0.661090909  Residential   \n2    203 BOSTON HILL RD        190200     279900       0.6795  Residential   \n3   23 PARKER BRIDGE RD        172900     272000       0.6356  Residential   \n4      181 LONG HILL RD        152800     255000       0.5992  Residential   \n5       147 WHEELING RD        143200     285000       0.5024  Residential   \n6       35 OLD FARMS RD        232600     347900       0.6685  Residential   \n7           40 RIDGE RD        186000     270000       0.6888  Residential   \n8  12 WEBSTER LN BOLTON          2700      67269  0.040137359  Vacant Land   \n9           3 GILEAD RD        151700     271000       0.5597  Residential   \n\n  residentialtype                                    geo_coordinates  \\\n0   Single Family  {'type': 'Point', 'coordinates': [-72.35327, 4...   \n1   Single Family                                                NaN   \n2   Single Family  {'type': 'Point', 'coordinates': [-72.39695, 4...   \n3   Single Family  {'type': 'Point', 'coordinates': [-72.33558, 4...   \n4   Single Family                                                NaN   \n5   Single Family                                                NaN   \n6   Single Family                                                NaN   \n7   Single Family                                                NaN   \n8             NaN  {'type': 'Point', 'coordinates': [-72.42136, 4...   \n9   Single Family  {'type': 'Point', 'coordinates': [-72.37228, 4...   \n\n  :@computed_region_dam5_q64j :@computed_region_nhmp_cq6b  \\\n0                          38                         246   \n1                         NaN                         NaN   \n2                          38                         246   \n3                          38                         246   \n4                         NaN                         NaN   \n5                         NaN                         NaN   \n6                         NaN                         NaN   \n7                         NaN                         NaN   \n8                          38                         209   \n9                          38                         246   \n\n  :@computed_region_m4y2_whse :@computed_region_snd5_k6zv      nonusecode  \\\n0                           1                           1             NaN   \n1                         NaN                         NaN             NaN   \n2                           1                           1             NaN   \n3                           1                           1             NaN   \n4                         NaN                         NaN             NaN   \n5                         NaN                         NaN             NaN   \n6                         NaN                         NaN             NaN   \n7                         NaN                         NaN             NaN   \n8                           1                           1  17 - Two Towns   \n9                           1                           1             NaN   \n\n                                           remarks opm_remarks  \n0                                              NaN         NaN  \n1                                              NaN         NaN  \n2                                              NaN         NaN  \n3                                              NaN         NaN  \n4                                              NaN         NaN  \n5                                              NaN         NaN  \n6                                              NaN         NaN  \n7                                              NaN         NaN  \n8  THIS IS A 2 TOWN PROPERTY IN BOLTON AND ANDOVER         NaN  \n9                                              NaN         NaN  ",
      "text/html": "<div>\n<style scoped>\n    .dataframe tbody tr th:only-of-type {\n        vertical-align: middle;\n    }\n\n    .dataframe tbody tr th {\n        vertical-align: top;\n    }\n\n    .dataframe thead th {\n        text-align: right;\n    }\n</style>\n<table border=\"1\" class=\"dataframe\">\n  <thead>\n    <tr style=\"text-align: right;\">\n      <th></th>\n      <th>serialnumber</th>\n      <th>listyear</th>\n      <th>daterecorded</th>\n      <th>town</th>\n      <th>address</th>\n      <th>assessedvalue</th>\n      <th>saleamount</th>\n      <th>salesratio</th>\n      <th>propertytype</th>\n      <th>residentialtype</th>\n      <th>geo_coordinates</th>\n      <th>:@computed_region_dam5_q64j</th>\n      <th>:@computed_region_nhmp_cq6b</th>\n      <th>:@computed_region_m4y2_whse</th>\n      <th>:@computed_region_snd5_k6zv</th>\n      <th>nonusecode</th>\n      <th>remarks</th>\n      <th>opm_remarks</th>\n    </tr>\n  </thead>\n  <tbody>\n    <tr>\n      <th>0</th>\n      <td>20001</td>\n      <td>2020</td>\n      <td>2020-10-05T00:00:00.000</td>\n      <td>Andover</td>\n      <td>303 LAKE RD</td>\n      <td>121300</td>\n      <td>210000</td>\n      <td>0.5776</td>\n      <td>Residential</td>\n      <td>Single Family</td>\n      <td>{'type': 'Point', 'coordinates': [-72.35327, 4...</td>\n      <td>38</td>\n      <td>246</td>\n      <td>1</td>\n      <td>1</td>\n      <td>NaN</td>\n      <td>NaN</td>\n      <td>NaN</td>\n    </tr>\n    <tr>\n      <th>1</th>\n      <td>20002</td>\n      <td>2020</td>\n      <td>2020-10-15T00:00:00.000</td>\n      <td>Andover</td>\n      <td>78 WINDRUSH LN</td>\n      <td>181800</td>\n      <td>275000</td>\n      <td>0.661090909</td>\n      <td>Residential</td>\n      <td>Single Family</td>\n      <td>NaN</td>\n      <td>NaN</td>\n      <td>NaN</td>\n      <td>NaN</td>\n      <td>NaN</td>\n      <td>NaN</td>\n      <td>NaN</td>\n      <td>NaN</td>\n    </tr>\n    <tr>\n      <th>2</th>\n      <td>20003</td>\n      <td>2020</td>\n      <td>2020-10-22T00:00:00.000</td>\n      <td>Andover</td>\n      <td>203 BOSTON HILL RD</td>\n      <td>190200</td>\n      <td>279900</td>\n      <td>0.6795</td>\n      <td>Residential</td>\n      <td>Single Family</td>\n      <td>{'type': 'Point', 'coordinates': [-72.39695, 4...</td>\n      <td>38</td>\n      <td>246</td>\n      <td>1</td>\n      <td>1</td>\n      <td>NaN</td>\n      <td>NaN</td>\n      <td>NaN</td>\n    </tr>\n    <tr>\n      <th>3</th>\n      <td>20004</td>\n      <td>2020</td>\n      <td>2020-11-02T00:00:00.000</td>\n      <td>Andover</td>\n      <td>23 PARKER BRIDGE RD</td>\n      <td>172900</td>\n      <td>272000</td>\n      <td>0.6356</td>\n      <td>Residential</td>\n      <td>Single Family</td>\n      <td>{'type': 'Point', 'coordinates': [-72.33558, 4...</td>\n      <td>38</td>\n      <td>246</td>\n      <td>1</td>\n      <td>1</td>\n      <td>NaN</td>\n      <td>NaN</td>\n      <td>NaN</td>\n    </tr>\n    <tr>\n      <th>4</th>\n      <td>20005</td>\n      <td>2020</td>\n      <td>2020-11-09T00:00:00.000</td>\n      <td>Andover</td>\n      <td>181 LONG HILL RD</td>\n      <td>152800</td>\n      <td>255000</td>\n      <td>0.5992</td>\n      <td>Residential</td>\n      <td>Single Family</td>\n      <td>NaN</td>\n      <td>NaN</td>\n      <td>NaN</td>\n      <td>NaN</td>\n      <td>NaN</td>\n      <td>NaN</td>\n      <td>NaN</td>\n      <td>NaN</td>\n    </tr>\n    <tr>\n      <th>5</th>\n      <td>20006</td>\n      <td>2020</td>\n      <td>2020-11-23T00:00:00.000</td>\n      <td>Andover</td>\n      <td>147 WHEELING RD</td>\n      <td>143200</td>\n      <td>285000</td>\n      <td>0.5024</td>\n      <td>Residential</td>\n      <td>Single Family</td>\n      <td>NaN</td>\n      <td>NaN</td>\n      <td>NaN</td>\n      <td>NaN</td>\n      <td>NaN</td>\n      <td>NaN</td>\n      <td>NaN</td>\n      <td>NaN</td>\n    </tr>\n    <tr>\n      <th>6</th>\n      <td>20007</td>\n      <td>2020</td>\n      <td>2020-11-23T00:00:00.000</td>\n      <td>Andover</td>\n      <td>35 OLD FARMS RD</td>\n      <td>232600</td>\n      <td>347900</td>\n      <td>0.6685</td>\n      <td>Residential</td>\n      <td>Single Family</td>\n      <td>NaN</td>\n      <td>NaN</td>\n      <td>NaN</td>\n      <td>NaN</td>\n      <td>NaN</td>\n      <td>NaN</td>\n      <td>NaN</td>\n      <td>NaN</td>\n    </tr>\n    <tr>\n      <th>7</th>\n      <td>20008</td>\n      <td>2020</td>\n      <td>2020-12-01T00:00:00.000</td>\n      <td>Andover</td>\n      <td>40 RIDGE RD</td>\n      <td>186000</td>\n      <td>270000</td>\n      <td>0.6888</td>\n      <td>Residential</td>\n      <td>Single Family</td>\n      <td>NaN</td>\n      <td>NaN</td>\n      <td>NaN</td>\n      <td>NaN</td>\n      <td>NaN</td>\n      <td>NaN</td>\n      <td>NaN</td>\n      <td>NaN</td>\n    </tr>\n    <tr>\n      <th>8</th>\n      <td>20009</td>\n      <td>2020</td>\n      <td>2020-12-01T00:00:00.000</td>\n      <td>Andover</td>\n      <td>12 WEBSTER LN BOLTON</td>\n      <td>2700</td>\n      <td>67269</td>\n      <td>0.040137359</td>\n      <td>Vacant Land</td>\n      <td>NaN</td>\n      <td>{'type': 'Point', 'coordinates': [-72.42136, 4...</td>\n      <td>38</td>\n      <td>209</td>\n      <td>1</td>\n      <td>1</td>\n      <td>17 - Two Towns</td>\n      <td>THIS IS A 2 TOWN PROPERTY IN BOLTON AND ANDOVER</td>\n      <td>NaN</td>\n    </tr>\n    <tr>\n      <th>9</th>\n      <td>20010</td>\n      <td>2020</td>\n      <td>2020-12-02T00:00:00.000</td>\n      <td>Andover</td>\n      <td>3 GILEAD RD</td>\n      <td>151700</td>\n      <td>271000</td>\n      <td>0.5597</td>\n      <td>Residential</td>\n      <td>Single Family</td>\n      <td>{'type': 'Point', 'coordinates': [-72.37228, 4...</td>\n      <td>38</td>\n      <td>246</td>\n      <td>1</td>\n      <td>1</td>\n      <td>NaN</td>\n      <td>NaN</td>\n      <td>NaN</td>\n    </tr>\n  </tbody>\n</table>\n</div>"
     },
     "execution_count": 28,
     "metadata": {},
     "output_type": "execute_result"
    }
   ],
   "source": [
    "df_api_copy.head(10)"
   ]
  },
  {
   "cell_type": "markdown",
   "metadata": {},
   "source": [
    "### Assess the data programmatically"
   ]
  },
  {
   "cell_type": "code",
   "execution_count": 29,
   "metadata": {
    "ExecuteTime": {
     "end_time": "2023-08-17T21:16:42.647975Z",
     "start_time": "2023-08-17T21:16:42.532905Z"
    }
   },
   "outputs": [
    {
     "name": "stdout",
     "output_type": "stream",
     "text": [
      "<class 'pandas.core.frame.DataFrame'>\n",
      "RangeIndex: 1000 entries, 0 to 999\n",
      "Data columns (total 18 columns):\n",
      " #   Column                       Non-Null Count  Dtype \n",
      "---  ------                       --------------  ----- \n",
      " 0   serialnumber                 1000 non-null   object\n",
      " 1   listyear                     1000 non-null   object\n",
      " 2   daterecorded                 1000 non-null   object\n",
      " 3   town                         1000 non-null   object\n",
      " 4   address                      1000 non-null   object\n",
      " 5   assessedvalue                1000 non-null   object\n",
      " 6   saleamount                   1000 non-null   object\n",
      " 7   salesratio                   1000 non-null   object\n",
      " 8   propertytype                 1000 non-null   object\n",
      " 9   residentialtype              929 non-null    object\n",
      " 10  geo_coordinates              481 non-null    object\n",
      " 11  :@computed_region_dam5_q64j  481 non-null    object\n",
      " 12  :@computed_region_nhmp_cq6b  481 non-null    object\n",
      " 13  :@computed_region_m4y2_whse  481 non-null    object\n",
      " 14  :@computed_region_snd5_k6zv  481 non-null    object\n",
      " 15  nonusecode                   208 non-null    object\n",
      " 16  remarks                      197 non-null    object\n",
      " 17  opm_remarks                  43 non-null     object\n",
      "dtypes: object(18)\n",
      "memory usage: 140.8+ KB\n"
     ]
    }
   ],
   "source": [
    "df_api_copy.info()"
   ]
  },
  {
   "cell_type": "markdown",
   "source": [
    "We can see from the results above that the `geo_coordinates` and `listyear` didn't convert correctly from the Json format. Also, there are 4 columns with no meaning and have above 50% of missing values which are `:@computed_region_dam5_q64j`, `:@computed_region_nhmp_cq6b`, `:@computed_region_m4y2_whse`, and `:@computed_region_snd5_k6zv`.\n",
    "#### Now, we will investigate and assess the dataset further."
   ],
   "metadata": {
    "collapsed": false
   }
  },
  {
   "cell_type": "code",
   "execution_count": 30,
   "metadata": {
    "ExecuteTime": {
     "end_time": "2023-08-17T21:16:42.650484Z",
     "start_time": "2023-08-17T21:16:42.546625Z"
    }
   },
   "outputs": [
    {
     "data": {
      "text/plain": "  serialnumber listyear             daterecorded     town  \\\n0        20001     2020  2020-10-05T00:00:00.000  Andover   \n1        20002     2020  2020-10-15T00:00:00.000  Andover   \n2        20003     2020  2020-10-22T00:00:00.000  Andover   \n3        20004     2020  2020-11-02T00:00:00.000  Andover   \n4        20005     2020  2020-11-09T00:00:00.000  Andover   \n5        20006     2020  2020-11-23T00:00:00.000  Andover   \n6        20007     2020  2020-11-23T00:00:00.000  Andover   \n7        20008     2020  2020-12-01T00:00:00.000  Andover   \n8        20009     2020  2020-12-01T00:00:00.000  Andover   \n9        20010     2020  2020-12-02T00:00:00.000  Andover   \n\n                address assessedvalue saleamount   salesratio propertytype  \\\n0           303 LAKE RD        121300     210000       0.5776  Residential   \n1        78 WINDRUSH LN        181800     275000  0.661090909  Residential   \n2    203 BOSTON HILL RD        190200     279900       0.6795  Residential   \n3   23 PARKER BRIDGE RD        172900     272000       0.6356  Residential   \n4      181 LONG HILL RD        152800     255000       0.5992  Residential   \n5       147 WHEELING RD        143200     285000       0.5024  Residential   \n6       35 OLD FARMS RD        232600     347900       0.6685  Residential   \n7           40 RIDGE RD        186000     270000       0.6888  Residential   \n8  12 WEBSTER LN BOLTON          2700      67269  0.040137359  Vacant Land   \n9           3 GILEAD RD        151700     271000       0.5597  Residential   \n\n  residentialtype                                    geo_coordinates  \\\n0   Single Family  {'type': 'Point', 'coordinates': [-72.35327, 4...   \n1   Single Family                                                NaN   \n2   Single Family  {'type': 'Point', 'coordinates': [-72.39695, 4...   \n3   Single Family  {'type': 'Point', 'coordinates': [-72.33558, 4...   \n4   Single Family                                                NaN   \n5   Single Family                                                NaN   \n6   Single Family                                                NaN   \n7   Single Family                                                NaN   \n8             NaN  {'type': 'Point', 'coordinates': [-72.42136, 4...   \n9   Single Family  {'type': 'Point', 'coordinates': [-72.37228, 4...   \n\n  :@computed_region_dam5_q64j :@computed_region_nhmp_cq6b  \\\n0                          38                         246   \n1                         NaN                         NaN   \n2                          38                         246   \n3                          38                         246   \n4                         NaN                         NaN   \n5                         NaN                         NaN   \n6                         NaN                         NaN   \n7                         NaN                         NaN   \n8                          38                         209   \n9                          38                         246   \n\n  :@computed_region_m4y2_whse :@computed_region_snd5_k6zv      nonusecode  \\\n0                           1                           1             NaN   \n1                         NaN                         NaN             NaN   \n2                           1                           1             NaN   \n3                           1                           1             NaN   \n4                         NaN                         NaN             NaN   \n5                         NaN                         NaN             NaN   \n6                         NaN                         NaN             NaN   \n7                         NaN                         NaN             NaN   \n8                           1                           1  17 - Two Towns   \n9                           1                           1             NaN   \n\n                                           remarks opm_remarks  \n0                                              NaN         NaN  \n1                                              NaN         NaN  \n2                                              NaN         NaN  \n3                                              NaN         NaN  \n4                                              NaN         NaN  \n5                                              NaN         NaN  \n6                                              NaN         NaN  \n7                                              NaN         NaN  \n8  THIS IS A 2 TOWN PROPERTY IN BOLTON AND ANDOVER         NaN  \n9                                              NaN         NaN  ",
      "text/html": "<div>\n<style scoped>\n    .dataframe tbody tr th:only-of-type {\n        vertical-align: middle;\n    }\n\n    .dataframe tbody tr th {\n        vertical-align: top;\n    }\n\n    .dataframe thead th {\n        text-align: right;\n    }\n</style>\n<table border=\"1\" class=\"dataframe\">\n  <thead>\n    <tr style=\"text-align: right;\">\n      <th></th>\n      <th>serialnumber</th>\n      <th>listyear</th>\n      <th>daterecorded</th>\n      <th>town</th>\n      <th>address</th>\n      <th>assessedvalue</th>\n      <th>saleamount</th>\n      <th>salesratio</th>\n      <th>propertytype</th>\n      <th>residentialtype</th>\n      <th>geo_coordinates</th>\n      <th>:@computed_region_dam5_q64j</th>\n      <th>:@computed_region_nhmp_cq6b</th>\n      <th>:@computed_region_m4y2_whse</th>\n      <th>:@computed_region_snd5_k6zv</th>\n      <th>nonusecode</th>\n      <th>remarks</th>\n      <th>opm_remarks</th>\n    </tr>\n  </thead>\n  <tbody>\n    <tr>\n      <th>0</th>\n      <td>20001</td>\n      <td>2020</td>\n      <td>2020-10-05T00:00:00.000</td>\n      <td>Andover</td>\n      <td>303 LAKE RD</td>\n      <td>121300</td>\n      <td>210000</td>\n      <td>0.5776</td>\n      <td>Residential</td>\n      <td>Single Family</td>\n      <td>{'type': 'Point', 'coordinates': [-72.35327, 4...</td>\n      <td>38</td>\n      <td>246</td>\n      <td>1</td>\n      <td>1</td>\n      <td>NaN</td>\n      <td>NaN</td>\n      <td>NaN</td>\n    </tr>\n    <tr>\n      <th>1</th>\n      <td>20002</td>\n      <td>2020</td>\n      <td>2020-10-15T00:00:00.000</td>\n      <td>Andover</td>\n      <td>78 WINDRUSH LN</td>\n      <td>181800</td>\n      <td>275000</td>\n      <td>0.661090909</td>\n      <td>Residential</td>\n      <td>Single Family</td>\n      <td>NaN</td>\n      <td>NaN</td>\n      <td>NaN</td>\n      <td>NaN</td>\n      <td>NaN</td>\n      <td>NaN</td>\n      <td>NaN</td>\n      <td>NaN</td>\n    </tr>\n    <tr>\n      <th>2</th>\n      <td>20003</td>\n      <td>2020</td>\n      <td>2020-10-22T00:00:00.000</td>\n      <td>Andover</td>\n      <td>203 BOSTON HILL RD</td>\n      <td>190200</td>\n      <td>279900</td>\n      <td>0.6795</td>\n      <td>Residential</td>\n      <td>Single Family</td>\n      <td>{'type': 'Point', 'coordinates': [-72.39695, 4...</td>\n      <td>38</td>\n      <td>246</td>\n      <td>1</td>\n      <td>1</td>\n      <td>NaN</td>\n      <td>NaN</td>\n      <td>NaN</td>\n    </tr>\n    <tr>\n      <th>3</th>\n      <td>20004</td>\n      <td>2020</td>\n      <td>2020-11-02T00:00:00.000</td>\n      <td>Andover</td>\n      <td>23 PARKER BRIDGE RD</td>\n      <td>172900</td>\n      <td>272000</td>\n      <td>0.6356</td>\n      <td>Residential</td>\n      <td>Single Family</td>\n      <td>{'type': 'Point', 'coordinates': [-72.33558, 4...</td>\n      <td>38</td>\n      <td>246</td>\n      <td>1</td>\n      <td>1</td>\n      <td>NaN</td>\n      <td>NaN</td>\n      <td>NaN</td>\n    </tr>\n    <tr>\n      <th>4</th>\n      <td>20005</td>\n      <td>2020</td>\n      <td>2020-11-09T00:00:00.000</td>\n      <td>Andover</td>\n      <td>181 LONG HILL RD</td>\n      <td>152800</td>\n      <td>255000</td>\n      <td>0.5992</td>\n      <td>Residential</td>\n      <td>Single Family</td>\n      <td>NaN</td>\n      <td>NaN</td>\n      <td>NaN</td>\n      <td>NaN</td>\n      <td>NaN</td>\n      <td>NaN</td>\n      <td>NaN</td>\n      <td>NaN</td>\n    </tr>\n    <tr>\n      <th>5</th>\n      <td>20006</td>\n      <td>2020</td>\n      <td>2020-11-23T00:00:00.000</td>\n      <td>Andover</td>\n      <td>147 WHEELING RD</td>\n      <td>143200</td>\n      <td>285000</td>\n      <td>0.5024</td>\n      <td>Residential</td>\n      <td>Single Family</td>\n      <td>NaN</td>\n      <td>NaN</td>\n      <td>NaN</td>\n      <td>NaN</td>\n      <td>NaN</td>\n      <td>NaN</td>\n      <td>NaN</td>\n      <td>NaN</td>\n    </tr>\n    <tr>\n      <th>6</th>\n      <td>20007</td>\n      <td>2020</td>\n      <td>2020-11-23T00:00:00.000</td>\n      <td>Andover</td>\n      <td>35 OLD FARMS RD</td>\n      <td>232600</td>\n      <td>347900</td>\n      <td>0.6685</td>\n      <td>Residential</td>\n      <td>Single Family</td>\n      <td>NaN</td>\n      <td>NaN</td>\n      <td>NaN</td>\n      <td>NaN</td>\n      <td>NaN</td>\n      <td>NaN</td>\n      <td>NaN</td>\n      <td>NaN</td>\n    </tr>\n    <tr>\n      <th>7</th>\n      <td>20008</td>\n      <td>2020</td>\n      <td>2020-12-01T00:00:00.000</td>\n      <td>Andover</td>\n      <td>40 RIDGE RD</td>\n      <td>186000</td>\n      <td>270000</td>\n      <td>0.6888</td>\n      <td>Residential</td>\n      <td>Single Family</td>\n      <td>NaN</td>\n      <td>NaN</td>\n      <td>NaN</td>\n      <td>NaN</td>\n      <td>NaN</td>\n      <td>NaN</td>\n      <td>NaN</td>\n      <td>NaN</td>\n    </tr>\n    <tr>\n      <th>8</th>\n      <td>20009</td>\n      <td>2020</td>\n      <td>2020-12-01T00:00:00.000</td>\n      <td>Andover</td>\n      <td>12 WEBSTER LN BOLTON</td>\n      <td>2700</td>\n      <td>67269</td>\n      <td>0.040137359</td>\n      <td>Vacant Land</td>\n      <td>NaN</td>\n      <td>{'type': 'Point', 'coordinates': [-72.42136, 4...</td>\n      <td>38</td>\n      <td>209</td>\n      <td>1</td>\n      <td>1</td>\n      <td>17 - Two Towns</td>\n      <td>THIS IS A 2 TOWN PROPERTY IN BOLTON AND ANDOVER</td>\n      <td>NaN</td>\n    </tr>\n    <tr>\n      <th>9</th>\n      <td>20010</td>\n      <td>2020</td>\n      <td>2020-12-02T00:00:00.000</td>\n      <td>Andover</td>\n      <td>3 GILEAD RD</td>\n      <td>151700</td>\n      <td>271000</td>\n      <td>0.5597</td>\n      <td>Residential</td>\n      <td>Single Family</td>\n      <td>{'type': 'Point', 'coordinates': [-72.37228, 4...</td>\n      <td>38</td>\n      <td>246</td>\n      <td>1</td>\n      <td>1</td>\n      <td>NaN</td>\n      <td>NaN</td>\n      <td>NaN</td>\n    </tr>\n  </tbody>\n</table>\n</div>"
     },
     "execution_count": 30,
     "metadata": {},
     "output_type": "execute_result"
    }
   ],
   "source": [
    "# review the data\n",
    "df_api_copy.head(10)"
   ]
  },
  {
   "cell_type": "markdown",
   "source": [
    "#### For Quality issues, we notice the following issues:\n",
    "\n",
    "1- Locking at the first column `Serial Number`, it supposes to be unique. However, we can see that there are some duplicates because the of issue in the consistently of the data entry. <br />\n",
    "\n",
    "2- `geo_coordinates` column didn't convert correctly from the Json format, we need to convert it correctly.<br />\n",
    "\n",
    "3- Four columns with no meaning and have above 90% of missing values which are `:@computed_region_dam5_q64j`, `:@computed_region_nhmp_cq6b`, `:@computed_region_m4y2_whse`, and `:@computed_region_snd5_k6zv`, we need to drop them.<br />\n"
   ],
   "metadata": {
    "collapsed": false
   }
  },
  {
   "cell_type": "markdown",
   "source": [
    "### Quality Issue #1\n",
    "Looking at the Dtypes of the columns, we can see that the `daterecorded` column is an object, which is not correct.\n",
    "\n",
    "#### We will convert the `daterecorded` column to datetime."
   ],
   "metadata": {
    "collapsed": false
   }
  },
  {
   "cell_type": "code",
   "execution_count": 31,
   "outputs": [
    {
     "name": "stdout",
     "output_type": "stream",
     "text": [
      "<class 'pandas.core.frame.DataFrame'>\n",
      "RangeIndex: 1000 entries, 0 to 999\n",
      "Data columns (total 18 columns):\n",
      " #   Column                       Non-Null Count  Dtype         \n",
      "---  ------                       --------------  -----         \n",
      " 0   serialnumber                 1000 non-null   object        \n",
      " 1   listyear                     1000 non-null   object        \n",
      " 2   daterecorded                 1000 non-null   datetime64[ns]\n",
      " 3   town                         1000 non-null   object        \n",
      " 4   address                      1000 non-null   object        \n",
      " 5   assessedvalue                1000 non-null   object        \n",
      " 6   saleamount                   1000 non-null   object        \n",
      " 7   salesratio                   1000 non-null   object        \n",
      " 8   propertytype                 1000 non-null   object        \n",
      " 9   residentialtype              929 non-null    object        \n",
      " 10  geo_coordinates              481 non-null    object        \n",
      " 11  :@computed_region_dam5_q64j  481 non-null    object        \n",
      " 12  :@computed_region_nhmp_cq6b  481 non-null    object        \n",
      " 13  :@computed_region_m4y2_whse  481 non-null    object        \n",
      " 14  :@computed_region_snd5_k6zv  481 non-null    object        \n",
      " 15  nonusecode                   208 non-null    object        \n",
      " 16  remarks                      197 non-null    object        \n",
      " 17  opm_remarks                  43 non-null     object        \n",
      "dtypes: datetime64[ns](1), object(17)\n",
      "memory usage: 140.8+ KB\n"
     ]
    }
   ],
   "source": [
    "# convert the daterecorded column to datetime\n",
    "df_api_copy['daterecorded'] = pd.to_datetime(df_api_copy['daterecorded'])\n",
    "\n",
    "# check the data type of the daterecorded\n",
    "df_api_copy.info()"
   ],
   "metadata": {
    "collapsed": false,
    "ExecuteTime": {
     "end_time": "2023-08-17T21:16:42.652334Z",
     "start_time": "2023-08-17T21:16:42.549697Z"
    }
   }
  },
  {
   "cell_type": "code",
   "execution_count": 32,
   "outputs": [
    {
     "data": {
      "text/plain": "0   2020-10-05\n1   2020-10-15\n2   2020-10-22\n3   2020-11-02\n4   2020-11-09\n5   2020-11-23\n6   2020-11-23\n7   2020-12-01\n8   2020-12-01\n9   2020-12-02\nName: daterecorded, dtype: datetime64[ns]"
     },
     "execution_count": 32,
     "metadata": {},
     "output_type": "execute_result"
    }
   ],
   "source": [
    "# validate the Date Recorded column\n",
    "df_api_copy['daterecorded'].head(10)"
   ],
   "metadata": {
    "collapsed": false,
    "ExecuteTime": {
     "end_time": "2023-08-17T21:16:42.671112Z",
     "start_time": "2023-08-17T21:16:42.584211Z"
    }
   }
  },
  {
   "cell_type": "markdown",
   "source": [
    "### Quality Issue #2\n",
    "Locking at the first column Serial Number, it supposes to be unique. However, we can see that there are some duplicates because the of issue in the consistently of the data entry.\n",
    "The serial number should be 9 digits, but we can see that there are some serial numbers that are less than 9 digits.\n",
    "The first 4 numbers in the serial number should be the year, but we can see that there are some serial numbers that have the year 0, which is not possible.\n",
    "The last 5 numbers in the serial number should be unique, but we can see that there are some duplicates.\n",
    "\n",
    "#### We will investigate this further in the next step and decide weather to drop them or not."
   ],
   "metadata": {
    "collapsed": false
   }
  },
  {
   "cell_type": "code",
   "execution_count": 33,
   "metadata": {
    "ExecuteTime": {
     "end_time": "2023-08-17T21:16:42.701520Z",
     "start_time": "2023-08-17T21:16:42.588760Z"
    }
   },
   "outputs": [
    {
     "data": {
      "text/plain": "array(['20001', '20002', '20003', '20004', '20005', '20006', '20007',\n       '20008', '20009', '20010', '20012', '20011', '20013', '20014',\n       '20015', '20016', '20017', '20018', '20020', '20019'], dtype=object)"
     },
     "execution_count": 33,
     "metadata": {},
     "output_type": "execute_result"
    }
   ],
   "source": [
    "# check the unique data serial number column\n",
    "df_api_copy['serialnumber'].unique()[0:20]"
   ]
  },
  {
   "cell_type": "markdown",
   "source": [
    "We can see from the result above that there are some serial numbers that are less than 9 digits and some serial numbers that have the year 0, which is not possible."
   ],
   "metadata": {
    "collapsed": false
   }
  },
  {
   "cell_type": "code",
   "execution_count": 34,
   "metadata": {
    "ExecuteTime": {
     "end_time": "2023-08-17T21:16:42.880233Z",
     "start_time": "2023-08-17T21:16:42.612787Z"
    }
   },
   "outputs": [
    {
     "data": {
      "text/plain": "<BarContainer object of 2 artists>"
     },
     "execution_count": 34,
     "metadata": {},
     "output_type": "execute_result"
    },
    {
     "data": {
      "text/plain": "<Figure size 432x288 with 1 Axes>",
      "image/png": "[encoded data removed]"
     },
     "metadata": {
      "needs_background": "light"
     },
     "output_type": "display_data"
    }
   ],
   "source": [
    "# check the duplicate data serial number column\n",
    "duplicated_serial_api = df_api_copy['serialnumber'].duplicated().sum()\n",
    "\n",
    "# plot sow how many duplicated value in the serialnumber column\n",
    "plt.bar(['Duplicated', 'Not Duplicated'],\n",
    "        [duplicated_serial_api, len(df_api_copy['serialnumber']) - duplicated_serial_api], color=['red', 'green'])"
   ]
  },
  {
   "cell_type": "markdown",
   "source": [
    "We can see from the result above that there are some duplicates in the serial number column."
   ],
   "metadata": {
    "collapsed": false
   }
  },
  {
   "cell_type": "markdown",
   "source": [
    "### Now, we will recreate the serial number column to fix the issue."
   ],
   "metadata": {
    "collapsed": false
   }
  },
  {
   "cell_type": "code",
   "execution_count": 35,
   "metadata": {
    "ExecuteTime": {
     "end_time": "2023-08-17T21:16:42.906703Z",
     "start_time": "2023-08-17T21:16:42.697896Z"
    }
   },
   "outputs": [
    {
     "data": {
      "text/plain": "  serialnumber listyear daterecorded     town               address  \\\n0        20001     2020   2020-10-05  Andover           303 LAKE RD   \n1        20002     2020   2020-10-15  Andover        78 WINDRUSH LN   \n2        20003     2020   2020-10-22  Andover    203 BOSTON HILL RD   \n3        20004     2020   2020-11-02  Andover   23 PARKER BRIDGE RD   \n4        20005     2020   2020-11-09  Andover      181 LONG HILL RD   \n5        20006     2020   2020-11-23  Andover       147 WHEELING RD   \n6        20007     2020   2020-11-23  Andover       35 OLD FARMS RD   \n7        20008     2020   2020-12-01  Andover           40 RIDGE RD   \n8        20009     2020   2020-12-01  Andover  12 WEBSTER LN BOLTON   \n9        20010     2020   2020-12-02  Andover           3 GILEAD RD   \n\n  assessedvalue saleamount   salesratio propertytype residentialtype  \\\n0        121300     210000       0.5776  Residential   Single Family   \n1        181800     275000  0.661090909  Residential   Single Family   \n2        190200     279900       0.6795  Residential   Single Family   \n3        172900     272000       0.6356  Residential   Single Family   \n4        152800     255000       0.5992  Residential   Single Family   \n5        143200     285000       0.5024  Residential   Single Family   \n6        232600     347900       0.6685  Residential   Single Family   \n7        186000     270000       0.6888  Residential   Single Family   \n8          2700      67269  0.040137359  Vacant Land             NaN   \n9        151700     271000       0.5597  Residential   Single Family   \n\n                                     geo_coordinates  \\\n0  {'type': 'Point', 'coordinates': [-72.35327, 4...   \n1                                                NaN   \n2  {'type': 'Point', 'coordinates': [-72.39695, 4...   \n3  {'type': 'Point', 'coordinates': [-72.33558, 4...   \n4                                                NaN   \n5                                                NaN   \n6                                                NaN   \n7                                                NaN   \n8  {'type': 'Point', 'coordinates': [-72.42136, 4...   \n9  {'type': 'Point', 'coordinates': [-72.37228, 4...   \n\n  :@computed_region_dam5_q64j :@computed_region_nhmp_cq6b  \\\n0                          38                         246   \n1                         NaN                         NaN   \n2                          38                         246   \n3                          38                         246   \n4                         NaN                         NaN   \n5                         NaN                         NaN   \n6                         NaN                         NaN   \n7                         NaN                         NaN   \n8                          38                         209   \n9                          38                         246   \n\n  :@computed_region_m4y2_whse :@computed_region_snd5_k6zv      nonusecode  \\\n0                           1                           1             NaN   \n1                         NaN                         NaN             NaN   \n2                           1                           1             NaN   \n3                           1                           1             NaN   \n4                         NaN                         NaN             NaN   \n5                         NaN                         NaN             NaN   \n6                         NaN                         NaN             NaN   \n7                         NaN                         NaN             NaN   \n8                           1                           1  17 - Two Towns   \n9                           1                           1             NaN   \n\n                                           remarks opm_remarks  \\\n0                                              NaN         NaN   \n1                                              NaN         NaN   \n2                                              NaN         NaN   \n3                                              NaN         NaN   \n4                                              NaN         NaN   \n5                                              NaN         NaN   \n6                                              NaN         NaN   \n7                                              NaN         NaN   \n8  THIS IS A 2 TOWN PROPERTY IN BOLTON AND ANDOVER         NaN   \n9                                              NaN         NaN   \n\n  new_serial_number  \n0         202000001  \n1         202000002  \n2         202000003  \n3         202000004  \n4         202000005  \n5         202000006  \n6         202000007  \n7         202000008  \n8         202000009  \n9         202000010  ",
      "text/html": "<div>\n<style scoped>\n    .dataframe tbody tr th:only-of-type {\n        vertical-align: middle;\n    }\n\n    .dataframe tbody tr th {\n        vertical-align: top;\n    }\n\n    .dataframe thead th {\n        text-align: right;\n    }\n</style>\n<table border=\"1\" class=\"dataframe\">\n  <thead>\n    <tr style=\"text-align: right;\">\n      <th></th>\n      <th>serialnumber</th>\n      <th>listyear</th>\n      <th>daterecorded</th>\n      <th>town</th>\n      <th>address</th>\n      <th>assessedvalue</th>\n      <th>saleamount</th>\n      <th>salesratio</th>\n      <th>propertytype</th>\n      <th>residentialtype</th>\n      <th>geo_coordinates</th>\n      <th>:@computed_region_dam5_q64j</th>\n      <th>:@computed_region_nhmp_cq6b</th>\n      <th>:@computed_region_m4y2_whse</th>\n      <th>:@computed_region_snd5_k6zv</th>\n      <th>nonusecode</th>\n      <th>remarks</th>\n      <th>opm_remarks</th>\n      <th>new_serial_number</th>\n    </tr>\n  </thead>\n  <tbody>\n    <tr>\n      <th>0</th>\n      <td>20001</td>\n      <td>2020</td>\n      <td>2020-10-05</td>\n      <td>Andover</td>\n      <td>303 LAKE RD</td>\n      <td>121300</td>\n      <td>210000</td>\n      <td>0.5776</td>\n      <td>Residential</td>\n      <td>Single Family</td>\n      <td>{'type': 'Point', 'coordinates': [-72.35327, 4...</td>\n      <td>38</td>\n      <td>246</td>\n      <td>1</td>\n      <td>1</td>\n      <td>NaN</td>\n      <td>NaN</td>\n      <td>NaN</td>\n      <td>202000001</td>\n    </tr>\n    <tr>\n      <th>1</th>\n      <td>20002</td>\n      <td>2020</td>\n      <td>2020-10-15</td>\n      <td>Andover</td>\n      <td>78 WINDRUSH LN</td>\n      <td>181800</td>\n      <td>275000</td>\n      <td>0.661090909</td>\n      <td>Residential</td>\n      <td>Single Family</td>\n      <td>NaN</td>\n      <td>NaN</td>\n      <td>NaN</td>\n      <td>NaN</td>\n      <td>NaN</td>\n      <td>NaN</td>\n      <td>NaN</td>\n      <td>NaN</td>\n      <td>202000002</td>\n    </tr>\n    <tr>\n      <th>2</th>\n      <td>20003</td>\n      <td>2020</td>\n      <td>2020-10-22</td>\n      <td>Andover</td>\n      <td>203 BOSTON HILL RD</td>\n      <td>190200</td>\n      <td>279900</td>\n      <td>0.6795</td>\n      <td>Residential</td>\n      <td>Single Family</td>\n      <td>{'type': 'Point', 'coordinates': [-72.39695, 4...</td>\n      <td>38</td>\n      <td>246</td>\n      <td>1</td>\n      <td>1</td>\n      <td>NaN</td>\n      <td>NaN</td>\n      <td>NaN</td>\n      <td>202000003</td>\n    </tr>\n    <tr>\n      <th>3</th>\n      <td>20004</td>\n      <td>2020</td>\n      <td>2020-11-02</td>\n      <td>Andover</td>\n      <td>23 PARKER BRIDGE RD</td>\n      <td>172900</td>\n      <td>272000</td>\n      <td>0.6356</td>\n      <td>Residential</td>\n      <td>Single Family</td>\n      <td>{'type': 'Point', 'coordinates': [-72.33558, 4...</td>\n      <td>38</td>\n      <td>246</td>\n      <td>1</td>\n      <td>1</td>\n      <td>NaN</td>\n      <td>NaN</td>\n      <td>NaN</td>\n      <td>202000004</td>\n    </tr>\n    <tr>\n      <th>4</th>\n      <td>20005</td>\n      <td>2020</td>\n      <td>2020-11-09</td>\n      <td>Andover</td>\n      <td>181 LONG HILL RD</td>\n      <td>152800</td>\n      <td>255000</td>\n      <td>0.5992</td>\n      <td>Residential</td>\n      <td>Single Family</td>\n      <td>NaN</td>\n      <td>NaN</td>\n      <td>NaN</td>\n      <td>NaN</td>\n      <td>NaN</td>\n      <td>NaN</td>\n      <td>NaN</td>\n      <td>NaN</td>\n      <td>202000005</td>\n    </tr>\n    <tr>\n      <th>5</th>\n      <td>20006</td>\n      <td>2020</td>\n      <td>2020-11-23</td>\n      <td>Andover</td>\n      <td>147 WHEELING RD</td>\n      <td>143200</td>\n      <td>285000</td>\n      <td>0.5024</td>\n      <td>Residential</td>\n      <td>Single Family</td>\n      <td>NaN</td>\n      <td>NaN</td>\n      <td>NaN</td>\n      <td>NaN</td>\n      <td>NaN</td>\n      <td>NaN</td>\n      <td>NaN</td>\n      <td>NaN</td>\n      <td>202000006</td>\n    </tr>\n    <tr>\n      <th>6</th>\n      <td>20007</td>\n      <td>2020</td>\n      <td>2020-11-23</td>\n      <td>Andover</td>\n      <td>35 OLD FARMS RD</td>\n      <td>232600</td>\n      <td>347900</td>\n      <td>0.6685</td>\n      <td>Residential</td>\n      <td>Single Family</td>\n      <td>NaN</td>\n      <td>NaN</td>\n      <td>NaN</td>\n      <td>NaN</td>\n      <td>NaN</td>\n      <td>NaN</td>\n      <td>NaN</td>\n      <td>NaN</td>\n      <td>202000007</td>\n    </tr>\n    <tr>\n      <th>7</th>\n      <td>20008</td>\n      <td>2020</td>\n      <td>2020-12-01</td>\n      <td>Andover</td>\n      <td>40 RIDGE RD</td>\n      <td>186000</td>\n      <td>270000</td>\n      <td>0.6888</td>\n      <td>Residential</td>\n      <td>Single Family</td>\n      <td>NaN</td>\n      <td>NaN</td>\n      <td>NaN</td>\n      <td>NaN</td>\n      <td>NaN</td>\n      <td>NaN</td>\n      <td>NaN</td>\n      <td>NaN</td>\n      <td>202000008</td>\n    </tr>\n    <tr>\n      <th>8</th>\n      <td>20009</td>\n      <td>2020</td>\n      <td>2020-12-01</td>\n      <td>Andover</td>\n      <td>12 WEBSTER LN BOLTON</td>\n      <td>2700</td>\n      <td>67269</td>\n      <td>0.040137359</td>\n      <td>Vacant Land</td>\n      <td>NaN</td>\n      <td>{'type': 'Point', 'coordinates': [-72.42136, 4...</td>\n      <td>38</td>\n      <td>209</td>\n      <td>1</td>\n      <td>1</td>\n      <td>17 - Two Towns</td>\n      <td>THIS IS A 2 TOWN PROPERTY IN BOLTON AND ANDOVER</td>\n      <td>NaN</td>\n      <td>202000009</td>\n    </tr>\n    <tr>\n      <th>9</th>\n      <td>20010</td>\n      <td>2020</td>\n      <td>2020-12-02</td>\n      <td>Andover</td>\n      <td>3 GILEAD RD</td>\n      <td>151700</td>\n      <td>271000</td>\n      <td>0.5597</td>\n      <td>Residential</td>\n      <td>Single Family</td>\n      <td>{'type': 'Point', 'coordinates': [-72.37228, 4...</td>\n      <td>38</td>\n      <td>246</td>\n      <td>1</td>\n      <td>1</td>\n      <td>NaN</td>\n      <td>NaN</td>\n      <td>NaN</td>\n      <td>202000010</td>\n    </tr>\n  </tbody>\n</table>\n</div>"
     },
     "execution_count": 35,
     "metadata": {},
     "output_type": "execute_result"
    }
   ],
   "source": [
    "# let us change the serial number column to be as the following: 1st 4 digits are the year, and the last 5 digits are unique numbers starting from 00001\n",
    "\n",
    "# create a new column for the serial number\n",
    "df_api_copy['new_serial_number'] = df_api_copy['daterecorded'].dt.year.astype(str) + \\\n",
    "                                   df_api_copy.groupby(df_api_copy['daterecorded'].dt.year.astype(int)) \\\n",
    "                                       .cumcount().add(1).astype(str).str.zfill(5)\n",
    "\n",
    "# let us check the new serial number column\n",
    "df_api_copy.head(10)"
   ]
  },
  {
   "cell_type": "code",
   "execution_count": 36,
   "metadata": {
    "ExecuteTime": {
     "end_time": "2023-08-17T21:16:42.924202Z",
     "start_time": "2023-08-17T21:16:42.711162Z"
    }
   },
   "outputs": [
    {
     "data": {
      "text/plain": "Empty DataFrame\nColumns: [serialnumber, listyear, daterecorded, town, address, assessedvalue, saleamount, salesratio, propertytype, residentialtype, geo_coordinates, :@computed_region_dam5_q64j, :@computed_region_nhmp_cq6b, :@computed_region_m4y2_whse, :@computed_region_snd5_k6zv, nonusecode, remarks, opm_remarks, new_serial_number]\nIndex: []",
      "text/html": "<div>\n<style scoped>\n    .dataframe tbody tr th:only-of-type {\n        vertical-align: middle;\n    }\n\n    .dataframe tbody tr th {\n        vertical-align: top;\n    }\n\n    .dataframe thead th {\n        text-align: right;\n    }\n</style>\n<table border=\"1\" class=\"dataframe\">\n  <thead>\n    <tr style=\"text-align: right;\">\n      <th></th>\n      <th>serialnumber</th>\n      <th>listyear</th>\n      <th>daterecorded</th>\n      <th>town</th>\n      <th>address</th>\n      <th>assessedvalue</th>\n      <th>saleamount</th>\n      <th>salesratio</th>\n      <th>propertytype</th>\n      <th>residentialtype</th>\n      <th>geo_coordinates</th>\n      <th>:@computed_region_dam5_q64j</th>\n      <th>:@computed_region_nhmp_cq6b</th>\n      <th>:@computed_region_m4y2_whse</th>\n      <th>:@computed_region_snd5_k6zv</th>\n      <th>nonusecode</th>\n      <th>remarks</th>\n      <th>opm_remarks</th>\n      <th>new_serial_number</th>\n    </tr>\n  </thead>\n  <tbody>\n  </tbody>\n</table>\n</div>"
     },
     "execution_count": 36,
     "metadata": {},
     "output_type": "execute_result"
    }
   ],
   "source": [
    "# let us check the new serial number column to see if there are any duplicates\n",
    "df_api_copy.loc[df_api_copy['new_serial_number'].duplicated()]"
   ]
  },
  {
   "cell_type": "code",
   "execution_count": 37,
   "metadata": {
    "ExecuteTime": {
     "end_time": "2023-08-17T21:16:42.925224Z",
     "start_time": "2023-08-17T21:16:42.720495Z"
    }
   },
   "outputs": [
    {
     "data": {
      "text/plain": "   serialnumber listyear daterecorded     town               address  \\\n0     202000001     2020   2020-10-05  Andover           303 LAKE RD   \n1     202000002     2020   2020-10-15  Andover        78 WINDRUSH LN   \n2     202000003     2020   2020-10-22  Andover    203 BOSTON HILL RD   \n3     202000004     2020   2020-11-02  Andover   23 PARKER BRIDGE RD   \n4     202000005     2020   2020-11-09  Andover      181 LONG HILL RD   \n5     202000006     2020   2020-11-23  Andover       147 WHEELING RD   \n6     202000007     2020   2020-11-23  Andover       35 OLD FARMS RD   \n7     202000008     2020   2020-12-01  Andover           40 RIDGE RD   \n8     202000009     2020   2020-12-01  Andover  12 WEBSTER LN BOLTON   \n9     202000010     2020   2020-12-02  Andover           3 GILEAD RD   \n\n  assessedvalue saleamount   salesratio propertytype residentialtype  \\\n0        121300     210000       0.5776  Residential   Single Family   \n1        181800     275000  0.661090909  Residential   Single Family   \n2        190200     279900       0.6795  Residential   Single Family   \n3        172900     272000       0.6356  Residential   Single Family   \n4        152800     255000       0.5992  Residential   Single Family   \n5        143200     285000       0.5024  Residential   Single Family   \n6        232600     347900       0.6685  Residential   Single Family   \n7        186000     270000       0.6888  Residential   Single Family   \n8          2700      67269  0.040137359  Vacant Land             NaN   \n9        151700     271000       0.5597  Residential   Single Family   \n\n                                     geo_coordinates  \\\n0  {'type': 'Point', 'coordinates': [-72.35327, 4...   \n1                                                NaN   \n2  {'type': 'Point', 'coordinates': [-72.39695, 4...   \n3  {'type': 'Point', 'coordinates': [-72.33558, 4...   \n4                                                NaN   \n5                                                NaN   \n6                                                NaN   \n7                                                NaN   \n8  {'type': 'Point', 'coordinates': [-72.42136, 4...   \n9  {'type': 'Point', 'coordinates': [-72.37228, 4...   \n\n  :@computed_region_dam5_q64j :@computed_region_nhmp_cq6b  \\\n0                          38                         246   \n1                         NaN                         NaN   \n2                          38                         246   \n3                          38                         246   \n4                         NaN                         NaN   \n5                         NaN                         NaN   \n6                         NaN                         NaN   \n7                         NaN                         NaN   \n8                          38                         209   \n9                          38                         246   \n\n  :@computed_region_m4y2_whse :@computed_region_snd5_k6zv      nonusecode  \\\n0                           1                           1             NaN   \n1                         NaN                         NaN             NaN   \n2                           1                           1             NaN   \n3                           1                           1             NaN   \n4                         NaN                         NaN             NaN   \n5                         NaN                         NaN             NaN   \n6                         NaN                         NaN             NaN   \n7                         NaN                         NaN             NaN   \n8                           1                           1  17 - Two Towns   \n9                           1                           1             NaN   \n\n                                           remarks opm_remarks  \n0                                              NaN         NaN  \n1                                              NaN         NaN  \n2                                              NaN         NaN  \n3                                              NaN         NaN  \n4                                              NaN         NaN  \n5                                              NaN         NaN  \n6                                              NaN         NaN  \n7                                              NaN         NaN  \n8  THIS IS A 2 TOWN PROPERTY IN BOLTON AND ANDOVER         NaN  \n9                                              NaN         NaN  ",
      "text/html": "<div>\n<style scoped>\n    .dataframe tbody tr th:only-of-type {\n        vertical-align: middle;\n    }\n\n    .dataframe tbody tr th {\n        vertical-align: top;\n    }\n\n    .dataframe thead th {\n        text-align: right;\n    }\n</style>\n<table border=\"1\" class=\"dataframe\">\n  <thead>\n    <tr style=\"text-align: right;\">\n      <th></th>\n      <th>serialnumber</th>\n      <th>listyear</th>\n      <th>daterecorded</th>\n      <th>town</th>\n      <th>address</th>\n      <th>assessedvalue</th>\n      <th>saleamount</th>\n      <th>salesratio</th>\n      <th>propertytype</th>\n      <th>residentialtype</th>\n      <th>geo_coordinates</th>\n      <th>:@computed_region_dam5_q64j</th>\n      <th>:@computed_region_nhmp_cq6b</th>\n      <th>:@computed_region_m4y2_whse</th>\n      <th>:@computed_region_snd5_k6zv</th>\n      <th>nonusecode</th>\n      <th>remarks</th>\n      <th>opm_remarks</th>\n    </tr>\n  </thead>\n  <tbody>\n    <tr>\n      <th>0</th>\n      <td>202000001</td>\n      <td>2020</td>\n      <td>2020-10-05</td>\n      <td>Andover</td>\n      <td>303 LAKE RD</td>\n      <td>121300</td>\n      <td>210000</td>\n      <td>0.5776</td>\n      <td>Residential</td>\n      <td>Single Family</td>\n      <td>{'type': 'Point', 'coordinates': [-72.35327, 4...</td>\n      <td>38</td>\n      <td>246</td>\n      <td>1</td>\n      <td>1</td>\n      <td>NaN</td>\n      <td>NaN</td>\n      <td>NaN</td>\n    </tr>\n    <tr>\n      <th>1</th>\n      <td>202000002</td>\n      <td>2020</td>\n      <td>2020-10-15</td>\n      <td>Andover</td>\n      <td>78 WINDRUSH LN</td>\n      <td>181800</td>\n      <td>275000</td>\n      <td>0.661090909</td>\n      <td>Residential</td>\n      <td>Single Family</td>\n      <td>NaN</td>\n      <td>NaN</td>\n      <td>NaN</td>\n      <td>NaN</td>\n      <td>NaN</td>\n      <td>NaN</td>\n      <td>NaN</td>\n      <td>NaN</td>\n    </tr>\n    <tr>\n      <th>2</th>\n      <td>202000003</td>\n      <td>2020</td>\n      <td>2020-10-22</td>\n      <td>Andover</td>\n      <td>203 BOSTON HILL RD</td>\n      <td>190200</td>\n      <td>279900</td>\n      <td>0.6795</td>\n      <td>Residential</td>\n      <td>Single Family</td>\n      <td>{'type': 'Point', 'coordinates': [-72.39695, 4...</td>\n      <td>38</td>\n      <td>246</td>\n      <td>1</td>\n      <td>1</td>\n      <td>NaN</td>\n      <td>NaN</td>\n      <td>NaN</td>\n    </tr>\n    <tr>\n      <th>3</th>\n      <td>202000004</td>\n      <td>2020</td>\n      <td>2020-11-02</td>\n      <td>Andover</td>\n      <td>23 PARKER BRIDGE RD</td>\n      <td>172900</td>\n      <td>272000</td>\n      <td>0.6356</td>\n      <td>Residential</td>\n      <td>Single Family</td>\n      <td>{'type': 'Point', 'coordinates': [-72.33558, 4...</td>\n      <td>38</td>\n      <td>246</td>\n      <td>1</td>\n      <td>1</td>\n      <td>NaN</td>\n      <td>NaN</td>\n      <td>NaN</td>\n    </tr>\n    <tr>\n      <th>4</th>\n      <td>202000005</td>\n      <td>2020</td>\n      <td>2020-11-09</td>\n      <td>Andover</td>\n      <td>181 LONG HILL RD</td>\n      <td>152800</td>\n      <td>255000</td>\n      <td>0.5992</td>\n      <td>Residential</td>\n      <td>Single Family</td>\n      <td>NaN</td>\n      <td>NaN</td>\n      <td>NaN</td>\n      <td>NaN</td>\n      <td>NaN</td>\n      <td>NaN</td>\n      <td>NaN</td>\n      <td>NaN</td>\n    </tr>\n    <tr>\n      <th>5</th>\n      <td>202000006</td>\n      <td>2020</td>\n      <td>2020-11-23</td>\n      <td>Andover</td>\n      <td>147 WHEELING RD</td>\n      <td>143200</td>\n      <td>285000</td>\n      <td>0.5024</td>\n      <td>Residential</td>\n      <td>Single Family</td>\n      <td>NaN</td>\n      <td>NaN</td>\n      <td>NaN</td>\n      <td>NaN</td>\n      <td>NaN</td>\n      <td>NaN</td>\n      <td>NaN</td>\n      <td>NaN</td>\n    </tr>\n    <tr>\n      <th>6</th>\n      <td>202000007</td>\n      <td>2020</td>\n      <td>2020-11-23</td>\n      <td>Andover</td>\n      <td>35 OLD FARMS RD</td>\n      <td>232600</td>\n      <td>347900</td>\n      <td>0.6685</td>\n      <td>Residential</td>\n      <td>Single Family</td>\n      <td>NaN</td>\n      <td>NaN</td>\n      <td>NaN</td>\n      <td>NaN</td>\n      <td>NaN</td>\n      <td>NaN</td>\n      <td>NaN</td>\n      <td>NaN</td>\n    </tr>\n    <tr>\n      <th>7</th>\n      <td>202000008</td>\n      <td>2020</td>\n      <td>2020-12-01</td>\n      <td>Andover</td>\n      <td>40 RIDGE RD</td>\n      <td>186000</td>\n      <td>270000</td>\n      <td>0.6888</td>\n      <td>Residential</td>\n      <td>Single Family</td>\n      <td>NaN</td>\n      <td>NaN</td>\n      <td>NaN</td>\n      <td>NaN</td>\n      <td>NaN</td>\n      <td>NaN</td>\n      <td>NaN</td>\n      <td>NaN</td>\n    </tr>\n    <tr>\n      <th>8</th>\n      <td>202000009</td>\n      <td>2020</td>\n      <td>2020-12-01</td>\n      <td>Andover</td>\n      <td>12 WEBSTER LN BOLTON</td>\n      <td>2700</td>\n      <td>67269</td>\n      <td>0.040137359</td>\n      <td>Vacant Land</td>\n      <td>NaN</td>\n      <td>{'type': 'Point', 'coordinates': [-72.42136, 4...</td>\n      <td>38</td>\n      <td>209</td>\n      <td>1</td>\n      <td>1</td>\n      <td>17 - Two Towns</td>\n      <td>THIS IS A 2 TOWN PROPERTY IN BOLTON AND ANDOVER</td>\n      <td>NaN</td>\n    </tr>\n    <tr>\n      <th>9</th>\n      <td>202000010</td>\n      <td>2020</td>\n      <td>2020-12-02</td>\n      <td>Andover</td>\n      <td>3 GILEAD RD</td>\n      <td>151700</td>\n      <td>271000</td>\n      <td>0.5597</td>\n      <td>Residential</td>\n      <td>Single Family</td>\n      <td>{'type': 'Point', 'coordinates': [-72.37228, 4...</td>\n      <td>38</td>\n      <td>246</td>\n      <td>1</td>\n      <td>1</td>\n      <td>NaN</td>\n      <td>NaN</td>\n      <td>NaN</td>\n    </tr>\n  </tbody>\n</table>\n</div>"
     },
     "execution_count": 37,
     "metadata": {},
     "output_type": "execute_result"
    }
   ],
   "source": [
    "# No duplicates, so we will make the new serial number column as the serial number column and drop the new serial number column\n",
    "df_api_copy['serialnumber'] = df_api_copy['new_serial_number']\n",
    "df_api_copy.drop(columns=['new_serial_number'], inplace=True)\n",
    "\n",
    "# change the data type of the serial number column to be int64\n",
    "df_api_copy['serialnumber'] = df_api_copy['serialnumber'].astype(int)\n",
    "\n",
    "# let us check the new serial number column\n",
    "df_api_copy.head(10)"
   ]
  },
  {
   "cell_type": "markdown",
   "source": [
    "#### Validate the changes to the serial number column"
   ],
   "metadata": {
    "collapsed": false
   }
  },
  {
   "cell_type": "code",
   "execution_count": 38,
   "outputs": [
    {
     "data": {
      "text/plain": "<BarContainer object of 2 artists>"
     },
     "execution_count": 38,
     "metadata": {},
     "output_type": "execute_result"
    },
    {
     "data": {
      "text/plain": "<Figure size 432x288 with 1 Axes>",
      "image/png": "[encoded data removed]"
     },
     "metadata": {
      "needs_background": "light"
     },
     "output_type": "display_data"
    }
   ],
   "source": [
    "# plot sow how many duplicated value in the serialnumber column\n",
    "plt.bar(['Duplicated', 'Not Duplicated'], [df_api_copy['serialnumber'].duplicated().sum(),\n",
    "                                           len(df_api_copy['serialnumber']) - df_api_copy[\n",
    "                                               'serialnumber'].duplicated().sum()], color=['red', 'green'])"
   ],
   "metadata": {
    "collapsed": false,
    "ExecuteTime": {
     "end_time": "2023-08-17T21:16:42.925994Z",
     "start_time": "2023-08-17T21:16:42.737305Z"
    }
   }
  },
  {
   "cell_type": "markdown",
   "source": [
    "### Quality Issue #3\n",
    "Four columns with no meaning and have above 90% of missing values which are `:@computed_region_dam5_q64j`, `:@computed_region_nhmp_cq6b`, `:@computed_region_m4y2_whse`, and `:@computed_region_snd5_k6zv`, we need to drop them.<br />\n",
    "\n",
    "#### We will investigate this further in the next step and decide weather to drop them or not."
   ],
   "metadata": {
    "collapsed": false
   }
  },
  {
   "cell_type": "code",
   "execution_count": 39,
   "outputs": [
    {
     "data": {
      "text/plain": "<Figure size 432x288 with 1 Axes>",
      "image/png": "[encoded data removed]"
     },
     "metadata": {
      "needs_background": "light"
     },
     "output_type": "display_data"
    }
   ],
   "source": [
    "# check the missing values in the dataset for the following columns: @computed_region_dam5_q64j, @computed_region_nhmp_cq6b, @computed_region_m4y2_whse, and @computed_region_snd5_k6zv\n",
    "\n",
    "# Calculate the count of missing values in the dataset [since we know from .info() that the number of null values is the same for all columns, we will just use one column]\n",
    "missing_values_api = df_api_copy[':@computed_region_dam5_q64j'].isnull().sum()\n",
    "\n",
    "# Calculate the count of not missing values in the dataset\n",
    "not_missing_values = len(df_api_copy) - missing_values_api\n",
    "\n",
    "# Create a bar chart to show the missing and not missing values\n",
    "plt.bar(['Missing', 'Not Missing'], [missing_values_api.sum(), not_missing_values.sum()], color=['red', 'green'])\n",
    "\n",
    "# Label the axes\n",
    "plt.xlabel('Missing Status')\n",
    "plt.ylabel('Number of Values')\n",
    "\n",
    "# Add a title\n",
    "plt.title('Missing Values in API Response')\n",
    "\n",
    "# Show the plot\n",
    "plt.show()"
   ],
   "metadata": {
    "collapsed": false,
    "ExecuteTime": {
     "end_time": "2023-08-17T21:16:43.048089Z",
     "start_time": "2023-08-17T21:16:42.878032Z"
    }
   }
  },
  {
   "cell_type": "code",
   "execution_count": 40,
   "outputs": [
    {
     "data": {
      "text/plain": "   serialnumber listyear daterecorded     town               address  \\\n0     202000001     2020   2020-10-05  Andover           303 LAKE RD   \n1     202000002     2020   2020-10-15  Andover        78 WINDRUSH LN   \n2     202000003     2020   2020-10-22  Andover    203 BOSTON HILL RD   \n3     202000004     2020   2020-11-02  Andover   23 PARKER BRIDGE RD   \n4     202000005     2020   2020-11-09  Andover      181 LONG HILL RD   \n5     202000006     2020   2020-11-23  Andover       147 WHEELING RD   \n6     202000007     2020   2020-11-23  Andover       35 OLD FARMS RD   \n7     202000008     2020   2020-12-01  Andover           40 RIDGE RD   \n8     202000009     2020   2020-12-01  Andover  12 WEBSTER LN BOLTON   \n9     202000010     2020   2020-12-02  Andover           3 GILEAD RD   \n\n  assessedvalue saleamount   salesratio propertytype residentialtype  \\\n0        121300     210000       0.5776  Residential   Single Family   \n1        181800     275000  0.661090909  Residential   Single Family   \n2        190200     279900       0.6795  Residential   Single Family   \n3        172900     272000       0.6356  Residential   Single Family   \n4        152800     255000       0.5992  Residential   Single Family   \n5        143200     285000       0.5024  Residential   Single Family   \n6        232600     347900       0.6685  Residential   Single Family   \n7        186000     270000       0.6888  Residential   Single Family   \n8          2700      67269  0.040137359  Vacant Land             NaN   \n9        151700     271000       0.5597  Residential   Single Family   \n\n                                     geo_coordinates      nonusecode  \\\n0  {'type': 'Point', 'coordinates': [-72.35327, 4...             NaN   \n1                                                NaN             NaN   \n2  {'type': 'Point', 'coordinates': [-72.39695, 4...             NaN   \n3  {'type': 'Point', 'coordinates': [-72.33558, 4...             NaN   \n4                                                NaN             NaN   \n5                                                NaN             NaN   \n6                                                NaN             NaN   \n7                                                NaN             NaN   \n8  {'type': 'Point', 'coordinates': [-72.42136, 4...  17 - Two Towns   \n9  {'type': 'Point', 'coordinates': [-72.37228, 4...             NaN   \n\n                                           remarks opm_remarks  \n0                                              NaN         NaN  \n1                                              NaN         NaN  \n2                                              NaN         NaN  \n3                                              NaN         NaN  \n4                                              NaN         NaN  \n5                                              NaN         NaN  \n6                                              NaN         NaN  \n7                                              NaN         NaN  \n8  THIS IS A 2 TOWN PROPERTY IN BOLTON AND ANDOVER         NaN  \n9                                              NaN         NaN  ",
      "text/html": "<div>\n<style scoped>\n    .dataframe tbody tr th:only-of-type {\n        vertical-align: middle;\n    }\n\n    .dataframe tbody tr th {\n        vertical-align: top;\n    }\n\n    .dataframe thead th {\n        text-align: right;\n    }\n</style>\n<table border=\"1\" class=\"dataframe\">\n  <thead>\n    <tr style=\"text-align: right;\">\n      <th></th>\n      <th>serialnumber</th>\n      <th>listyear</th>\n      <th>daterecorded</th>\n      <th>town</th>\n      <th>address</th>\n      <th>assessedvalue</th>\n      <th>saleamount</th>\n      <th>salesratio</th>\n      <th>propertytype</th>\n      <th>residentialtype</th>\n      <th>geo_coordinates</th>\n      <th>nonusecode</th>\n      <th>remarks</th>\n      <th>opm_remarks</th>\n    </tr>\n  </thead>\n  <tbody>\n    <tr>\n      <th>0</th>\n      <td>202000001</td>\n      <td>2020</td>\n      <td>2020-10-05</td>\n      <td>Andover</td>\n      <td>303 LAKE RD</td>\n      <td>121300</td>\n      <td>210000</td>\n      <td>0.5776</td>\n      <td>Residential</td>\n      <td>Single Family</td>\n      <td>{'type': 'Point', 'coordinates': [-72.35327, 4...</td>\n      <td>NaN</td>\n      <td>NaN</td>\n      <td>NaN</td>\n    </tr>\n    <tr>\n      <th>1</th>\n      <td>202000002</td>\n      <td>2020</td>\n      <td>2020-10-15</td>\n      <td>Andover</td>\n      <td>78 WINDRUSH LN</td>\n      <td>181800</td>\n      <td>275000</td>\n      <td>0.661090909</td>\n      <td>Residential</td>\n      <td>Single Family</td>\n      <td>NaN</td>\n      <td>NaN</td>\n      <td>NaN</td>\n      <td>NaN</td>\n    </tr>\n    <tr>\n      <th>2</th>\n      <td>202000003</td>\n      <td>2020</td>\n      <td>2020-10-22</td>\n      <td>Andover</td>\n      <td>203 BOSTON HILL RD</td>\n      <td>190200</td>\n      <td>279900</td>\n      <td>0.6795</td>\n      <td>Residential</td>\n      <td>Single Family</td>\n      <td>{'type': 'Point', 'coordinates': [-72.39695, 4...</td>\n      <td>NaN</td>\n      <td>NaN</td>\n      <td>NaN</td>\n    </tr>\n    <tr>\n      <th>3</th>\n      <td>202000004</td>\n      <td>2020</td>\n      <td>2020-11-02</td>\n      <td>Andover</td>\n      <td>23 PARKER BRIDGE RD</td>\n      <td>172900</td>\n      <td>272000</td>\n      <td>0.6356</td>\n      <td>Residential</td>\n      <td>Single Family</td>\n      <td>{'type': 'Point', 'coordinates': [-72.33558, 4...</td>\n      <td>NaN</td>\n      <td>NaN</td>\n      <td>NaN</td>\n    </tr>\n    <tr>\n      <th>4</th>\n      <td>202000005</td>\n      <td>2020</td>\n      <td>2020-11-09</td>\n      <td>Andover</td>\n      <td>181 LONG HILL RD</td>\n      <td>152800</td>\n      <td>255000</td>\n      <td>0.5992</td>\n      <td>Residential</td>\n      <td>Single Family</td>\n      <td>NaN</td>\n      <td>NaN</td>\n      <td>NaN</td>\n      <td>NaN</td>\n    </tr>\n    <tr>\n      <th>5</th>\n      <td>202000006</td>\n      <td>2020</td>\n      <td>2020-11-23</td>\n      <td>Andover</td>\n      <td>147 WHEELING RD</td>\n      <td>143200</td>\n      <td>285000</td>\n      <td>0.5024</td>\n      <td>Residential</td>\n      <td>Single Family</td>\n      <td>NaN</td>\n      <td>NaN</td>\n      <td>NaN</td>\n      <td>NaN</td>\n    </tr>\n    <tr>\n      <th>6</th>\n      <td>202000007</td>\n      <td>2020</td>\n      <td>2020-11-23</td>\n      <td>Andover</td>\n      <td>35 OLD FARMS RD</td>\n      <td>232600</td>\n      <td>347900</td>\n      <td>0.6685</td>\n      <td>Residential</td>\n      <td>Single Family</td>\n      <td>NaN</td>\n      <td>NaN</td>\n      <td>NaN</td>\n      <td>NaN</td>\n    </tr>\n    <tr>\n      <th>7</th>\n      <td>202000008</td>\n      <td>2020</td>\n      <td>2020-12-01</td>\n      <td>Andover</td>\n      <td>40 RIDGE RD</td>\n      <td>186000</td>\n      <td>270000</td>\n      <td>0.6888</td>\n      <td>Residential</td>\n      <td>Single Family</td>\n      <td>NaN</td>\n      <td>NaN</td>\n      <td>NaN</td>\n      <td>NaN</td>\n    </tr>\n    <tr>\n      <th>8</th>\n      <td>202000009</td>\n      <td>2020</td>\n      <td>2020-12-01</td>\n      <td>Andover</td>\n      <td>12 WEBSTER LN BOLTON</td>\n      <td>2700</td>\n      <td>67269</td>\n      <td>0.040137359</td>\n      <td>Vacant Land</td>\n      <td>NaN</td>\n      <td>{'type': 'Point', 'coordinates': [-72.42136, 4...</td>\n      <td>17 - Two Towns</td>\n      <td>THIS IS A 2 TOWN PROPERTY IN BOLTON AND ANDOVER</td>\n      <td>NaN</td>\n    </tr>\n    <tr>\n      <th>9</th>\n      <td>202000010</td>\n      <td>2020</td>\n      <td>2020-12-02</td>\n      <td>Andover</td>\n      <td>3 GILEAD RD</td>\n      <td>151700</td>\n      <td>271000</td>\n      <td>0.5597</td>\n      <td>Residential</td>\n      <td>Single Family</td>\n      <td>{'type': 'Point', 'coordinates': [-72.37228, 4...</td>\n      <td>NaN</td>\n      <td>NaN</td>\n      <td>NaN</td>\n    </tr>\n  </tbody>\n</table>\n</div>"
     },
     "execution_count": 40,
     "metadata": {},
     "output_type": "execute_result"
    }
   ],
   "source": [
    "# drop the following columns: @computed_region_dam5_q64j, @computed_region_nhmp_cq6b, @computed_region_m4y2_whse, and @computed_region_snd5_k6zv\n",
    "df_api_copy.drop(columns=[':@computed_region_dam5_q64j', ':@computed_region_nhmp_cq6b', ':@computed_region_m4y2_whse',\n",
    "                          ':@computed_region_snd5_k6zv'], inplace=True)\n",
    "\n",
    "# let us check the dataset after dropping the columns\n",
    "df_api_copy.head(10)"
   ],
   "metadata": {
    "collapsed": false,
    "ExecuteTime": {
     "end_time": "2023-08-17T21:16:43.102905Z",
     "start_time": "2023-08-17T21:16:42.946152Z"
    }
   }
  },
  {
   "cell_type": "markdown",
   "source": [
    "### Tidiness Issue #1\n",
    "The `geo_coordinates` didn't convert correctly from the Json format, so we need to convert it correctly to be a point with latitude and longitude.<br />\n",
    "\n",
    "#### We will investigate this further in the next step and make the necessary changes."
   ],
   "metadata": {
    "collapsed": false
   }
  },
  {
   "cell_type": "code",
   "execution_count": 41,
   "outputs": [
    {
     "data": {
      "text/plain": "0    {'type': 'Point', 'coordinates': [-72.35327, 4...\n1                                                  NaN\n2    {'type': 'Point', 'coordinates': [-72.39695, 4...\n3    {'type': 'Point', 'coordinates': [-72.33558, 4...\n4                                                  NaN\n5                                                  NaN\n6                                                  NaN\n7                                                  NaN\n8    {'type': 'Point', 'coordinates': [-72.42136, 4...\n9    {'type': 'Point', 'coordinates': [-72.37228, 4...\nName: geo_coordinates, dtype: object"
     },
     "execution_count": 41,
     "metadata": {},
     "output_type": "execute_result"
    }
   ],
   "source": [
    "# let us check the geo_coordinates column\n",
    "df_api_copy['geo_coordinates'].head(10)"
   ],
   "metadata": {
    "collapsed": false,
    "ExecuteTime": {
     "end_time": "2023-08-17T21:16:43.103255Z",
     "start_time": "2023-08-17T21:16:42.962070Z"
    }
   }
  },
  {
   "cell_type": "code",
   "execution_count": 42,
   "outputs": [
    {
     "data": {
      "text/plain": "0    [-72.35327, 41.71416]\n1                     None\n2    [-72.39695, 41.72457]\n3    [-72.33558, 41.73208]\n4                     None\n5                     None\n6                     None\n7                     None\n8    [-72.42136, 41.73088]\n9    [-72.37228, 41.72019]\nName: geo_coordinates, dtype: object"
     },
     "execution_count": 42,
     "metadata": {},
     "output_type": "execute_result"
    }
   ],
   "source": [
    "# Now, let us convert the geo_coordinates column to be a point with latitude and longitude\n",
    "df_api_copy['geo_coordinates'] = df_api_copy['geo_coordinates'].apply(lambda x: x['coordinates'] if isinstance(x, dict) else None)\n",
    "\n",
    "# let us check the geo_coordinates column\n",
    "df_api_copy['geo_coordinates'].head(10)"
   ],
   "metadata": {
    "collapsed": false,
    "ExecuteTime": {
     "end_time": "2023-08-17T21:16:43.103455Z",
     "start_time": "2023-08-17T21:16:42.966836Z"
    }
   }
  },
  {
   "cell_type": "code",
   "execution_count": 43,
   "outputs": [
    {
     "data": {
      "text/plain": "   serialnumber listyear daterecorded     town               address  \\\n0     202000001     2020   2020-10-05  Andover           303 LAKE RD   \n1     202000002     2020   2020-10-15  Andover        78 WINDRUSH LN   \n2     202000003     2020   2020-10-22  Andover    203 BOSTON HILL RD   \n3     202000004     2020   2020-11-02  Andover   23 PARKER BRIDGE RD   \n4     202000005     2020   2020-11-09  Andover      181 LONG HILL RD   \n5     202000006     2020   2020-11-23  Andover       147 WHEELING RD   \n6     202000007     2020   2020-11-23  Andover       35 OLD FARMS RD   \n7     202000008     2020   2020-12-01  Andover           40 RIDGE RD   \n8     202000009     2020   2020-12-01  Andover  12 WEBSTER LN BOLTON   \n9     202000010     2020   2020-12-02  Andover           3 GILEAD RD   \n\n  assessedvalue saleamount   salesratio propertytype residentialtype  \\\n0        121300     210000       0.5776  Residential   Single Family   \n1        181800     275000  0.661090909  Residential   Single Family   \n2        190200     279900       0.6795  Residential   Single Family   \n3        172900     272000       0.6356  Residential   Single Family   \n4        152800     255000       0.5992  Residential   Single Family   \n5        143200     285000       0.5024  Residential   Single Family   \n6        232600     347900       0.6685  Residential   Single Family   \n7        186000     270000       0.6888  Residential   Single Family   \n8          2700      67269  0.040137359  Vacant Land             NaN   \n9        151700     271000       0.5597  Residential   Single Family   \n\n         geo_coordinates      nonusecode  \\\n0  [-72.35327, 41.71416]             NaN   \n1                   None             NaN   \n2  [-72.39695, 41.72457]             NaN   \n3  [-72.33558, 41.73208]             NaN   \n4                   None             NaN   \n5                   None             NaN   \n6                   None             NaN   \n7                   None             NaN   \n8  [-72.42136, 41.73088]  17 - Two Towns   \n9  [-72.37228, 41.72019]             NaN   \n\n                                           remarks opm_remarks  latitude  \\\n0                                              NaN         NaN -72.35327   \n1                                              NaN         NaN       NaN   \n2                                              NaN         NaN -72.39695   \n3                                              NaN         NaN -72.33558   \n4                                              NaN         NaN       NaN   \n5                                              NaN         NaN       NaN   \n6                                              NaN         NaN       NaN   \n7                                              NaN         NaN       NaN   \n8  THIS IS A 2 TOWN PROPERTY IN BOLTON AND ANDOVER         NaN -72.42136   \n9                                              NaN         NaN -72.37228   \n\n   longitude  \n0   41.71416  \n1        NaN  \n2   41.72457  \n3   41.73208  \n4        NaN  \n5        NaN  \n6        NaN  \n7        NaN  \n8   41.73088  \n9   41.72019  ",
      "text/html": "<div>\n<style scoped>\n    .dataframe tbody tr th:only-of-type {\n        vertical-align: middle;\n    }\n\n    .dataframe tbody tr th {\n        vertical-align: top;\n    }\n\n    .dataframe thead th {\n        text-align: right;\n    }\n</style>\n<table border=\"1\" class=\"dataframe\">\n  <thead>\n    <tr style=\"text-align: right;\">\n      <th></th>\n      <th>serialnumber</th>\n      <th>listyear</th>\n      <th>daterecorded</th>\n      <th>town</th>\n      <th>address</th>\n      <th>assessedvalue</th>\n      <th>saleamount</th>\n      <th>salesratio</th>\n      <th>propertytype</th>\n      <th>residentialtype</th>\n      <th>geo_coordinates</th>\n      <th>nonusecode</th>\n      <th>remarks</th>\n      <th>opm_remarks</th>\n      <th>latitude</th>\n      <th>longitude</th>\n    </tr>\n  </thead>\n  <tbody>\n    <tr>\n      <th>0</th>\n      <td>202000001</td>\n      <td>2020</td>\n      <td>2020-10-05</td>\n      <td>Andover</td>\n      <td>303 LAKE RD</td>\n      <td>121300</td>\n      <td>210000</td>\n      <td>0.5776</td>\n      <td>Residential</td>\n      <td>Single Family</td>\n      <td>[-72.35327, 41.71416]</td>\n      <td>NaN</td>\n      <td>NaN</td>\n      <td>NaN</td>\n      <td>-72.35327</td>\n      <td>41.71416</td>\n    </tr>\n    <tr>\n      <th>1</th>\n      <td>202000002</td>\n      <td>2020</td>\n      <td>2020-10-15</td>\n      <td>Andover</td>\n      <td>78 WINDRUSH LN</td>\n      <td>181800</td>\n      <td>275000</td>\n      <td>0.661090909</td>\n      <td>Residential</td>\n      <td>Single Family</td>\n      <td>None</td>\n      <td>NaN</td>\n      <td>NaN</td>\n      <td>NaN</td>\n      <td>NaN</td>\n      <td>NaN</td>\n    </tr>\n    <tr>\n      <th>2</th>\n      <td>202000003</td>\n      <td>2020</td>\n      <td>2020-10-22</td>\n      <td>Andover</td>\n      <td>203 BOSTON HILL RD</td>\n      <td>190200</td>\n      <td>279900</td>\n      <td>0.6795</td>\n      <td>Residential</td>\n      <td>Single Family</td>\n      <td>[-72.39695, 41.72457]</td>\n      <td>NaN</td>\n      <td>NaN</td>\n      <td>NaN</td>\n      <td>-72.39695</td>\n      <td>41.72457</td>\n    </tr>\n    <tr>\n      <th>3</th>\n      <td>202000004</td>\n      <td>2020</td>\n      <td>2020-11-02</td>\n      <td>Andover</td>\n      <td>23 PARKER BRIDGE RD</td>\n      <td>172900</td>\n      <td>272000</td>\n      <td>0.6356</td>\n      <td>Residential</td>\n      <td>Single Family</td>\n      <td>[-72.33558, 41.73208]</td>\n      <td>NaN</td>\n      <td>NaN</td>\n      <td>NaN</td>\n      <td>-72.33558</td>\n      <td>41.73208</td>\n    </tr>\n    <tr>\n      <th>4</th>\n      <td>202000005</td>\n      <td>2020</td>\n      <td>2020-11-09</td>\n      <td>Andover</td>\n      <td>181 LONG HILL RD</td>\n      <td>152800</td>\n      <td>255000</td>\n      <td>0.5992</td>\n      <td>Residential</td>\n      <td>Single Family</td>\n      <td>None</td>\n      <td>NaN</td>\n      <td>NaN</td>\n      <td>NaN</td>\n      <td>NaN</td>\n      <td>NaN</td>\n    </tr>\n    <tr>\n      <th>5</th>\n      <td>202000006</td>\n      <td>2020</td>\n      <td>2020-11-23</td>\n      <td>Andover</td>\n      <td>147 WHEELING RD</td>\n      <td>143200</td>\n      <td>285000</td>\n      <td>0.5024</td>\n      <td>Residential</td>\n      <td>Single Family</td>\n      <td>None</td>\n      <td>NaN</td>\n      <td>NaN</td>\n      <td>NaN</td>\n      <td>NaN</td>\n      <td>NaN</td>\n    </tr>\n    <tr>\n      <th>6</th>\n      <td>202000007</td>\n      <td>2020</td>\n      <td>2020-11-23</td>\n      <td>Andover</td>\n      <td>35 OLD FARMS RD</td>\n      <td>232600</td>\n      <td>347900</td>\n      <td>0.6685</td>\n      <td>Residential</td>\n      <td>Single Family</td>\n      <td>None</td>\n      <td>NaN</td>\n      <td>NaN</td>\n      <td>NaN</td>\n      <td>NaN</td>\n      <td>NaN</td>\n    </tr>\n    <tr>\n      <th>7</th>\n      <td>202000008</td>\n      <td>2020</td>\n      <td>2020-12-01</td>\n      <td>Andover</td>\n      <td>40 RIDGE RD</td>\n      <td>186000</td>\n      <td>270000</td>\n      <td>0.6888</td>\n      <td>Residential</td>\n      <td>Single Family</td>\n      <td>None</td>\n      <td>NaN</td>\n      <td>NaN</td>\n      <td>NaN</td>\n      <td>NaN</td>\n      <td>NaN</td>\n    </tr>\n    <tr>\n      <th>8</th>\n      <td>202000009</td>\n      <td>2020</td>\n      <td>2020-12-01</td>\n      <td>Andover</td>\n      <td>12 WEBSTER LN BOLTON</td>\n      <td>2700</td>\n      <td>67269</td>\n      <td>0.040137359</td>\n      <td>Vacant Land</td>\n      <td>NaN</td>\n      <td>[-72.42136, 41.73088]</td>\n      <td>17 - Two Towns</td>\n      <td>THIS IS A 2 TOWN PROPERTY IN BOLTON AND ANDOVER</td>\n      <td>NaN</td>\n      <td>-72.42136</td>\n      <td>41.73088</td>\n    </tr>\n    <tr>\n      <th>9</th>\n      <td>202000010</td>\n      <td>2020</td>\n      <td>2020-12-02</td>\n      <td>Andover</td>\n      <td>3 GILEAD RD</td>\n      <td>151700</td>\n      <td>271000</td>\n      <td>0.5597</td>\n      <td>Residential</td>\n      <td>Single Family</td>\n      <td>[-72.37228, 41.72019]</td>\n      <td>NaN</td>\n      <td>NaN</td>\n      <td>NaN</td>\n      <td>-72.37228</td>\n      <td>41.72019</td>\n    </tr>\n  </tbody>\n</table>\n</div>"
     },
     "execution_count": 43,
     "metadata": {},
     "output_type": "execute_result"
    }
   ],
   "source": [
    "# Now, let us split the geo_coordinates column into two columns: latitude and longitude\n",
    "df_api_copy['latitude'] = df_api_copy['geo_coordinates'].apply(lambda x: x[0] if isinstance(x, list) else None)\n",
    "df_api_copy['longitude'] = df_api_copy['geo_coordinates'].apply(lambda x: x[1] if isinstance(x, list) else None)\n",
    "\n",
    "# let us check the new columns column\n",
    "df_api_copy.head(10)"
   ],
   "metadata": {
    "collapsed": false,
    "ExecuteTime": {
     "end_time": "2023-08-17T21:16:43.103622Z",
     "start_time": "2023-08-17T21:16:42.982789Z"
    }
   }
  },
  {
   "cell_type": "code",
   "execution_count": 44,
   "outputs": [
    {
     "data": {
      "text/plain": "   serialnumber listyear daterecorded     town               address  \\\n0     202000001     2020   2020-10-05  Andover           303 LAKE RD   \n1     202000002     2020   2020-10-15  Andover        78 WINDRUSH LN   \n2     202000003     2020   2020-10-22  Andover    203 BOSTON HILL RD   \n3     202000004     2020   2020-11-02  Andover   23 PARKER BRIDGE RD   \n4     202000005     2020   2020-11-09  Andover      181 LONG HILL RD   \n5     202000006     2020   2020-11-23  Andover       147 WHEELING RD   \n6     202000007     2020   2020-11-23  Andover       35 OLD FARMS RD   \n7     202000008     2020   2020-12-01  Andover           40 RIDGE RD   \n8     202000009     2020   2020-12-01  Andover  12 WEBSTER LN BOLTON   \n9     202000010     2020   2020-12-02  Andover           3 GILEAD RD   \n\n  assessedvalue saleamount   salesratio propertytype residentialtype  \\\n0        121300     210000       0.5776  Residential   Single Family   \n1        181800     275000  0.661090909  Residential   Single Family   \n2        190200     279900       0.6795  Residential   Single Family   \n3        172900     272000       0.6356  Residential   Single Family   \n4        152800     255000       0.5992  Residential   Single Family   \n5        143200     285000       0.5024  Residential   Single Family   \n6        232600     347900       0.6685  Residential   Single Family   \n7        186000     270000       0.6888  Residential   Single Family   \n8          2700      67269  0.040137359  Vacant Land             NaN   \n9        151700     271000       0.5597  Residential   Single Family   \n\n       nonusecode                                          remarks  \\\n0             NaN                                              NaN   \n1             NaN                                              NaN   \n2             NaN                                              NaN   \n3             NaN                                              NaN   \n4             NaN                                              NaN   \n5             NaN                                              NaN   \n6             NaN                                              NaN   \n7             NaN                                              NaN   \n8  17 - Two Towns  THIS IS A 2 TOWN PROPERTY IN BOLTON AND ANDOVER   \n9             NaN                                              NaN   \n\n  opm_remarks  latitude  longitude  \n0         NaN -72.35327   41.71416  \n1         NaN       NaN        NaN  \n2         NaN -72.39695   41.72457  \n3         NaN -72.33558   41.73208  \n4         NaN       NaN        NaN  \n5         NaN       NaN        NaN  \n6         NaN       NaN        NaN  \n7         NaN       NaN        NaN  \n8         NaN -72.42136   41.73088  \n9         NaN -72.37228   41.72019  ",
      "text/html": "<div>\n<style scoped>\n    .dataframe tbody tr th:only-of-type {\n        vertical-align: middle;\n    }\n\n    .dataframe tbody tr th {\n        vertical-align: top;\n    }\n\n    .dataframe thead th {\n        text-align: right;\n    }\n</style>\n<table border=\"1\" class=\"dataframe\">\n  <thead>\n    <tr style=\"text-align: right;\">\n      <th></th>\n      <th>serialnumber</th>\n      <th>listyear</th>\n      <th>daterecorded</th>\n      <th>town</th>\n      <th>address</th>\n      <th>assessedvalue</th>\n      <th>saleamount</th>\n      <th>salesratio</th>\n      <th>propertytype</th>\n      <th>residentialtype</th>\n      <th>nonusecode</th>\n      <th>remarks</th>\n      <th>opm_remarks</th>\n      <th>latitude</th>\n      <th>longitude</th>\n    </tr>\n  </thead>\n  <tbody>\n    <tr>\n      <th>0</th>\n      <td>202000001</td>\n      <td>2020</td>\n      <td>2020-10-05</td>\n      <td>Andover</td>\n      <td>303 LAKE RD</td>\n      <td>121300</td>\n      <td>210000</td>\n      <td>0.5776</td>\n      <td>Residential</td>\n      <td>Single Family</td>\n      <td>NaN</td>\n      <td>NaN</td>\n      <td>NaN</td>\n      <td>-72.35327</td>\n      <td>41.71416</td>\n    </tr>\n    <tr>\n      <th>1</th>\n      <td>202000002</td>\n      <td>2020</td>\n      <td>2020-10-15</td>\n      <td>Andover</td>\n      <td>78 WINDRUSH LN</td>\n      <td>181800</td>\n      <td>275000</td>\n      <td>0.661090909</td>\n      <td>Residential</td>\n      <td>Single Family</td>\n      <td>NaN</td>\n      <td>NaN</td>\n      <td>NaN</td>\n      <td>NaN</td>\n      <td>NaN</td>\n    </tr>\n    <tr>\n      <th>2</th>\n      <td>202000003</td>\n      <td>2020</td>\n      <td>2020-10-22</td>\n      <td>Andover</td>\n      <td>203 BOSTON HILL RD</td>\n      <td>190200</td>\n      <td>279900</td>\n      <td>0.6795</td>\n      <td>Residential</td>\n      <td>Single Family</td>\n      <td>NaN</td>\n      <td>NaN</td>\n      <td>NaN</td>\n      <td>-72.39695</td>\n      <td>41.72457</td>\n    </tr>\n    <tr>\n      <th>3</th>\n      <td>202000004</td>\n      <td>2020</td>\n      <td>2020-11-02</td>\n      <td>Andover</td>\n      <td>23 PARKER BRIDGE RD</td>\n      <td>172900</td>\n      <td>272000</td>\n      <td>0.6356</td>\n      <td>Residential</td>\n      <td>Single Family</td>\n      <td>NaN</td>\n      <td>NaN</td>\n      <td>NaN</td>\n      <td>-72.33558</td>\n      <td>41.73208</td>\n    </tr>\n    <tr>\n      <th>4</th>\n      <td>202000005</td>\n      <td>2020</td>\n      <td>2020-11-09</td>\n      <td>Andover</td>\n      <td>181 LONG HILL RD</td>\n      <td>152800</td>\n      <td>255000</td>\n      <td>0.5992</td>\n      <td>Residential</td>\n      <td>Single Family</td>\n      <td>NaN</td>\n      <td>NaN</td>\n      <td>NaN</td>\n      <td>NaN</td>\n      <td>NaN</td>\n    </tr>\n    <tr>\n      <th>5</th>\n      <td>202000006</td>\n      <td>2020</td>\n      <td>2020-11-23</td>\n      <td>Andover</td>\n      <td>147 WHEELING RD</td>\n      <td>143200</td>\n      <td>285000</td>\n      <td>0.5024</td>\n      <td>Residential</td>\n      <td>Single Family</td>\n      <td>NaN</td>\n      <td>NaN</td>\n      <td>NaN</td>\n      <td>NaN</td>\n      <td>NaN</td>\n    </tr>\n    <tr>\n      <th>6</th>\n      <td>202000007</td>\n      <td>2020</td>\n      <td>2020-11-23</td>\n      <td>Andover</td>\n      <td>35 OLD FARMS RD</td>\n      <td>232600</td>\n      <td>347900</td>\n      <td>0.6685</td>\n      <td>Residential</td>\n      <td>Single Family</td>\n      <td>NaN</td>\n      <td>NaN</td>\n      <td>NaN</td>\n      <td>NaN</td>\n      <td>NaN</td>\n    </tr>\n    <tr>\n      <th>7</th>\n      <td>202000008</td>\n      <td>2020</td>\n      <td>2020-12-01</td>\n      <td>Andover</td>\n      <td>40 RIDGE RD</td>\n      <td>186000</td>\n      <td>270000</td>\n      <td>0.6888</td>\n      <td>Residential</td>\n      <td>Single Family</td>\n      <td>NaN</td>\n      <td>NaN</td>\n      <td>NaN</td>\n      <td>NaN</td>\n      <td>NaN</td>\n    </tr>\n    <tr>\n      <th>8</th>\n      <td>202000009</td>\n      <td>2020</td>\n      <td>2020-12-01</td>\n      <td>Andover</td>\n      <td>12 WEBSTER LN BOLTON</td>\n      <td>2700</td>\n      <td>67269</td>\n      <td>0.040137359</td>\n      <td>Vacant Land</td>\n      <td>NaN</td>\n      <td>17 - Two Towns</td>\n      <td>THIS IS A 2 TOWN PROPERTY IN BOLTON AND ANDOVER</td>\n      <td>NaN</td>\n      <td>-72.42136</td>\n      <td>41.73088</td>\n    </tr>\n    <tr>\n      <th>9</th>\n      <td>202000010</td>\n      <td>2020</td>\n      <td>2020-12-02</td>\n      <td>Andover</td>\n      <td>3 GILEAD RD</td>\n      <td>151700</td>\n      <td>271000</td>\n      <td>0.5597</td>\n      <td>Residential</td>\n      <td>Single Family</td>\n      <td>NaN</td>\n      <td>NaN</td>\n      <td>NaN</td>\n      <td>-72.37228</td>\n      <td>41.72019</td>\n    </tr>\n  </tbody>\n</table>\n</div>"
     },
     "execution_count": 44,
     "metadata": {},
     "output_type": "execute_result"
    }
   ],
   "source": [
    "# Now, let us drop the geo_coordinates column\n",
    "df_api_copy.drop(columns=['geo_coordinates'], inplace=True)\n",
    "\n",
    "# let us check the dataset after dropping the columns\n",
    "df_api_copy.head(10)"
   ],
   "metadata": {
    "collapsed": false,
    "ExecuteTime": {
     "end_time": "2023-08-17T21:16:43.104603Z",
     "start_time": "2023-08-17T21:16:42.993791Z"
    }
   }
  },
  {
   "cell_type": "markdown",
   "source": [
    "### Tidiness Issue #2\n",
    "The columns name are not following the rules of the tidy data.<br />\n",
    "\n",
    "#### We will rename the columns to follow the rules of the tidy data."
   ],
   "metadata": {
    "collapsed": false
   }
  },
  {
   "cell_type": "code",
   "execution_count": 45,
   "outputs": [
    {
     "data": {
      "text/plain": "   serial_number list_year date_recorded     town               address  \\\n0      202000001      2020    2020-10-05  Andover           303 LAKE RD   \n1      202000002      2020    2020-10-15  Andover        78 WINDRUSH LN   \n2      202000003      2020    2020-10-22  Andover    203 BOSTON HILL RD   \n3      202000004      2020    2020-11-02  Andover   23 PARKER BRIDGE RD   \n4      202000005      2020    2020-11-09  Andover      181 LONG HILL RD   \n5      202000006      2020    2020-11-23  Andover       147 WHEELING RD   \n6      202000007      2020    2020-11-23  Andover       35 OLD FARMS RD   \n7      202000008      2020    2020-12-01  Andover           40 RIDGE RD   \n8      202000009      2020    2020-12-01  Andover  12 WEBSTER LN BOLTON   \n9      202000010      2020    2020-12-02  Andover           3 GILEAD RD   \n\n  assessed_value sale_amount  sales_ratio property_type residential_type  \\\n0         121300      210000       0.5776   Residential    Single Family   \n1         181800      275000  0.661090909   Residential    Single Family   \n2         190200      279900       0.6795   Residential    Single Family   \n3         172900      272000       0.6356   Residential    Single Family   \n4         152800      255000       0.5992   Residential    Single Family   \n5         143200      285000       0.5024   Residential    Single Family   \n6         232600      347900       0.6685   Residential    Single Family   \n7         186000      270000       0.6888   Residential    Single Family   \n8           2700       67269  0.040137359   Vacant Land              NaN   \n9         151700      271000       0.5597   Residential    Single Family   \n\n     non_use_code                                          remarks  \\\n0             NaN                                              NaN   \n1             NaN                                              NaN   \n2             NaN                                              NaN   \n3             NaN                                              NaN   \n4             NaN                                              NaN   \n5             NaN                                              NaN   \n6             NaN                                              NaN   \n7             NaN                                              NaN   \n8  17 - Two Towns  THIS IS A 2 TOWN PROPERTY IN BOLTON AND ANDOVER   \n9             NaN                                              NaN   \n\n  opm_remarks  latitude  longitude  \n0         NaN -72.35327   41.71416  \n1         NaN       NaN        NaN  \n2         NaN -72.39695   41.72457  \n3         NaN -72.33558   41.73208  \n4         NaN       NaN        NaN  \n5         NaN       NaN        NaN  \n6         NaN       NaN        NaN  \n7         NaN       NaN        NaN  \n8         NaN -72.42136   41.73088  \n9         NaN -72.37228   41.72019  ",
      "text/html": "<div>\n<style scoped>\n    .dataframe tbody tr th:only-of-type {\n        vertical-align: middle;\n    }\n\n    .dataframe tbody tr th {\n        vertical-align: top;\n    }\n\n    .dataframe thead th {\n        text-align: right;\n    }\n</style>\n<table border=\"1\" class=\"dataframe\">\n  <thead>\n    <tr style=\"text-align: right;\">\n      <th></th>\n      <th>serial_number</th>\n      <th>list_year</th>\n      <th>date_recorded</th>\n      <th>town</th>\n      <th>address</th>\n      <th>assessed_value</th>\n      <th>sale_amount</th>\n      <th>sales_ratio</th>\n      <th>property_type</th>\n      <th>residential_type</th>\n      <th>non_use_code</th>\n      <th>remarks</th>\n      <th>opm_remarks</th>\n      <th>latitude</th>\n      <th>longitude</th>\n    </tr>\n  </thead>\n  <tbody>\n    <tr>\n      <th>0</th>\n      <td>202000001</td>\n      <td>2020</td>\n      <td>2020-10-05</td>\n      <td>Andover</td>\n      <td>303 LAKE RD</td>\n      <td>121300</td>\n      <td>210000</td>\n      <td>0.5776</td>\n      <td>Residential</td>\n      <td>Single Family</td>\n      <td>NaN</td>\n      <td>NaN</td>\n      <td>NaN</td>\n      <td>-72.35327</td>\n      <td>41.71416</td>\n    </tr>\n    <tr>\n      <th>1</th>\n      <td>202000002</td>\n      <td>2020</td>\n      <td>2020-10-15</td>\n      <td>Andover</td>\n      <td>78 WINDRUSH LN</td>\n      <td>181800</td>\n      <td>275000</td>\n      <td>0.661090909</td>\n      <td>Residential</td>\n      <td>Single Family</td>\n      <td>NaN</td>\n      <td>NaN</td>\n      <td>NaN</td>\n      <td>NaN</td>\n      <td>NaN</td>\n    </tr>\n    <tr>\n      <th>2</th>\n      <td>202000003</td>\n      <td>2020</td>\n      <td>2020-10-22</td>\n      <td>Andover</td>\n      <td>203 BOSTON HILL RD</td>\n      <td>190200</td>\n      <td>279900</td>\n      <td>0.6795</td>\n      <td>Residential</td>\n      <td>Single Family</td>\n      <td>NaN</td>\n      <td>NaN</td>\n      <td>NaN</td>\n      <td>-72.39695</td>\n      <td>41.72457</td>\n    </tr>\n    <tr>\n      <th>3</th>\n      <td>202000004</td>\n      <td>2020</td>\n      <td>2020-11-02</td>\n      <td>Andover</td>\n      <td>23 PARKER BRIDGE RD</td>\n      <td>172900</td>\n      <td>272000</td>\n      <td>0.6356</td>\n      <td>Residential</td>\n      <td>Single Family</td>\n      <td>NaN</td>\n      <td>NaN</td>\n      <td>NaN</td>\n      <td>-72.33558</td>\n      <td>41.73208</td>\n    </tr>\n    <tr>\n      <th>4</th>\n      <td>202000005</td>\n      <td>2020</td>\n      <td>2020-11-09</td>\n      <td>Andover</td>\n      <td>181 LONG HILL RD</td>\n      <td>152800</td>\n      <td>255000</td>\n      <td>0.5992</td>\n      <td>Residential</td>\n      <td>Single Family</td>\n      <td>NaN</td>\n      <td>NaN</td>\n      <td>NaN</td>\n      <td>NaN</td>\n      <td>NaN</td>\n    </tr>\n    <tr>\n      <th>5</th>\n      <td>202000006</td>\n      <td>2020</td>\n      <td>2020-11-23</td>\n      <td>Andover</td>\n      <td>147 WHEELING RD</td>\n      <td>143200</td>\n      <td>285000</td>\n      <td>0.5024</td>\n      <td>Residential</td>\n      <td>Single Family</td>\n      <td>NaN</td>\n      <td>NaN</td>\n      <td>NaN</td>\n      <td>NaN</td>\n      <td>NaN</td>\n    </tr>\n    <tr>\n      <th>6</th>\n      <td>202000007</td>\n      <td>2020</td>\n      <td>2020-11-23</td>\n      <td>Andover</td>\n      <td>35 OLD FARMS RD</td>\n      <td>232600</td>\n      <td>347900</td>\n      <td>0.6685</td>\n      <td>Residential</td>\n      <td>Single Family</td>\n      <td>NaN</td>\n      <td>NaN</td>\n      <td>NaN</td>\n      <td>NaN</td>\n      <td>NaN</td>\n    </tr>\n    <tr>\n      <th>7</th>\n      <td>202000008</td>\n      <td>2020</td>\n      <td>2020-12-01</td>\n      <td>Andover</td>\n      <td>40 RIDGE RD</td>\n      <td>186000</td>\n      <td>270000</td>\n      <td>0.6888</td>\n      <td>Residential</td>\n      <td>Single Family</td>\n      <td>NaN</td>\n      <td>NaN</td>\n      <td>NaN</td>\n      <td>NaN</td>\n      <td>NaN</td>\n    </tr>\n    <tr>\n      <th>8</th>\n      <td>202000009</td>\n      <td>2020</td>\n      <td>2020-12-01</td>\n      <td>Andover</td>\n      <td>12 WEBSTER LN BOLTON</td>\n      <td>2700</td>\n      <td>67269</td>\n      <td>0.040137359</td>\n      <td>Vacant Land</td>\n      <td>NaN</td>\n      <td>17 - Two Towns</td>\n      <td>THIS IS A 2 TOWN PROPERTY IN BOLTON AND ANDOVER</td>\n      <td>NaN</td>\n      <td>-72.42136</td>\n      <td>41.73088</td>\n    </tr>\n    <tr>\n      <th>9</th>\n      <td>202000010</td>\n      <td>2020</td>\n      <td>2020-12-02</td>\n      <td>Andover</td>\n      <td>3 GILEAD RD</td>\n      <td>151700</td>\n      <td>271000</td>\n      <td>0.5597</td>\n      <td>Residential</td>\n      <td>Single Family</td>\n      <td>NaN</td>\n      <td>NaN</td>\n      <td>NaN</td>\n      <td>-72.37228</td>\n      <td>41.72019</td>\n    </tr>\n  </tbody>\n</table>\n</div>"
     },
     "execution_count": 45,
     "metadata": {},
     "output_type": "execute_result"
    }
   ],
   "source": [
    "# Renaming columns in the DataFrame\n",
    "df_api_copy.rename(columns={\n",
    "    'serialnumber': 'serial_number',\n",
    "    'listyear': 'list_year',\n",
    "    'daterecorded': 'date_recorded',\n",
    "    'assessedvalue': 'assessed_value',\n",
    "    'saleamount': 'sale_amount',\n",
    "    'salesratio': 'sales_ratio',\n",
    "    'propertytype': 'property_type',\n",
    "    'residentialtype': 'residential_type',\n",
    "    'nonusecode': 'non_use_code'\n",
    "}, inplace=True)  # inplace=True to modify the DataFrame in-place\n",
    "\n",
    "# Checking the dataset after renaming the columns\n",
    "df_api_copy.head(10)"
   ],
   "metadata": {
    "collapsed": false,
    "ExecuteTime": {
     "end_time": "2023-08-17T21:16:43.105010Z",
     "start_time": "2023-08-17T21:16:43.017172Z"
    }
   }
  },
  {
   "cell_type": "code",
   "execution_count": 46,
   "outputs": [
    {
     "data": {
      "text/plain": "   serial_number list_year date_recorded     town               address  \\\n0      202000001      2020    2020-10-05  Andover           303 LAKE RD   \n1      202000002      2020    2020-10-15  Andover        78 WINDRUSH LN   \n2      202000003      2020    2020-10-22  Andover    203 BOSTON HILL RD   \n3      202000004      2020    2020-11-02  Andover   23 PARKER BRIDGE RD   \n4      202000005      2020    2020-11-09  Andover      181 LONG HILL RD   \n5      202000006      2020    2020-11-23  Andover       147 WHEELING RD   \n6      202000007      2020    2020-11-23  Andover       35 OLD FARMS RD   \n7      202000008      2020    2020-12-01  Andover           40 RIDGE RD   \n8      202000009      2020    2020-12-01  Andover  12 WEBSTER LN BOLTON   \n9      202000010      2020    2020-12-02  Andover           3 GILEAD RD   \n\n  assessed_value sale_amount  sales_ratio property_type residential_type  \\\n0         121300      210000       0.5776   Residential    Single Family   \n1         181800      275000  0.661090909   Residential    Single Family   \n2         190200      279900       0.6795   Residential    Single Family   \n3         172900      272000       0.6356   Residential    Single Family   \n4         152800      255000       0.5992   Residential    Single Family   \n5         143200      285000       0.5024   Residential    Single Family   \n6         232600      347900       0.6685   Residential    Single Family   \n7         186000      270000       0.6888   Residential    Single Family   \n8           2700       67269  0.040137359   Vacant Land              NaN   \n9         151700      271000       0.5597   Residential    Single Family   \n\n     non_use_code                                          remarks  \\\n0             NaN                                              NaN   \n1             NaN                                              NaN   \n2             NaN                                              NaN   \n3             NaN                                              NaN   \n4             NaN                                              NaN   \n5             NaN                                              NaN   \n6             NaN                                              NaN   \n7             NaN                                              NaN   \n8  17 - Two Towns  THIS IS A 2 TOWN PROPERTY IN BOLTON AND ANDOVER   \n9             NaN                                              NaN   \n\n  opm_remarks  latitude  longitude  \n0         NaN -72.35327   41.71416  \n1         NaN       NaN        NaN  \n2         NaN -72.39695   41.72457  \n3         NaN -72.33558   41.73208  \n4         NaN       NaN        NaN  \n5         NaN       NaN        NaN  \n6         NaN       NaN        NaN  \n7         NaN       NaN        NaN  \n8         NaN -72.42136   41.73088  \n9         NaN -72.37228   41.72019  ",
      "text/html": "<div>\n<style scoped>\n    .dataframe tbody tr th:only-of-type {\n        vertical-align: middle;\n    }\n\n    .dataframe tbody tr th {\n        vertical-align: top;\n    }\n\n    .dataframe thead th {\n        text-align: right;\n    }\n</style>\n<table border=\"1\" class=\"dataframe\">\n  <thead>\n    <tr style=\"text-align: right;\">\n      <th></th>\n      <th>serial_number</th>\n      <th>list_year</th>\n      <th>date_recorded</th>\n      <th>town</th>\n      <th>address</th>\n      <th>assessed_value</th>\n      <th>sale_amount</th>\n      <th>sales_ratio</th>\n      <th>property_type</th>\n      <th>residential_type</th>\n      <th>non_use_code</th>\n      <th>remarks</th>\n      <th>opm_remarks</th>\n      <th>latitude</th>\n      <th>longitude</th>\n    </tr>\n  </thead>\n  <tbody>\n    <tr>\n      <th>0</th>\n      <td>202000001</td>\n      <td>2020</td>\n      <td>2020-10-05</td>\n      <td>Andover</td>\n      <td>303 LAKE RD</td>\n      <td>121300</td>\n      <td>210000</td>\n      <td>0.5776</td>\n      <td>Residential</td>\n      <td>Single Family</td>\n      <td>NaN</td>\n      <td>NaN</td>\n      <td>NaN</td>\n      <td>-72.35327</td>\n      <td>41.71416</td>\n    </tr>\n    <tr>\n      <th>1</th>\n      <td>202000002</td>\n      <td>2020</td>\n      <td>2020-10-15</td>\n      <td>Andover</td>\n      <td>78 WINDRUSH LN</td>\n      <td>181800</td>\n      <td>275000</td>\n      <td>0.661090909</td>\n      <td>Residential</td>\n      <td>Single Family</td>\n      <td>NaN</td>\n      <td>NaN</td>\n      <td>NaN</td>\n      <td>NaN</td>\n      <td>NaN</td>\n    </tr>\n    <tr>\n      <th>2</th>\n      <td>202000003</td>\n      <td>2020</td>\n      <td>2020-10-22</td>\n      <td>Andover</td>\n      <td>203 BOSTON HILL RD</td>\n      <td>190200</td>\n      <td>279900</td>\n      <td>0.6795</td>\n      <td>Residential</td>\n      <td>Single Family</td>\n      <td>NaN</td>\n      <td>NaN</td>\n      <td>NaN</td>\n      <td>-72.39695</td>\n      <td>41.72457</td>\n    </tr>\n    <tr>\n      <th>3</th>\n      <td>202000004</td>\n      <td>2020</td>\n      <td>2020-11-02</td>\n      <td>Andover</td>\n      <td>23 PARKER BRIDGE RD</td>\n      <td>172900</td>\n      <td>272000</td>\n      <td>0.6356</td>\n      <td>Residential</td>\n      <td>Single Family</td>\n      <td>NaN</td>\n      <td>NaN</td>\n      <td>NaN</td>\n      <td>-72.33558</td>\n      <td>41.73208</td>\n    </tr>\n    <tr>\n      <th>4</th>\n      <td>202000005</td>\n      <td>2020</td>\n      <td>2020-11-09</td>\n      <td>Andover</td>\n      <td>181 LONG HILL RD</td>\n      <td>152800</td>\n      <td>255000</td>\n      <td>0.5992</td>\n      <td>Residential</td>\n      <td>Single Family</td>\n      <td>NaN</td>\n      <td>NaN</td>\n      <td>NaN</td>\n      <td>NaN</td>\n      <td>NaN</td>\n    </tr>\n    <tr>\n      <th>5</th>\n      <td>202000006</td>\n      <td>2020</td>\n      <td>2020-11-23</td>\n      <td>Andover</td>\n      <td>147 WHEELING RD</td>\n      <td>143200</td>\n      <td>285000</td>\n      <td>0.5024</td>\n      <td>Residential</td>\n      <td>Single Family</td>\n      <td>NaN</td>\n      <td>NaN</td>\n      <td>NaN</td>\n      <td>NaN</td>\n      <td>NaN</td>\n    </tr>\n    <tr>\n      <th>6</th>\n      <td>202000007</td>\n      <td>2020</td>\n      <td>2020-11-23</td>\n      <td>Andover</td>\n      <td>35 OLD FARMS RD</td>\n      <td>232600</td>\n      <td>347900</td>\n      <td>0.6685</td>\n      <td>Residential</td>\n      <td>Single Family</td>\n      <td>NaN</td>\n      <td>NaN</td>\n      <td>NaN</td>\n      <td>NaN</td>\n      <td>NaN</td>\n    </tr>\n    <tr>\n      <th>7</th>\n      <td>202000008</td>\n      <td>2020</td>\n      <td>2020-12-01</td>\n      <td>Andover</td>\n      <td>40 RIDGE RD</td>\n      <td>186000</td>\n      <td>270000</td>\n      <td>0.6888</td>\n      <td>Residential</td>\n      <td>Single Family</td>\n      <td>NaN</td>\n      <td>NaN</td>\n      <td>NaN</td>\n      <td>NaN</td>\n      <td>NaN</td>\n    </tr>\n    <tr>\n      <th>8</th>\n      <td>202000009</td>\n      <td>2020</td>\n      <td>2020-12-01</td>\n      <td>Andover</td>\n      <td>12 WEBSTER LN BOLTON</td>\n      <td>2700</td>\n      <td>67269</td>\n      <td>0.040137359</td>\n      <td>Vacant Land</td>\n      <td>NaN</td>\n      <td>17 - Two Towns</td>\n      <td>THIS IS A 2 TOWN PROPERTY IN BOLTON AND ANDOVER</td>\n      <td>NaN</td>\n      <td>-72.42136</td>\n      <td>41.73088</td>\n    </tr>\n    <tr>\n      <th>9</th>\n      <td>202000010</td>\n      <td>2020</td>\n      <td>2020-12-02</td>\n      <td>Andover</td>\n      <td>3 GILEAD RD</td>\n      <td>151700</td>\n      <td>271000</td>\n      <td>0.5597</td>\n      <td>Residential</td>\n      <td>Single Family</td>\n      <td>NaN</td>\n      <td>NaN</td>\n      <td>NaN</td>\n      <td>-72.37228</td>\n      <td>41.72019</td>\n    </tr>\n  </tbody>\n</table>\n</div>"
     },
     "execution_count": 46,
     "metadata": {},
     "output_type": "execute_result"
    }
   ],
   "source": [
    "# let us reset the index of the dataframe\n",
    "df_api_copy.reset_index(drop=True, inplace=True)\n",
    "\n",
    "# let us check the dataset after resetting the index\n",
    "df_api_copy.head(10)"
   ],
   "metadata": {
    "collapsed": false,
    "ExecuteTime": {
     "end_time": "2023-08-17T21:16:43.296254Z",
     "start_time": "2023-08-17T21:16:43.122793Z"
    }
   }
  },
  {
   "cell_type": "markdown",
   "source": [
    "#### After we have cleaned the data, we will check if there are any duplicated rows"
   ],
   "metadata": {
    "collapsed": false
   }
  },
  {
   "cell_type": "code",
   "execution_count": 47,
   "outputs": [
    {
     "data": {
      "text/plain": "<Figure size 432x288 with 1 Axes>",
      "image/png": "[encoded data removed]"
     },
     "metadata": {
      "needs_background": "light"
     },
     "output_type": "display_data"
    },
    {
     "name": "stdout",
     "output_type": "stream",
     "text": [
      "Number of exact duplicated rows: False    999\n",
      "True       1\n",
      "dtype: int64\n"
     ]
    }
   ],
   "source": [
    "# let us check if there are any exact-duplicated rows, we will ignore the serial number column because it is unique\n",
    "df_api_copy.duplicated(subset=df_api_copy.columns.difference(['serial_number'])).sum()\n",
    "\n",
    "# Plot the number of duplicated rows\n",
    "duplicated_counts = df_api_copy.duplicated(subset=df_api_copy.columns.difference(['serial_number'])).value_counts()\n",
    "duplicated_counts.plot(kind='bar', color=['green', 'red'])\n",
    "\n",
    "plt.ylabel('Count')\n",
    "plt.title('Count of Duplicated Rows')\n",
    "plt.xticks([0, 1], ['Not Duplicated', 'Duplicated'], rotation=0)\n",
    "plt.show()\n",
    "\n",
    "print(f\"Number of exact duplicated rows: {duplicated_counts}\")"
   ],
   "metadata": {
    "collapsed": false,
    "ExecuteTime": {
     "end_time": "2023-08-17T21:16:43.435263Z",
     "start_time": "2023-08-17T21:16:43.129497Z"
    }
   }
  },
  {
   "cell_type": "code",
   "execution_count": 48,
   "outputs": [
    {
     "data": {
      "text/plain": "<Figure size 432x288 with 1 Axes>",
      "image/png": "[encoded data removed]"
     },
     "metadata": {
      "needs_background": "light"
     },
     "output_type": "display_data"
    },
    {
     "name": "stdout",
     "output_type": "stream",
     "text": [
      "Number of exact duplicated rows: False    999\n",
      "dtype: int64\n"
     ]
    }
   ],
   "source": [
    "# delete the duplicated rows\n",
    "df_api_copy.drop_duplicates(subset=df_api_copy.columns.difference(['serial_number']), inplace=True)\n",
    "\n",
    "# validate that there are no duplicated rows using visual assessment\n",
    "duplicated_counts = df_api_copy.duplicated(subset=df_api_copy.columns.difference(['serial_number'])).value_counts()\n",
    "duplicated_counts.plot(kind='bar', color=['green', 'red'])\n",
    "\n",
    "plt.ylabel('Count')\n",
    "plt.title('Count of Duplicated Rows')\n",
    "plt.xticks([0, 1], ['Not Duplicated', 'Duplicated'], rotation=0)\n",
    "plt.show()\n",
    "\n",
    "print(f\"Number of exact duplicated rows: {duplicated_counts}\")"
   ],
   "metadata": {
    "collapsed": false,
    "ExecuteTime": {
     "end_time": "2023-08-17T21:16:43.566177Z",
     "start_time": "2023-08-17T21:16:43.225559Z"
    }
   }
  },
  {
   "cell_type": "markdown",
   "source": [],
   "metadata": {
    "collapsed": false
   }
  },
  {
   "cell_type": "markdown",
   "source": [
    "### We have finished cleaning the API response dataset, now the data is ready to go to the next step."
   ],
   "metadata": {
    "collapsed": false
   }
  },
  {
   "cell_type": "markdown",
   "metadata": {},
   "source": [
    "### **Remove unnecessary variables and combine datasets**\n",
    "\n",
    "Depending on the datasets, you can also peform the combination before the cleaning steps."
   ]
  },
  {
   "cell_type": "markdown",
   "source": [
    "#### Remove unnecessary variables from the `csv` dataset"
   ],
   "metadata": {
    "collapsed": false
   }
  },
  {
   "cell_type": "code",
   "execution_count": 49,
   "outputs": [
    {
     "data": {
      "text/plain": "   serial_number  list_year date_recorded           town             address  \\\n0      199900001       2017    1999-04-05     New London  184 PEQUOT AVE 309   \n1      200100001       2017    2001-08-01        Shelton    19 BLACKBERRY LA   \n2      200100002       2017    2001-08-23        Shelton   12 BOYSENBERRY LA   \n3      200100003       2006    2001-09-04      Newington       110 MOYLAN CT   \n4      200100004       2006    2001-09-05      Newington     48 EVERGREEN RD   \n5      200100005       2006    2001-09-25      Naugatuck       217 OSBORN RD   \n6      200104333       2006    2001-10-27      Greenwich       1010 NORTH ST   \n7      200329976       2006    2003-07-17      Naugatuck        80 GORMAN ST   \n8      200426237       2006    2004-06-05        Bristol       225 TYLER WAY   \n9      200438141       2006    2004-07-27  South Windsor    305 MILL POND DR   \n\n   assessed_value  sale_amount  sales_ratio  property_type residential_type  \\\n0         46690.0      95000.0     0.491400          Condo            Condo   \n1        390810.0     635000.0     0.615449  Single Family    Single Family   \n2        427910.0     558000.0     0.766864  Single Family    Single Family   \n3         64750.0      88000.0     0.735795          Condo            Condo   \n4        166110.0     256000.0     0.648867  Single Family    Single Family   \n5        183850.0     293711.0     0.625955  Single Family    Single Family   \n6        573930.0     660000.0     0.869591  Single Family    Single Family   \n7         84200.0     158900.0     0.529893  Single Family    Single Family   \n8        147320.0     329900.0     0.446560  Single Family    Single Family   \n9        113580.0     210000.0     0.540857          Condo            Condo   \n\n  non_use_code assessor_remarks opm_remarks                    location  \n0          NaN              NaN         NaN                         NaN  \n1          NaN              NaN         NaN                         NaN  \n2          NaN              NaN         NaN                         NaN  \n3          NaN              NaN         NaN   POINT (-72.72554 41.7149)  \n4          NaN              NaN         NaN                         NaN  \n5          NaN              NaN         NaN  POINT (-73.03061 41.47741)  \n6          NaN              NaN         NaN                         NaN  \n7          NaN              NaN         NaN                         NaN  \n8          NaN              NaN         NaN                         NaN  \n9          NaN              NaN         NaN  POINT (-72.58086 41.82519)  ",
      "text/html": "<div>\n<style scoped>\n    .dataframe tbody tr th:only-of-type {\n        vertical-align: middle;\n    }\n\n    .dataframe tbody tr th {\n        vertical-align: top;\n    }\n\n    .dataframe thead th {\n        text-align: right;\n    }\n</style>\n<table border=\"1\" class=\"dataframe\">\n  <thead>\n    <tr style=\"text-align: right;\">\n      <th></th>\n      <th>serial_number</th>\n      <th>list_year</th>\n      <th>date_recorded</th>\n      <th>town</th>\n      <th>address</th>\n      <th>assessed_value</th>\n      <th>sale_amount</th>\n      <th>sales_ratio</th>\n      <th>property_type</th>\n      <th>residential_type</th>\n      <th>non_use_code</th>\n      <th>assessor_remarks</th>\n      <th>opm_remarks</th>\n      <th>location</th>\n    </tr>\n  </thead>\n  <tbody>\n    <tr>\n      <th>0</th>\n      <td>199900001</td>\n      <td>2017</td>\n      <td>1999-04-05</td>\n      <td>New London</td>\n      <td>184 PEQUOT AVE 309</td>\n      <td>46690.0</td>\n      <td>95000.0</td>\n      <td>0.491400</td>\n      <td>Condo</td>\n      <td>Condo</td>\n      <td>NaN</td>\n      <td>NaN</td>\n      <td>NaN</td>\n      <td>NaN</td>\n    </tr>\n    <tr>\n      <th>1</th>\n      <td>200100001</td>\n      <td>2017</td>\n      <td>2001-08-01</td>\n      <td>Shelton</td>\n      <td>19 BLACKBERRY LA</td>\n      <td>390810.0</td>\n      <td>635000.0</td>\n      <td>0.615449</td>\n      <td>Single Family</td>\n      <td>Single Family</td>\n      <td>NaN</td>\n      <td>NaN</td>\n      <td>NaN</td>\n      <td>NaN</td>\n    </tr>\n    <tr>\n      <th>2</th>\n      <td>200100002</td>\n      <td>2017</td>\n      <td>2001-08-23</td>\n      <td>Shelton</td>\n      <td>12 BOYSENBERRY LA</td>\n      <td>427910.0</td>\n      <td>558000.0</td>\n      <td>0.766864</td>\n      <td>Single Family</td>\n      <td>Single Family</td>\n      <td>NaN</td>\n      <td>NaN</td>\n      <td>NaN</td>\n      <td>NaN</td>\n    </tr>\n    <tr>\n      <th>3</th>\n      <td>200100003</td>\n      <td>2006</td>\n      <td>2001-09-04</td>\n      <td>Newington</td>\n      <td>110 MOYLAN CT</td>\n      <td>64750.0</td>\n      <td>88000.0</td>\n      <td>0.735795</td>\n      <td>Condo</td>\n      <td>Condo</td>\n      <td>NaN</td>\n      <td>NaN</td>\n      <td>NaN</td>\n      <td>POINT (-72.72554 41.7149)</td>\n    </tr>\n    <tr>\n      <th>4</th>\n      <td>200100004</td>\n      <td>2006</td>\n      <td>2001-09-05</td>\n      <td>Newington</td>\n      <td>48 EVERGREEN RD</td>\n      <td>166110.0</td>\n      <td>256000.0</td>\n      <td>0.648867</td>\n      <td>Single Family</td>\n      <td>Single Family</td>\n      <td>NaN</td>\n      <td>NaN</td>\n      <td>NaN</td>\n      <td>NaN</td>\n    </tr>\n    <tr>\n      <th>5</th>\n      <td>200100005</td>\n      <td>2006</td>\n      <td>2001-09-25</td>\n      <td>Naugatuck</td>\n      <td>217 OSBORN RD</td>\n      <td>183850.0</td>\n      <td>293711.0</td>\n      <td>0.625955</td>\n      <td>Single Family</td>\n      <td>Single Family</td>\n      <td>NaN</td>\n      <td>NaN</td>\n      <td>NaN</td>\n      <td>POINT (-73.03061 41.47741)</td>\n    </tr>\n    <tr>\n      <th>6</th>\n      <td>200104333</td>\n      <td>2006</td>\n      <td>2001-10-27</td>\n      <td>Greenwich</td>\n      <td>1010 NORTH ST</td>\n      <td>573930.0</td>\n      <td>660000.0</td>\n      <td>0.869591</td>\n      <td>Single Family</td>\n      <td>Single Family</td>\n      <td>NaN</td>\n      <td>NaN</td>\n      <td>NaN</td>\n      <td>NaN</td>\n    </tr>\n    <tr>\n      <th>7</th>\n      <td>200329976</td>\n      <td>2006</td>\n      <td>2003-07-17</td>\n      <td>Naugatuck</td>\n      <td>80 GORMAN ST</td>\n      <td>84200.0</td>\n      <td>158900.0</td>\n      <td>0.529893</td>\n      <td>Single Family</td>\n      <td>Single Family</td>\n      <td>NaN</td>\n      <td>NaN</td>\n      <td>NaN</td>\n      <td>NaN</td>\n    </tr>\n    <tr>\n      <th>8</th>\n      <td>200426237</td>\n      <td>2006</td>\n      <td>2004-06-05</td>\n      <td>Bristol</td>\n      <td>225 TYLER WAY</td>\n      <td>147320.0</td>\n      <td>329900.0</td>\n      <td>0.446560</td>\n      <td>Single Family</td>\n      <td>Single Family</td>\n      <td>NaN</td>\n      <td>NaN</td>\n      <td>NaN</td>\n      <td>NaN</td>\n    </tr>\n    <tr>\n      <th>9</th>\n      <td>200438141</td>\n      <td>2006</td>\n      <td>2004-07-27</td>\n      <td>South Windsor</td>\n      <td>305 MILL POND DR</td>\n      <td>113580.0</td>\n      <td>210000.0</td>\n      <td>0.540857</td>\n      <td>Condo</td>\n      <td>Condo</td>\n      <td>NaN</td>\n      <td>NaN</td>\n      <td>NaN</td>\n      <td>POINT (-72.58086 41.82519)</td>\n    </tr>\n  </tbody>\n</table>\n</div>"
     },
     "execution_count": 49,
     "metadata": {},
     "output_type": "execute_result"
    }
   ],
   "source": [
    "# let us review the dataset\n",
    "df_csv_copy.head(10)"
   ],
   "metadata": {
    "collapsed": false,
    "ExecuteTime": {
     "end_time": "2023-08-17T21:16:43.623955Z",
     "start_time": "2023-08-17T21:16:43.349950Z"
    }
   }
  },
  {
   "cell_type": "code",
   "execution_count": 50,
   "outputs": [
    {
     "data": {
      "text/plain": "   serial_number date_recorded           town             address  \\\n0      199900001    1999-04-05     New London  184 PEQUOT AVE 309   \n1      200100001    2001-08-01        Shelton    19 BLACKBERRY LA   \n2      200100002    2001-08-23        Shelton   12 BOYSENBERRY LA   \n3      200100003    2001-09-04      Newington       110 MOYLAN CT   \n4      200100004    2001-09-05      Newington     48 EVERGREEN RD   \n5      200100005    2001-09-25      Naugatuck       217 OSBORN RD   \n6      200104333    2001-10-27      Greenwich       1010 NORTH ST   \n7      200329976    2003-07-17      Naugatuck        80 GORMAN ST   \n8      200426237    2004-06-05        Bristol       225 TYLER WAY   \n9      200438141    2004-07-27  South Windsor    305 MILL POND DR   \n\n   assessed_value  sale_amount  sales_ratio  property_type residential_type  \n0         46690.0      95000.0     0.491400          Condo            Condo  \n1        390810.0     635000.0     0.615449  Single Family    Single Family  \n2        427910.0     558000.0     0.766864  Single Family    Single Family  \n3         64750.0      88000.0     0.735795          Condo            Condo  \n4        166110.0     256000.0     0.648867  Single Family    Single Family  \n5        183850.0     293711.0     0.625955  Single Family    Single Family  \n6        573930.0     660000.0     0.869591  Single Family    Single Family  \n7         84200.0     158900.0     0.529893  Single Family    Single Family  \n8        147320.0     329900.0     0.446560  Single Family    Single Family  \n9        113580.0     210000.0     0.540857          Condo            Condo  ",
      "text/html": "<div>\n<style scoped>\n    .dataframe tbody tr th:only-of-type {\n        vertical-align: middle;\n    }\n\n    .dataframe tbody tr th {\n        vertical-align: top;\n    }\n\n    .dataframe thead th {\n        text-align: right;\n    }\n</style>\n<table border=\"1\" class=\"dataframe\">\n  <thead>\n    <tr style=\"text-align: right;\">\n      <th></th>\n      <th>serial_number</th>\n      <th>date_recorded</th>\n      <th>town</th>\n      <th>address</th>\n      <th>assessed_value</th>\n      <th>sale_amount</th>\n      <th>sales_ratio</th>\n      <th>property_type</th>\n      <th>residential_type</th>\n    </tr>\n  </thead>\n  <tbody>\n    <tr>\n      <th>0</th>\n      <td>199900001</td>\n      <td>1999-04-05</td>\n      <td>New London</td>\n      <td>184 PEQUOT AVE 309</td>\n      <td>46690.0</td>\n      <td>95000.0</td>\n      <td>0.491400</td>\n      <td>Condo</td>\n      <td>Condo</td>\n    </tr>\n    <tr>\n      <th>1</th>\n      <td>200100001</td>\n      <td>2001-08-01</td>\n      <td>Shelton</td>\n      <td>19 BLACKBERRY LA</td>\n      <td>390810.0</td>\n      <td>635000.0</td>\n      <td>0.615449</td>\n      <td>Single Family</td>\n      <td>Single Family</td>\n    </tr>\n    <tr>\n      <th>2</th>\n      <td>200100002</td>\n      <td>2001-08-23</td>\n      <td>Shelton</td>\n      <td>12 BOYSENBERRY LA</td>\n      <td>427910.0</td>\n      <td>558000.0</td>\n      <td>0.766864</td>\n      <td>Single Family</td>\n      <td>Single Family</td>\n    </tr>\n    <tr>\n      <th>3</th>\n      <td>200100003</td>\n      <td>2001-09-04</td>\n      <td>Newington</td>\n      <td>110 MOYLAN CT</td>\n      <td>64750.0</td>\n      <td>88000.0</td>\n      <td>0.735795</td>\n      <td>Condo</td>\n      <td>Condo</td>\n    </tr>\n    <tr>\n      <th>4</th>\n      <td>200100004</td>\n      <td>2001-09-05</td>\n      <td>Newington</td>\n      <td>48 EVERGREEN RD</td>\n      <td>166110.0</td>\n      <td>256000.0</td>\n      <td>0.648867</td>\n      <td>Single Family</td>\n      <td>Single Family</td>\n    </tr>\n    <tr>\n      <th>5</th>\n      <td>200100005</td>\n      <td>2001-09-25</td>\n      <td>Naugatuck</td>\n      <td>217 OSBORN RD</td>\n      <td>183850.0</td>\n      <td>293711.0</td>\n      <td>0.625955</td>\n      <td>Single Family</td>\n      <td>Single Family</td>\n    </tr>\n    <tr>\n      <th>6</th>\n      <td>200104333</td>\n      <td>2001-10-27</td>\n      <td>Greenwich</td>\n      <td>1010 NORTH ST</td>\n      <td>573930.0</td>\n      <td>660000.0</td>\n      <td>0.869591</td>\n      <td>Single Family</td>\n      <td>Single Family</td>\n    </tr>\n    <tr>\n      <th>7</th>\n      <td>200329976</td>\n      <td>2003-07-17</td>\n      <td>Naugatuck</td>\n      <td>80 GORMAN ST</td>\n      <td>84200.0</td>\n      <td>158900.0</td>\n      <td>0.529893</td>\n      <td>Single Family</td>\n      <td>Single Family</td>\n    </tr>\n    <tr>\n      <th>8</th>\n      <td>200426237</td>\n      <td>2004-06-05</td>\n      <td>Bristol</td>\n      <td>225 TYLER WAY</td>\n      <td>147320.0</td>\n      <td>329900.0</td>\n      <td>0.446560</td>\n      <td>Single Family</td>\n      <td>Single Family</td>\n    </tr>\n    <tr>\n      <th>9</th>\n      <td>200438141</td>\n      <td>2004-07-27</td>\n      <td>South Windsor</td>\n      <td>305 MILL POND DR</td>\n      <td>113580.0</td>\n      <td>210000.0</td>\n      <td>0.540857</td>\n      <td>Condo</td>\n      <td>Condo</td>\n    </tr>\n  </tbody>\n</table>\n</div>"
     },
     "execution_count": 50,
     "metadata": {},
     "output_type": "execute_result"
    }
   ],
   "source": [
    "# let us drop the unnecessary columns [list_year, non_use_code, assessor_remarks, opm_remarks, location]\n",
    "df_csv_copy.drop(columns=['list_year','non_use_code', 'assessor_remarks', 'opm_remarks', 'location'], inplace=True)\n",
    "\n",
    "# let us check the dataset after dropping the columns\n",
    "df_csv_copy.head(10)"
   ],
   "metadata": {
    "collapsed": false,
    "ExecuteTime": {
     "end_time": "2023-08-17T21:16:43.707725Z",
     "start_time": "2023-08-17T21:16:43.364321Z"
    }
   }
  },
  {
   "cell_type": "markdown",
   "source": [
    "#### Remove unnecessary variables from the `api` dataset"
   ],
   "metadata": {
    "collapsed": false
   }
  },
  {
   "cell_type": "code",
   "execution_count": 51,
   "outputs": [
    {
     "data": {
      "text/plain": "   serial_number list_year date_recorded     town               address  \\\n0      202000001      2020    2020-10-05  Andover           303 LAKE RD   \n1      202000002      2020    2020-10-15  Andover        78 WINDRUSH LN   \n2      202000003      2020    2020-10-22  Andover    203 BOSTON HILL RD   \n3      202000004      2020    2020-11-02  Andover   23 PARKER BRIDGE RD   \n4      202000005      2020    2020-11-09  Andover      181 LONG HILL RD   \n5      202000006      2020    2020-11-23  Andover       147 WHEELING RD   \n6      202000007      2020    2020-11-23  Andover       35 OLD FARMS RD   \n7      202000008      2020    2020-12-01  Andover           40 RIDGE RD   \n8      202000009      2020    2020-12-01  Andover  12 WEBSTER LN BOLTON   \n9      202000010      2020    2020-12-02  Andover           3 GILEAD RD   \n\n  assessed_value sale_amount  sales_ratio property_type residential_type  \\\n0         121300      210000       0.5776   Residential    Single Family   \n1         181800      275000  0.661090909   Residential    Single Family   \n2         190200      279900       0.6795   Residential    Single Family   \n3         172900      272000       0.6356   Residential    Single Family   \n4         152800      255000       0.5992   Residential    Single Family   \n5         143200      285000       0.5024   Residential    Single Family   \n6         232600      347900       0.6685   Residential    Single Family   \n7         186000      270000       0.6888   Residential    Single Family   \n8           2700       67269  0.040137359   Vacant Land              NaN   \n9         151700      271000       0.5597   Residential    Single Family   \n\n     non_use_code                                          remarks  \\\n0             NaN                                              NaN   \n1             NaN                                              NaN   \n2             NaN                                              NaN   \n3             NaN                                              NaN   \n4             NaN                                              NaN   \n5             NaN                                              NaN   \n6             NaN                                              NaN   \n7             NaN                                              NaN   \n8  17 - Two Towns  THIS IS A 2 TOWN PROPERTY IN BOLTON AND ANDOVER   \n9             NaN                                              NaN   \n\n  opm_remarks  latitude  longitude  \n0         NaN -72.35327   41.71416  \n1         NaN       NaN        NaN  \n2         NaN -72.39695   41.72457  \n3         NaN -72.33558   41.73208  \n4         NaN       NaN        NaN  \n5         NaN       NaN        NaN  \n6         NaN       NaN        NaN  \n7         NaN       NaN        NaN  \n8         NaN -72.42136   41.73088  \n9         NaN -72.37228   41.72019  ",
      "text/html": "<div>\n<style scoped>\n    .dataframe tbody tr th:only-of-type {\n        vertical-align: middle;\n    }\n\n    .dataframe tbody tr th {\n        vertical-align: top;\n    }\n\n    .dataframe thead th {\n        text-align: right;\n    }\n</style>\n<table border=\"1\" class=\"dataframe\">\n  <thead>\n    <tr style=\"text-align: right;\">\n      <th></th>\n      <th>serial_number</th>\n      <th>list_year</th>\n      <th>date_recorded</th>\n      <th>town</th>\n      <th>address</th>\n      <th>assessed_value</th>\n      <th>sale_amount</th>\n      <th>sales_ratio</th>\n      <th>property_type</th>\n      <th>residential_type</th>\n      <th>non_use_code</th>\n      <th>remarks</th>\n      <th>opm_remarks</th>\n      <th>latitude</th>\n      <th>longitude</th>\n    </tr>\n  </thead>\n  <tbody>\n    <tr>\n      <th>0</th>\n      <td>202000001</td>\n      <td>2020</td>\n      <td>2020-10-05</td>\n      <td>Andover</td>\n      <td>303 LAKE RD</td>\n      <td>121300</td>\n      <td>210000</td>\n      <td>0.5776</td>\n      <td>Residential</td>\n      <td>Single Family</td>\n      <td>NaN</td>\n      <td>NaN</td>\n      <td>NaN</td>\n      <td>-72.35327</td>\n      <td>41.71416</td>\n    </tr>\n    <tr>\n      <th>1</th>\n      <td>202000002</td>\n      <td>2020</td>\n      <td>2020-10-15</td>\n      <td>Andover</td>\n      <td>78 WINDRUSH LN</td>\n      <td>181800</td>\n      <td>275000</td>\n      <td>0.661090909</td>\n      <td>Residential</td>\n      <td>Single Family</td>\n      <td>NaN</td>\n      <td>NaN</td>\n      <td>NaN</td>\n      <td>NaN</td>\n      <td>NaN</td>\n    </tr>\n    <tr>\n      <th>2</th>\n      <td>202000003</td>\n      <td>2020</td>\n      <td>2020-10-22</td>\n      <td>Andover</td>\n      <td>203 BOSTON HILL RD</td>\n      <td>190200</td>\n      <td>279900</td>\n      <td>0.6795</td>\n      <td>Residential</td>\n      <td>Single Family</td>\n      <td>NaN</td>\n      <td>NaN</td>\n      <td>NaN</td>\n      <td>-72.39695</td>\n      <td>41.72457</td>\n    </tr>\n    <tr>\n      <th>3</th>\n      <td>202000004</td>\n      <td>2020</td>\n      <td>2020-11-02</td>\n      <td>Andover</td>\n      <td>23 PARKER BRIDGE RD</td>\n      <td>172900</td>\n      <td>272000</td>\n      <td>0.6356</td>\n      <td>Residential</td>\n      <td>Single Family</td>\n      <td>NaN</td>\n      <td>NaN</td>\n      <td>NaN</td>\n      <td>-72.33558</td>\n      <td>41.73208</td>\n    </tr>\n    <tr>\n      <th>4</th>\n      <td>202000005</td>\n      <td>2020</td>\n      <td>2020-11-09</td>\n      <td>Andover</td>\n      <td>181 LONG HILL RD</td>\n      <td>152800</td>\n      <td>255000</td>\n      <td>0.5992</td>\n      <td>Residential</td>\n      <td>Single Family</td>\n      <td>NaN</td>\n      <td>NaN</td>\n      <td>NaN</td>\n      <td>NaN</td>\n      <td>NaN</td>\n    </tr>\n    <tr>\n      <th>5</th>\n      <td>202000006</td>\n      <td>2020</td>\n      <td>2020-11-23</td>\n      <td>Andover</td>\n      <td>147 WHEELING RD</td>\n      <td>143200</td>\n      <td>285000</td>\n      <td>0.5024</td>\n      <td>Residential</td>\n      <td>Single Family</td>\n      <td>NaN</td>\n      <td>NaN</td>\n      <td>NaN</td>\n      <td>NaN</td>\n      <td>NaN</td>\n    </tr>\n    <tr>\n      <th>6</th>\n      <td>202000007</td>\n      <td>2020</td>\n      <td>2020-11-23</td>\n      <td>Andover</td>\n      <td>35 OLD FARMS RD</td>\n      <td>232600</td>\n      <td>347900</td>\n      <td>0.6685</td>\n      <td>Residential</td>\n      <td>Single Family</td>\n      <td>NaN</td>\n      <td>NaN</td>\n      <td>NaN</td>\n      <td>NaN</td>\n      <td>NaN</td>\n    </tr>\n    <tr>\n      <th>7</th>\n      <td>202000008</td>\n      <td>2020</td>\n      <td>2020-12-01</td>\n      <td>Andover</td>\n      <td>40 RIDGE RD</td>\n      <td>186000</td>\n      <td>270000</td>\n      <td>0.6888</td>\n      <td>Residential</td>\n      <td>Single Family</td>\n      <td>NaN</td>\n      <td>NaN</td>\n      <td>NaN</td>\n      <td>NaN</td>\n      <td>NaN</td>\n    </tr>\n    <tr>\n      <th>8</th>\n      <td>202000009</td>\n      <td>2020</td>\n      <td>2020-12-01</td>\n      <td>Andover</td>\n      <td>12 WEBSTER LN BOLTON</td>\n      <td>2700</td>\n      <td>67269</td>\n      <td>0.040137359</td>\n      <td>Vacant Land</td>\n      <td>NaN</td>\n      <td>17 - Two Towns</td>\n      <td>THIS IS A 2 TOWN PROPERTY IN BOLTON AND ANDOVER</td>\n      <td>NaN</td>\n      <td>-72.42136</td>\n      <td>41.73088</td>\n    </tr>\n    <tr>\n      <th>9</th>\n      <td>202000010</td>\n      <td>2020</td>\n      <td>2020-12-02</td>\n      <td>Andover</td>\n      <td>3 GILEAD RD</td>\n      <td>151700</td>\n      <td>271000</td>\n      <td>0.5597</td>\n      <td>Residential</td>\n      <td>Single Family</td>\n      <td>NaN</td>\n      <td>NaN</td>\n      <td>NaN</td>\n      <td>-72.37228</td>\n      <td>41.72019</td>\n    </tr>\n  </tbody>\n</table>\n</div>"
     },
     "execution_count": 51,
     "metadata": {},
     "output_type": "execute_result"
    }
   ],
   "source": [
    "# let us review the dataset\n",
    "df_api_copy.head(10)"
   ],
   "metadata": {
    "collapsed": false,
    "ExecuteTime": {
     "end_time": "2023-08-17T21:16:43.708619Z",
     "start_time": "2023-08-17T21:16:43.485373Z"
    }
   }
  },
  {
   "cell_type": "code",
   "execution_count": 52,
   "outputs": [
    {
     "data": {
      "text/plain": "   serial_number date_recorded     town               address assessed_value  \\\n0      202000001    2020-10-05  Andover           303 LAKE RD         121300   \n1      202000002    2020-10-15  Andover        78 WINDRUSH LN         181800   \n2      202000003    2020-10-22  Andover    203 BOSTON HILL RD         190200   \n3      202000004    2020-11-02  Andover   23 PARKER BRIDGE RD         172900   \n4      202000005    2020-11-09  Andover      181 LONG HILL RD         152800   \n5      202000006    2020-11-23  Andover       147 WHEELING RD         143200   \n6      202000007    2020-11-23  Andover       35 OLD FARMS RD         232600   \n7      202000008    2020-12-01  Andover           40 RIDGE RD         186000   \n8      202000009    2020-12-01  Andover  12 WEBSTER LN BOLTON           2700   \n9      202000010    2020-12-02  Andover           3 GILEAD RD         151700   \n\n  sale_amount  sales_ratio property_type residential_type  \n0      210000       0.5776   Residential    Single Family  \n1      275000  0.661090909   Residential    Single Family  \n2      279900       0.6795   Residential    Single Family  \n3      272000       0.6356   Residential    Single Family  \n4      255000       0.5992   Residential    Single Family  \n5      285000       0.5024   Residential    Single Family  \n6      347900       0.6685   Residential    Single Family  \n7      270000       0.6888   Residential    Single Family  \n8       67269  0.040137359   Vacant Land              NaN  \n9      271000       0.5597   Residential    Single Family  ",
      "text/html": "<div>\n<style scoped>\n    .dataframe tbody tr th:only-of-type {\n        vertical-align: middle;\n    }\n\n    .dataframe tbody tr th {\n        vertical-align: top;\n    }\n\n    .dataframe thead th {\n        text-align: right;\n    }\n</style>\n<table border=\"1\" class=\"dataframe\">\n  <thead>\n    <tr style=\"text-align: right;\">\n      <th></th>\n      <th>serial_number</th>\n      <th>date_recorded</th>\n      <th>town</th>\n      <th>address</th>\n      <th>assessed_value</th>\n      <th>sale_amount</th>\n      <th>sales_ratio</th>\n      <th>property_type</th>\n      <th>residential_type</th>\n    </tr>\n  </thead>\n  <tbody>\n    <tr>\n      <th>0</th>\n      <td>202000001</td>\n      <td>2020-10-05</td>\n      <td>Andover</td>\n      <td>303 LAKE RD</td>\n      <td>121300</td>\n      <td>210000</td>\n      <td>0.5776</td>\n      <td>Residential</td>\n      <td>Single Family</td>\n    </tr>\n    <tr>\n      <th>1</th>\n      <td>202000002</td>\n      <td>2020-10-15</td>\n      <td>Andover</td>\n      <td>78 WINDRUSH LN</td>\n      <td>181800</td>\n      <td>275000</td>\n      <td>0.661090909</td>\n      <td>Residential</td>\n      <td>Single Family</td>\n    </tr>\n    <tr>\n      <th>2</th>\n      <td>202000003</td>\n      <td>2020-10-22</td>\n      <td>Andover</td>\n      <td>203 BOSTON HILL RD</td>\n      <td>190200</td>\n      <td>279900</td>\n      <td>0.6795</td>\n      <td>Residential</td>\n      <td>Single Family</td>\n    </tr>\n    <tr>\n      <th>3</th>\n      <td>202000004</td>\n      <td>2020-11-02</td>\n      <td>Andover</td>\n      <td>23 PARKER BRIDGE RD</td>\n      <td>172900</td>\n      <td>272000</td>\n      <td>0.6356</td>\n      <td>Residential</td>\n      <td>Single Family</td>\n    </tr>\n    <tr>\n      <th>4</th>\n      <td>202000005</td>\n      <td>2020-11-09</td>\n      <td>Andover</td>\n      <td>181 LONG HILL RD</td>\n      <td>152800</td>\n      <td>255000</td>\n      <td>0.5992</td>\n      <td>Residential</td>\n      <td>Single Family</td>\n    </tr>\n    <tr>\n      <th>5</th>\n      <td>202000006</td>\n      <td>2020-11-23</td>\n      <td>Andover</td>\n      <td>147 WHEELING RD</td>\n      <td>143200</td>\n      <td>285000</td>\n      <td>0.5024</td>\n      <td>Residential</td>\n      <td>Single Family</td>\n    </tr>\n    <tr>\n      <th>6</th>\n      <td>202000007</td>\n      <td>2020-11-23</td>\n      <td>Andover</td>\n      <td>35 OLD FARMS RD</td>\n      <td>232600</td>\n      <td>347900</td>\n      <td>0.6685</td>\n      <td>Residential</td>\n      <td>Single Family</td>\n    </tr>\n    <tr>\n      <th>7</th>\n      <td>202000008</td>\n      <td>2020-12-01</td>\n      <td>Andover</td>\n      <td>40 RIDGE RD</td>\n      <td>186000</td>\n      <td>270000</td>\n      <td>0.6888</td>\n      <td>Residential</td>\n      <td>Single Family</td>\n    </tr>\n    <tr>\n      <th>8</th>\n      <td>202000009</td>\n      <td>2020-12-01</td>\n      <td>Andover</td>\n      <td>12 WEBSTER LN BOLTON</td>\n      <td>2700</td>\n      <td>67269</td>\n      <td>0.040137359</td>\n      <td>Vacant Land</td>\n      <td>NaN</td>\n    </tr>\n    <tr>\n      <th>9</th>\n      <td>202000010</td>\n      <td>2020-12-02</td>\n      <td>Andover</td>\n      <td>3 GILEAD RD</td>\n      <td>151700</td>\n      <td>271000</td>\n      <td>0.5597</td>\n      <td>Residential</td>\n      <td>Single Family</td>\n    </tr>\n  </tbody>\n</table>\n</div>"
     },
     "execution_count": 52,
     "metadata": {},
     "output_type": "execute_result"
    }
   ],
   "source": [
    "# let us drop the unnecessary columns [list_year, non_use_code, remarks, opm_remarks, latitude, longitude]\n",
    "df_api_copy.drop(columns=['list_year','non_use_code', 'remarks', 'opm_remarks', 'latitude', 'longitude'], inplace=True)\n",
    "\n",
    "# let us check the dataset after dropping the columns\n",
    "df_api_copy.head(10)"
   ],
   "metadata": {
    "collapsed": false,
    "ExecuteTime": {
     "end_time": "2023-08-17T21:16:43.789675Z",
     "start_time": "2023-08-17T21:16:43.491607Z"
    }
   }
  },
  {
   "cell_type": "markdown",
   "source": [
    "#### Combine the two datasets into one dataset"
   ],
   "metadata": {
    "collapsed": false
   }
  },
  {
   "cell_type": "code",
   "execution_count": 53,
   "outputs": [
    {
     "data": {
      "text/plain": "   serial_number date_recorded           town             address  \\\n0      199900001    1999-04-05     New London  184 PEQUOT AVE 309   \n1      200100001    2001-08-01        Shelton    19 BLACKBERRY LA   \n2      200100002    2001-08-23        Shelton   12 BOYSENBERRY LA   \n3      200100003    2001-09-04      Newington       110 MOYLAN CT   \n4      200100004    2001-09-05      Newington     48 EVERGREEN RD   \n5      200100005    2001-09-25      Naugatuck       217 OSBORN RD   \n6      200104333    2001-10-27      Greenwich       1010 NORTH ST   \n7      200329976    2003-07-17      Naugatuck        80 GORMAN ST   \n8      200426237    2004-06-05        Bristol       225 TYLER WAY   \n9      200438141    2004-07-27  South Windsor    305 MILL POND DR   \n\n  assessed_value sale_amount sales_ratio  property_type residential_type  \n0        46690.0     95000.0      0.4914          Condo            Condo  \n1       390810.0    635000.0    0.615449  Single Family    Single Family  \n2       427910.0    558000.0    0.766864  Single Family    Single Family  \n3        64750.0     88000.0    0.735795          Condo            Condo  \n4       166110.0    256000.0    0.648867  Single Family    Single Family  \n5       183850.0    293711.0    0.625955  Single Family    Single Family  \n6       573930.0    660000.0    0.869591  Single Family    Single Family  \n7        84200.0    158900.0    0.529893  Single Family    Single Family  \n8       147320.0    329900.0     0.44656  Single Family    Single Family  \n9       113580.0    210000.0    0.540857          Condo            Condo  ",
      "text/html": "<div>\n<style scoped>\n    .dataframe tbody tr th:only-of-type {\n        vertical-align: middle;\n    }\n\n    .dataframe tbody tr th {\n        vertical-align: top;\n    }\n\n    .dataframe thead th {\n        text-align: right;\n    }\n</style>\n<table border=\"1\" class=\"dataframe\">\n  <thead>\n    <tr style=\"text-align: right;\">\n      <th></th>\n      <th>serial_number</th>\n      <th>date_recorded</th>\n      <th>town</th>\n      <th>address</th>\n      <th>assessed_value</th>\n      <th>sale_amount</th>\n      <th>sales_ratio</th>\n      <th>property_type</th>\n      <th>residential_type</th>\n    </tr>\n  </thead>\n  <tbody>\n    <tr>\n      <th>0</th>\n      <td>199900001</td>\n      <td>1999-04-05</td>\n      <td>New London</td>\n      <td>184 PEQUOT AVE 309</td>\n      <td>46690.0</td>\n      <td>95000.0</td>\n      <td>0.4914</td>\n      <td>Condo</td>\n      <td>Condo</td>\n    </tr>\n    <tr>\n      <th>1</th>\n      <td>200100001</td>\n      <td>2001-08-01</td>\n      <td>Shelton</td>\n      <td>19 BLACKBERRY LA</td>\n      <td>390810.0</td>\n      <td>635000.0</td>\n      <td>0.615449</td>\n      <td>Single Family</td>\n      <td>Single Family</td>\n    </tr>\n    <tr>\n      <th>2</th>\n      <td>200100002</td>\n      <td>2001-08-23</td>\n      <td>Shelton</td>\n      <td>12 BOYSENBERRY LA</td>\n      <td>427910.0</td>\n      <td>558000.0</td>\n      <td>0.766864</td>\n      <td>Single Family</td>\n      <td>Single Family</td>\n    </tr>\n    <tr>\n      <th>3</th>\n      <td>200100003</td>\n      <td>2001-09-04</td>\n      <td>Newington</td>\n      <td>110 MOYLAN CT</td>\n      <td>64750.0</td>\n      <td>88000.0</td>\n      <td>0.735795</td>\n      <td>Condo</td>\n      <td>Condo</td>\n    </tr>\n    <tr>\n      <th>4</th>\n      <td>200100004</td>\n      <td>2001-09-05</td>\n      <td>Newington</td>\n      <td>48 EVERGREEN RD</td>\n      <td>166110.0</td>\n      <td>256000.0</td>\n      <td>0.648867</td>\n      <td>Single Family</td>\n      <td>Single Family</td>\n    </tr>\n    <tr>\n      <th>5</th>\n      <td>200100005</td>\n      <td>2001-09-25</td>\n      <td>Naugatuck</td>\n      <td>217 OSBORN RD</td>\n      <td>183850.0</td>\n      <td>293711.0</td>\n      <td>0.625955</td>\n      <td>Single Family</td>\n      <td>Single Family</td>\n    </tr>\n    <tr>\n      <th>6</th>\n      <td>200104333</td>\n      <td>2001-10-27</td>\n      <td>Greenwich</td>\n      <td>1010 NORTH ST</td>\n      <td>573930.0</td>\n      <td>660000.0</td>\n      <td>0.869591</td>\n      <td>Single Family</td>\n      <td>Single Family</td>\n    </tr>\n    <tr>\n      <th>7</th>\n      <td>200329976</td>\n      <td>2003-07-17</td>\n      <td>Naugatuck</td>\n      <td>80 GORMAN ST</td>\n      <td>84200.0</td>\n      <td>158900.0</td>\n      <td>0.529893</td>\n      <td>Single Family</td>\n      <td>Single Family</td>\n    </tr>\n    <tr>\n      <th>8</th>\n      <td>200426237</td>\n      <td>2004-06-05</td>\n      <td>Bristol</td>\n      <td>225 TYLER WAY</td>\n      <td>147320.0</td>\n      <td>329900.0</td>\n      <td>0.44656</td>\n      <td>Single Family</td>\n      <td>Single Family</td>\n    </tr>\n    <tr>\n      <th>9</th>\n      <td>200438141</td>\n      <td>2004-07-27</td>\n      <td>South Windsor</td>\n      <td>305 MILL POND DR</td>\n      <td>113580.0</td>\n      <td>210000.0</td>\n      <td>0.540857</td>\n      <td>Condo</td>\n      <td>Condo</td>\n    </tr>\n  </tbody>\n</table>\n</div>"
     },
     "execution_count": 53,
     "metadata": {},
     "output_type": "execute_result"
    }
   ],
   "source": [
    "# let us combine the two datasets into one dataset named df_combined\n",
    "df_combined = pd.concat([df_csv_copy, df_api_copy], ignore_index=True)\n",
    "\n",
    "# let us check the dataset after combining the two datasets\n",
    "df_combined.head(10)"
   ],
   "metadata": {
    "collapsed": false,
    "ExecuteTime": {
     "end_time": "2023-08-17T21:16:43.911635Z",
     "start_time": "2023-08-17T21:16:43.507146Z"
    }
   }
  },
  {
   "cell_type": "markdown",
   "source": [
    "### Let us check the combined dataset and make any necessary changes if needed"
   ],
   "metadata": {
    "collapsed": false
   }
  },
  {
   "cell_type": "markdown",
   "source": [
    "#### let us check that there is no duplicated rows and the serial_number is unique"
   ],
   "metadata": {
    "collapsed": false
   }
  },
  {
   "cell_type": "code",
   "execution_count": 54,
   "outputs": [
    {
     "data": {
      "text/plain": "892"
     },
     "execution_count": 54,
     "metadata": {},
     "output_type": "execute_result"
    }
   ],
   "source": [
    "# let us check that there is no duplicated rows and the serial_number is unique\n",
    "df_combined['serial_number'].duplicated().sum()"
   ],
   "metadata": {
    "collapsed": false,
    "ExecuteTime": {
     "end_time": "2023-08-17T21:16:43.912022Z",
     "start_time": "2023-08-17T21:16:43.643045Z"
    }
   }
  },
  {
   "cell_type": "markdown",
   "source": [
    "since there is a duplication in the serial_number column, let us fix the duplicated rows and make it as the index of the dataframe"
   ],
   "metadata": {
    "collapsed": false
   }
  },
  {
   "cell_type": "code",
   "execution_count": 55,
   "outputs": [
    {
     "data": {
      "text/plain": "              date_recorded           town             address assessed_value  \\\nserial_number                                                                   \n199900001        1999-04-05     New London  184 PEQUOT AVE 309        46690.0   \n200100001        2001-08-01        Shelton    19 BLACKBERRY LA       390810.0   \n200100002        2001-08-23        Shelton   12 BOYSENBERRY LA       427910.0   \n200100003        2001-09-04      Newington       110 MOYLAN CT        64750.0   \n200100004        2001-09-05      Newington     48 EVERGREEN RD       166110.0   \n200100005        2001-09-25      Naugatuck       217 OSBORN RD       183850.0   \n200100006        2001-10-27      Greenwich       1010 NORTH ST       573930.0   \n200300001        2003-07-17      Naugatuck        80 GORMAN ST        84200.0   \n200400001        2004-06-05        Bristol       225 TYLER WAY       147320.0   \n200400002        2004-07-27  South Windsor    305 MILL POND DR       113580.0   \n\n              sale_amount sales_ratio  property_type residential_type  \nserial_number                                                          \n199900001         95000.0      0.4914          Condo            Condo  \n200100001        635000.0    0.615449  Single Family    Single Family  \n200100002        558000.0    0.766864  Single Family    Single Family  \n200100003         88000.0    0.735795          Condo            Condo  \n200100004        256000.0    0.648867  Single Family    Single Family  \n200100005        293711.0    0.625955  Single Family    Single Family  \n200100006        660000.0    0.869591  Single Family    Single Family  \n200300001        158900.0    0.529893  Single Family    Single Family  \n200400001        329900.0     0.44656  Single Family    Single Family  \n200400002        210000.0    0.540857          Condo            Condo  ",
      "text/html": "<div>\n<style scoped>\n    .dataframe tbody tr th:only-of-type {\n        vertical-align: middle;\n    }\n\n    .dataframe tbody tr th {\n        vertical-align: top;\n    }\n\n    .dataframe thead th {\n        text-align: right;\n    }\n</style>\n<table border=\"1\" class=\"dataframe\">\n  <thead>\n    <tr style=\"text-align: right;\">\n      <th></th>\n      <th>date_recorded</th>\n      <th>town</th>\n      <th>address</th>\n      <th>assessed_value</th>\n      <th>sale_amount</th>\n      <th>sales_ratio</th>\n      <th>property_type</th>\n      <th>residential_type</th>\n    </tr>\n    <tr>\n      <th>serial_number</th>\n      <th></th>\n      <th></th>\n      <th></th>\n      <th></th>\n      <th></th>\n      <th></th>\n      <th></th>\n      <th></th>\n    </tr>\n  </thead>\n  <tbody>\n    <tr>\n      <th>199900001</th>\n      <td>1999-04-05</td>\n      <td>New London</td>\n      <td>184 PEQUOT AVE 309</td>\n      <td>46690.0</td>\n      <td>95000.0</td>\n      <td>0.4914</td>\n      <td>Condo</td>\n      <td>Condo</td>\n    </tr>\n    <tr>\n      <th>200100001</th>\n      <td>2001-08-01</td>\n      <td>Shelton</td>\n      <td>19 BLACKBERRY LA</td>\n      <td>390810.0</td>\n      <td>635000.0</td>\n      <td>0.615449</td>\n      <td>Single Family</td>\n      <td>Single Family</td>\n    </tr>\n    <tr>\n      <th>200100002</th>\n      <td>2001-08-23</td>\n      <td>Shelton</td>\n      <td>12 BOYSENBERRY LA</td>\n      <td>427910.0</td>\n      <td>558000.0</td>\n      <td>0.766864</td>\n      <td>Single Family</td>\n      <td>Single Family</td>\n    </tr>\n    <tr>\n      <th>200100003</th>\n      <td>2001-09-04</td>\n      <td>Newington</td>\n      <td>110 MOYLAN CT</td>\n      <td>64750.0</td>\n      <td>88000.0</td>\n      <td>0.735795</td>\n      <td>Condo</td>\n      <td>Condo</td>\n    </tr>\n    <tr>\n      <th>200100004</th>\n      <td>2001-09-05</td>\n      <td>Newington</td>\n      <td>48 EVERGREEN RD</td>\n      <td>166110.0</td>\n      <td>256000.0</td>\n      <td>0.648867</td>\n      <td>Single Family</td>\n      <td>Single Family</td>\n    </tr>\n    <tr>\n      <th>200100005</th>\n      <td>2001-09-25</td>\n      <td>Naugatuck</td>\n      <td>217 OSBORN RD</td>\n      <td>183850.0</td>\n      <td>293711.0</td>\n      <td>0.625955</td>\n      <td>Single Family</td>\n      <td>Single Family</td>\n    </tr>\n    <tr>\n      <th>200100006</th>\n      <td>2001-10-27</td>\n      <td>Greenwich</td>\n      <td>1010 NORTH ST</td>\n      <td>573930.0</td>\n      <td>660000.0</td>\n      <td>0.869591</td>\n      <td>Single Family</td>\n      <td>Single Family</td>\n    </tr>\n    <tr>\n      <th>200300001</th>\n      <td>2003-07-17</td>\n      <td>Naugatuck</td>\n      <td>80 GORMAN ST</td>\n      <td>84200.0</td>\n      <td>158900.0</td>\n      <td>0.529893</td>\n      <td>Single Family</td>\n      <td>Single Family</td>\n    </tr>\n    <tr>\n      <th>200400001</th>\n      <td>2004-06-05</td>\n      <td>Bristol</td>\n      <td>225 TYLER WAY</td>\n      <td>147320.0</td>\n      <td>329900.0</td>\n      <td>0.44656</td>\n      <td>Single Family</td>\n      <td>Single Family</td>\n    </tr>\n    <tr>\n      <th>200400002</th>\n      <td>2004-07-27</td>\n      <td>South Windsor</td>\n      <td>305 MILL POND DR</td>\n      <td>113580.0</td>\n      <td>210000.0</td>\n      <td>0.540857</td>\n      <td>Condo</td>\n      <td>Condo</td>\n    </tr>\n  </tbody>\n</table>\n</div>"
     },
     "execution_count": 55,
     "metadata": {},
     "output_type": "execute_result"
    }
   ],
   "source": [
    "# create a new column for the serial number\n",
    "df_combined['New Serial Number'] = df_combined['date_recorded'].dt.year.astype(str) + \\\n",
    "                                   df_combined.groupby(df_combined['date_recorded'].dt.year.astype(int)) \\\n",
    "                                       .cumcount().add(1).astype(str).str.zfill(5)\n",
    "\n",
    "# replace the old serial number column with the new one\n",
    "df_combined['serial_number'] = df_combined['New Serial Number']\n",
    "\n",
    "# drop the new serial number column\n",
    "df_combined.drop(columns=['New Serial Number'], inplace=True)\n",
    "\n",
    "# set the serial number as the index of the dataframe\n",
    "df_combined.set_index('serial_number', inplace=True)\n",
    "\n",
    "# let us check the dataset after modifying the serial number column and setting it as the index of the dataframe\n",
    "df_combined.head(10)"
   ],
   "metadata": {
    "collapsed": false,
    "ExecuteTime": {
     "end_time": "2023-08-17T21:16:44.539547Z",
     "start_time": "2023-08-17T21:16:43.668251Z"
    }
   }
  },
  {
   "cell_type": "code",
   "execution_count": 56,
   "outputs": [
    {
     "data": {
      "text/plain": "<Figure size 432x288 with 1 Axes>",
      "image/png": "[encoded data removed]"
     },
     "metadata": {
      "needs_background": "light"
     },
     "output_type": "display_data"
    },
    {
     "name": "stdout",
     "output_type": "stream",
     "text": [
      "Number of exact duplicated rows: False    606419\n",
      "True       1362\n",
      "dtype: int64\n"
     ]
    }
   ],
   "source": [
    "# now let us check that there is no duplicated rows in the dataframe\n",
    "df_combined.duplicated().sum()\n",
    "\n",
    "# Plot the number of duplicated rows\n",
    "duplicated_counts = df_combined.duplicated().value_counts()\n",
    "\n",
    "duplicated_counts.plot(kind='bar', color=['green', 'red'])\n",
    "\n",
    "plt.ylabel('Count')\n",
    "plt.title('Count of Duplicated Rows')\n",
    "plt.xticks([0, 1], ['Not Duplicated', 'Duplicated'], rotation=0)\n",
    "plt.show()\n",
    "\n",
    "print(f\"Number of exact duplicated rows: {duplicated_counts}\")"
   ],
   "metadata": {
    "collapsed": false,
    "ExecuteTime": {
     "end_time": "2023-08-17T21:16:45.884198Z",
     "start_time": "2023-08-17T21:16:44.540083Z"
    }
   }
  },
  {
   "cell_type": "code",
   "execution_count": 57,
   "outputs": [
    {
     "data": {
      "text/plain": "<Figure size 432x288 with 1 Axes>",
      "image/png": "[encoded data removed]"
     },
     "metadata": {
      "needs_background": "light"
     },
     "output_type": "display_data"
    },
    {
     "name": "stdout",
     "output_type": "stream",
     "text": [
      "Number of exact duplicated rows: False    606419\n",
      "dtype: int64\n"
     ]
    }
   ],
   "source": [
    "# delete the duplicated rows\n",
    "df_combined.drop_duplicates(inplace=True)\n",
    "\n",
    "# validate that there are no duplicated rows using visual assessment\n",
    "duplicated_counts = df_combined.duplicated().value_counts()\n",
    "\n",
    "duplicated_counts.plot(kind='bar', color=['green', 'red'])\n",
    "\n",
    "plt.ylabel('Count')\n",
    "plt.title('Count of Duplicated Rows')\n",
    "plt.xticks([0, 1], ['Not Duplicated', 'Duplicated'], rotation=0)\n",
    "plt.show()\n",
    "\n",
    "print(f\"Number of exact duplicated rows: {duplicated_counts}\")"
   ],
   "metadata": {
    "collapsed": false,
    "ExecuteTime": {
     "end_time": "2023-08-17T21:16:47.073551Z",
     "start_time": "2023-08-17T21:16:45.884887Z"
    }
   }
  },
  {
   "cell_type": "code",
   "execution_count": 58,
   "outputs": [],
   "source": [
    "# Update the data types of the columns\n",
    "df_combined['assessed_value'] = df_combined['assessed_value'].astype(float)\n",
    "df_combined['sale_amount'] = df_combined['sale_amount'].astype(float)\n",
    "df_combined['sales_ratio'] = df_combined['sales_ratio'].astype(float)"
   ],
   "metadata": {
    "collapsed": false,
    "ExecuteTime": {
     "end_time": "2023-08-17T21:16:47.200228Z",
     "start_time": "2023-08-17T21:16:47.091063Z"
    }
   }
  },
  {
   "cell_type": "code",
   "execution_count": 59,
   "outputs": [
    {
     "data": {
      "text/plain": "date_recorded       datetime64[ns]\ntown                        object\naddress                     object\nassessed_value             float64\nsale_amount                float64\nsales_ratio                float64\nproperty_type               object\nresidential_type            object\ndtype: object"
     },
     "execution_count": 59,
     "metadata": {},
     "output_type": "execute_result"
    }
   ],
   "source": [
    "# let us check the data types of the columns\n",
    "df_combined.dtypes"
   ],
   "metadata": {
    "collapsed": false,
    "ExecuteTime": {
     "end_time": "2023-08-17T21:16:47.205875Z",
     "start_time": "2023-08-17T21:16:47.202572Z"
    }
   }
  },
  {
   "cell_type": "markdown",
   "metadata": {
    "id": "F42urHuzttjF"
   },
   "source": [
    "## 4. Update your data store\n",
    "Update your local database/data store with the cleaned data, following best practices for storing your cleaned data:\n",
    "\n",
    "- Must maintain different instances / versions of data (raw and cleaned data)\n",
    "- Must name the dataset files informatively\n",
    "- Ensure both the raw and cleaned data is saved to your database/data store"
   ]
  },
  {
   "cell_type": "code",
   "execution_count": 60,
   "metadata": {
    "id": "V3uay7EJUV_L",
    "ExecuteTime": {
     "end_time": "2023-08-17T21:16:57.160673Z",
     "start_time": "2023-08-17T21:16:47.207315Z"
    }
   },
   "outputs": [],
   "source": [
    "# saving the data of the csv dataset to a new csv file,if the file does not exist, it will be created automatically\n",
    "df_csv_copy.to_csv('Data/Cleaned_Real_Estate_Sales_2001-2020_GL.csv')\n",
    "\n",
    "# saving the data of the api dataset to a new csv file,if the file does not exist, it will be created automatically\n",
    "df_api_copy.to_csv('Data/Cleaned_API_Real_Estate_Sales_2021_GL.csv')\n",
    "\n",
    "# saving the data of the combined dataset to a new csv file,if the file does not exist, it will be created automatically\n",
    "df_combined.to_csv('Data/Cleaned_Combined_Real_Estate_Sales_2001-2021_GL.csv')"
   ]
  },
  {
   "cell_type": "markdown",
   "metadata": {
    "id": "cGy_yddGtzhM"
   },
   "source": [
    "## 5. Answer the research question\n",
    "\n",
    "### **5.1:** Define and answer the research question \n",
    "Going back to the problem statement in step 1, use the cleaned data to answer the question you raised. Produce **at least** two visualizations using the cleaned data and explain how they help you answer the question."
   ]
  },
  {
   "cell_type": "markdown",
   "metadata": {
    "id": "gjedE4s4ZkEd"
   },
   "source": [
    "*Research question: What is the property type that has the highest sale ratio (highest profitable property type)?*"
   ]
  },
  {
   "cell_type": "code",
   "execution_count": 61,
   "outputs": [
    {
     "data": {
      "text/plain": "property_type\nApartments       0.457383\nCommercial       0.931245\nCondo            0.857839\nFour Family      1.420121\nIndustrial       0.613500\nResidential      0.697584\nSingle Family    8.145756\nThree Family     1.411830\nTwo Family       1.192149\nVacant Land      0.764188\nName: sales_ratio, dtype: float64"
     },
     "execution_count": 61,
     "metadata": {},
     "output_type": "execute_result"
    }
   ],
   "source": [
    "# let's group the data by property type and calculate the mean of the sale ratio\n",
    "profitable_mean = df_combined.groupby('property_type')['sales_ratio'].mean()\n",
    "\n",
    "profitable_mean"
   ],
   "metadata": {
    "collapsed": false,
    "ExecuteTime": {
     "end_time": "2023-08-17T21:16:57.226369Z",
     "start_time": "2023-08-17T21:16:57.167314Z"
    }
   }
  },
  {
   "cell_type": "code",
   "execution_count": 62,
   "outputs": [
    {
     "data": {
      "text/plain": "<Figure size 720x432 with 1 Axes>",
      "image/png": "[encoded data removed]"
     },
     "metadata": {
      "needs_background": "light"
     },
     "output_type": "display_data"
    }
   ],
   "source": [
    "# ---- bar chart ----\n",
    "# Plot the mean of the sale ratio for each property type\n",
    "plt.figure(figsize=(10, 6))\n",
    "profitable_mean.plot(kind='bar', color='green')\n",
    "\n",
    "# Add labels to the plot and show it\n",
    "plt.ylabel('Mean of the Sale Ratio')\n",
    "plt.title('Mean of the Sale Ratio for Each Property Type')\n",
    "plt.show()"
   ],
   "metadata": {
    "collapsed": false,
    "ExecuteTime": {
     "end_time": "2023-08-17T21:16:57.345868Z",
     "start_time": "2023-08-17T21:16:57.233605Z"
    }
   }
  },
  {
   "cell_type": "code",
   "execution_count": 63,
   "outputs": [
    {
     "data": {
      "text/plain": "<Figure size 720x432 with 1 Axes>",
      "image/png": "[encoded data removed]"
     },
     "metadata": {
      "needs_background": "light"
     },
     "output_type": "display_data"
    }
   ],
   "source": [
    "# ---- area chart ----\n",
    "# let's plot the mean of the sale ratio for each property type\n",
    "plt.figure(figsize=(10, 6))\n",
    "profitable_mean.plot(kind='area', color='green')\n",
    "\n",
    "# Add labels to the plot and show it\n",
    "plt.ylabel('Mean of the Sale Ratio')\n",
    "plt.title('Mean of the Sale Ratio for Each Property Type')\n",
    "plt.show()"
   ],
   "metadata": {
    "collapsed": false,
    "ExecuteTime": {
     "end_time": "2023-08-17T21:16:57.444739Z",
     "start_time": "2023-08-17T21:16:57.344297Z"
    }
   }
  },
  {
   "cell_type": "code",
   "execution_count": 64,
   "outputs": [
    {
     "data": {
      "text/plain": "<Figure size 720x432 with 1 Axes>",
      "image/png": "[encoded data removed]"
     },
     "metadata": {
      "needs_background": "light"
     },
     "output_type": "display_data"
    }
   ],
   "source": [
    "# ---- line chart ----\n",
    "# let's plot the mean of the sale ratio for each property type\n",
    "plt.figure(figsize=(10, 6))\n",
    "profitable_mean.plot(kind='line', color='green')\n",
    "\n",
    "# Add labels to the plot and show it\n",
    "plt.ylabel('Mean of the Sale Ratio')\n",
    "plt.title('Mean of the Sale Ratio for Each Property Type')\n",
    "plt.show()"
   ],
   "metadata": {
    "collapsed": false,
    "ExecuteTime": {
     "end_time": "2023-08-17T21:16:57.552412Z",
     "start_time": "2023-08-17T21:16:57.467007Z"
    }
   }
  },
  {
   "cell_type": "markdown",
   "source": [
    "*We can see from the above charts that the property type that has the highest sale ratio is the `Single Family Residence` property type with an average sale ratio of 8.145756*"
   ],
   "metadata": {
    "collapsed": false
   }
  },
  {
   "cell_type": "markdown",
   "metadata": {
    "id": "0ezWXXZVj-TP"
   },
   "source": [
    "### **5.2:** Reflection\n",
    "In 2-4 sentences, if you had more time to complete the project, what actions would you take? For example, which data quality and structural issues would you look into further, and what research questions would you further explore?"
   ]
  },
  {
   "cell_type": "markdown",
   "metadata": {
    "id": "XB3RBDG5kFe1"
   },
   "source": [
    "*Answer:*\n",
    "I would aim to answer research questions like how property type affects the sales price-to-assessment ratio, whether there are geographical patterns in these ratios, and how these ratios evolve over the years. Addressing these aspects would provide a more comprehensive understanding of the real estate market dynamics and the reliability of property assessments. I would also like to explore the relationship between the sales price-to-assessment ratio and the sales price-to-list price ratio. This would help to understand whether the assessment ratio is a good predictor of the sales price-to-list price ratio, which is a common metric used to assess the competitiveness of the real estate market."
   ]
  }
 ],
 "metadata": {
  "colab": {
   "provenance": []
  },
  "kernelspec": {
   "display_name": "Python 3 (ipykernel)",
   "language": "python",
   "name": "python3"
  },
  "language_info": {
   "codemirror_mode": {
    "name": "ipython",
    "version": 3
   },
   "file_extension": ".py",
   "mimetype": "text/x-python",
   "name": "python",
   "nbconvert_exporter": "python",
   "pygments_lexer": "ipython3",
   "version": "3.9.12"
  }
 },
 "nbformat": 4,
 "nbformat_minor": 1
}
